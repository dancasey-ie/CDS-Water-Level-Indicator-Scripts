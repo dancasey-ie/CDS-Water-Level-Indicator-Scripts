{
 "cells": [
  {
   "cell_type": "code",
   "execution_count": 50,
   "id": "younger-wallpaper",
   "metadata": {},
   "outputs": [],
   "source": [
    "import cdsapi\n",
    "import tarfile\n",
    "import xarray as xr\n",
    "import numpy as np\n",
    "import pandas as pd\n",
    "import plotly.graph_objects as go\n",
    "c = cdsapi.Client()\n",
    "data_path=\"./Data/sis-water-level-change-indicators/total-water-level\"\n",
    "station_name = \"IBIS_IR_TS_MO_DublinPort\"\n",
    "# station_name = \"id_coast_glob_eur_00797\"\n",
    "# station_name=\"IBIS_IR_TS_MO_SkerriesHarbour\"\n",
    "# station_name=\"IBIS_IR_TS_MO_Milford\""
   ]
  },
  {
   "cell_type": "code",
   "execution_count": 51,
   "id": "heard-quest",
   "metadata": {},
   "outputs": [],
   "source": [
    "def extract_tar(fname):\n",
    "    if fname.endswith(\"tar.gz\"):\n",
    "        tar = tarfile.open(fname, \"r:gz\")\n",
    "        tar.extractall(data_path)\n",
    "        tar.close()\n",
    "    elif fname.endswith(\"tar\"):\n",
    "        tar = tarfile.open(fname, \"r:\")\n",
    "        tar.extractall(data_path)\n",
    "        tar.close()"
   ]
  },
  {
   "cell_type": "code",
   "execution_count": 52,
   "id": "banner-prerequisite",
   "metadata": {},
   "outputs": [],
   "source": [
    "# Load in data\n",
    "\n",
    "# c.retrieve(\n",
    "#     'sis-water-level-change-indicators',\n",
    "#     {\n",
    "#         'variable': 'total_water_level',\n",
    "#         'experiment': 'rcp4_5',\n",
    "#         'format': 'tgz',\n",
    "#         'return_period': [\n",
    "#             '10', '100',\n",
    "#         ],\n",
    "#         'percentile': [\n",
    "#             '10', '25', '50',\n",
    "#             '75', '90',\n",
    "#         ],\n",
    "#     },\n",
    "#     data_path+'/total_sea_level_rcp4_5.tar.gz')\n",
    "# extract_tar(data_path+'/total_sea_level_rcp4_5.tar.gz')\n",
    "# c.retrieve(\n",
    "#     'sis-water-level-change-indicators',\n",
    "#     {\n",
    "#         'variable': 'total_water_level',\n",
    "#         'experiment': 'rcp8_5',\n",
    "#         'format': 'tgz',\n",
    "#         'return_period': [\n",
    "#             '10', '100',\n",
    "#         ],\n",
    "#         'percentile': [\n",
    "#             '10', '25', '50',\n",
    "#             '75', '90',\n",
    "#         ],\n",
    "#     },\n",
    "#     data_path+'/total_sea_level_rcp8_5.tar.gz')\n",
    "# extract_tar(data_path+'/total_sea_level_rcp8_5.tar.gz')\n",
    "# c.retrieve(\n",
    "#     'sis-water-level-change-indicators',\n",
    "#     {\n",
    "#         'variable': 'total_water_level',\n",
    "#         'experiment': 'era5_reanalysis',\n",
    "#         'format': 'tgz',\n",
    "#         'return_period': [\n",
    "#             '10', '100',\n",
    "#         ],\n",
    "#         'percentile': [\n",
    "#             '10', '25', '50',\n",
    "#             '75', '90',\n",
    "#         ],\n",
    "#     },\n",
    "#     data_path+'/total_sea_level_era5.tar.gz')\n",
    "# extract_tar(data_path+'/total_sea_level_era5.tar.gz')\n",
    "\n",
    "# ############################################################\n",
    "\n",
    "# c.retrieve(\n",
    "#     'sis-water-level-change-indicators',\n",
    "#     {\n",
    "#         'variable': 'total_water_level',\n",
    "#         'experiment': 'rcp4_5',\n",
    "#         'format': 'tgz',\n",
    "#         'return_period': [\n",
    "#             '2', '5','25','50'\n",
    "#         ],\n",
    "#         'percentile': [\n",
    "#             '10'\n",
    "#         ],\n",
    "#     },\n",
    "#     data_path+'/total_sea_level_rcp4_5_2.tar.gz')\n",
    "# extract_tar(data_path+'/total_sea_level_rcp4_5_2.tar.gz')\n",
    "# c.retrieve(\n",
    "#     'sis-water-level-change-indicators',\n",
    "#     {\n",
    "#         'variable': 'total_water_level',\n",
    "#         'experiment': 'rcp8_5',\n",
    "#         'format': 'tgz',\n",
    "#         'return_period': [\n",
    "#             '2', '5','25','50'\n",
    "#         ],\n",
    "#         'percentile': [\n",
    "#              '10'\n",
    "#         ],\n",
    "#     },\n",
    "#     data_path+'/total_sea_level_rcp8_5_2.tar.gz')\n",
    "# extract_tar(data_path+'/total_sea_level_rcp8_5_2.tar.gz')\n",
    "# c.retrieve(\n",
    "#     'sis-water-level-change-indicators',\n",
    "#     {\n",
    "#         'variable': 'total_water_level',\n",
    "#         'experiment': 'era5_reanalysis',\n",
    "#         'format': 'tgz',\n",
    "#         'return_period': [\n",
    "#             '2', '5','25','50'\n",
    "#         ],\n",
    "#         'percentile': [\n",
    "#            '10'\n",
    "#         ],\n",
    "#     },\n",
    "#     data_path+'/total_sea_level_era5_2.tar.gz')\n",
    "# extract_tar(data_path+'/total_sea_level_era5_2.tar.gz')\n"
   ]
  },
  {
   "cell_type": "code",
   "execution_count": null,
   "id": "behavioral-hospital",
   "metadata": {},
   "outputs": [],
   "source": []
  },
  {
   "cell_type": "code",
   "execution_count": 53,
   "id": "continental-israel",
   "metadata": {},
   "outputs": [],
   "source": [
    "# Looking at Total Water Level - Return Period: 1 in 10 years \n",
    "era5_TSL_rp10=xr.open_dataarray(data_path+\"/era5-RPS-rp10-v0.0.nc\")\n",
    "rcp8_5_TSL_rp10=xr.open_dataarray(data_path+\"/rcp85_mid_century-RPS-rp10-v0.0.nc\")\n",
    "rcp4_5_TSL_rp10=xr.open_dataarray(data_path+\"/rcp45_end_century-RPS-rp10-v0.0.nc\")\n",
    "# Looking at Total Water Level - Return Period: 1 in 100 years \n",
    "era5_TSL_rp100=xr.open_dataarray(data_path+\"/era5-RPS-rp10-v0.0.nc\")\n",
    "rcp8_5_TSL_rp100=xr.open_dataarray(data_path+\"/rcp85_mid_century-RPS-rp10-v0.0.nc\")\n",
    "rcp4_5_TSL_rp100=xr.open_dataarray(data_path+\"/rcp45_end_century-RPS-rp10-v0.0.nc\")\n",
    "\n",
    "# Looking at Total Water Level - Precentile: 10th\n",
    "era5_TSL_prc10=xr.open_dataarray(data_path+\"/era5-PCT-prct10-v0.0.nc\")\n",
    "rcp8_5_TSL_prc10=xr.open_dataarray(data_path+\"/rcp85_mid_century-PCT-prct10-v0.0.nc\")\n",
    "rcp4_5_TSL_prc10=xr.open_dataarray(data_path+\"/rcp45_end_century-PCT-prct10-v0.0.nc\")\n",
    "\n",
    "# Looking at Total Water Level - Return Period: 1 in 2 years \n",
    "era5_TSL_rp2_DF=xr.open_dataarray(data_path+\"/era5-RPS-rp2-v0.0.nc\").to_dataframe()\n",
    "rcp8_5_TSL_rp2_DF=xr.open_dataarray(data_path+\"/rcp85_mid_century-RPS-rp2-v0.0.nc\").to_dataframe()\n",
    "rcp4_5_TSL_rp2_DF=xr.open_dataarray(data_path+\"/rcp45_end_century-RPS-rp2-v0.0.nc\").to_dataframe()\n",
    "# Looking at Total Water Level - Return Period: 1 in 5 years \n",
    "era5_TSL_rp5_DF=xr.open_dataarray(data_path+\"/era5-RPS-rp5-v0.0.nc\").to_dataframe()\n",
    "rcp8_5_TSL_rp5_DF=xr.open_dataarray(data_path+\"/rcp85_mid_century-RPS-rp5-v0.0.nc\").to_dataframe()\n",
    "rcp4_5_TSL_rp5_DF=xr.open_dataarray(data_path+\"/rcp45_end_century-RPS-rp5-v0.0.nc\").to_dataframe()\n",
    "# Looking at Total Water Level - Return Period: 1 in 10 years \n",
    "era5_TSL_rp10_DF=xr.open_dataarray(data_path+\"/era5-RPS-rp10-v0.0.nc\").to_dataframe()\n",
    "rcp8_5_TSL_rp10_DF=xr.open_dataarray(data_path+\"/rcp85_mid_century-RPS-rp10-v0.0.nc\").to_dataframe()\n",
    "rcp4_5_TSL_rp10_DF=xr.open_dataarray(data_path+\"/rcp45_end_century-RPS-rp10-v0.0.nc\").to_dataframe()\n",
    "# Looking at Total Water Level - Return Period: 1 in 25 years \n",
    "era5_TSL_rp25_DF=xr.open_dataarray(data_path+\"/era5-RPS-rp25-v0.0.nc\").to_dataframe()\n",
    "rcp8_5_TSL_rp25_DF=xr.open_dataarray(data_path+\"/rcp85_mid_century-RPS-rp25-v0.0.nc\").to_dataframe()\n",
    "rcp4_5_TSL_rp25_DF=xr.open_dataarray(data_path+\"/rcp45_end_century-RPS-rp25-v0.0.nc\").to_dataframe()\n",
    "# Looking at Total Water Level - Return Period: 1 in 50 years \n",
    "era5_TSL_rp50_DF=xr.open_dataarray(data_path+\"/era5-RPS-rp50-v0.0.nc\").to_dataframe()\n",
    "rcp8_5_TSL_rp50_DF=xr.open_dataarray(data_path+\"/rcp85_mid_century-RPS-rp50-v0.0.nc\").to_dataframe()\n",
    "rcp4_5_TSL_rp50_DF=xr.open_dataarray(data_path+\"/rcp45_end_century-RPS-rp50-v0.0.nc\").to_dataframe()\n",
    "# Looking at Total Water Level - Return Period: 1 in 100 years \n",
    "era5_TSL_rp100_DF=xr.open_dataarray(data_path+\"/era5-RPS-rp100-v0.0.nc\").to_dataframe()\n",
    "rcp8_5_TSL_rp100_DF=xr.open_dataarray(data_path+\"/rcp85_mid_century-RPS-rp100-v0.0.nc\").to_dataframe()\n",
    "rcp4_5_TSL_rp100_DF=xr.open_dataarray(data_path+\"/rcp45_end_century-RPS-rp100-v0.0.nc\").to_dataframe()\n",
    "\n",
    "\n",
    "\n",
    "# Looking at Total Water Level - Precentile: 10th Dataframe\n",
    "era5_TSL_prc10_DF=xr.open_dataarray(data_path+\"/era5-PCT-prct10-v0.0.nc\").to_dataframe()\n",
    "rcp8_5_TSL_prc10_DF=xr.open_dataarray(data_path+\"/rcp85_mid_century-PCT-prct10-v0.0.nc\").to_dataframe()\n",
    "rcp4_5_TSL_prc10_DF=xr.open_dataarray(data_path+\"/rcp45_end_century-PCT-prct10-v0.0.nc\").to_dataframe()\n",
    "\n",
    "# Looking at Total Water Level - Precentile: 25th Dataframe\n",
    "era5_TSL_prc25_DF=xr.open_dataarray(data_path+\"/era5-PCT-prct25-v0.0.nc\").to_dataframe()\n",
    "rcp8_5_TSL_prc25_DF=xr.open_dataarray(data_path+\"/rcp85_mid_century-PCT-prct25-v0.0.nc\").to_dataframe()\n",
    "rcp4_5_TSL_prc25_DF=xr.open_dataarray(data_path+\"/rcp45_end_century-PCT-prct25-v0.0.nc\").to_dataframe()\n",
    "# Looking at Total Water Level - Precentile: 50th Dataframe\n",
    "era5_TSL_prc50_DF=xr.open_dataarray(data_path+\"/era5-PCT-prct50-v0.0.nc\").to_dataframe()\n",
    "rcp8_5_TSL_prc50_DF=xr.open_dataarray(data_path+\"/rcp85_mid_century-PCT-prct50-v0.0.nc\").to_dataframe()\n",
    "rcp4_5_TSL_prc50_DF=xr.open_dataarray(data_path+\"/rcp45_end_century-PCT-prct50-v0.0.nc\").to_dataframe()\n",
    "# Looking at Total Water Level - Precentile: 75th Dataframe\n",
    "era5_TSL_prc75_DF=xr.open_dataarray(data_path+\"/era5-PCT-prct75-v0.0.nc\").to_dataframe()\n",
    "rcp8_5_TSL_prc75_DF=xr.open_dataarray(data_path+\"/rcp85_mid_century-PCT-prct75-v0.0.nc\").to_dataframe()\n",
    "rcp4_5_TSL_prc75_DF=xr.open_dataarray(data_path+\"/rcp45_end_century-PCT-prct75-v0.0.nc\").to_dataframe()\n",
    "# Looking at Total Water Level - Precentile: 90th Dataframe\n",
    "era5_TSL_prc90_DF=xr.open_dataarray(data_path+\"/era5-PCT-prct90-v0.0.nc\").to_dataframe()\n",
    "rcp8_5_TSL_prc90_DF=xr.open_dataarray(data_path+\"/rcp85_mid_century-PCT-prct90-v0.0.nc\").to_dataframe()\n",
    "rcp4_5_TSL_prc90_DF=xr.open_dataarray(data_path+\"/rcp45_end_century-PCT-prct90-v0.0.nc\").to_dataframe()"
   ]
  },
  {
   "cell_type": "code",
   "execution_count": 54,
   "id": "better-beatles",
   "metadata": {},
   "outputs": [
    {
     "data": {
      "text/html": [
       "<div><svg style=\"position: absolute; width: 0; height: 0; overflow: hidden\">\n",
       "<defs>\n",
       "<symbol id=\"icon-database\" viewBox=\"0 0 32 32\">\n",
       "<path d=\"M16 0c-8.837 0-16 2.239-16 5v4c0 2.761 7.163 5 16 5s16-2.239 16-5v-4c0-2.761-7.163-5-16-5z\"></path>\n",
       "<path d=\"M16 17c-8.837 0-16-2.239-16-5v6c0 2.761 7.163 5 16 5s16-2.239 16-5v-6c0 2.761-7.163 5-16 5z\"></path>\n",
       "<path d=\"M16 26c-8.837 0-16-2.239-16-5v6c0 2.761 7.163 5 16 5s16-2.239 16-5v-6c0 2.761-7.163 5-16 5z\"></path>\n",
       "</symbol>\n",
       "<symbol id=\"icon-file-text2\" viewBox=\"0 0 32 32\">\n",
       "<path d=\"M28.681 7.159c-0.694-0.947-1.662-2.053-2.724-3.116s-2.169-2.030-3.116-2.724c-1.612-1.182-2.393-1.319-2.841-1.319h-15.5c-1.378 0-2.5 1.121-2.5 2.5v27c0 1.378 1.122 2.5 2.5 2.5h23c1.378 0 2.5-1.122 2.5-2.5v-19.5c0-0.448-0.137-1.23-1.319-2.841zM24.543 5.457c0.959 0.959 1.712 1.825 2.268 2.543h-4.811v-4.811c0.718 0.556 1.584 1.309 2.543 2.268zM28 29.5c0 0.271-0.229 0.5-0.5 0.5h-23c-0.271 0-0.5-0.229-0.5-0.5v-27c0-0.271 0.229-0.5 0.5-0.5 0 0 15.499-0 15.5 0v7c0 0.552 0.448 1 1 1h7v19.5z\"></path>\n",
       "<path d=\"M23 26h-14c-0.552 0-1-0.448-1-1s0.448-1 1-1h14c0.552 0 1 0.448 1 1s-0.448 1-1 1z\"></path>\n",
       "<path d=\"M23 22h-14c-0.552 0-1-0.448-1-1s0.448-1 1-1h14c0.552 0 1 0.448 1 1s-0.448 1-1 1z\"></path>\n",
       "<path d=\"M23 18h-14c-0.552 0-1-0.448-1-1s0.448-1 1-1h14c0.552 0 1 0.448 1 1s-0.448 1-1 1z\"></path>\n",
       "</symbol>\n",
       "</defs>\n",
       "</svg>\n",
       "<style>/* CSS stylesheet for displaying xarray objects in jupyterlab.\n",
       " *\n",
       " */\n",
       "\n",
       ":root {\n",
       "  --xr-font-color0: var(--jp-content-font-color0, rgba(0, 0, 0, 1));\n",
       "  --xr-font-color2: var(--jp-content-font-color2, rgba(0, 0, 0, 0.54));\n",
       "  --xr-font-color3: var(--jp-content-font-color3, rgba(0, 0, 0, 0.38));\n",
       "  --xr-border-color: var(--jp-border-color2, #e0e0e0);\n",
       "  --xr-disabled-color: var(--jp-layout-color3, #bdbdbd);\n",
       "  --xr-background-color: var(--jp-layout-color0, white);\n",
       "  --xr-background-color-row-even: var(--jp-layout-color1, white);\n",
       "  --xr-background-color-row-odd: var(--jp-layout-color2, #eeeeee);\n",
       "}\n",
       "\n",
       "html[theme=dark],\n",
       "body.vscode-dark {\n",
       "  --xr-font-color0: rgba(255, 255, 255, 1);\n",
       "  --xr-font-color2: rgba(255, 255, 255, 0.54);\n",
       "  --xr-font-color3: rgba(255, 255, 255, 0.38);\n",
       "  --xr-border-color: #1F1F1F;\n",
       "  --xr-disabled-color: #515151;\n",
       "  --xr-background-color: #111111;\n",
       "  --xr-background-color-row-even: #111111;\n",
       "  --xr-background-color-row-odd: #313131;\n",
       "}\n",
       "\n",
       ".xr-wrap {\n",
       "  display: block;\n",
       "  min-width: 300px;\n",
       "  max-width: 700px;\n",
       "}\n",
       "\n",
       ".xr-text-repr-fallback {\n",
       "  /* fallback to plain text repr when CSS is not injected (untrusted notebook) */\n",
       "  display: none;\n",
       "}\n",
       "\n",
       ".xr-header {\n",
       "  padding-top: 6px;\n",
       "  padding-bottom: 6px;\n",
       "  margin-bottom: 4px;\n",
       "  border-bottom: solid 1px var(--xr-border-color);\n",
       "}\n",
       "\n",
       ".xr-header > div,\n",
       ".xr-header > ul {\n",
       "  display: inline;\n",
       "  margin-top: 0;\n",
       "  margin-bottom: 0;\n",
       "}\n",
       "\n",
       ".xr-obj-type,\n",
       ".xr-array-name {\n",
       "  margin-left: 2px;\n",
       "  margin-right: 10px;\n",
       "}\n",
       "\n",
       ".xr-obj-type {\n",
       "  color: var(--xr-font-color2);\n",
       "}\n",
       "\n",
       ".xr-sections {\n",
       "  padding-left: 0 !important;\n",
       "  display: grid;\n",
       "  grid-template-columns: 150px auto auto 1fr 20px 20px;\n",
       "}\n",
       "\n",
       ".xr-section-item {\n",
       "  display: contents;\n",
       "}\n",
       "\n",
       ".xr-section-item input {\n",
       "  display: none;\n",
       "}\n",
       "\n",
       ".xr-section-item input + label {\n",
       "  color: var(--xr-disabled-color);\n",
       "}\n",
       "\n",
       ".xr-section-item input:enabled + label {\n",
       "  cursor: pointer;\n",
       "  color: var(--xr-font-color2);\n",
       "}\n",
       "\n",
       ".xr-section-item input:enabled + label:hover {\n",
       "  color: var(--xr-font-color0);\n",
       "}\n",
       "\n",
       ".xr-section-summary {\n",
       "  grid-column: 1;\n",
       "  color: var(--xr-font-color2);\n",
       "  font-weight: 500;\n",
       "}\n",
       "\n",
       ".xr-section-summary > span {\n",
       "  display: inline-block;\n",
       "  padding-left: 0.5em;\n",
       "}\n",
       "\n",
       ".xr-section-summary-in:disabled + label {\n",
       "  color: var(--xr-font-color2);\n",
       "}\n",
       "\n",
       ".xr-section-summary-in + label:before {\n",
       "  display: inline-block;\n",
       "  content: '►';\n",
       "  font-size: 11px;\n",
       "  width: 15px;\n",
       "  text-align: center;\n",
       "}\n",
       "\n",
       ".xr-section-summary-in:disabled + label:before {\n",
       "  color: var(--xr-disabled-color);\n",
       "}\n",
       "\n",
       ".xr-section-summary-in:checked + label:before {\n",
       "  content: '▼';\n",
       "}\n",
       "\n",
       ".xr-section-summary-in:checked + label > span {\n",
       "  display: none;\n",
       "}\n",
       "\n",
       ".xr-section-summary,\n",
       ".xr-section-inline-details {\n",
       "  padding-top: 4px;\n",
       "  padding-bottom: 4px;\n",
       "}\n",
       "\n",
       ".xr-section-inline-details {\n",
       "  grid-column: 2 / -1;\n",
       "}\n",
       "\n",
       ".xr-section-details {\n",
       "  display: none;\n",
       "  grid-column: 1 / -1;\n",
       "  margin-bottom: 5px;\n",
       "}\n",
       "\n",
       ".xr-section-summary-in:checked ~ .xr-section-details {\n",
       "  display: contents;\n",
       "}\n",
       "\n",
       ".xr-array-wrap {\n",
       "  grid-column: 1 / -1;\n",
       "  display: grid;\n",
       "  grid-template-columns: 20px auto;\n",
       "}\n",
       "\n",
       ".xr-array-wrap > label {\n",
       "  grid-column: 1;\n",
       "  vertical-align: top;\n",
       "}\n",
       "\n",
       ".xr-preview {\n",
       "  color: var(--xr-font-color3);\n",
       "}\n",
       "\n",
       ".xr-array-preview,\n",
       ".xr-array-data {\n",
       "  padding: 0 5px !important;\n",
       "  grid-column: 2;\n",
       "}\n",
       "\n",
       ".xr-array-data,\n",
       ".xr-array-in:checked ~ .xr-array-preview {\n",
       "  display: none;\n",
       "}\n",
       "\n",
       ".xr-array-in:checked ~ .xr-array-data,\n",
       ".xr-array-preview {\n",
       "  display: inline-block;\n",
       "}\n",
       "\n",
       ".xr-dim-list {\n",
       "  display: inline-block !important;\n",
       "  list-style: none;\n",
       "  padding: 0 !important;\n",
       "  margin: 0;\n",
       "}\n",
       "\n",
       ".xr-dim-list li {\n",
       "  display: inline-block;\n",
       "  padding: 0;\n",
       "  margin: 0;\n",
       "}\n",
       "\n",
       ".xr-dim-list:before {\n",
       "  content: '(';\n",
       "}\n",
       "\n",
       ".xr-dim-list:after {\n",
       "  content: ')';\n",
       "}\n",
       "\n",
       ".xr-dim-list li:not(:last-child):after {\n",
       "  content: ',';\n",
       "  padding-right: 5px;\n",
       "}\n",
       "\n",
       ".xr-has-index {\n",
       "  font-weight: bold;\n",
       "}\n",
       "\n",
       ".xr-var-list,\n",
       ".xr-var-item {\n",
       "  display: contents;\n",
       "}\n",
       "\n",
       ".xr-var-item > div,\n",
       ".xr-var-item label,\n",
       ".xr-var-item > .xr-var-name span {\n",
       "  background-color: var(--xr-background-color-row-even);\n",
       "  margin-bottom: 0;\n",
       "}\n",
       "\n",
       ".xr-var-item > .xr-var-name:hover span {\n",
       "  padding-right: 5px;\n",
       "}\n",
       "\n",
       ".xr-var-list > li:nth-child(odd) > div,\n",
       ".xr-var-list > li:nth-child(odd) > label,\n",
       ".xr-var-list > li:nth-child(odd) > .xr-var-name span {\n",
       "  background-color: var(--xr-background-color-row-odd);\n",
       "}\n",
       "\n",
       ".xr-var-name {\n",
       "  grid-column: 1;\n",
       "}\n",
       "\n",
       ".xr-var-dims {\n",
       "  grid-column: 2;\n",
       "}\n",
       "\n",
       ".xr-var-dtype {\n",
       "  grid-column: 3;\n",
       "  text-align: right;\n",
       "  color: var(--xr-font-color2);\n",
       "}\n",
       "\n",
       ".xr-var-preview {\n",
       "  grid-column: 4;\n",
       "}\n",
       "\n",
       ".xr-var-name,\n",
       ".xr-var-dims,\n",
       ".xr-var-dtype,\n",
       ".xr-preview,\n",
       ".xr-attrs dt {\n",
       "  white-space: nowrap;\n",
       "  overflow: hidden;\n",
       "  text-overflow: ellipsis;\n",
       "  padding-right: 10px;\n",
       "}\n",
       "\n",
       ".xr-var-name:hover,\n",
       ".xr-var-dims:hover,\n",
       ".xr-var-dtype:hover,\n",
       ".xr-attrs dt:hover {\n",
       "  overflow: visible;\n",
       "  width: auto;\n",
       "  z-index: 1;\n",
       "}\n",
       "\n",
       ".xr-var-attrs,\n",
       ".xr-var-data {\n",
       "  display: none;\n",
       "  background-color: var(--xr-background-color) !important;\n",
       "  padding-bottom: 5px !important;\n",
       "}\n",
       "\n",
       ".xr-var-attrs-in:checked ~ .xr-var-attrs,\n",
       ".xr-var-data-in:checked ~ .xr-var-data {\n",
       "  display: block;\n",
       "}\n",
       "\n",
       ".xr-var-data > table {\n",
       "  float: right;\n",
       "}\n",
       "\n",
       ".xr-var-name span,\n",
       ".xr-var-data,\n",
       ".xr-attrs {\n",
       "  padding-left: 25px !important;\n",
       "}\n",
       "\n",
       ".xr-attrs,\n",
       ".xr-var-attrs,\n",
       ".xr-var-data {\n",
       "  grid-column: 1 / -1;\n",
       "}\n",
       "\n",
       "dl.xr-attrs {\n",
       "  padding: 0;\n",
       "  margin: 0;\n",
       "  display: grid;\n",
       "  grid-template-columns: 125px auto;\n",
       "}\n",
       "\n",
       ".xr-attrs dt,\n",
       ".xr-attrs dd {\n",
       "  padding: 0;\n",
       "  margin: 0;\n",
       "  float: left;\n",
       "  padding-right: 10px;\n",
       "  width: auto;\n",
       "}\n",
       "\n",
       ".xr-attrs dt {\n",
       "  font-weight: normal;\n",
       "  grid-column: 1;\n",
       "}\n",
       "\n",
       ".xr-attrs dt:hover span {\n",
       "  display: inline-block;\n",
       "  background: var(--xr-background-color);\n",
       "  padding-right: 10px;\n",
       "}\n",
       "\n",
       ".xr-attrs dd {\n",
       "  grid-column: 2;\n",
       "  white-space: pre-wrap;\n",
       "  word-break: break-all;\n",
       "}\n",
       "\n",
       ".xr-icon-database,\n",
       ".xr-icon-file-text2 {\n",
       "  display: inline-block;\n",
       "  vertical-align: middle;\n",
       "  width: 1em;\n",
       "  height: 1.5em !important;\n",
       "  stroke-width: 0;\n",
       "  stroke: currentColor;\n",
       "  fill: currentColor;\n",
       "}\n",
       "</style><pre class='xr-text-repr-fallback'>&lt;xarray.DataArray &#x27;return_water_level&#x27; (stations: 23256)&gt;\n",
       "array([0.303143, 0.304283, 0.35101 , ..., 2.287745, 1.742826, 0.501   ])\n",
       "Coordinates:\n",
       "    station_x_coordinate  (stations) float64 384.1 384.1 386.9 ... 343.8 369.3\n",
       "    station_y_coordinate  (stations) float64 34.83 34.87 35.37 ... 63.94 41.33\n",
       "Dimensions without coordinates: stations\n",
       "Attributes:\n",
       "    units:       m\n",
       "    long_name:   Return water level, including tide and surge level for 2 yea...\n",
       "    short_name:  return_levels</pre><div class='xr-wrap' hidden><div class='xr-header'><div class='xr-obj-type'>xarray.DataArray</div><div class='xr-array-name'>'return_water_level'</div><ul class='xr-dim-list'><li><span>stations</span>: 23256</li></ul></div><ul class='xr-sections'><li class='xr-section-item'><div class='xr-array-wrap'><input id='section-524778eb-322e-49ee-a6a8-58435d9d57cc' class='xr-array-in' type='checkbox' checked><label for='section-524778eb-322e-49ee-a6a8-58435d9d57cc' title='Show/hide data repr'><svg class='icon xr-icon-database'><use xlink:href='#icon-database'></use></svg></label><div class='xr-array-preview xr-preview'><span>0.3031 0.3043 0.351 0.3476 0.3426 ... 0.3791 1.153 2.288 1.743 0.501</span></div><div class='xr-array-data'><pre>array([0.303143, 0.304283, 0.35101 , ..., 2.287745, 1.742826, 0.501   ])</pre></div></div></li><li class='xr-section-item'><input id='section-99e68494-23a6-4b8f-8d47-56840644387c' class='xr-section-summary-in' type='checkbox'  checked><label for='section-99e68494-23a6-4b8f-8d47-56840644387c' class='xr-section-summary' >Coordinates: <span>(2)</span></label><div class='xr-section-inline-details'></div><div class='xr-section-details'><ul class='xr-var-list'><li class='xr-var-item'><div class='xr-var-name'><span>station_x_coordinate</span></div><div class='xr-var-dims'>(stations)</div><div class='xr-var-dtype'>float64</div><div class='xr-var-preview xr-preview'>...</div><input id='attrs-937c8658-1a36-4697-ab3d-8672888ad368' class='xr-var-attrs-in' type='checkbox' ><label for='attrs-937c8658-1a36-4697-ab3d-8672888ad368' title='Show/Hide attributes'><svg class='icon xr-icon-file-text2'><use xlink:href='#icon-file-text2'></use></svg></label><input id='data-7af7e975-52c0-41bb-a4f8-4210a3fcda7e' class='xr-var-data-in' type='checkbox'><label for='data-7af7e975-52c0-41bb-a4f8-4210a3fcda7e' title='Show/Hide data repr'><svg class='icon xr-icon-database'><use xlink:href='#icon-database'></use></svg></label><div class='xr-var-attrs'><dl class='xr-attrs'><dt><span>long_name :</span></dt><dd>longitude</dd><dt><span>short_name :</span></dt><dd>longitude</dd></dl></div><div class='xr-var-data'><pre>array([384.08936 , 384.08936 , 386.90186 , ..., 336.708984, 343.798828,\n",
       "       369.250488])</pre></div></li><li class='xr-var-item'><div class='xr-var-name'><span>station_y_coordinate</span></div><div class='xr-var-dims'>(stations)</div><div class='xr-var-dtype'>float64</div><div class='xr-var-preview xr-preview'>...</div><input id='attrs-ac7a1210-3f5c-492e-b36f-d7ea7ab59266' class='xr-var-attrs-in' type='checkbox' ><label for='attrs-ac7a1210-3f5c-492e-b36f-d7ea7ab59266' title='Show/Hide attributes'><svg class='icon xr-icon-file-text2'><use xlink:href='#icon-file-text2'></use></svg></label><input id='data-115b3e08-a8c0-40e3-a0d9-46dd141971bf' class='xr-var-data-in' type='checkbox'><label for='data-115b3e08-a8c0-40e3-a0d9-46dd141971bf' title='Show/Hide data repr'><svg class='icon xr-icon-database'><use xlink:href='#icon-database'></use></svg></label><div class='xr-var-attrs'><dl class='xr-attrs'><dt><span>long_name :</span></dt><dd>latitude</dd><dt><span>short_name :</span></dt><dd>latitude</dd></dl></div><div class='xr-var-data'><pre>array([34.82666 , 34.87061 , 35.36865 , ..., 63.673876, 63.940427, 41.330566])</pre></div></li></ul></div></li><li class='xr-section-item'><input id='section-c3655639-c929-4ce3-988e-c1834bbab21b' class='xr-section-summary-in' type='checkbox'  checked><label for='section-c3655639-c929-4ce3-988e-c1834bbab21b' class='xr-section-summary' >Attributes: <span>(3)</span></label><div class='xr-section-inline-details'></div><div class='xr-section-details'><dl class='xr-attrs'><dt><span>units :</span></dt><dd>m</dd><dt><span>long_name :</span></dt><dd>Return water level, including tide and surge level for 2 year return period</dd><dt><span>short_name :</span></dt><dd>return_levels</dd></dl></div></li></ul></div></div>"
      ],
      "text/plain": [
       "<xarray.DataArray 'return_water_level' (stations: 23256)>\n",
       "array([0.303143, 0.304283, 0.35101 , ..., 2.287745, 1.742826, 0.501   ])\n",
       "Coordinates:\n",
       "    station_x_coordinate  (stations) float64 ...\n",
       "    station_y_coordinate  (stations) float64 ...\n",
       "Dimensions without coordinates: stations\n",
       "Attributes:\n",
       "    units:       m\n",
       "    long_name:   Return water level, including tide and surge level for 2 yea...\n",
       "    short_name:  return_levels"
      ]
     },
     "execution_count": 54,
     "metadata": {},
     "output_type": "execute_result"
    }
   ],
   "source": [
    "era5_TSL_rp10"
   ]
  },
  {
   "cell_type": "code",
   "execution_count": 55,
   "id": "greek-contrary",
   "metadata": {},
   "outputs": [
    {
     "data": {
      "text/html": [
       "<div>\n",
       "<style scoped>\n",
       "    .dataframe tbody tr th:only-of-type {\n",
       "        vertical-align: middle;\n",
       "    }\n",
       "\n",
       "    .dataframe tbody tr th {\n",
       "        vertical-align: top;\n",
       "    }\n",
       "\n",
       "    .dataframe thead th {\n",
       "        text-align: right;\n",
       "    }\n",
       "</style>\n",
       "<table border=\"1\" class=\"dataframe\">\n",
       "  <thead>\n",
       "    <tr style=\"text-align: right;\">\n",
       "      <th></th>\n",
       "      <th>Unnamed: 0</th>\n",
       "      <th>StationName</th>\n",
       "      <th>Lat</th>\n",
       "      <th>Lon</th>\n",
       "    </tr>\n",
       "  </thead>\n",
       "  <tbody>\n",
       "    <tr>\n",
       "      <th>0</th>\n",
       "      <td>0</td>\n",
       "      <td>id_coast_glob_eur_00001</td>\n",
       "      <td>34.826660</td>\n",
       "      <td>24.089360</td>\n",
       "    </tr>\n",
       "    <tr>\n",
       "      <th>1</th>\n",
       "      <td>1</td>\n",
       "      <td>id_coast_glob_eur_00002</td>\n",
       "      <td>34.870610</td>\n",
       "      <td>24.089360</td>\n",
       "    </tr>\n",
       "    <tr>\n",
       "      <th>2</th>\n",
       "      <td>2</td>\n",
       "      <td>id_coast_glob_eur_00003</td>\n",
       "      <td>35.368650</td>\n",
       "      <td>26.901860</td>\n",
       "    </tr>\n",
       "    <tr>\n",
       "      <th>3</th>\n",
       "      <td>3</td>\n",
       "      <td>id_coast_glob_eur_00004</td>\n",
       "      <td>35.397950</td>\n",
       "      <td>26.887210</td>\n",
       "    </tr>\n",
       "    <tr>\n",
       "      <th>4</th>\n",
       "      <td>4</td>\n",
       "      <td>id_coast_glob_eur_00005</td>\n",
       "      <td>35.427250</td>\n",
       "      <td>26.960450</td>\n",
       "    </tr>\n",
       "    <tr>\n",
       "      <th>...</th>\n",
       "      <td>...</td>\n",
       "      <td>...</td>\n",
       "      <td>...</td>\n",
       "      <td>...</td>\n",
       "    </tr>\n",
       "    <tr>\n",
       "      <th>23251</th>\n",
       "      <td>23251</td>\n",
       "      <td>islands_66666701</td>\n",
       "      <td>35.969238</td>\n",
       "      <td>14.406738</td>\n",
       "    </tr>\n",
       "    <tr>\n",
       "      <th>23252</th>\n",
       "      <td>23252</td>\n",
       "      <td>islands_66666708</td>\n",
       "      <td>64.592284</td>\n",
       "      <td>346.713867</td>\n",
       "    </tr>\n",
       "    <tr>\n",
       "      <th>23253</th>\n",
       "      <td>23253</td>\n",
       "      <td>islands_66666713</td>\n",
       "      <td>63.673876</td>\n",
       "      <td>336.708984</td>\n",
       "    </tr>\n",
       "    <tr>\n",
       "      <th>23254</th>\n",
       "      <td>23254</td>\n",
       "      <td>islands_66666714</td>\n",
       "      <td>63.940427</td>\n",
       "      <td>343.798828</td>\n",
       "    </tr>\n",
       "    <tr>\n",
       "      <th>23255</th>\n",
       "      <td>23255</td>\n",
       "      <td>islands_88888124</td>\n",
       "      <td>41.330566</td>\n",
       "      <td>9.250488</td>\n",
       "    </tr>\n",
       "  </tbody>\n",
       "</table>\n",
       "<p>23256 rows × 4 columns</p>\n",
       "</div>"
      ],
      "text/plain": [
       "       Unnamed: 0              StationName        Lat         Lon\n",
       "0               0  id_coast_glob_eur_00001  34.826660   24.089360\n",
       "1               1  id_coast_glob_eur_00002  34.870610   24.089360\n",
       "2               2  id_coast_glob_eur_00003  35.368650   26.901860\n",
       "3               3  id_coast_glob_eur_00004  35.397950   26.887210\n",
       "4               4  id_coast_glob_eur_00005  35.427250   26.960450\n",
       "...           ...                      ...        ...         ...\n",
       "23251       23251         islands_66666701  35.969238   14.406738\n",
       "23252       23252         islands_66666708  64.592284  346.713867\n",
       "23253       23253         islands_66666713  63.673876  336.708984\n",
       "23254       23254         islands_66666714  63.940427  343.798828\n",
       "23255       23255         islands_88888124  41.330566    9.250488\n",
       "\n",
       "[23256 rows x 4 columns]"
      ]
     },
     "execution_count": 55,
     "metadata": {},
     "output_type": "execute_result"
    }
   ],
   "source": [
    "# stations are not named in the Total Water Level datasets so created from Mean Water Level set\n",
    "stationsDF=pd.read_csv(\"./data/sis-water-level-change-indicators/stations.csv\")\n",
    "stationsDF"
   ]
  },
  {
   "cell_type": "code",
   "execution_count": 56,
   "id": "tough-hollywood",
   "metadata": {},
   "outputs": [
    {
     "name": "stdout",
     "output_type": "stream",
     "text": [
      "station_index\n",
      "21836\n",
      "station_lat\n",
      "21836    53.342285\n",
      "Name: Lat, dtype: float64\n",
      "station_lon\n",
      "21836    353.811035\n",
      "Name: Lon, dtype: float64\n"
     ]
    }
   ],
   "source": [
    "\n",
    "station_index=stationsDF.loc[stationsDF['StationName'] == station_name].index[0]\n",
    "station_lat=stationsDF.loc[stationsDF['StationName'] == station_name].Lat\n",
    "station_lon=stationsDF.loc[stationsDF['StationName'] == station_name].Lon\n",
    "print('station_index')\n",
    "print(station_index)\n",
    "print('station_lat')\n",
    "print(station_lat)\n",
    "print('station_lon')\n",
    "print(station_lon)"
   ]
  },
  {
   "cell_type": "code",
   "execution_count": 57,
   "id": "meaningful-toronto",
   "metadata": {},
   "outputs": [],
   "source": [
    "era5_TSL_rp10_DF=era5_TSL_rp10.to_dataframe()\n",
    "# for some reason there are values >360\n",
    "# which is not comparible with the stations"
   ]
  },
  {
   "cell_type": "code",
   "execution_count": 58,
   "id": "matched-bermuda",
   "metadata": {},
   "outputs": [
    {
     "data": {
      "text/html": [
       "<div>\n",
       "<style scoped>\n",
       "    .dataframe tbody tr th:only-of-type {\n",
       "        vertical-align: middle;\n",
       "    }\n",
       "\n",
       "    .dataframe tbody tr th {\n",
       "        vertical-align: top;\n",
       "    }\n",
       "\n",
       "    .dataframe thead th {\n",
       "        text-align: right;\n",
       "    }\n",
       "</style>\n",
       "<table border=\"1\" class=\"dataframe\">\n",
       "  <thead>\n",
       "    <tr style=\"text-align: right;\">\n",
       "      <th></th>\n",
       "      <th>station_x_coordinate</th>\n",
       "      <th>station_y_coordinate</th>\n",
       "      <th>2yr_RWL</th>\n",
       "      <th>5yr_RWL</th>\n",
       "      <th>10yr_RWL</th>\n",
       "      <th>25yr_RWL</th>\n",
       "      <th>50yr_RWL</th>\n",
       "      <th>100yr_RWL</th>\n",
       "    </tr>\n",
       "    <tr>\n",
       "      <th>stations</th>\n",
       "      <th></th>\n",
       "      <th></th>\n",
       "      <th></th>\n",
       "      <th></th>\n",
       "      <th></th>\n",
       "      <th></th>\n",
       "      <th></th>\n",
       "      <th></th>\n",
       "    </tr>\n",
       "  </thead>\n",
       "  <tbody>\n",
       "    <tr>\n",
       "      <th>0</th>\n",
       "      <td>384.089360</td>\n",
       "      <td>34.826660</td>\n",
       "      <td>0.248563</td>\n",
       "      <td>0.281401</td>\n",
       "      <td>0.303143</td>\n",
       "      <td>0.330614</td>\n",
       "      <td>0.350993</td>\n",
       "      <td>0.371222</td>\n",
       "    </tr>\n",
       "    <tr>\n",
       "      <th>1</th>\n",
       "      <td>384.089360</td>\n",
       "      <td>34.870610</td>\n",
       "      <td>0.246995</td>\n",
       "      <td>0.281463</td>\n",
       "      <td>0.304283</td>\n",
       "      <td>0.333118</td>\n",
       "      <td>0.354508</td>\n",
       "      <td>0.375741</td>\n",
       "    </tr>\n",
       "    <tr>\n",
       "      <th>2</th>\n",
       "      <td>386.901860</td>\n",
       "      <td>35.368650</td>\n",
       "      <td>0.295219</td>\n",
       "      <td>0.328786</td>\n",
       "      <td>0.351010</td>\n",
       "      <td>0.379091</td>\n",
       "      <td>0.399923</td>\n",
       "      <td>0.420601</td>\n",
       "    </tr>\n",
       "    <tr>\n",
       "      <th>3</th>\n",
       "      <td>386.887210</td>\n",
       "      <td>35.397950</td>\n",
       "      <td>0.289812</td>\n",
       "      <td>0.324571</td>\n",
       "      <td>0.347585</td>\n",
       "      <td>0.376663</td>\n",
       "      <td>0.398235</td>\n",
       "      <td>0.419648</td>\n",
       "    </tr>\n",
       "    <tr>\n",
       "      <th>4</th>\n",
       "      <td>386.960450</td>\n",
       "      <td>35.427250</td>\n",
       "      <td>0.285304</td>\n",
       "      <td>0.319780</td>\n",
       "      <td>0.342606</td>\n",
       "      <td>0.371447</td>\n",
       "      <td>0.392843</td>\n",
       "      <td>0.414081</td>\n",
       "    </tr>\n",
       "    <tr>\n",
       "      <th>...</th>\n",
       "      <td>...</td>\n",
       "      <td>...</td>\n",
       "      <td>...</td>\n",
       "      <td>...</td>\n",
       "      <td>...</td>\n",
       "      <td>...</td>\n",
       "      <td>...</td>\n",
       "      <td>...</td>\n",
       "    </tr>\n",
       "    <tr>\n",
       "      <th>23251</th>\n",
       "      <td>374.406738</td>\n",
       "      <td>35.969238</td>\n",
       "      <td>0.303990</td>\n",
       "      <td>0.349199</td>\n",
       "      <td>0.379132</td>\n",
       "      <td>0.416951</td>\n",
       "      <td>0.445008</td>\n",
       "      <td>0.472858</td>\n",
       "    </tr>\n",
       "    <tr>\n",
       "      <th>23252</th>\n",
       "      <td>346.713867</td>\n",
       "      <td>64.592284</td>\n",
       "      <td>1.050223</td>\n",
       "      <td>1.111779</td>\n",
       "      <td>1.152535</td>\n",
       "      <td>1.204030</td>\n",
       "      <td>1.242232</td>\n",
       "      <td>1.280152</td>\n",
       "    </tr>\n",
       "    <tr>\n",
       "      <th>23253</th>\n",
       "      <td>336.708984</td>\n",
       "      <td>63.673876</td>\n",
       "      <td>2.171228</td>\n",
       "      <td>2.241331</td>\n",
       "      <td>2.287745</td>\n",
       "      <td>2.346390</td>\n",
       "      <td>2.389896</td>\n",
       "      <td>2.433081</td>\n",
       "    </tr>\n",
       "    <tr>\n",
       "      <th>23254</th>\n",
       "      <td>343.798828</td>\n",
       "      <td>63.940427</td>\n",
       "      <td>1.614733</td>\n",
       "      <td>1.691801</td>\n",
       "      <td>1.742826</td>\n",
       "      <td>1.807297</td>\n",
       "      <td>1.855126</td>\n",
       "      <td>1.902601</td>\n",
       "    </tr>\n",
       "    <tr>\n",
       "      <th>23255</th>\n",
       "      <td>369.250488</td>\n",
       "      <td>41.330566</td>\n",
       "      <td>0.403865</td>\n",
       "      <td>0.462307</td>\n",
       "      <td>0.501000</td>\n",
       "      <td>0.549888</td>\n",
       "      <td>0.586157</td>\n",
       "      <td>0.622158</td>\n",
       "    </tr>\n",
       "  </tbody>\n",
       "</table>\n",
       "<p>23256 rows × 8 columns</p>\n",
       "</div>"
      ],
      "text/plain": [
       "          station_x_coordinate  station_y_coordinate   2yr_RWL   5yr_RWL  \\\n",
       "stations                                                                   \n",
       "0                   384.089360             34.826660  0.248563  0.281401   \n",
       "1                   384.089360             34.870610  0.246995  0.281463   \n",
       "2                   386.901860             35.368650  0.295219  0.328786   \n",
       "3                   386.887210             35.397950  0.289812  0.324571   \n",
       "4                   386.960450             35.427250  0.285304  0.319780   \n",
       "...                        ...                   ...       ...       ...   \n",
       "23251               374.406738             35.969238  0.303990  0.349199   \n",
       "23252               346.713867             64.592284  1.050223  1.111779   \n",
       "23253               336.708984             63.673876  2.171228  2.241331   \n",
       "23254               343.798828             63.940427  1.614733  1.691801   \n",
       "23255               369.250488             41.330566  0.403865  0.462307   \n",
       "\n",
       "          10yr_RWL  25yr_RWL  50yr_RWL  100yr_RWL  \n",
       "stations                                           \n",
       "0         0.303143  0.330614  0.350993   0.371222  \n",
       "1         0.304283  0.333118  0.354508   0.375741  \n",
       "2         0.351010  0.379091  0.399923   0.420601  \n",
       "3         0.347585  0.376663  0.398235   0.419648  \n",
       "4         0.342606  0.371447  0.392843   0.414081  \n",
       "...            ...       ...       ...        ...  \n",
       "23251     0.379132  0.416951  0.445008   0.472858  \n",
       "23252     1.152535  1.204030  1.242232   1.280152  \n",
       "23253     2.287745  2.346390  2.389896   2.433081  \n",
       "23254     1.742826  1.807297  1.855126   1.902601  \n",
       "23255     0.501000  0.549888  0.586157   0.622158  \n",
       "\n",
       "[23256 rows x 8 columns]"
      ]
     },
     "execution_count": 58,
     "metadata": {},
     "output_type": "execute_result"
    }
   ],
   "source": [
    "# create DataFrame of all return periods\n",
    "# era5\n",
    "era5_TLS_RP_DF=era5_TSL_rp2_DF\n",
    "era5_TLS_RP_DF=era5_TLS_RP_DF.rename(columns={\"return_water_level\": \"2yr_RWL\"})\n",
    "era5_TLS_RP_DF['5yr_RWL']=era5_TSL_rp5_DF['return_water_level']\n",
    "era5_TLS_RP_DF['10yr_RWL']=era5_TSL_rp10_DF['return_water_level']\n",
    "era5_TLS_RP_DF['25yr_RWL']=era5_TSL_rp25_DF['return_water_level']\n",
    "era5_TLS_RP_DF['50yr_RWL']=era5_TSL_rp50_DF['return_water_level']\n",
    "era5_TLS_RP_DF['100yr_RWL']=era5_TSL_rp100_DF['return_water_level']\n",
    "era5_TLS_RP_DF"
   ]
  },
  {
   "cell_type": "code",
   "execution_count": 59,
   "id": "joint-parameter",
   "metadata": {},
   "outputs": [
    {
     "data": {
      "text/html": [
       "<div>\n",
       "<style scoped>\n",
       "    .dataframe tbody tr th:only-of-type {\n",
       "        vertical-align: middle;\n",
       "    }\n",
       "\n",
       "    .dataframe tbody tr th {\n",
       "        vertical-align: top;\n",
       "    }\n",
       "\n",
       "    .dataframe thead th {\n",
       "        text-align: right;\n",
       "    }\n",
       "</style>\n",
       "<table border=\"1\" class=\"dataframe\">\n",
       "  <thead>\n",
       "    <tr style=\"text-align: right;\">\n",
       "      <th></th>\n",
       "      <th>station_x_coordinate</th>\n",
       "      <th>station_y_coordinate</th>\n",
       "      <th>2yr_RWL</th>\n",
       "      <th>5yr_RWL</th>\n",
       "      <th>10yr_RWL</th>\n",
       "      <th>25yr_RWL</th>\n",
       "      <th>50yr_RWL</th>\n",
       "      <th>100yr_RWL</th>\n",
       "    </tr>\n",
       "    <tr>\n",
       "      <th>stations</th>\n",
       "      <th></th>\n",
       "      <th></th>\n",
       "      <th></th>\n",
       "      <th></th>\n",
       "      <th></th>\n",
       "      <th></th>\n",
       "      <th></th>\n",
       "      <th></th>\n",
       "    </tr>\n",
       "  </thead>\n",
       "  <tbody>\n",
       "    <tr>\n",
       "      <th>0</th>\n",
       "      <td>384.089360</td>\n",
       "      <td>34.826660</td>\n",
       "      <td>0.565296</td>\n",
       "      <td>0.603053</td>\n",
       "      <td>0.628051</td>\n",
       "      <td>0.659637</td>\n",
       "      <td>0.683068</td>\n",
       "      <td>0.706327</td>\n",
       "    </tr>\n",
       "    <tr>\n",
       "      <th>1</th>\n",
       "      <td>384.089360</td>\n",
       "      <td>34.870610</td>\n",
       "      <td>0.565253</td>\n",
       "      <td>0.604292</td>\n",
       "      <td>0.630139</td>\n",
       "      <td>0.662797</td>\n",
       "      <td>0.687025</td>\n",
       "      <td>0.711074</td>\n",
       "    </tr>\n",
       "    <tr>\n",
       "      <th>2</th>\n",
       "      <td>386.901860</td>\n",
       "      <td>35.368650</td>\n",
       "      <td>0.592982</td>\n",
       "      <td>0.629196</td>\n",
       "      <td>0.653173</td>\n",
       "      <td>0.683467</td>\n",
       "      <td>0.705942</td>\n",
       "      <td>0.728250</td>\n",
       "    </tr>\n",
       "    <tr>\n",
       "      <th>3</th>\n",
       "      <td>386.887210</td>\n",
       "      <td>35.397950</td>\n",
       "      <td>0.588246</td>\n",
       "      <td>0.624764</td>\n",
       "      <td>0.648942</td>\n",
       "      <td>0.679490</td>\n",
       "      <td>0.702153</td>\n",
       "      <td>0.724648</td>\n",
       "    </tr>\n",
       "    <tr>\n",
       "      <th>4</th>\n",
       "      <td>386.960450</td>\n",
       "      <td>35.427250</td>\n",
       "      <td>0.582904</td>\n",
       "      <td>0.619316</td>\n",
       "      <td>0.643424</td>\n",
       "      <td>0.673884</td>\n",
       "      <td>0.696481</td>\n",
       "      <td>0.718912</td>\n",
       "    </tr>\n",
       "    <tr>\n",
       "      <th>...</th>\n",
       "      <td>...</td>\n",
       "      <td>...</td>\n",
       "      <td>...</td>\n",
       "      <td>...</td>\n",
       "      <td>...</td>\n",
       "      <td>...</td>\n",
       "      <td>...</td>\n",
       "      <td>...</td>\n",
       "    </tr>\n",
       "    <tr>\n",
       "      <th>23251</th>\n",
       "      <td>374.406738</td>\n",
       "      <td>35.969238</td>\n",
       "      <td>0.633259</td>\n",
       "      <td>0.681149</td>\n",
       "      <td>0.712857</td>\n",
       "      <td>0.752919</td>\n",
       "      <td>0.782640</td>\n",
       "      <td>0.812142</td>\n",
       "    </tr>\n",
       "    <tr>\n",
       "      <th>23252</th>\n",
       "      <td>346.713867</td>\n",
       "      <td>64.592284</td>\n",
       "      <td>1.157175</td>\n",
       "      <td>1.240332</td>\n",
       "      <td>1.295388</td>\n",
       "      <td>1.364953</td>\n",
       "      <td>1.416559</td>\n",
       "      <td>1.467785</td>\n",
       "    </tr>\n",
       "    <tr>\n",
       "      <th>23253</th>\n",
       "      <td>336.708984</td>\n",
       "      <td>63.673876</td>\n",
       "      <td>2.247221</td>\n",
       "      <td>2.353735</td>\n",
       "      <td>2.424257</td>\n",
       "      <td>2.513362</td>\n",
       "      <td>2.579465</td>\n",
       "      <td>2.645080</td>\n",
       "    </tr>\n",
       "    <tr>\n",
       "      <th>23254</th>\n",
       "      <td>343.798828</td>\n",
       "      <td>63.940427</td>\n",
       "      <td>1.677028</td>\n",
       "      <td>1.782071</td>\n",
       "      <td>1.851618</td>\n",
       "      <td>1.939491</td>\n",
       "      <td>2.004680</td>\n",
       "      <td>2.069388</td>\n",
       "    </tr>\n",
       "    <tr>\n",
       "      <th>23255</th>\n",
       "      <td>369.250488</td>\n",
       "      <td>41.330566</td>\n",
       "      <td>0.712125</td>\n",
       "      <td>0.776080</td>\n",
       "      <td>0.818423</td>\n",
       "      <td>0.871924</td>\n",
       "      <td>0.911614</td>\n",
       "      <td>0.951011</td>\n",
       "    </tr>\n",
       "  </tbody>\n",
       "</table>\n",
       "<p>23256 rows × 8 columns</p>\n",
       "</div>"
      ],
      "text/plain": [
       "          station_x_coordinate  station_y_coordinate   2yr_RWL   5yr_RWL  \\\n",
       "stations                                                                   \n",
       "0                   384.089360             34.826660  0.565296  0.603053   \n",
       "1                   384.089360             34.870610  0.565253  0.604292   \n",
       "2                   386.901860             35.368650  0.592982  0.629196   \n",
       "3                   386.887210             35.397950  0.588246  0.624764   \n",
       "4                   386.960450             35.427250  0.582904  0.619316   \n",
       "...                        ...                   ...       ...       ...   \n",
       "23251               374.406738             35.969238  0.633259  0.681149   \n",
       "23252               346.713867             64.592284  1.157175  1.240332   \n",
       "23253               336.708984             63.673876  2.247221  2.353735   \n",
       "23254               343.798828             63.940427  1.677028  1.782071   \n",
       "23255               369.250488             41.330566  0.712125  0.776080   \n",
       "\n",
       "          10yr_RWL  25yr_RWL  50yr_RWL  100yr_RWL  \n",
       "stations                                           \n",
       "0         0.628051  0.659637  0.683068   0.706327  \n",
       "1         0.630139  0.662797  0.687025   0.711074  \n",
       "2         0.653173  0.683467  0.705942   0.728250  \n",
       "3         0.648942  0.679490  0.702153   0.724648  \n",
       "4         0.643424  0.673884  0.696481   0.718912  \n",
       "...            ...       ...       ...        ...  \n",
       "23251     0.712857  0.752919  0.782640   0.812142  \n",
       "23252     1.295388  1.364953  1.416559   1.467785  \n",
       "23253     2.424257  2.513362  2.579465   2.645080  \n",
       "23254     1.851618  1.939491  2.004680   2.069388  \n",
       "23255     0.818423  0.871924  0.911614   0.951011  \n",
       "\n",
       "[23256 rows x 8 columns]"
      ]
     },
     "execution_count": 59,
     "metadata": {},
     "output_type": "execute_result"
    }
   ],
   "source": [
    "# rcp8_5\n",
    "rcp8_5_TLS_RP_DF=rcp8_5_TSL_rp2_DF\n",
    "rcp8_5_TLS_RP_DF=rcp8_5_TLS_RP_DF.rename(columns={\"return_water_level\": \"2yr_RWL\"})\n",
    "rcp8_5_TLS_RP_DF['5yr_RWL']=rcp8_5_TSL_rp5_DF['return_water_level']\n",
    "rcp8_5_TLS_RP_DF['10yr_RWL']=rcp8_5_TSL_rp10_DF['return_water_level']\n",
    "rcp8_5_TLS_RP_DF['25yr_RWL']=rcp8_5_TSL_rp25_DF['return_water_level']\n",
    "rcp8_5_TLS_RP_DF['50yr_RWL']=rcp8_5_TSL_rp50_DF['return_water_level']\n",
    "rcp8_5_TLS_RP_DF['100yr_RWL']=rcp8_5_TSL_rp100_DF['return_water_level']\n",
    "rcp8_5_TLS_RP_DF"
   ]
  },
  {
   "cell_type": "code",
   "execution_count": 60,
   "id": "useful-september",
   "metadata": {},
   "outputs": [
    {
     "data": {
      "text/html": [
       "<div>\n",
       "<style scoped>\n",
       "    .dataframe tbody tr th:only-of-type {\n",
       "        vertical-align: middle;\n",
       "    }\n",
       "\n",
       "    .dataframe tbody tr th {\n",
       "        vertical-align: top;\n",
       "    }\n",
       "\n",
       "    .dataframe thead th {\n",
       "        text-align: right;\n",
       "    }\n",
       "</style>\n",
       "<table border=\"1\" class=\"dataframe\">\n",
       "  <thead>\n",
       "    <tr style=\"text-align: right;\">\n",
       "      <th></th>\n",
       "      <th>station_x_coordinate</th>\n",
       "      <th>station_y_coordinate</th>\n",
       "      <th>2yr_RWL</th>\n",
       "      <th>5yr_RWL</th>\n",
       "      <th>10yr_RWL</th>\n",
       "      <th>25yr_RWL</th>\n",
       "      <th>50yr_RWL</th>\n",
       "      <th>100yr_RWL</th>\n",
       "    </tr>\n",
       "    <tr>\n",
       "      <th>stations</th>\n",
       "      <th></th>\n",
       "      <th></th>\n",
       "      <th></th>\n",
       "      <th></th>\n",
       "      <th></th>\n",
       "      <th></th>\n",
       "      <th></th>\n",
       "      <th></th>\n",
       "    </tr>\n",
       "  </thead>\n",
       "  <tbody>\n",
       "    <tr>\n",
       "      <th>0</th>\n",
       "      <td>384.089360</td>\n",
       "      <td>34.826660</td>\n",
       "      <td>0.673816</td>\n",
       "      <td>0.723328</td>\n",
       "      <td>0.756109</td>\n",
       "      <td>0.797528</td>\n",
       "      <td>0.828255</td>\n",
       "      <td>0.858755</td>\n",
       "    </tr>\n",
       "    <tr>\n",
       "      <th>1</th>\n",
       "      <td>384.089360</td>\n",
       "      <td>34.870610</td>\n",
       "      <td>0.674057</td>\n",
       "      <td>0.724057</td>\n",
       "      <td>0.757162</td>\n",
       "      <td>0.798991</td>\n",
       "      <td>0.830021</td>\n",
       "      <td>0.860823</td>\n",
       "    </tr>\n",
       "    <tr>\n",
       "      <th>2</th>\n",
       "      <td>386.901860</td>\n",
       "      <td>35.368650</td>\n",
       "      <td>0.704882</td>\n",
       "      <td>0.756869</td>\n",
       "      <td>0.791288</td>\n",
       "      <td>0.834778</td>\n",
       "      <td>0.867041</td>\n",
       "      <td>0.899066</td>\n",
       "    </tr>\n",
       "    <tr>\n",
       "      <th>3</th>\n",
       "      <td>386.887210</td>\n",
       "      <td>35.397950</td>\n",
       "      <td>0.700621</td>\n",
       "      <td>0.753428</td>\n",
       "      <td>0.788391</td>\n",
       "      <td>0.832566</td>\n",
       "      <td>0.865338</td>\n",
       "      <td>0.897868</td>\n",
       "    </tr>\n",
       "    <tr>\n",
       "      <th>4</th>\n",
       "      <td>386.960450</td>\n",
       "      <td>35.427250</td>\n",
       "      <td>0.694661</td>\n",
       "      <td>0.745652</td>\n",
       "      <td>0.779413</td>\n",
       "      <td>0.822069</td>\n",
       "      <td>0.853714</td>\n",
       "      <td>0.885125</td>\n",
       "    </tr>\n",
       "    <tr>\n",
       "      <th>...</th>\n",
       "      <td>...</td>\n",
       "      <td>...</td>\n",
       "      <td>...</td>\n",
       "      <td>...</td>\n",
       "      <td>...</td>\n",
       "      <td>...</td>\n",
       "      <td>...</td>\n",
       "      <td>...</td>\n",
       "    </tr>\n",
       "    <tr>\n",
       "      <th>23251</th>\n",
       "      <td>374.406738</td>\n",
       "      <td>35.969238</td>\n",
       "      <td>0.742045</td>\n",
       "      <td>0.797250</td>\n",
       "      <td>0.833801</td>\n",
       "      <td>0.879982</td>\n",
       "      <td>0.914242</td>\n",
       "      <td>0.948250</td>\n",
       "    </tr>\n",
       "    <tr>\n",
       "      <th>23252</th>\n",
       "      <td>346.713867</td>\n",
       "      <td>64.592284</td>\n",
       "      <td>1.100050</td>\n",
       "      <td>1.163384</td>\n",
       "      <td>1.205316</td>\n",
       "      <td>1.258298</td>\n",
       "      <td>1.297602</td>\n",
       "      <td>1.336617</td>\n",
       "    </tr>\n",
       "    <tr>\n",
       "      <th>23253</th>\n",
       "      <td>336.708984</td>\n",
       "      <td>63.673876</td>\n",
       "      <td>2.276980</td>\n",
       "      <td>2.388171</td>\n",
       "      <td>2.461789</td>\n",
       "      <td>2.554807</td>\n",
       "      <td>2.623812</td>\n",
       "      <td>2.692308</td>\n",
       "    </tr>\n",
       "    <tr>\n",
       "      <th>23254</th>\n",
       "      <td>343.798828</td>\n",
       "      <td>63.940427</td>\n",
       "      <td>1.673626</td>\n",
       "      <td>1.784023</td>\n",
       "      <td>1.857116</td>\n",
       "      <td>1.949468</td>\n",
       "      <td>2.017980</td>\n",
       "      <td>2.085987</td>\n",
       "    </tr>\n",
       "    <tr>\n",
       "      <th>23255</th>\n",
       "      <td>369.250488</td>\n",
       "      <td>41.330566</td>\n",
       "      <td>0.836130</td>\n",
       "      <td>0.918773</td>\n",
       "      <td>0.973490</td>\n",
       "      <td>1.042624</td>\n",
       "      <td>1.093912</td>\n",
       "      <td>1.144821</td>\n",
       "    </tr>\n",
       "  </tbody>\n",
       "</table>\n",
       "<p>23256 rows × 8 columns</p>\n",
       "</div>"
      ],
      "text/plain": [
       "          station_x_coordinate  station_y_coordinate   2yr_RWL   5yr_RWL  \\\n",
       "stations                                                                   \n",
       "0                   384.089360             34.826660  0.673816  0.723328   \n",
       "1                   384.089360             34.870610  0.674057  0.724057   \n",
       "2                   386.901860             35.368650  0.704882  0.756869   \n",
       "3                   386.887210             35.397950  0.700621  0.753428   \n",
       "4                   386.960450             35.427250  0.694661  0.745652   \n",
       "...                        ...                   ...       ...       ...   \n",
       "23251               374.406738             35.969238  0.742045  0.797250   \n",
       "23252               346.713867             64.592284  1.100050  1.163384   \n",
       "23253               336.708984             63.673876  2.276980  2.388171   \n",
       "23254               343.798828             63.940427  1.673626  1.784023   \n",
       "23255               369.250488             41.330566  0.836130  0.918773   \n",
       "\n",
       "          10yr_RWL  25yr_RWL  50yr_RWL  100yr_RWL  \n",
       "stations                                           \n",
       "0         0.756109  0.797528  0.828255   0.858755  \n",
       "1         0.757162  0.798991  0.830021   0.860823  \n",
       "2         0.791288  0.834778  0.867041   0.899066  \n",
       "3         0.788391  0.832566  0.865338   0.897868  \n",
       "4         0.779413  0.822069  0.853714   0.885125  \n",
       "...            ...       ...       ...        ...  \n",
       "23251     0.833801  0.879982  0.914242   0.948250  \n",
       "23252     1.205316  1.258298  1.297602   1.336617  \n",
       "23253     2.461789  2.554807  2.623812   2.692308  \n",
       "23254     1.857116  1.949468  2.017980   2.085987  \n",
       "23255     0.973490  1.042624  1.093912   1.144821  \n",
       "\n",
       "[23256 rows x 8 columns]"
      ]
     },
     "execution_count": 60,
     "metadata": {},
     "output_type": "execute_result"
    }
   ],
   "source": [
    "# rcp4_5\n",
    "rcp4_5_TLS_RP_DF=rcp4_5_TSL_rp2_DF\n",
    "rcp4_5_TLS_RP_DF=rcp4_5_TLS_RP_DF.rename(columns={\"return_water_level\": \"2yr_RWL\"})\n",
    "rcp4_5_TLS_RP_DF['5yr_RWL']=rcp4_5_TSL_rp5_DF['return_water_level']\n",
    "rcp4_5_TLS_RP_DF['10yr_RWL']=rcp4_5_TSL_rp10_DF['return_water_level']\n",
    "rcp4_5_TLS_RP_DF['25yr_RWL']=rcp4_5_TSL_rp25_DF['return_water_level']\n",
    "rcp4_5_TLS_RP_DF['50yr_RWL']=rcp4_5_TSL_rp50_DF['return_water_level']\n",
    "rcp4_5_TLS_RP_DF['100yr_RWL']=rcp4_5_TSL_rp100_DF['return_water_level']\n",
    "rcp4_5_TLS_RP_DF"
   ]
  },
  {
   "cell_type": "code",
   "execution_count": 61,
   "id": "strategic-priority",
   "metadata": {},
   "outputs": [
    {
     "data": {
      "text/plain": [
       "[2.3987900424517075,\n",
       " 2.5384126654393033,\n",
       " 2.630854990822386,\n",
       " 2.7476561140037647,\n",
       " 2.8343058595318924,\n",
       " 2.9203157969405247]"
      ]
     },
     "execution_count": 61,
     "metadata": {},
     "output_type": "execute_result"
    }
   ],
   "source": [
    "era5_TLS_RP_Station_DF=era5_TLS_RP_DF.loc[era5_TLS_RP_DF.index == station_index]\n",
    "era5_TLS_RP_Station_Series=[era5_TLS_RP_Station_DF['2yr_RWL'].values[0],\n",
    "                              era5_TLS_RP_Station_DF['5yr_RWL'].values[0],\n",
    "                              era5_TLS_RP_Station_DF['10yr_RWL'].values[0],\n",
    "                              era5_TLS_RP_Station_DF['25yr_RWL'].values[0],\n",
    "                              era5_TLS_RP_Station_DF['50yr_RWL'].values[0],\n",
    "                              era5_TLS_RP_Station_DF['100yr_RWL'].values[0],\n",
    "                             ]\n",
    "era5_TLS_RP_Station_Series"
   ]
  },
  {
   "cell_type": "code",
   "execution_count": 62,
   "id": "regulation-columbia",
   "metadata": {},
   "outputs": [
    {
     "data": {
      "text/plain": [
       "[2.633681578683856,\n",
       " 2.7479783770186907,\n",
       " 2.82365280280893,\n",
       " 2.9192676404039113,\n",
       " 2.9902001890015195,\n",
       " 3.0606089827946255]"
      ]
     },
     "execution_count": 62,
     "metadata": {},
     "output_type": "execute_result"
    }
   ],
   "source": [
    "rcp8_5_TLS_RP_Station_DF=rcp8_5_TLS_RP_DF.loc[rcp8_5_TLS_RP_DF.index == station_index]\n",
    "rcp8_5_TLS_RP_Station_Series=[rcp8_5_TLS_RP_Station_DF['2yr_RWL'].values[0],\n",
    "                              rcp8_5_TLS_RP_Station_DF['5yr_RWL'].values[0],\n",
    "                              rcp8_5_TLS_RP_Station_DF['10yr_RWL'].values[0],\n",
    "                              rcp8_5_TLS_RP_Station_DF['25yr_RWL'].values[0],\n",
    "                              rcp8_5_TLS_RP_Station_DF['50yr_RWL'].values[0],\n",
    "                              rcp8_5_TLS_RP_Station_DF['100yr_RWL'].values[0],\n",
    "                             ]\n",
    "rcp8_5_TLS_RP_Station_Series"
   ]
  },
  {
   "cell_type": "code",
   "execution_count": 63,
   "id": "imported-windsor",
   "metadata": {},
   "outputs": [
    {
     "data": {
      "text/plain": [
       "[2.7426997241066786,\n",
       " 2.8686503770067118,\n",
       " 2.9520406685544573,\n",
       " 3.057404522988411,\n",
       " 3.1355694491971025,\n",
       " 3.213157217860284]"
      ]
     },
     "execution_count": 63,
     "metadata": {},
     "output_type": "execute_result"
    }
   ],
   "source": [
    "rcp4_5_TLS_RP_Station_DF=rcp4_5_TLS_RP_DF.loc[rcp4_5_TLS_RP_DF.index == station_index]\n",
    "rcp4_5_TLS_RP_Station_Series=[rcp4_5_TLS_RP_Station_DF['2yr_RWL'].values[0],\n",
    "                              rcp4_5_TLS_RP_Station_DF['5yr_RWL'].values[0],\n",
    "                              rcp4_5_TLS_RP_Station_DF['10yr_RWL'].values[0],\n",
    "                              rcp4_5_TLS_RP_Station_DF['25yr_RWL'].values[0],\n",
    "                              rcp4_5_TLS_RP_Station_DF['50yr_RWL'].values[0],\n",
    "                              rcp4_5_TLS_RP_Station_DF['100yr_RWL'].values[0],\n",
    "                             ]\n",
    "rcp4_5_TLS_RP_Station_Series"
   ]
  },
  {
   "cell_type": "code",
   "execution_count": null,
   "id": "south-disney",
   "metadata": {},
   "outputs": [],
   "source": []
  },
  {
   "cell_type": "code",
   "execution_count": 64,
   "id": "great-sigma",
   "metadata": {},
   "outputs": [],
   "source": [
    "era5_TWL_RP_Trend=go.Scatter(x=[2,5,10,25,50,100], \n",
    "                        y=era5_TLS_RP_Station_Series,\n",
    "                        mode='lines',\n",
    "                        name='era5 (1979 to 2017)')\n",
    "rcp8_5_TWL_RP_Trend=go.Scatter(x=[2,5,10,25,50,100], \n",
    "                        y=rcp8_5_TLS_RP_Station_Series,\n",
    "                        mode='lines',\n",
    "                        name='RCP8.5 (2041 to 2070)')\n",
    "rcp4_5_TWL_RP_Trend=go.Scatter(x=[2,5,10,25,50,100], \n",
    "                        y=rcp4_5_TLS_RP_Station_Series,\n",
    "                        mode='lines',\n",
    "                        name='RCP4.5 (2071 to 2100)')\n",
    "layout = go.Layout(\n",
    "        title='<b>Total Water Level Return Period - ' + station_name +'</b>',\n",
    "        xaxis=dict(\n",
    "            title='Return Period (yrs)',\n",
    "            tickmode = 'array',\n",
    "            tickvals = [2,5,10,25,50,100],),\n",
    "        yaxis=dict(\n",
    "            title='Total Water Level (m)')\n",
    ")\n"
   ]
  },
  {
   "cell_type": "code",
   "execution_count": 65,
   "id": "historic-cooper",
   "metadata": {},
   "outputs": [
    {
     "data": {
      "application/vnd.plotly.v1+json": {
       "config": {
        "plotlyServerURL": "https://plot.ly"
       },
       "data": [
        {
         "mode": "lines",
         "name": "era5 (1979 to 2017)",
         "type": "scatter",
         "x": [
          2,
          5,
          10,
          25,
          50,
          100
         ],
         "y": [
          2.3987900424517075,
          2.5384126654393033,
          2.630854990822386,
          2.7476561140037647,
          2.8343058595318924,
          2.9203157969405247
         ]
        },
        {
         "mode": "lines",
         "name": "RCP8.5 (2041 to 2070)",
         "type": "scatter",
         "x": [
          2,
          5,
          10,
          25,
          50,
          100
         ],
         "y": [
          2.633681578683856,
          2.7479783770186907,
          2.82365280280893,
          2.9192676404039113,
          2.9902001890015195,
          3.0606089827946255
         ]
        },
        {
         "mode": "lines",
         "name": "RCP4.5 (2071 to 2100)",
         "type": "scatter",
         "x": [
          2,
          5,
          10,
          25,
          50,
          100
         ],
         "y": [
          2.7426997241066786,
          2.8686503770067118,
          2.9520406685544573,
          3.057404522988411,
          3.1355694491971025,
          3.213157217860284
         ]
        }
       ],
       "layout": {
        "template": {
         "data": {
          "bar": [
           {
            "error_x": {
             "color": "#2a3f5f"
            },
            "error_y": {
             "color": "#2a3f5f"
            },
            "marker": {
             "line": {
              "color": "#E5ECF6",
              "width": 0.5
             }
            },
            "type": "bar"
           }
          ],
          "barpolar": [
           {
            "marker": {
             "line": {
              "color": "#E5ECF6",
              "width": 0.5
             }
            },
            "type": "barpolar"
           }
          ],
          "carpet": [
           {
            "aaxis": {
             "endlinecolor": "#2a3f5f",
             "gridcolor": "white",
             "linecolor": "white",
             "minorgridcolor": "white",
             "startlinecolor": "#2a3f5f"
            },
            "baxis": {
             "endlinecolor": "#2a3f5f",
             "gridcolor": "white",
             "linecolor": "white",
             "minorgridcolor": "white",
             "startlinecolor": "#2a3f5f"
            },
            "type": "carpet"
           }
          ],
          "choropleth": [
           {
            "colorbar": {
             "outlinewidth": 0,
             "ticks": ""
            },
            "type": "choropleth"
           }
          ],
          "contour": [
           {
            "colorbar": {
             "outlinewidth": 0,
             "ticks": ""
            },
            "colorscale": [
             [
              0,
              "#0d0887"
             ],
             [
              0.1111111111111111,
              "#46039f"
             ],
             [
              0.2222222222222222,
              "#7201a8"
             ],
             [
              0.3333333333333333,
              "#9c179e"
             ],
             [
              0.4444444444444444,
              "#bd3786"
             ],
             [
              0.5555555555555556,
              "#d8576b"
             ],
             [
              0.6666666666666666,
              "#ed7953"
             ],
             [
              0.7777777777777778,
              "#fb9f3a"
             ],
             [
              0.8888888888888888,
              "#fdca26"
             ],
             [
              1,
              "#f0f921"
             ]
            ],
            "type": "contour"
           }
          ],
          "contourcarpet": [
           {
            "colorbar": {
             "outlinewidth": 0,
             "ticks": ""
            },
            "type": "contourcarpet"
           }
          ],
          "heatmap": [
           {
            "colorbar": {
             "outlinewidth": 0,
             "ticks": ""
            },
            "colorscale": [
             [
              0,
              "#0d0887"
             ],
             [
              0.1111111111111111,
              "#46039f"
             ],
             [
              0.2222222222222222,
              "#7201a8"
             ],
             [
              0.3333333333333333,
              "#9c179e"
             ],
             [
              0.4444444444444444,
              "#bd3786"
             ],
             [
              0.5555555555555556,
              "#d8576b"
             ],
             [
              0.6666666666666666,
              "#ed7953"
             ],
             [
              0.7777777777777778,
              "#fb9f3a"
             ],
             [
              0.8888888888888888,
              "#fdca26"
             ],
             [
              1,
              "#f0f921"
             ]
            ],
            "type": "heatmap"
           }
          ],
          "heatmapgl": [
           {
            "colorbar": {
             "outlinewidth": 0,
             "ticks": ""
            },
            "colorscale": [
             [
              0,
              "#0d0887"
             ],
             [
              0.1111111111111111,
              "#46039f"
             ],
             [
              0.2222222222222222,
              "#7201a8"
             ],
             [
              0.3333333333333333,
              "#9c179e"
             ],
             [
              0.4444444444444444,
              "#bd3786"
             ],
             [
              0.5555555555555556,
              "#d8576b"
             ],
             [
              0.6666666666666666,
              "#ed7953"
             ],
             [
              0.7777777777777778,
              "#fb9f3a"
             ],
             [
              0.8888888888888888,
              "#fdca26"
             ],
             [
              1,
              "#f0f921"
             ]
            ],
            "type": "heatmapgl"
           }
          ],
          "histogram": [
           {
            "marker": {
             "colorbar": {
              "outlinewidth": 0,
              "ticks": ""
             }
            },
            "type": "histogram"
           }
          ],
          "histogram2d": [
           {
            "colorbar": {
             "outlinewidth": 0,
             "ticks": ""
            },
            "colorscale": [
             [
              0,
              "#0d0887"
             ],
             [
              0.1111111111111111,
              "#46039f"
             ],
             [
              0.2222222222222222,
              "#7201a8"
             ],
             [
              0.3333333333333333,
              "#9c179e"
             ],
             [
              0.4444444444444444,
              "#bd3786"
             ],
             [
              0.5555555555555556,
              "#d8576b"
             ],
             [
              0.6666666666666666,
              "#ed7953"
             ],
             [
              0.7777777777777778,
              "#fb9f3a"
             ],
             [
              0.8888888888888888,
              "#fdca26"
             ],
             [
              1,
              "#f0f921"
             ]
            ],
            "type": "histogram2d"
           }
          ],
          "histogram2dcontour": [
           {
            "colorbar": {
             "outlinewidth": 0,
             "ticks": ""
            },
            "colorscale": [
             [
              0,
              "#0d0887"
             ],
             [
              0.1111111111111111,
              "#46039f"
             ],
             [
              0.2222222222222222,
              "#7201a8"
             ],
             [
              0.3333333333333333,
              "#9c179e"
             ],
             [
              0.4444444444444444,
              "#bd3786"
             ],
             [
              0.5555555555555556,
              "#d8576b"
             ],
             [
              0.6666666666666666,
              "#ed7953"
             ],
             [
              0.7777777777777778,
              "#fb9f3a"
             ],
             [
              0.8888888888888888,
              "#fdca26"
             ],
             [
              1,
              "#f0f921"
             ]
            ],
            "type": "histogram2dcontour"
           }
          ],
          "mesh3d": [
           {
            "colorbar": {
             "outlinewidth": 0,
             "ticks": ""
            },
            "type": "mesh3d"
           }
          ],
          "parcoords": [
           {
            "line": {
             "colorbar": {
              "outlinewidth": 0,
              "ticks": ""
             }
            },
            "type": "parcoords"
           }
          ],
          "pie": [
           {
            "automargin": true,
            "type": "pie"
           }
          ],
          "scatter": [
           {
            "marker": {
             "colorbar": {
              "outlinewidth": 0,
              "ticks": ""
             }
            },
            "type": "scatter"
           }
          ],
          "scatter3d": [
           {
            "line": {
             "colorbar": {
              "outlinewidth": 0,
              "ticks": ""
             }
            },
            "marker": {
             "colorbar": {
              "outlinewidth": 0,
              "ticks": ""
             }
            },
            "type": "scatter3d"
           }
          ],
          "scattercarpet": [
           {
            "marker": {
             "colorbar": {
              "outlinewidth": 0,
              "ticks": ""
             }
            },
            "type": "scattercarpet"
           }
          ],
          "scattergeo": [
           {
            "marker": {
             "colorbar": {
              "outlinewidth": 0,
              "ticks": ""
             }
            },
            "type": "scattergeo"
           }
          ],
          "scattergl": [
           {
            "marker": {
             "colorbar": {
              "outlinewidth": 0,
              "ticks": ""
             }
            },
            "type": "scattergl"
           }
          ],
          "scattermapbox": [
           {
            "marker": {
             "colorbar": {
              "outlinewidth": 0,
              "ticks": ""
             }
            },
            "type": "scattermapbox"
           }
          ],
          "scatterpolar": [
           {
            "marker": {
             "colorbar": {
              "outlinewidth": 0,
              "ticks": ""
             }
            },
            "type": "scatterpolar"
           }
          ],
          "scatterpolargl": [
           {
            "marker": {
             "colorbar": {
              "outlinewidth": 0,
              "ticks": ""
             }
            },
            "type": "scatterpolargl"
           }
          ],
          "scatterternary": [
           {
            "marker": {
             "colorbar": {
              "outlinewidth": 0,
              "ticks": ""
             }
            },
            "type": "scatterternary"
           }
          ],
          "surface": [
           {
            "colorbar": {
             "outlinewidth": 0,
             "ticks": ""
            },
            "colorscale": [
             [
              0,
              "#0d0887"
             ],
             [
              0.1111111111111111,
              "#46039f"
             ],
             [
              0.2222222222222222,
              "#7201a8"
             ],
             [
              0.3333333333333333,
              "#9c179e"
             ],
             [
              0.4444444444444444,
              "#bd3786"
             ],
             [
              0.5555555555555556,
              "#d8576b"
             ],
             [
              0.6666666666666666,
              "#ed7953"
             ],
             [
              0.7777777777777778,
              "#fb9f3a"
             ],
             [
              0.8888888888888888,
              "#fdca26"
             ],
             [
              1,
              "#f0f921"
             ]
            ],
            "type": "surface"
           }
          ],
          "table": [
           {
            "cells": {
             "fill": {
              "color": "#EBF0F8"
             },
             "line": {
              "color": "white"
             }
            },
            "header": {
             "fill": {
              "color": "#C8D4E3"
             },
             "line": {
              "color": "white"
             }
            },
            "type": "table"
           }
          ]
         },
         "layout": {
          "annotationdefaults": {
           "arrowcolor": "#2a3f5f",
           "arrowhead": 0,
           "arrowwidth": 1
          },
          "autotypenumbers": "strict",
          "coloraxis": {
           "colorbar": {
            "outlinewidth": 0,
            "ticks": ""
           }
          },
          "colorscale": {
           "diverging": [
            [
             0,
             "#8e0152"
            ],
            [
             0.1,
             "#c51b7d"
            ],
            [
             0.2,
             "#de77ae"
            ],
            [
             0.3,
             "#f1b6da"
            ],
            [
             0.4,
             "#fde0ef"
            ],
            [
             0.5,
             "#f7f7f7"
            ],
            [
             0.6,
             "#e6f5d0"
            ],
            [
             0.7,
             "#b8e186"
            ],
            [
             0.8,
             "#7fbc41"
            ],
            [
             0.9,
             "#4d9221"
            ],
            [
             1,
             "#276419"
            ]
           ],
           "sequential": [
            [
             0,
             "#0d0887"
            ],
            [
             0.1111111111111111,
             "#46039f"
            ],
            [
             0.2222222222222222,
             "#7201a8"
            ],
            [
             0.3333333333333333,
             "#9c179e"
            ],
            [
             0.4444444444444444,
             "#bd3786"
            ],
            [
             0.5555555555555556,
             "#d8576b"
            ],
            [
             0.6666666666666666,
             "#ed7953"
            ],
            [
             0.7777777777777778,
             "#fb9f3a"
            ],
            [
             0.8888888888888888,
             "#fdca26"
            ],
            [
             1,
             "#f0f921"
            ]
           ],
           "sequentialminus": [
            [
             0,
             "#0d0887"
            ],
            [
             0.1111111111111111,
             "#46039f"
            ],
            [
             0.2222222222222222,
             "#7201a8"
            ],
            [
             0.3333333333333333,
             "#9c179e"
            ],
            [
             0.4444444444444444,
             "#bd3786"
            ],
            [
             0.5555555555555556,
             "#d8576b"
            ],
            [
             0.6666666666666666,
             "#ed7953"
            ],
            [
             0.7777777777777778,
             "#fb9f3a"
            ],
            [
             0.8888888888888888,
             "#fdca26"
            ],
            [
             1,
             "#f0f921"
            ]
           ]
          },
          "colorway": [
           "#636efa",
           "#EF553B",
           "#00cc96",
           "#ab63fa",
           "#FFA15A",
           "#19d3f3",
           "#FF6692",
           "#B6E880",
           "#FF97FF",
           "#FECB52"
          ],
          "font": {
           "color": "#2a3f5f"
          },
          "geo": {
           "bgcolor": "white",
           "lakecolor": "white",
           "landcolor": "#E5ECF6",
           "showlakes": true,
           "showland": true,
           "subunitcolor": "white"
          },
          "hoverlabel": {
           "align": "left"
          },
          "hovermode": "closest",
          "mapbox": {
           "style": "light"
          },
          "paper_bgcolor": "white",
          "plot_bgcolor": "#E5ECF6",
          "polar": {
           "angularaxis": {
            "gridcolor": "white",
            "linecolor": "white",
            "ticks": ""
           },
           "bgcolor": "#E5ECF6",
           "radialaxis": {
            "gridcolor": "white",
            "linecolor": "white",
            "ticks": ""
           }
          },
          "scene": {
           "xaxis": {
            "backgroundcolor": "#E5ECF6",
            "gridcolor": "white",
            "gridwidth": 2,
            "linecolor": "white",
            "showbackground": true,
            "ticks": "",
            "zerolinecolor": "white"
           },
           "yaxis": {
            "backgroundcolor": "#E5ECF6",
            "gridcolor": "white",
            "gridwidth": 2,
            "linecolor": "white",
            "showbackground": true,
            "ticks": "",
            "zerolinecolor": "white"
           },
           "zaxis": {
            "backgroundcolor": "#E5ECF6",
            "gridcolor": "white",
            "gridwidth": 2,
            "linecolor": "white",
            "showbackground": true,
            "ticks": "",
            "zerolinecolor": "white"
           }
          },
          "shapedefaults": {
           "line": {
            "color": "#2a3f5f"
           }
          },
          "ternary": {
           "aaxis": {
            "gridcolor": "white",
            "linecolor": "white",
            "ticks": ""
           },
           "baxis": {
            "gridcolor": "white",
            "linecolor": "white",
            "ticks": ""
           },
           "bgcolor": "#E5ECF6",
           "caxis": {
            "gridcolor": "white",
            "linecolor": "white",
            "ticks": ""
           }
          },
          "title": {
           "x": 0.05
          },
          "xaxis": {
           "automargin": true,
           "gridcolor": "white",
           "linecolor": "white",
           "ticks": "",
           "title": {
            "standoff": 15
           },
           "zerolinecolor": "white",
           "zerolinewidth": 2
          },
          "yaxis": {
           "automargin": true,
           "gridcolor": "white",
           "linecolor": "white",
           "ticks": "",
           "title": {
            "standoff": 15
           },
           "zerolinecolor": "white",
           "zerolinewidth": 2
          }
         }
        },
        "title": {
         "text": "<b>Total Water Level Return Period - IBIS_IR_TS_MO_DublinPort</b>"
        },
        "xaxis": {
         "tickmode": "array",
         "tickvals": [
          2,
          5,
          10,
          25,
          50,
          100
         ],
         "title": {
          "text": "Return Period (yrs)"
         }
        },
        "yaxis": {
         "title": {
          "text": "Total Water Level (m)"
         }
        }
       }
      },
      "text/html": [
       "<div>                            <div id=\"0cefbc57-7566-408c-a00a-245b8cc0246f\" class=\"plotly-graph-div\" style=\"height:525px; width:100%;\"></div>            <script type=\"text/javascript\">                require([\"plotly\"], function(Plotly) {                    window.PLOTLYENV=window.PLOTLYENV || {};                                    if (document.getElementById(\"0cefbc57-7566-408c-a00a-245b8cc0246f\")) {                    Plotly.newPlot(                        \"0cefbc57-7566-408c-a00a-245b8cc0246f\",                        [{\"mode\": \"lines\", \"name\": \"era5 (1979 to 2017)\", \"type\": \"scatter\", \"x\": [2, 5, 10, 25, 50, 100], \"y\": [2.3987900424517075, 2.5384126654393033, 2.630854990822386, 2.7476561140037647, 2.8343058595318924, 2.9203157969405247]}, {\"mode\": \"lines\", \"name\": \"RCP8.5 (2041 to 2070)\", \"type\": \"scatter\", \"x\": [2, 5, 10, 25, 50, 100], \"y\": [2.633681578683856, 2.7479783770186907, 2.82365280280893, 2.9192676404039113, 2.9902001890015195, 3.0606089827946255]}, {\"mode\": \"lines\", \"name\": \"RCP4.5 (2071 to 2100)\", \"type\": \"scatter\", \"x\": [2, 5, 10, 25, 50, 100], \"y\": [2.7426997241066786, 2.8686503770067118, 2.9520406685544573, 3.057404522988411, 3.1355694491971025, 3.213157217860284]}],                        {\"template\": {\"data\": {\"bar\": [{\"error_x\": {\"color\": \"#2a3f5f\"}, \"error_y\": {\"color\": \"#2a3f5f\"}, \"marker\": {\"line\": {\"color\": \"#E5ECF6\", \"width\": 0.5}}, \"type\": \"bar\"}], \"barpolar\": [{\"marker\": {\"line\": {\"color\": \"#E5ECF6\", \"width\": 0.5}}, \"type\": \"barpolar\"}], \"carpet\": [{\"aaxis\": {\"endlinecolor\": \"#2a3f5f\", \"gridcolor\": \"white\", \"linecolor\": \"white\", \"minorgridcolor\": \"white\", \"startlinecolor\": \"#2a3f5f\"}, \"baxis\": {\"endlinecolor\": \"#2a3f5f\", \"gridcolor\": \"white\", \"linecolor\": \"white\", \"minorgridcolor\": \"white\", \"startlinecolor\": \"#2a3f5f\"}, \"type\": \"carpet\"}], \"choropleth\": [{\"colorbar\": {\"outlinewidth\": 0, \"ticks\": \"\"}, \"type\": \"choropleth\"}], \"contour\": [{\"colorbar\": {\"outlinewidth\": 0, \"ticks\": \"\"}, \"colorscale\": [[0.0, \"#0d0887\"], [0.1111111111111111, \"#46039f\"], [0.2222222222222222, \"#7201a8\"], [0.3333333333333333, \"#9c179e\"], [0.4444444444444444, \"#bd3786\"], [0.5555555555555556, \"#d8576b\"], [0.6666666666666666, \"#ed7953\"], [0.7777777777777778, \"#fb9f3a\"], [0.8888888888888888, \"#fdca26\"], [1.0, \"#f0f921\"]], \"type\": \"contour\"}], \"contourcarpet\": [{\"colorbar\": {\"outlinewidth\": 0, \"ticks\": \"\"}, \"type\": \"contourcarpet\"}], \"heatmap\": [{\"colorbar\": {\"outlinewidth\": 0, \"ticks\": \"\"}, \"colorscale\": [[0.0, \"#0d0887\"], [0.1111111111111111, \"#46039f\"], [0.2222222222222222, \"#7201a8\"], [0.3333333333333333, \"#9c179e\"], [0.4444444444444444, \"#bd3786\"], [0.5555555555555556, \"#d8576b\"], [0.6666666666666666, \"#ed7953\"], [0.7777777777777778, \"#fb9f3a\"], [0.8888888888888888, \"#fdca26\"], [1.0, \"#f0f921\"]], \"type\": \"heatmap\"}], \"heatmapgl\": [{\"colorbar\": {\"outlinewidth\": 0, \"ticks\": \"\"}, \"colorscale\": [[0.0, \"#0d0887\"], [0.1111111111111111, \"#46039f\"], [0.2222222222222222, \"#7201a8\"], [0.3333333333333333, \"#9c179e\"], [0.4444444444444444, \"#bd3786\"], [0.5555555555555556, \"#d8576b\"], [0.6666666666666666, \"#ed7953\"], [0.7777777777777778, \"#fb9f3a\"], [0.8888888888888888, \"#fdca26\"], [1.0, \"#f0f921\"]], \"type\": \"heatmapgl\"}], \"histogram\": [{\"marker\": {\"colorbar\": {\"outlinewidth\": 0, \"ticks\": \"\"}}, \"type\": \"histogram\"}], \"histogram2d\": [{\"colorbar\": {\"outlinewidth\": 0, \"ticks\": \"\"}, \"colorscale\": [[0.0, \"#0d0887\"], [0.1111111111111111, \"#46039f\"], [0.2222222222222222, \"#7201a8\"], [0.3333333333333333, \"#9c179e\"], [0.4444444444444444, \"#bd3786\"], [0.5555555555555556, \"#d8576b\"], [0.6666666666666666, \"#ed7953\"], [0.7777777777777778, \"#fb9f3a\"], [0.8888888888888888, \"#fdca26\"], [1.0, \"#f0f921\"]], \"type\": \"histogram2d\"}], \"histogram2dcontour\": [{\"colorbar\": {\"outlinewidth\": 0, \"ticks\": \"\"}, \"colorscale\": [[0.0, \"#0d0887\"], [0.1111111111111111, \"#46039f\"], [0.2222222222222222, \"#7201a8\"], [0.3333333333333333, \"#9c179e\"], [0.4444444444444444, \"#bd3786\"], [0.5555555555555556, \"#d8576b\"], [0.6666666666666666, \"#ed7953\"], [0.7777777777777778, \"#fb9f3a\"], [0.8888888888888888, \"#fdca26\"], [1.0, \"#f0f921\"]], \"type\": \"histogram2dcontour\"}], \"mesh3d\": [{\"colorbar\": {\"outlinewidth\": 0, \"ticks\": \"\"}, \"type\": \"mesh3d\"}], \"parcoords\": [{\"line\": {\"colorbar\": {\"outlinewidth\": 0, \"ticks\": \"\"}}, \"type\": \"parcoords\"}], \"pie\": [{\"automargin\": true, \"type\": \"pie\"}], \"scatter\": [{\"marker\": {\"colorbar\": {\"outlinewidth\": 0, \"ticks\": \"\"}}, \"type\": \"scatter\"}], \"scatter3d\": [{\"line\": {\"colorbar\": {\"outlinewidth\": 0, \"ticks\": \"\"}}, \"marker\": {\"colorbar\": {\"outlinewidth\": 0, \"ticks\": \"\"}}, \"type\": \"scatter3d\"}], \"scattercarpet\": [{\"marker\": {\"colorbar\": {\"outlinewidth\": 0, \"ticks\": \"\"}}, \"type\": \"scattercarpet\"}], \"scattergeo\": [{\"marker\": {\"colorbar\": {\"outlinewidth\": 0, \"ticks\": \"\"}}, \"type\": \"scattergeo\"}], \"scattergl\": [{\"marker\": {\"colorbar\": {\"outlinewidth\": 0, \"ticks\": \"\"}}, \"type\": \"scattergl\"}], \"scattermapbox\": [{\"marker\": {\"colorbar\": {\"outlinewidth\": 0, \"ticks\": \"\"}}, \"type\": \"scattermapbox\"}], \"scatterpolar\": [{\"marker\": {\"colorbar\": {\"outlinewidth\": 0, \"ticks\": \"\"}}, \"type\": \"scatterpolar\"}], \"scatterpolargl\": [{\"marker\": {\"colorbar\": {\"outlinewidth\": 0, \"ticks\": \"\"}}, \"type\": \"scatterpolargl\"}], \"scatterternary\": [{\"marker\": {\"colorbar\": {\"outlinewidth\": 0, \"ticks\": \"\"}}, \"type\": \"scatterternary\"}], \"surface\": [{\"colorbar\": {\"outlinewidth\": 0, \"ticks\": \"\"}, \"colorscale\": [[0.0, \"#0d0887\"], [0.1111111111111111, \"#46039f\"], [0.2222222222222222, \"#7201a8\"], [0.3333333333333333, \"#9c179e\"], [0.4444444444444444, \"#bd3786\"], [0.5555555555555556, \"#d8576b\"], [0.6666666666666666, \"#ed7953\"], [0.7777777777777778, \"#fb9f3a\"], [0.8888888888888888, \"#fdca26\"], [1.0, \"#f0f921\"]], \"type\": \"surface\"}], \"table\": [{\"cells\": {\"fill\": {\"color\": \"#EBF0F8\"}, \"line\": {\"color\": \"white\"}}, \"header\": {\"fill\": {\"color\": \"#C8D4E3\"}, \"line\": {\"color\": \"white\"}}, \"type\": \"table\"}]}, \"layout\": {\"annotationdefaults\": {\"arrowcolor\": \"#2a3f5f\", \"arrowhead\": 0, \"arrowwidth\": 1}, \"autotypenumbers\": \"strict\", \"coloraxis\": {\"colorbar\": {\"outlinewidth\": 0, \"ticks\": \"\"}}, \"colorscale\": {\"diverging\": [[0, \"#8e0152\"], [0.1, \"#c51b7d\"], [0.2, \"#de77ae\"], [0.3, \"#f1b6da\"], [0.4, \"#fde0ef\"], [0.5, \"#f7f7f7\"], [0.6, \"#e6f5d0\"], [0.7, \"#b8e186\"], [0.8, \"#7fbc41\"], [0.9, \"#4d9221\"], [1, \"#276419\"]], \"sequential\": [[0.0, \"#0d0887\"], [0.1111111111111111, \"#46039f\"], [0.2222222222222222, \"#7201a8\"], [0.3333333333333333, \"#9c179e\"], [0.4444444444444444, \"#bd3786\"], [0.5555555555555556, \"#d8576b\"], [0.6666666666666666, \"#ed7953\"], [0.7777777777777778, \"#fb9f3a\"], [0.8888888888888888, \"#fdca26\"], [1.0, \"#f0f921\"]], \"sequentialminus\": [[0.0, \"#0d0887\"], [0.1111111111111111, \"#46039f\"], [0.2222222222222222, \"#7201a8\"], [0.3333333333333333, \"#9c179e\"], [0.4444444444444444, \"#bd3786\"], [0.5555555555555556, \"#d8576b\"], [0.6666666666666666, \"#ed7953\"], [0.7777777777777778, \"#fb9f3a\"], [0.8888888888888888, \"#fdca26\"], [1.0, \"#f0f921\"]]}, \"colorway\": [\"#636efa\", \"#EF553B\", \"#00cc96\", \"#ab63fa\", \"#FFA15A\", \"#19d3f3\", \"#FF6692\", \"#B6E880\", \"#FF97FF\", \"#FECB52\"], \"font\": {\"color\": \"#2a3f5f\"}, \"geo\": {\"bgcolor\": \"white\", \"lakecolor\": \"white\", \"landcolor\": \"#E5ECF6\", \"showlakes\": true, \"showland\": true, \"subunitcolor\": \"white\"}, \"hoverlabel\": {\"align\": \"left\"}, \"hovermode\": \"closest\", \"mapbox\": {\"style\": \"light\"}, \"paper_bgcolor\": \"white\", \"plot_bgcolor\": \"#E5ECF6\", \"polar\": {\"angularaxis\": {\"gridcolor\": \"white\", \"linecolor\": \"white\", \"ticks\": \"\"}, \"bgcolor\": \"#E5ECF6\", \"radialaxis\": {\"gridcolor\": \"white\", \"linecolor\": \"white\", \"ticks\": \"\"}}, \"scene\": {\"xaxis\": {\"backgroundcolor\": \"#E5ECF6\", \"gridcolor\": \"white\", \"gridwidth\": 2, \"linecolor\": \"white\", \"showbackground\": true, \"ticks\": \"\", \"zerolinecolor\": \"white\"}, \"yaxis\": {\"backgroundcolor\": \"#E5ECF6\", \"gridcolor\": \"white\", \"gridwidth\": 2, \"linecolor\": \"white\", \"showbackground\": true, \"ticks\": \"\", \"zerolinecolor\": \"white\"}, \"zaxis\": {\"backgroundcolor\": \"#E5ECF6\", \"gridcolor\": \"white\", \"gridwidth\": 2, \"linecolor\": \"white\", \"showbackground\": true, \"ticks\": \"\", \"zerolinecolor\": \"white\"}}, \"shapedefaults\": {\"line\": {\"color\": \"#2a3f5f\"}}, \"ternary\": {\"aaxis\": {\"gridcolor\": \"white\", \"linecolor\": \"white\", \"ticks\": \"\"}, \"baxis\": {\"gridcolor\": \"white\", \"linecolor\": \"white\", \"ticks\": \"\"}, \"bgcolor\": \"#E5ECF6\", \"caxis\": {\"gridcolor\": \"white\", \"linecolor\": \"white\", \"ticks\": \"\"}}, \"title\": {\"x\": 0.05}, \"xaxis\": {\"automargin\": true, \"gridcolor\": \"white\", \"linecolor\": \"white\", \"ticks\": \"\", \"title\": {\"standoff\": 15}, \"zerolinecolor\": \"white\", \"zerolinewidth\": 2}, \"yaxis\": {\"automargin\": true, \"gridcolor\": \"white\", \"linecolor\": \"white\", \"ticks\": \"\", \"title\": {\"standoff\": 15}, \"zerolinecolor\": \"white\", \"zerolinewidth\": 2}}}, \"title\": {\"text\": \"<b>Total Water Level Return Period - IBIS_IR_TS_MO_DublinPort</b>\"}, \"xaxis\": {\"tickmode\": \"array\", \"tickvals\": [2, 5, 10, 25, 50, 100], \"title\": {\"text\": \"Return Period (yrs)\"}}, \"yaxis\": {\"title\": {\"text\": \"Total Water Level (m)\"}}},                        {\"responsive\": true}                    ).then(function(){\n",
       "                            \n",
       "var gd = document.getElementById('0cefbc57-7566-408c-a00a-245b8cc0246f');\n",
       "var x = new MutationObserver(function (mutations, observer) {{\n",
       "        var display = window.getComputedStyle(gd).display;\n",
       "        if (!display || display === 'none') {{\n",
       "            console.log([gd, 'removed!']);\n",
       "            Plotly.purge(gd);\n",
       "            observer.disconnect();\n",
       "        }}\n",
       "}});\n",
       "\n",
       "// Listen for the removal of the full notebook cells\n",
       "var notebookContainer = gd.closest('#notebook-container');\n",
       "if (notebookContainer) {{\n",
       "    x.observe(notebookContainer, {childList: true});\n",
       "}}\n",
       "\n",
       "// Listen for the clearing of the current output cell\n",
       "var outputEl = gd.closest('.output');\n",
       "if (outputEl) {{\n",
       "    x.observe(outputEl, {childList: true});\n",
       "}}\n",
       "\n",
       "                        })                };                });            </script>        </div>"
      ]
     },
     "metadata": {},
     "output_type": "display_data"
    }
   ],
   "source": [
    "returnPeriodChart = go.Figure(data=[era5_TWL_RP_Trend,rcp8_5_TWL_RP_Trend,rcp4_5_TWL_RP_Trend], layout=layout)\n",
    "returnPeriodChart.show()"
   ]
  },
  {
   "cell_type": "code",
   "execution_count": 66,
   "id": "relevant-convergence",
   "metadata": {},
   "outputs": [],
   "source": [
    "returnPeriodChart.write_html(\"./Charts/Total_Water_Level_Return_Period_\"+station_name+\".html\")"
   ]
  },
  {
   "cell_type": "code",
   "execution_count": 67,
   "id": "hourly-intensity",
   "metadata": {},
   "outputs": [
    {
     "data": {
      "text/html": [
       "<div>\n",
       "<style scoped>\n",
       "    .dataframe tbody tr th:only-of-type {\n",
       "        vertical-align: middle;\n",
       "    }\n",
       "\n",
       "    .dataframe tbody tr th {\n",
       "        vertical-align: top;\n",
       "    }\n",
       "\n",
       "    .dataframe thead th {\n",
       "        text-align: right;\n",
       "    }\n",
       "</style>\n",
       "<table border=\"1\" class=\"dataframe\">\n",
       "  <thead>\n",
       "    <tr style=\"text-align: right;\">\n",
       "      <th></th>\n",
       "      <th>station_x_coordinate</th>\n",
       "      <th>station_y_coordinate</th>\n",
       "      <th>water_level_prct</th>\n",
       "    </tr>\n",
       "    <tr>\n",
       "      <th>stations</th>\n",
       "      <th></th>\n",
       "      <th></th>\n",
       "      <th></th>\n",
       "    </tr>\n",
       "  </thead>\n",
       "  <tbody>\n",
       "    <tr>\n",
       "      <th>0</th>\n",
       "      <td>384.089360</td>\n",
       "      <td>34.826660</td>\n",
       "      <td>-4.435925</td>\n",
       "    </tr>\n",
       "    <tr>\n",
       "      <th>1</th>\n",
       "      <td>384.089360</td>\n",
       "      <td>34.870610</td>\n",
       "      <td>-4.432867</td>\n",
       "    </tr>\n",
       "    <tr>\n",
       "      <th>2</th>\n",
       "      <td>386.901860</td>\n",
       "      <td>35.368650</td>\n",
       "      <td>-4.392701</td>\n",
       "    </tr>\n",
       "    <tr>\n",
       "      <th>3</th>\n",
       "      <td>386.887210</td>\n",
       "      <td>35.397950</td>\n",
       "      <td>-4.381673</td>\n",
       "    </tr>\n",
       "    <tr>\n",
       "      <th>4</th>\n",
       "      <td>386.960450</td>\n",
       "      <td>35.427250</td>\n",
       "      <td>-4.374401</td>\n",
       "    </tr>\n",
       "    <tr>\n",
       "      <th>...</th>\n",
       "      <td>...</td>\n",
       "      <td>...</td>\n",
       "      <td>...</td>\n",
       "    </tr>\n",
       "    <tr>\n",
       "      <th>23251</th>\n",
       "      <td>374.406738</td>\n",
       "      <td>35.969238</td>\n",
       "      <td>-4.568741</td>\n",
       "    </tr>\n",
       "    <tr>\n",
       "      <th>23252</th>\n",
       "      <td>346.713867</td>\n",
       "      <td>64.592284</td>\n",
       "      <td>-1.908074</td>\n",
       "    </tr>\n",
       "    <tr>\n",
       "      <th>23253</th>\n",
       "      <td>336.708984</td>\n",
       "      <td>63.673876</td>\n",
       "      <td>-2.573803</td>\n",
       "    </tr>\n",
       "    <tr>\n",
       "      <th>23254</th>\n",
       "      <td>343.798828</td>\n",
       "      <td>63.940427</td>\n",
       "      <td>-1.959503</td>\n",
       "    </tr>\n",
       "    <tr>\n",
       "      <th>23255</th>\n",
       "      <td>369.250488</td>\n",
       "      <td>41.330566</td>\n",
       "      <td>-4.204675</td>\n",
       "    </tr>\n",
       "  </tbody>\n",
       "</table>\n",
       "<p>23256 rows × 3 columns</p>\n",
       "</div>"
      ],
      "text/plain": [
       "          station_x_coordinate  station_y_coordinate  water_level_prct\n",
       "stations                                                              \n",
       "0                   384.089360             34.826660         -4.435925\n",
       "1                   384.089360             34.870610         -4.432867\n",
       "2                   386.901860             35.368650         -4.392701\n",
       "3                   386.887210             35.397950         -4.381673\n",
       "4                   386.960450             35.427250         -4.374401\n",
       "...                        ...                   ...               ...\n",
       "23251               374.406738             35.969238         -4.568741\n",
       "23252               346.713867             64.592284         -1.908074\n",
       "23253               336.708984             63.673876         -2.573803\n",
       "23254               343.798828             63.940427         -1.959503\n",
       "23255               369.250488             41.330566         -4.204675\n",
       "\n",
       "[23256 rows x 3 columns]"
      ]
     },
     "execution_count": 67,
     "metadata": {},
     "output_type": "execute_result"
    }
   ],
   "source": [
    "# create DataFrame of all percentiles\n",
    "# era5\n",
    "era5_TLS_PRC_DF=era5_TSL_prc10_DF\n",
    "era5_TLS_PRC_DF=era5_TLS_PRC_DF.rename(columns={\"water_level_prct\": \"10th_RWL\"})\n",
    "era5_TLS_PRC_DF['25th_RWL']=era5_TSL_prc25_DF['water_level_prct']\n",
    "era5_TLS_PRC_DF['50th_RWL']=era5_TSL_prc50_DF['water_level_prct']\n",
    "era5_TLS_PRC_DF['75th_RWL']=era5_TSL_prc75_DF['water_level_prct']\n",
    "era5_TLS_PRC_DF['90th_RWL']=era5_TSL_prc90_DF['water_level_prct']\n",
    "# rcp8_5\n",
    "rcp8_5_TLS_PRC_DF=rcp8_5_TSL_prc10_DF\n",
    "rcp8_5_TLS_PRC_DF=rcp8_5_TLS_PRC_DF.rename(columns={\"water_level_prct\": \"10th_RWL\"})\n",
    "rcp8_5_TLS_PRC_DF['25th_RWL']=rcp8_5_TSL_prc25_DF['water_level_prct']\n",
    "rcp8_5_TLS_PRC_DF['50th_RWL']=rcp8_5_TSL_prc50_DF['water_level_prct']\n",
    "rcp8_5_TLS_PRC_DF['75th_RWL']=rcp8_5_TSL_prc75_DF['water_level_prct']\n",
    "rcp8_5_TLS_PRC_DF['90th_RWL']=rcp8_5_TSL_prc90_DF['water_level_prct']\n",
    "\n",
    "# rcp4_5\n",
    "rcp4_5_TLS_PRC_DF=rcp4_5_TSL_prc10_DF\n",
    "rcp4_5_TLS_PRC_DF=rcp4_5_TLS_PRC_DF.rename(columns={\"water_level_prct\": \"10th_RWL\"})\n",
    "rcp4_5_TLS_PRC_DF['25th_RWL']=rcp4_5_TSL_prc25_DF['water_level_prct']\n",
    "rcp4_5_TLS_PRC_DF['50th_RWL']=rcp4_5_TSL_prc50_DF['water_level_prct']\n",
    "rcp4_5_TLS_PRC_DF['75th_RWL']=rcp4_5_TSL_prc75_DF['water_level_prct']\n",
    "rcp4_5_TLS_PRC_DF['90th_RWL']=rcp4_5_TSL_prc90_DF['water_level_prct']\n",
    "rcp4_5_TSL_prc10_DF"
   ]
  },
  {
   "cell_type": "code",
   "execution_count": 68,
   "id": "alternate-sharing",
   "metadata": {},
   "outputs": [
    {
     "data": {
      "text/html": [
       "<div>\n",
       "<style scoped>\n",
       "    .dataframe tbody tr th:only-of-type {\n",
       "        vertical-align: middle;\n",
       "    }\n",
       "\n",
       "    .dataframe tbody tr th {\n",
       "        vertical-align: top;\n",
       "    }\n",
       "\n",
       "    .dataframe thead th {\n",
       "        text-align: right;\n",
       "    }\n",
       "</style>\n",
       "<table border=\"1\" class=\"dataframe\">\n",
       "  <thead>\n",
       "    <tr style=\"text-align: right;\">\n",
       "      <th></th>\n",
       "      <th>station_x_coordinate</th>\n",
       "      <th>station_y_coordinate</th>\n",
       "      <th>10th_RWL</th>\n",
       "      <th>25th_RWL</th>\n",
       "      <th>50th_RWL</th>\n",
       "      <th>75th_RWL</th>\n",
       "      <th>90th_RWL</th>\n",
       "    </tr>\n",
       "    <tr>\n",
       "      <th>stations</th>\n",
       "      <th></th>\n",
       "      <th></th>\n",
       "      <th></th>\n",
       "      <th></th>\n",
       "      <th></th>\n",
       "      <th></th>\n",
       "      <th></th>\n",
       "    </tr>\n",
       "  </thead>\n",
       "  <tbody>\n",
       "    <tr>\n",
       "      <th>0</th>\n",
       "      <td>384.089360</td>\n",
       "      <td>34.826660</td>\n",
       "      <td>-4.435925</td>\n",
       "      <td>-3.593713</td>\n",
       "      <td>-2.330394</td>\n",
       "      <td>-1.127234</td>\n",
       "      <td>-0.465496</td>\n",
       "    </tr>\n",
       "    <tr>\n",
       "      <th>1</th>\n",
       "      <td>384.089360</td>\n",
       "      <td>34.870610</td>\n",
       "      <td>-4.432867</td>\n",
       "      <td>-3.591672</td>\n",
       "      <td>-2.329879</td>\n",
       "      <td>-1.128172</td>\n",
       "      <td>-0.407148</td>\n",
       "    </tr>\n",
       "    <tr>\n",
       "      <th>2</th>\n",
       "      <td>386.901860</td>\n",
       "      <td>35.368650</td>\n",
       "      <td>-4.392701</td>\n",
       "      <td>-3.545468</td>\n",
       "      <td>-2.335135</td>\n",
       "      <td>-1.124802</td>\n",
       "      <td>-0.459118</td>\n",
       "    </tr>\n",
       "    <tr>\n",
       "      <th>3</th>\n",
       "      <td>386.887210</td>\n",
       "      <td>35.397950</td>\n",
       "      <td>-4.381673</td>\n",
       "      <td>-3.597282</td>\n",
       "      <td>-2.330188</td>\n",
       "      <td>-1.123433</td>\n",
       "      <td>-0.459717</td>\n",
       "    </tr>\n",
       "    <tr>\n",
       "      <th>4</th>\n",
       "      <td>386.960450</td>\n",
       "      <td>35.427250</td>\n",
       "      <td>-4.374401</td>\n",
       "      <td>-3.592196</td>\n",
       "      <td>-2.328634</td>\n",
       "      <td>-1.125242</td>\n",
       "      <td>-0.463376</td>\n",
       "    </tr>\n",
       "    <tr>\n",
       "      <th>...</th>\n",
       "      <td>...</td>\n",
       "      <td>...</td>\n",
       "      <td>...</td>\n",
       "      <td>...</td>\n",
       "      <td>...</td>\n",
       "      <td>...</td>\n",
       "      <td>...</td>\n",
       "    </tr>\n",
       "    <tr>\n",
       "      <th>23251</th>\n",
       "      <td>374.406738</td>\n",
       "      <td>35.969238</td>\n",
       "      <td>-4.568741</td>\n",
       "      <td>-3.743434</td>\n",
       "      <td>-2.410246</td>\n",
       "      <td>-1.140543</td>\n",
       "      <td>-0.442207</td>\n",
       "    </tr>\n",
       "    <tr>\n",
       "      <th>23252</th>\n",
       "      <td>346.713867</td>\n",
       "      <td>64.592284</td>\n",
       "      <td>-1.908074</td>\n",
       "      <td>-1.519449</td>\n",
       "      <td>-1.044462</td>\n",
       "      <td>-0.526295</td>\n",
       "      <td>-0.094489</td>\n",
       "    </tr>\n",
       "    <tr>\n",
       "      <th>23253</th>\n",
       "      <td>336.708984</td>\n",
       "      <td>63.673876</td>\n",
       "      <td>-2.573803</td>\n",
       "      <td>-1.935464</td>\n",
       "      <td>-1.105624</td>\n",
       "      <td>-0.339617</td>\n",
       "      <td>0.298721</td>\n",
       "    </tr>\n",
       "    <tr>\n",
       "      <th>23254</th>\n",
       "      <td>343.798828</td>\n",
       "      <td>63.940427</td>\n",
       "      <td>-1.959503</td>\n",
       "      <td>-1.504824</td>\n",
       "      <td>-0.898585</td>\n",
       "      <td>-0.342867</td>\n",
       "      <td>0.162332</td>\n",
       "    </tr>\n",
       "    <tr>\n",
       "      <th>23255</th>\n",
       "      <td>369.250488</td>\n",
       "      <td>41.330566</td>\n",
       "      <td>-4.204675</td>\n",
       "      <td>-3.444560</td>\n",
       "      <td>-2.241045</td>\n",
       "      <td>-1.100873</td>\n",
       "      <td>-0.404101</td>\n",
       "    </tr>\n",
       "  </tbody>\n",
       "</table>\n",
       "<p>23256 rows × 7 columns</p>\n",
       "</div>"
      ],
      "text/plain": [
       "          station_x_coordinate  station_y_coordinate  10th_RWL  25th_RWL  \\\n",
       "stations                                                                   \n",
       "0                   384.089360             34.826660 -4.435925 -3.593713   \n",
       "1                   384.089360             34.870610 -4.432867 -3.591672   \n",
       "2                   386.901860             35.368650 -4.392701 -3.545468   \n",
       "3                   386.887210             35.397950 -4.381673 -3.597282   \n",
       "4                   386.960450             35.427250 -4.374401 -3.592196   \n",
       "...                        ...                   ...       ...       ...   \n",
       "23251               374.406738             35.969238 -4.568741 -3.743434   \n",
       "23252               346.713867             64.592284 -1.908074 -1.519449   \n",
       "23253               336.708984             63.673876 -2.573803 -1.935464   \n",
       "23254               343.798828             63.940427 -1.959503 -1.504824   \n",
       "23255               369.250488             41.330566 -4.204675 -3.444560   \n",
       "\n",
       "          50th_RWL  75th_RWL  90th_RWL  \n",
       "stations                                \n",
       "0        -2.330394 -1.127234 -0.465496  \n",
       "1        -2.329879 -1.128172 -0.407148  \n",
       "2        -2.335135 -1.124802 -0.459118  \n",
       "3        -2.330188 -1.123433 -0.459717  \n",
       "4        -2.328634 -1.125242 -0.463376  \n",
       "...            ...       ...       ...  \n",
       "23251    -2.410246 -1.140543 -0.442207  \n",
       "23252    -1.044462 -0.526295 -0.094489  \n",
       "23253    -1.105624 -0.339617  0.298721  \n",
       "23254    -0.898585 -0.342867  0.162332  \n",
       "23255    -2.241045 -1.100873 -0.404101  \n",
       "\n",
       "[23256 rows x 7 columns]"
      ]
     },
     "execution_count": 68,
     "metadata": {},
     "output_type": "execute_result"
    }
   ],
   "source": [
    "rcp4_5_TLS_PRC_DF"
   ]
  },
  {
   "cell_type": "code",
   "execution_count": 69,
   "id": "constant-booth",
   "metadata": {},
   "outputs": [
    {
     "data": {
      "text/plain": [
       "[-1.511561912454819,\n",
       " -0.9967806218743289,\n",
       " -0.024415961888959004,\n",
       " 0.8907507769208007,\n",
       " 1.2911362251500709]"
      ]
     },
     "execution_count": 69,
     "metadata": {},
     "output_type": "execute_result"
    }
   ],
   "source": [
    "era5_TLS_PRC_Station_DF=era5_TLS_PRC_DF.loc[era5_TLS_PRC_DF.index == station_index]\n",
    "era5_TLS_PRC_Station_Series=[era5_TLS_PRC_Station_DF['10th_RWL'].values[0],\n",
    "                              era5_TLS_PRC_Station_DF['25th_RWL'].values[0],\n",
    "                              era5_TLS_PRC_Station_DF['50th_RWL'].values[0],\n",
    "                              era5_TLS_PRC_Station_DF['75th_RWL'].values[0],\n",
    "                              era5_TLS_PRC_Station_DF['90th_RWL'].values[0],\n",
    "                             ]\n",
    "\n",
    "rcp8_5_TLS_PRC_Station_DF=rcp8_5_TLS_PRC_DF.loc[rcp8_5_TLS_PRC_DF.index == station_index]\n",
    "rcp8_5_TLS_PRC_Station_Series=[rcp8_5_TLS_PRC_Station_DF['10th_RWL'].values[0],\n",
    "                              rcp8_5_TLS_PRC_Station_DF['25th_RWL'].values[0],\n",
    "                              rcp8_5_TLS_PRC_Station_DF['50th_RWL'].values[0],\n",
    "                              rcp8_5_TLS_PRC_Station_DF['75th_RWL'].values[0],\n",
    "                              rcp8_5_TLS_PRC_Station_DF['90th_RWL'].values[0],\n",
    "                             ]\n",
    "rcp4_5_TLS_PRC_Station_DF=rcp4_5_TLS_PRC_DF.loc[rcp4_5_TLS_PRC_DF.index == station_index]\n",
    "rcp4_5_TLS_PRC_Station_Series=[rcp4_5_TLS_PRC_Station_DF['10th_RWL'].values[0],\n",
    "                              rcp4_5_TLS_PRC_Station_DF['25th_RWL'].values[0],\n",
    "                              rcp4_5_TLS_PRC_Station_DF['50th_RWL'].values[0],\n",
    "                              rcp4_5_TLS_PRC_Station_DF['75th_RWL'].values[0],\n",
    "                              rcp4_5_TLS_PRC_Station_DF['90th_RWL'].values[0],\n",
    "                             ]\n",
    "era5_TLS_PRC_Station_Series"
   ]
  },
  {
   "cell_type": "code",
   "execution_count": 72,
   "id": "decreased-stick",
   "metadata": {},
   "outputs": [],
   "source": [
    "era5_TWL_PRC_Trend=go.Scatter(x=[10,25,50,75,90], \n",
    "                        y=era5_TLS_PRC_Station_Series,\n",
    "                        mode='lines',\n",
    "                        name='era5 (1979 to 2017)')\n",
    "rcp8_5_TWL_PRC_Trend=go.Scatter(x=[10,25,50,75,90], \n",
    "                        y=rcp8_5_TLS_PRC_Station_Series,\n",
    "                        mode='lines',\n",
    "                        name='RCP8.5 (2041 to 2070)')\n",
    "rcp4_5_TWL_PRC_Trend=go.Scatter(x=[10,25,50,75,90], \n",
    "                        y=rcp4_5_TLS_PRC_Station_Series,\n",
    "                        mode='lines',\n",
    "                        name='RCP4.5 (2071 to 2100)')\n",
    "layout = go.Layout(\n",
    "        title='<b>Total Water Level Percentile - ' + station_name +'</b>',\n",
    "        xaxis=dict(\n",
    "            title='Percentile (%)',\n",
    "            tickmode = 'array',\n",
    "            tickvals = [10,25,50,75,90],),\n",
    "        yaxis=dict(\n",
    "            title='Total Water Level (m)')\n",
    ")\n"
   ]
  },
  {
   "cell_type": "code",
   "execution_count": 73,
   "id": "south-twelve",
   "metadata": {},
   "outputs": [
    {
     "data": {
      "application/vnd.plotly.v1+json": {
       "config": {
        "plotlyServerURL": "https://plot.ly"
       },
       "data": [
        {
         "mode": "lines",
         "name": "era5 (1979 to 2017)",
         "type": "scatter",
         "x": [
          10,
          25,
          50,
          75,
          90
         ],
         "y": [
          -1.511561912454819,
          -0.9967806218743289,
          -0.024415961888959004,
          0.8907507769208007,
          1.2911362251500709
         ]
        },
        {
         "mode": "lines",
         "name": "RCP8.5 (2041 to 2070)",
         "type": "scatter",
         "x": [
          10,
          25,
          50,
          75,
          90
         ],
         "y": [
          -3.4460141537188664,
          -2.563977289983761,
          -1.505533053501634,
          -0.535292503393018,
          0.346744360342087
         ]
        },
        {
         "mode": "lines",
         "name": "RCP4.5 (2071 to 2100)",
         "type": "scatter",
         "x": [
          10,
          25,
          50,
          75,
          90
         ],
         "y": [
          -4.431392005286906,
          -3.370227291587456,
          -2.11612353903356,
          -0.9584893059068866,
          0.10267540779256379
         ]
        }
       ],
       "layout": {
        "template": {
         "data": {
          "bar": [
           {
            "error_x": {
             "color": "#2a3f5f"
            },
            "error_y": {
             "color": "#2a3f5f"
            },
            "marker": {
             "line": {
              "color": "#E5ECF6",
              "width": 0.5
             }
            },
            "type": "bar"
           }
          ],
          "barpolar": [
           {
            "marker": {
             "line": {
              "color": "#E5ECF6",
              "width": 0.5
             }
            },
            "type": "barpolar"
           }
          ],
          "carpet": [
           {
            "aaxis": {
             "endlinecolor": "#2a3f5f",
             "gridcolor": "white",
             "linecolor": "white",
             "minorgridcolor": "white",
             "startlinecolor": "#2a3f5f"
            },
            "baxis": {
             "endlinecolor": "#2a3f5f",
             "gridcolor": "white",
             "linecolor": "white",
             "minorgridcolor": "white",
             "startlinecolor": "#2a3f5f"
            },
            "type": "carpet"
           }
          ],
          "choropleth": [
           {
            "colorbar": {
             "outlinewidth": 0,
             "ticks": ""
            },
            "type": "choropleth"
           }
          ],
          "contour": [
           {
            "colorbar": {
             "outlinewidth": 0,
             "ticks": ""
            },
            "colorscale": [
             [
              0,
              "#0d0887"
             ],
             [
              0.1111111111111111,
              "#46039f"
             ],
             [
              0.2222222222222222,
              "#7201a8"
             ],
             [
              0.3333333333333333,
              "#9c179e"
             ],
             [
              0.4444444444444444,
              "#bd3786"
             ],
             [
              0.5555555555555556,
              "#d8576b"
             ],
             [
              0.6666666666666666,
              "#ed7953"
             ],
             [
              0.7777777777777778,
              "#fb9f3a"
             ],
             [
              0.8888888888888888,
              "#fdca26"
             ],
             [
              1,
              "#f0f921"
             ]
            ],
            "type": "contour"
           }
          ],
          "contourcarpet": [
           {
            "colorbar": {
             "outlinewidth": 0,
             "ticks": ""
            },
            "type": "contourcarpet"
           }
          ],
          "heatmap": [
           {
            "colorbar": {
             "outlinewidth": 0,
             "ticks": ""
            },
            "colorscale": [
             [
              0,
              "#0d0887"
             ],
             [
              0.1111111111111111,
              "#46039f"
             ],
             [
              0.2222222222222222,
              "#7201a8"
             ],
             [
              0.3333333333333333,
              "#9c179e"
             ],
             [
              0.4444444444444444,
              "#bd3786"
             ],
             [
              0.5555555555555556,
              "#d8576b"
             ],
             [
              0.6666666666666666,
              "#ed7953"
             ],
             [
              0.7777777777777778,
              "#fb9f3a"
             ],
             [
              0.8888888888888888,
              "#fdca26"
             ],
             [
              1,
              "#f0f921"
             ]
            ],
            "type": "heatmap"
           }
          ],
          "heatmapgl": [
           {
            "colorbar": {
             "outlinewidth": 0,
             "ticks": ""
            },
            "colorscale": [
             [
              0,
              "#0d0887"
             ],
             [
              0.1111111111111111,
              "#46039f"
             ],
             [
              0.2222222222222222,
              "#7201a8"
             ],
             [
              0.3333333333333333,
              "#9c179e"
             ],
             [
              0.4444444444444444,
              "#bd3786"
             ],
             [
              0.5555555555555556,
              "#d8576b"
             ],
             [
              0.6666666666666666,
              "#ed7953"
             ],
             [
              0.7777777777777778,
              "#fb9f3a"
             ],
             [
              0.8888888888888888,
              "#fdca26"
             ],
             [
              1,
              "#f0f921"
             ]
            ],
            "type": "heatmapgl"
           }
          ],
          "histogram": [
           {
            "marker": {
             "colorbar": {
              "outlinewidth": 0,
              "ticks": ""
             }
            },
            "type": "histogram"
           }
          ],
          "histogram2d": [
           {
            "colorbar": {
             "outlinewidth": 0,
             "ticks": ""
            },
            "colorscale": [
             [
              0,
              "#0d0887"
             ],
             [
              0.1111111111111111,
              "#46039f"
             ],
             [
              0.2222222222222222,
              "#7201a8"
             ],
             [
              0.3333333333333333,
              "#9c179e"
             ],
             [
              0.4444444444444444,
              "#bd3786"
             ],
             [
              0.5555555555555556,
              "#d8576b"
             ],
             [
              0.6666666666666666,
              "#ed7953"
             ],
             [
              0.7777777777777778,
              "#fb9f3a"
             ],
             [
              0.8888888888888888,
              "#fdca26"
             ],
             [
              1,
              "#f0f921"
             ]
            ],
            "type": "histogram2d"
           }
          ],
          "histogram2dcontour": [
           {
            "colorbar": {
             "outlinewidth": 0,
             "ticks": ""
            },
            "colorscale": [
             [
              0,
              "#0d0887"
             ],
             [
              0.1111111111111111,
              "#46039f"
             ],
             [
              0.2222222222222222,
              "#7201a8"
             ],
             [
              0.3333333333333333,
              "#9c179e"
             ],
             [
              0.4444444444444444,
              "#bd3786"
             ],
             [
              0.5555555555555556,
              "#d8576b"
             ],
             [
              0.6666666666666666,
              "#ed7953"
             ],
             [
              0.7777777777777778,
              "#fb9f3a"
             ],
             [
              0.8888888888888888,
              "#fdca26"
             ],
             [
              1,
              "#f0f921"
             ]
            ],
            "type": "histogram2dcontour"
           }
          ],
          "mesh3d": [
           {
            "colorbar": {
             "outlinewidth": 0,
             "ticks": ""
            },
            "type": "mesh3d"
           }
          ],
          "parcoords": [
           {
            "line": {
             "colorbar": {
              "outlinewidth": 0,
              "ticks": ""
             }
            },
            "type": "parcoords"
           }
          ],
          "pie": [
           {
            "automargin": true,
            "type": "pie"
           }
          ],
          "scatter": [
           {
            "marker": {
             "colorbar": {
              "outlinewidth": 0,
              "ticks": ""
             }
            },
            "type": "scatter"
           }
          ],
          "scatter3d": [
           {
            "line": {
             "colorbar": {
              "outlinewidth": 0,
              "ticks": ""
             }
            },
            "marker": {
             "colorbar": {
              "outlinewidth": 0,
              "ticks": ""
             }
            },
            "type": "scatter3d"
           }
          ],
          "scattercarpet": [
           {
            "marker": {
             "colorbar": {
              "outlinewidth": 0,
              "ticks": ""
             }
            },
            "type": "scattercarpet"
           }
          ],
          "scattergeo": [
           {
            "marker": {
             "colorbar": {
              "outlinewidth": 0,
              "ticks": ""
             }
            },
            "type": "scattergeo"
           }
          ],
          "scattergl": [
           {
            "marker": {
             "colorbar": {
              "outlinewidth": 0,
              "ticks": ""
             }
            },
            "type": "scattergl"
           }
          ],
          "scattermapbox": [
           {
            "marker": {
             "colorbar": {
              "outlinewidth": 0,
              "ticks": ""
             }
            },
            "type": "scattermapbox"
           }
          ],
          "scatterpolar": [
           {
            "marker": {
             "colorbar": {
              "outlinewidth": 0,
              "ticks": ""
             }
            },
            "type": "scatterpolar"
           }
          ],
          "scatterpolargl": [
           {
            "marker": {
             "colorbar": {
              "outlinewidth": 0,
              "ticks": ""
             }
            },
            "type": "scatterpolargl"
           }
          ],
          "scatterternary": [
           {
            "marker": {
             "colorbar": {
              "outlinewidth": 0,
              "ticks": ""
             }
            },
            "type": "scatterternary"
           }
          ],
          "surface": [
           {
            "colorbar": {
             "outlinewidth": 0,
             "ticks": ""
            },
            "colorscale": [
             [
              0,
              "#0d0887"
             ],
             [
              0.1111111111111111,
              "#46039f"
             ],
             [
              0.2222222222222222,
              "#7201a8"
             ],
             [
              0.3333333333333333,
              "#9c179e"
             ],
             [
              0.4444444444444444,
              "#bd3786"
             ],
             [
              0.5555555555555556,
              "#d8576b"
             ],
             [
              0.6666666666666666,
              "#ed7953"
             ],
             [
              0.7777777777777778,
              "#fb9f3a"
             ],
             [
              0.8888888888888888,
              "#fdca26"
             ],
             [
              1,
              "#f0f921"
             ]
            ],
            "type": "surface"
           }
          ],
          "table": [
           {
            "cells": {
             "fill": {
              "color": "#EBF0F8"
             },
             "line": {
              "color": "white"
             }
            },
            "header": {
             "fill": {
              "color": "#C8D4E3"
             },
             "line": {
              "color": "white"
             }
            },
            "type": "table"
           }
          ]
         },
         "layout": {
          "annotationdefaults": {
           "arrowcolor": "#2a3f5f",
           "arrowhead": 0,
           "arrowwidth": 1
          },
          "autotypenumbers": "strict",
          "coloraxis": {
           "colorbar": {
            "outlinewidth": 0,
            "ticks": ""
           }
          },
          "colorscale": {
           "diverging": [
            [
             0,
             "#8e0152"
            ],
            [
             0.1,
             "#c51b7d"
            ],
            [
             0.2,
             "#de77ae"
            ],
            [
             0.3,
             "#f1b6da"
            ],
            [
             0.4,
             "#fde0ef"
            ],
            [
             0.5,
             "#f7f7f7"
            ],
            [
             0.6,
             "#e6f5d0"
            ],
            [
             0.7,
             "#b8e186"
            ],
            [
             0.8,
             "#7fbc41"
            ],
            [
             0.9,
             "#4d9221"
            ],
            [
             1,
             "#276419"
            ]
           ],
           "sequential": [
            [
             0,
             "#0d0887"
            ],
            [
             0.1111111111111111,
             "#46039f"
            ],
            [
             0.2222222222222222,
             "#7201a8"
            ],
            [
             0.3333333333333333,
             "#9c179e"
            ],
            [
             0.4444444444444444,
             "#bd3786"
            ],
            [
             0.5555555555555556,
             "#d8576b"
            ],
            [
             0.6666666666666666,
             "#ed7953"
            ],
            [
             0.7777777777777778,
             "#fb9f3a"
            ],
            [
             0.8888888888888888,
             "#fdca26"
            ],
            [
             1,
             "#f0f921"
            ]
           ],
           "sequentialminus": [
            [
             0,
             "#0d0887"
            ],
            [
             0.1111111111111111,
             "#46039f"
            ],
            [
             0.2222222222222222,
             "#7201a8"
            ],
            [
             0.3333333333333333,
             "#9c179e"
            ],
            [
             0.4444444444444444,
             "#bd3786"
            ],
            [
             0.5555555555555556,
             "#d8576b"
            ],
            [
             0.6666666666666666,
             "#ed7953"
            ],
            [
             0.7777777777777778,
             "#fb9f3a"
            ],
            [
             0.8888888888888888,
             "#fdca26"
            ],
            [
             1,
             "#f0f921"
            ]
           ]
          },
          "colorway": [
           "#636efa",
           "#EF553B",
           "#00cc96",
           "#ab63fa",
           "#FFA15A",
           "#19d3f3",
           "#FF6692",
           "#B6E880",
           "#FF97FF",
           "#FECB52"
          ],
          "font": {
           "color": "#2a3f5f"
          },
          "geo": {
           "bgcolor": "white",
           "lakecolor": "white",
           "landcolor": "#E5ECF6",
           "showlakes": true,
           "showland": true,
           "subunitcolor": "white"
          },
          "hoverlabel": {
           "align": "left"
          },
          "hovermode": "closest",
          "mapbox": {
           "style": "light"
          },
          "paper_bgcolor": "white",
          "plot_bgcolor": "#E5ECF6",
          "polar": {
           "angularaxis": {
            "gridcolor": "white",
            "linecolor": "white",
            "ticks": ""
           },
           "bgcolor": "#E5ECF6",
           "radialaxis": {
            "gridcolor": "white",
            "linecolor": "white",
            "ticks": ""
           }
          },
          "scene": {
           "xaxis": {
            "backgroundcolor": "#E5ECF6",
            "gridcolor": "white",
            "gridwidth": 2,
            "linecolor": "white",
            "showbackground": true,
            "ticks": "",
            "zerolinecolor": "white"
           },
           "yaxis": {
            "backgroundcolor": "#E5ECF6",
            "gridcolor": "white",
            "gridwidth": 2,
            "linecolor": "white",
            "showbackground": true,
            "ticks": "",
            "zerolinecolor": "white"
           },
           "zaxis": {
            "backgroundcolor": "#E5ECF6",
            "gridcolor": "white",
            "gridwidth": 2,
            "linecolor": "white",
            "showbackground": true,
            "ticks": "",
            "zerolinecolor": "white"
           }
          },
          "shapedefaults": {
           "line": {
            "color": "#2a3f5f"
           }
          },
          "ternary": {
           "aaxis": {
            "gridcolor": "white",
            "linecolor": "white",
            "ticks": ""
           },
           "baxis": {
            "gridcolor": "white",
            "linecolor": "white",
            "ticks": ""
           },
           "bgcolor": "#E5ECF6",
           "caxis": {
            "gridcolor": "white",
            "linecolor": "white",
            "ticks": ""
           }
          },
          "title": {
           "x": 0.05
          },
          "xaxis": {
           "automargin": true,
           "gridcolor": "white",
           "linecolor": "white",
           "ticks": "",
           "title": {
            "standoff": 15
           },
           "zerolinecolor": "white",
           "zerolinewidth": 2
          },
          "yaxis": {
           "automargin": true,
           "gridcolor": "white",
           "linecolor": "white",
           "ticks": "",
           "title": {
            "standoff": 15
           },
           "zerolinecolor": "white",
           "zerolinewidth": 2
          }
         }
        },
        "title": {
         "text": "<b>Total Water Level Percentile - IBIS_IR_TS_MO_DublinPort</b>"
        },
        "xaxis": {
         "tickmode": "array",
         "tickvals": [
          10,
          25,
          50,
          75,
          90
         ],
         "title": {
          "text": "Percentile (%)"
         }
        },
        "yaxis": {
         "title": {
          "text": "Total Water Level (m)"
         }
        }
       }
      },
      "text/html": [
       "<div>                            <div id=\"8265ccb8-2edc-47ad-a5d8-04b91f30b512\" class=\"plotly-graph-div\" style=\"height:525px; width:100%;\"></div>            <script type=\"text/javascript\">                require([\"plotly\"], function(Plotly) {                    window.PLOTLYENV=window.PLOTLYENV || {};                                    if (document.getElementById(\"8265ccb8-2edc-47ad-a5d8-04b91f30b512\")) {                    Plotly.newPlot(                        \"8265ccb8-2edc-47ad-a5d8-04b91f30b512\",                        [{\"mode\": \"lines\", \"name\": \"era5 (1979 to 2017)\", \"type\": \"scatter\", \"x\": [10, 25, 50, 75, 90], \"y\": [-1.511561912454819, -0.9967806218743289, -0.024415961888959004, 0.8907507769208007, 1.2911362251500709]}, {\"mode\": \"lines\", \"name\": \"RCP8.5 (2041 to 2070)\", \"type\": \"scatter\", \"x\": [10, 25, 50, 75, 90], \"y\": [-3.4460141537188664, -2.563977289983761, -1.505533053501634, -0.535292503393018, 0.346744360342087]}, {\"mode\": \"lines\", \"name\": \"RCP4.5 (2071 to 2100)\", \"type\": \"scatter\", \"x\": [10, 25, 50, 75, 90], \"y\": [-4.431392005286906, -3.370227291587456, -2.11612353903356, -0.9584893059068866, 0.10267540779256379]}],                        {\"template\": {\"data\": {\"bar\": [{\"error_x\": {\"color\": \"#2a3f5f\"}, \"error_y\": {\"color\": \"#2a3f5f\"}, \"marker\": {\"line\": {\"color\": \"#E5ECF6\", \"width\": 0.5}}, \"type\": \"bar\"}], \"barpolar\": [{\"marker\": {\"line\": {\"color\": \"#E5ECF6\", \"width\": 0.5}}, \"type\": \"barpolar\"}], \"carpet\": [{\"aaxis\": {\"endlinecolor\": \"#2a3f5f\", \"gridcolor\": \"white\", \"linecolor\": \"white\", \"minorgridcolor\": \"white\", \"startlinecolor\": \"#2a3f5f\"}, \"baxis\": {\"endlinecolor\": \"#2a3f5f\", \"gridcolor\": \"white\", \"linecolor\": \"white\", \"minorgridcolor\": \"white\", \"startlinecolor\": \"#2a3f5f\"}, \"type\": \"carpet\"}], \"choropleth\": [{\"colorbar\": {\"outlinewidth\": 0, \"ticks\": \"\"}, \"type\": \"choropleth\"}], \"contour\": [{\"colorbar\": {\"outlinewidth\": 0, \"ticks\": \"\"}, \"colorscale\": [[0.0, \"#0d0887\"], [0.1111111111111111, \"#46039f\"], [0.2222222222222222, \"#7201a8\"], [0.3333333333333333, \"#9c179e\"], [0.4444444444444444, \"#bd3786\"], [0.5555555555555556, \"#d8576b\"], [0.6666666666666666, \"#ed7953\"], [0.7777777777777778, \"#fb9f3a\"], [0.8888888888888888, \"#fdca26\"], [1.0, \"#f0f921\"]], \"type\": \"contour\"}], \"contourcarpet\": [{\"colorbar\": {\"outlinewidth\": 0, \"ticks\": \"\"}, \"type\": \"contourcarpet\"}], \"heatmap\": [{\"colorbar\": {\"outlinewidth\": 0, \"ticks\": \"\"}, \"colorscale\": [[0.0, \"#0d0887\"], [0.1111111111111111, \"#46039f\"], [0.2222222222222222, \"#7201a8\"], [0.3333333333333333, \"#9c179e\"], [0.4444444444444444, \"#bd3786\"], [0.5555555555555556, \"#d8576b\"], [0.6666666666666666, \"#ed7953\"], [0.7777777777777778, \"#fb9f3a\"], [0.8888888888888888, \"#fdca26\"], [1.0, \"#f0f921\"]], \"type\": \"heatmap\"}], \"heatmapgl\": [{\"colorbar\": {\"outlinewidth\": 0, \"ticks\": \"\"}, \"colorscale\": [[0.0, \"#0d0887\"], [0.1111111111111111, \"#46039f\"], [0.2222222222222222, \"#7201a8\"], [0.3333333333333333, \"#9c179e\"], [0.4444444444444444, \"#bd3786\"], [0.5555555555555556, \"#d8576b\"], [0.6666666666666666, \"#ed7953\"], [0.7777777777777778, \"#fb9f3a\"], [0.8888888888888888, \"#fdca26\"], [1.0, \"#f0f921\"]], \"type\": \"heatmapgl\"}], \"histogram\": [{\"marker\": {\"colorbar\": {\"outlinewidth\": 0, \"ticks\": \"\"}}, \"type\": \"histogram\"}], \"histogram2d\": [{\"colorbar\": {\"outlinewidth\": 0, \"ticks\": \"\"}, \"colorscale\": [[0.0, \"#0d0887\"], [0.1111111111111111, \"#46039f\"], [0.2222222222222222, \"#7201a8\"], [0.3333333333333333, \"#9c179e\"], [0.4444444444444444, \"#bd3786\"], [0.5555555555555556, \"#d8576b\"], [0.6666666666666666, \"#ed7953\"], [0.7777777777777778, \"#fb9f3a\"], [0.8888888888888888, \"#fdca26\"], [1.0, \"#f0f921\"]], \"type\": \"histogram2d\"}], \"histogram2dcontour\": [{\"colorbar\": {\"outlinewidth\": 0, \"ticks\": \"\"}, \"colorscale\": [[0.0, \"#0d0887\"], [0.1111111111111111, \"#46039f\"], [0.2222222222222222, \"#7201a8\"], [0.3333333333333333, \"#9c179e\"], [0.4444444444444444, \"#bd3786\"], [0.5555555555555556, \"#d8576b\"], [0.6666666666666666, \"#ed7953\"], [0.7777777777777778, \"#fb9f3a\"], [0.8888888888888888, \"#fdca26\"], [1.0, \"#f0f921\"]], \"type\": \"histogram2dcontour\"}], \"mesh3d\": [{\"colorbar\": {\"outlinewidth\": 0, \"ticks\": \"\"}, \"type\": \"mesh3d\"}], \"parcoords\": [{\"line\": {\"colorbar\": {\"outlinewidth\": 0, \"ticks\": \"\"}}, \"type\": \"parcoords\"}], \"pie\": [{\"automargin\": true, \"type\": \"pie\"}], \"scatter\": [{\"marker\": {\"colorbar\": {\"outlinewidth\": 0, \"ticks\": \"\"}}, \"type\": \"scatter\"}], \"scatter3d\": [{\"line\": {\"colorbar\": {\"outlinewidth\": 0, \"ticks\": \"\"}}, \"marker\": {\"colorbar\": {\"outlinewidth\": 0, \"ticks\": \"\"}}, \"type\": \"scatter3d\"}], \"scattercarpet\": [{\"marker\": {\"colorbar\": {\"outlinewidth\": 0, \"ticks\": \"\"}}, \"type\": \"scattercarpet\"}], \"scattergeo\": [{\"marker\": {\"colorbar\": {\"outlinewidth\": 0, \"ticks\": \"\"}}, \"type\": \"scattergeo\"}], \"scattergl\": [{\"marker\": {\"colorbar\": {\"outlinewidth\": 0, \"ticks\": \"\"}}, \"type\": \"scattergl\"}], \"scattermapbox\": [{\"marker\": {\"colorbar\": {\"outlinewidth\": 0, \"ticks\": \"\"}}, \"type\": \"scattermapbox\"}], \"scatterpolar\": [{\"marker\": {\"colorbar\": {\"outlinewidth\": 0, \"ticks\": \"\"}}, \"type\": \"scatterpolar\"}], \"scatterpolargl\": [{\"marker\": {\"colorbar\": {\"outlinewidth\": 0, \"ticks\": \"\"}}, \"type\": \"scatterpolargl\"}], \"scatterternary\": [{\"marker\": {\"colorbar\": {\"outlinewidth\": 0, \"ticks\": \"\"}}, \"type\": \"scatterternary\"}], \"surface\": [{\"colorbar\": {\"outlinewidth\": 0, \"ticks\": \"\"}, \"colorscale\": [[0.0, \"#0d0887\"], [0.1111111111111111, \"#46039f\"], [0.2222222222222222, \"#7201a8\"], [0.3333333333333333, \"#9c179e\"], [0.4444444444444444, \"#bd3786\"], [0.5555555555555556, \"#d8576b\"], [0.6666666666666666, \"#ed7953\"], [0.7777777777777778, \"#fb9f3a\"], [0.8888888888888888, \"#fdca26\"], [1.0, \"#f0f921\"]], \"type\": \"surface\"}], \"table\": [{\"cells\": {\"fill\": {\"color\": \"#EBF0F8\"}, \"line\": {\"color\": \"white\"}}, \"header\": {\"fill\": {\"color\": \"#C8D4E3\"}, \"line\": {\"color\": \"white\"}}, \"type\": \"table\"}]}, \"layout\": {\"annotationdefaults\": {\"arrowcolor\": \"#2a3f5f\", \"arrowhead\": 0, \"arrowwidth\": 1}, \"autotypenumbers\": \"strict\", \"coloraxis\": {\"colorbar\": {\"outlinewidth\": 0, \"ticks\": \"\"}}, \"colorscale\": {\"diverging\": [[0, \"#8e0152\"], [0.1, \"#c51b7d\"], [0.2, \"#de77ae\"], [0.3, \"#f1b6da\"], [0.4, \"#fde0ef\"], [0.5, \"#f7f7f7\"], [0.6, \"#e6f5d0\"], [0.7, \"#b8e186\"], [0.8, \"#7fbc41\"], [0.9, \"#4d9221\"], [1, \"#276419\"]], \"sequential\": [[0.0, \"#0d0887\"], [0.1111111111111111, \"#46039f\"], [0.2222222222222222, \"#7201a8\"], [0.3333333333333333, \"#9c179e\"], [0.4444444444444444, \"#bd3786\"], [0.5555555555555556, \"#d8576b\"], [0.6666666666666666, \"#ed7953\"], [0.7777777777777778, \"#fb9f3a\"], [0.8888888888888888, \"#fdca26\"], [1.0, \"#f0f921\"]], \"sequentialminus\": [[0.0, \"#0d0887\"], [0.1111111111111111, \"#46039f\"], [0.2222222222222222, \"#7201a8\"], [0.3333333333333333, \"#9c179e\"], [0.4444444444444444, \"#bd3786\"], [0.5555555555555556, \"#d8576b\"], [0.6666666666666666, \"#ed7953\"], [0.7777777777777778, \"#fb9f3a\"], [0.8888888888888888, \"#fdca26\"], [1.0, \"#f0f921\"]]}, \"colorway\": [\"#636efa\", \"#EF553B\", \"#00cc96\", \"#ab63fa\", \"#FFA15A\", \"#19d3f3\", \"#FF6692\", \"#B6E880\", \"#FF97FF\", \"#FECB52\"], \"font\": {\"color\": \"#2a3f5f\"}, \"geo\": {\"bgcolor\": \"white\", \"lakecolor\": \"white\", \"landcolor\": \"#E5ECF6\", \"showlakes\": true, \"showland\": true, \"subunitcolor\": \"white\"}, \"hoverlabel\": {\"align\": \"left\"}, \"hovermode\": \"closest\", \"mapbox\": {\"style\": \"light\"}, \"paper_bgcolor\": \"white\", \"plot_bgcolor\": \"#E5ECF6\", \"polar\": {\"angularaxis\": {\"gridcolor\": \"white\", \"linecolor\": \"white\", \"ticks\": \"\"}, \"bgcolor\": \"#E5ECF6\", \"radialaxis\": {\"gridcolor\": \"white\", \"linecolor\": \"white\", \"ticks\": \"\"}}, \"scene\": {\"xaxis\": {\"backgroundcolor\": \"#E5ECF6\", \"gridcolor\": \"white\", \"gridwidth\": 2, \"linecolor\": \"white\", \"showbackground\": true, \"ticks\": \"\", \"zerolinecolor\": \"white\"}, \"yaxis\": {\"backgroundcolor\": \"#E5ECF6\", \"gridcolor\": \"white\", \"gridwidth\": 2, \"linecolor\": \"white\", \"showbackground\": true, \"ticks\": \"\", \"zerolinecolor\": \"white\"}, \"zaxis\": {\"backgroundcolor\": \"#E5ECF6\", \"gridcolor\": \"white\", \"gridwidth\": 2, \"linecolor\": \"white\", \"showbackground\": true, \"ticks\": \"\", \"zerolinecolor\": \"white\"}}, \"shapedefaults\": {\"line\": {\"color\": \"#2a3f5f\"}}, \"ternary\": {\"aaxis\": {\"gridcolor\": \"white\", \"linecolor\": \"white\", \"ticks\": \"\"}, \"baxis\": {\"gridcolor\": \"white\", \"linecolor\": \"white\", \"ticks\": \"\"}, \"bgcolor\": \"#E5ECF6\", \"caxis\": {\"gridcolor\": \"white\", \"linecolor\": \"white\", \"ticks\": \"\"}}, \"title\": {\"x\": 0.05}, \"xaxis\": {\"automargin\": true, \"gridcolor\": \"white\", \"linecolor\": \"white\", \"ticks\": \"\", \"title\": {\"standoff\": 15}, \"zerolinecolor\": \"white\", \"zerolinewidth\": 2}, \"yaxis\": {\"automargin\": true, \"gridcolor\": \"white\", \"linecolor\": \"white\", \"ticks\": \"\", \"title\": {\"standoff\": 15}, \"zerolinecolor\": \"white\", \"zerolinewidth\": 2}}}, \"title\": {\"text\": \"<b>Total Water Level Percentile - IBIS_IR_TS_MO_DublinPort</b>\"}, \"xaxis\": {\"tickmode\": \"array\", \"tickvals\": [10, 25, 50, 75, 90], \"title\": {\"text\": \"Percentile (%)\"}}, \"yaxis\": {\"title\": {\"text\": \"Total Water Level (m)\"}}},                        {\"responsive\": true}                    ).then(function(){\n",
       "                            \n",
       "var gd = document.getElementById('8265ccb8-2edc-47ad-a5d8-04b91f30b512');\n",
       "var x = new MutationObserver(function (mutations, observer) {{\n",
       "        var display = window.getComputedStyle(gd).display;\n",
       "        if (!display || display === 'none') {{\n",
       "            console.log([gd, 'removed!']);\n",
       "            Plotly.purge(gd);\n",
       "            observer.disconnect();\n",
       "        }}\n",
       "}});\n",
       "\n",
       "// Listen for the removal of the full notebook cells\n",
       "var notebookContainer = gd.closest('#notebook-container');\n",
       "if (notebookContainer) {{\n",
       "    x.observe(notebookContainer, {childList: true});\n",
       "}}\n",
       "\n",
       "// Listen for the clearing of the current output cell\n",
       "var outputEl = gd.closest('.output');\n",
       "if (outputEl) {{\n",
       "    x.observe(outputEl, {childList: true});\n",
       "}}\n",
       "\n",
       "                        })                };                });            </script>        </div>"
      ]
     },
     "metadata": {},
     "output_type": "display_data"
    }
   ],
   "source": [
    "percentileChart = go.Figure(data=[era5_TWL_PRC_Trend,rcp8_5_TWL_PRC_Trend,rcp4_5_TWL_PRC_Trend], layout=layout)\n",
    "percentileChart.show()"
   ]
  },
  {
   "cell_type": "code",
   "execution_count": 74,
   "id": "cloudy-sheet",
   "metadata": {},
   "outputs": [],
   "source": [
    "percentileChart.write_html(\"./Charts/Total_Water_Level_Percentile_\"+station_name+\".html\")"
   ]
  },
  {
   "cell_type": "code",
   "execution_count": null,
   "id": "indonesian-triumph",
   "metadata": {},
   "outputs": [],
   "source": []
  }
 ],
 "metadata": {
  "kernelspec": {
   "display_name": "Python 3",
   "language": "python",
   "name": "python3"
  },
  "language_info": {
   "codemirror_mode": {
    "name": "ipython",
    "version": 3
   },
   "file_extension": ".py",
   "mimetype": "text/x-python",
   "name": "python",
   "nbconvert_exporter": "python",
   "pygments_lexer": "ipython3",
   "version": "3.7.3"
  }
 },
 "nbformat": 4,
 "nbformat_minor": 5
}
