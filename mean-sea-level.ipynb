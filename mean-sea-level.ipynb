{
 "cells": [
  {
   "cell_type": "code",
   "execution_count": 1,
   "id": "younger-wallpaper",
   "metadata": {},
   "outputs": [],
   "source": [
    "import cdsapi\n",
    "import tarfile\n",
    "import xarray as xr\n",
    "import numpy as np\n",
    "import pandas as pd\n",
    "import plotly.graph_objects as go\n",
    "c = cdsapi.Client()\n",
    "data_path=\"./Data/sis-water-level-change-indicators/mean-water-level\"\n"
   ]
  },
  {
   "cell_type": "code",
   "execution_count": 2,
   "id": "heard-quest",
   "metadata": {},
   "outputs": [],
   "source": [
    "def extract_tar(fname):\n",
    "    if fname.endswith(\"tar.gz\"):\n",
    "        tar = tarfile.open(fname, \"r:gz\")\n",
    "        tar.extractall(data_path)\n",
    "        tar.close()\n",
    "    elif fname.endswith(\"tar\"):\n",
    "        tar = tarfile.open(fname, \"r:\")\n",
    "        tar.extractall(data_path)\n",
    "        tar.close()"
   ]
  },
  {
   "cell_type": "code",
   "execution_count": 3,
   "id": "banner-prerequisite",
   "metadata": {},
   "outputs": [],
   "source": [
    "# Load in data\n",
    "# c.retrieve(\n",
    "#     'sis-water-level-change-indicators',\n",
    "#     {\n",
    "#         'variable': 'mean_sea_level',\n",
    "#         'experiment': 'era5_reanalysis',\n",
    "#         'format': 'tgz',\n",
    "#     },\n",
    "#     data_path+'/mean_sea_level_era5.tar.gz')\n",
    "# extract_tar(data_path+'/mean_sea_level_era5.tar.gz')\n",
    "\n",
    "# c.retrieve(\n",
    "#     'sis-water-level-change-indicators',\n",
    "#     {\n",
    "#         'variable': 'mean_sea_level',\n",
    "#         'experiment': 'rcp8_5',\n",
    "#         'format': 'tgz',\n",
    "#     },\n",
    "#     data_path+'/mean_sea_level_rcp8_5.tar.gz')\n",
    "# extract_tar(data_path+'/mean_sea_level_rcp8_5.tar.gz')\n",
    "# c.retrieve(\n",
    "#     'sis-water-level-change-indicators',\n",
    "#     {\n",
    "#         'variable': 'mean_sea_level',\n",
    "#         'experiment': 'rcp4_5',\n",
    "#         'format': 'tgz',\n",
    "#     },\n",
    "#     data_path+'/mean_sea_level_rcp4_5.tar.gz')\n",
    "# extract_tar(data_path+'/mean_sea_level_rcp4_5.tar.gz')"
   ]
  },
  {
   "cell_type": "code",
   "execution_count": 4,
   "id": "continental-israel",
   "metadata": {},
   "outputs": [],
   "source": [
    "era5_MSL=xr.open_dataarray(data_path+\"/era5-MSL-v0.0.nc\")\n",
    "rcp8_5_MSL=xr.open_dataarray(data_path+\"/rcp85_mid_century-MSL-v0.0.nc\")\n",
    "rcp4_5_MSL=xr.open_dataarray(data_path+\"/rcp45_end_century-MSL-v0.0.nc\")"
   ]
  },
  {
   "cell_type": "code",
   "execution_count": 5,
   "id": "better-beatles",
   "metadata": {},
   "outputs": [
    {
     "data": {
      "text/html": [
       "<div><svg style=\"position: absolute; width: 0; height: 0; overflow: hidden\">\n",
       "<defs>\n",
       "<symbol id=\"icon-database\" viewBox=\"0 0 32 32\">\n",
       "<path d=\"M16 0c-8.837 0-16 2.239-16 5v4c0 2.761 7.163 5 16 5s16-2.239 16-5v-4c0-2.761-7.163-5-16-5z\"></path>\n",
       "<path d=\"M16 17c-8.837 0-16-2.239-16-5v6c0 2.761 7.163 5 16 5s16-2.239 16-5v-6c0 2.761-7.163 5-16 5z\"></path>\n",
       "<path d=\"M16 26c-8.837 0-16-2.239-16-5v6c0 2.761 7.163 5 16 5s16-2.239 16-5v-6c0 2.761-7.163 5-16 5z\"></path>\n",
       "</symbol>\n",
       "<symbol id=\"icon-file-text2\" viewBox=\"0 0 32 32\">\n",
       "<path d=\"M28.681 7.159c-0.694-0.947-1.662-2.053-2.724-3.116s-2.169-2.030-3.116-2.724c-1.612-1.182-2.393-1.319-2.841-1.319h-15.5c-1.378 0-2.5 1.121-2.5 2.5v27c0 1.378 1.122 2.5 2.5 2.5h23c1.378 0 2.5-1.122 2.5-2.5v-19.5c0-0.448-0.137-1.23-1.319-2.841zM24.543 5.457c0.959 0.959 1.712 1.825 2.268 2.543h-4.811v-4.811c0.718 0.556 1.584 1.309 2.543 2.268zM28 29.5c0 0.271-0.229 0.5-0.5 0.5h-23c-0.271 0-0.5-0.229-0.5-0.5v-27c0-0.271 0.229-0.5 0.5-0.5 0 0 15.499-0 15.5 0v7c0 0.552 0.448 1 1 1h7v19.5z\"></path>\n",
       "<path d=\"M23 26h-14c-0.552 0-1-0.448-1-1s0.448-1 1-1h14c0.552 0 1 0.448 1 1s-0.448 1-1 1z\"></path>\n",
       "<path d=\"M23 22h-14c-0.552 0-1-0.448-1-1s0.448-1 1-1h14c0.552 0 1 0.448 1 1s-0.448 1-1 1z\"></path>\n",
       "<path d=\"M23 18h-14c-0.552 0-1-0.448-1-1s0.448-1 1-1h14c0.552 0 1 0.448 1 1s-0.448 1-1 1z\"></path>\n",
       "</symbol>\n",
       "</defs>\n",
       "</svg>\n",
       "<style>/* CSS stylesheet for displaying xarray objects in jupyterlab.\n",
       " *\n",
       " */\n",
       "\n",
       ":root {\n",
       "  --xr-font-color0: var(--jp-content-font-color0, rgba(0, 0, 0, 1));\n",
       "  --xr-font-color2: var(--jp-content-font-color2, rgba(0, 0, 0, 0.54));\n",
       "  --xr-font-color3: var(--jp-content-font-color3, rgba(0, 0, 0, 0.38));\n",
       "  --xr-border-color: var(--jp-border-color2, #e0e0e0);\n",
       "  --xr-disabled-color: var(--jp-layout-color3, #bdbdbd);\n",
       "  --xr-background-color: var(--jp-layout-color0, white);\n",
       "  --xr-background-color-row-even: var(--jp-layout-color1, white);\n",
       "  --xr-background-color-row-odd: var(--jp-layout-color2, #eeeeee);\n",
       "}\n",
       "\n",
       "html[theme=dark],\n",
       "body.vscode-dark {\n",
       "  --xr-font-color0: rgba(255, 255, 255, 1);\n",
       "  --xr-font-color2: rgba(255, 255, 255, 0.54);\n",
       "  --xr-font-color3: rgba(255, 255, 255, 0.38);\n",
       "  --xr-border-color: #1F1F1F;\n",
       "  --xr-disabled-color: #515151;\n",
       "  --xr-background-color: #111111;\n",
       "  --xr-background-color-row-even: #111111;\n",
       "  --xr-background-color-row-odd: #313131;\n",
       "}\n",
       "\n",
       ".xr-wrap {\n",
       "  display: block;\n",
       "  min-width: 300px;\n",
       "  max-width: 700px;\n",
       "}\n",
       "\n",
       ".xr-text-repr-fallback {\n",
       "  /* fallback to plain text repr when CSS is not injected (untrusted notebook) */\n",
       "  display: none;\n",
       "}\n",
       "\n",
       ".xr-header {\n",
       "  padding-top: 6px;\n",
       "  padding-bottom: 6px;\n",
       "  margin-bottom: 4px;\n",
       "  border-bottom: solid 1px var(--xr-border-color);\n",
       "}\n",
       "\n",
       ".xr-header > div,\n",
       ".xr-header > ul {\n",
       "  display: inline;\n",
       "  margin-top: 0;\n",
       "  margin-bottom: 0;\n",
       "}\n",
       "\n",
       ".xr-obj-type,\n",
       ".xr-array-name {\n",
       "  margin-left: 2px;\n",
       "  margin-right: 10px;\n",
       "}\n",
       "\n",
       ".xr-obj-type {\n",
       "  color: var(--xr-font-color2);\n",
       "}\n",
       "\n",
       ".xr-sections {\n",
       "  padding-left: 0 !important;\n",
       "  display: grid;\n",
       "  grid-template-columns: 150px auto auto 1fr 20px 20px;\n",
       "}\n",
       "\n",
       ".xr-section-item {\n",
       "  display: contents;\n",
       "}\n",
       "\n",
       ".xr-section-item input {\n",
       "  display: none;\n",
       "}\n",
       "\n",
       ".xr-section-item input + label {\n",
       "  color: var(--xr-disabled-color);\n",
       "}\n",
       "\n",
       ".xr-section-item input:enabled + label {\n",
       "  cursor: pointer;\n",
       "  color: var(--xr-font-color2);\n",
       "}\n",
       "\n",
       ".xr-section-item input:enabled + label:hover {\n",
       "  color: var(--xr-font-color0);\n",
       "}\n",
       "\n",
       ".xr-section-summary {\n",
       "  grid-column: 1;\n",
       "  color: var(--xr-font-color2);\n",
       "  font-weight: 500;\n",
       "}\n",
       "\n",
       ".xr-section-summary > span {\n",
       "  display: inline-block;\n",
       "  padding-left: 0.5em;\n",
       "}\n",
       "\n",
       ".xr-section-summary-in:disabled + label {\n",
       "  color: var(--xr-font-color2);\n",
       "}\n",
       "\n",
       ".xr-section-summary-in + label:before {\n",
       "  display: inline-block;\n",
       "  content: '►';\n",
       "  font-size: 11px;\n",
       "  width: 15px;\n",
       "  text-align: center;\n",
       "}\n",
       "\n",
       ".xr-section-summary-in:disabled + label:before {\n",
       "  color: var(--xr-disabled-color);\n",
       "}\n",
       "\n",
       ".xr-section-summary-in:checked + label:before {\n",
       "  content: '▼';\n",
       "}\n",
       "\n",
       ".xr-section-summary-in:checked + label > span {\n",
       "  display: none;\n",
       "}\n",
       "\n",
       ".xr-section-summary,\n",
       ".xr-section-inline-details {\n",
       "  padding-top: 4px;\n",
       "  padding-bottom: 4px;\n",
       "}\n",
       "\n",
       ".xr-section-inline-details {\n",
       "  grid-column: 2 / -1;\n",
       "}\n",
       "\n",
       ".xr-section-details {\n",
       "  display: none;\n",
       "  grid-column: 1 / -1;\n",
       "  margin-bottom: 5px;\n",
       "}\n",
       "\n",
       ".xr-section-summary-in:checked ~ .xr-section-details {\n",
       "  display: contents;\n",
       "}\n",
       "\n",
       ".xr-array-wrap {\n",
       "  grid-column: 1 / -1;\n",
       "  display: grid;\n",
       "  grid-template-columns: 20px auto;\n",
       "}\n",
       "\n",
       ".xr-array-wrap > label {\n",
       "  grid-column: 1;\n",
       "  vertical-align: top;\n",
       "}\n",
       "\n",
       ".xr-preview {\n",
       "  color: var(--xr-font-color3);\n",
       "}\n",
       "\n",
       ".xr-array-preview,\n",
       ".xr-array-data {\n",
       "  padding: 0 5px !important;\n",
       "  grid-column: 2;\n",
       "}\n",
       "\n",
       ".xr-array-data,\n",
       ".xr-array-in:checked ~ .xr-array-preview {\n",
       "  display: none;\n",
       "}\n",
       "\n",
       ".xr-array-in:checked ~ .xr-array-data,\n",
       ".xr-array-preview {\n",
       "  display: inline-block;\n",
       "}\n",
       "\n",
       ".xr-dim-list {\n",
       "  display: inline-block !important;\n",
       "  list-style: none;\n",
       "  padding: 0 !important;\n",
       "  margin: 0;\n",
       "}\n",
       "\n",
       ".xr-dim-list li {\n",
       "  display: inline-block;\n",
       "  padding: 0;\n",
       "  margin: 0;\n",
       "}\n",
       "\n",
       ".xr-dim-list:before {\n",
       "  content: '(';\n",
       "}\n",
       "\n",
       ".xr-dim-list:after {\n",
       "  content: ')';\n",
       "}\n",
       "\n",
       ".xr-dim-list li:not(:last-child):after {\n",
       "  content: ',';\n",
       "  padding-right: 5px;\n",
       "}\n",
       "\n",
       ".xr-has-index {\n",
       "  font-weight: bold;\n",
       "}\n",
       "\n",
       ".xr-var-list,\n",
       ".xr-var-item {\n",
       "  display: contents;\n",
       "}\n",
       "\n",
       ".xr-var-item > div,\n",
       ".xr-var-item label,\n",
       ".xr-var-item > .xr-var-name span {\n",
       "  background-color: var(--xr-background-color-row-even);\n",
       "  margin-bottom: 0;\n",
       "}\n",
       "\n",
       ".xr-var-item > .xr-var-name:hover span {\n",
       "  padding-right: 5px;\n",
       "}\n",
       "\n",
       ".xr-var-list > li:nth-child(odd) > div,\n",
       ".xr-var-list > li:nth-child(odd) > label,\n",
       ".xr-var-list > li:nth-child(odd) > .xr-var-name span {\n",
       "  background-color: var(--xr-background-color-row-odd);\n",
       "}\n",
       "\n",
       ".xr-var-name {\n",
       "  grid-column: 1;\n",
       "}\n",
       "\n",
       ".xr-var-dims {\n",
       "  grid-column: 2;\n",
       "}\n",
       "\n",
       ".xr-var-dtype {\n",
       "  grid-column: 3;\n",
       "  text-align: right;\n",
       "  color: var(--xr-font-color2);\n",
       "}\n",
       "\n",
       ".xr-var-preview {\n",
       "  grid-column: 4;\n",
       "}\n",
       "\n",
       ".xr-var-name,\n",
       ".xr-var-dims,\n",
       ".xr-var-dtype,\n",
       ".xr-preview,\n",
       ".xr-attrs dt {\n",
       "  white-space: nowrap;\n",
       "  overflow: hidden;\n",
       "  text-overflow: ellipsis;\n",
       "  padding-right: 10px;\n",
       "}\n",
       "\n",
       ".xr-var-name:hover,\n",
       ".xr-var-dims:hover,\n",
       ".xr-var-dtype:hover,\n",
       ".xr-attrs dt:hover {\n",
       "  overflow: visible;\n",
       "  width: auto;\n",
       "  z-index: 1;\n",
       "}\n",
       "\n",
       ".xr-var-attrs,\n",
       ".xr-var-data {\n",
       "  display: none;\n",
       "  background-color: var(--xr-background-color) !important;\n",
       "  padding-bottom: 5px !important;\n",
       "}\n",
       "\n",
       ".xr-var-attrs-in:checked ~ .xr-var-attrs,\n",
       ".xr-var-data-in:checked ~ .xr-var-data {\n",
       "  display: block;\n",
       "}\n",
       "\n",
       ".xr-var-data > table {\n",
       "  float: right;\n",
       "}\n",
       "\n",
       ".xr-var-name span,\n",
       ".xr-var-data,\n",
       ".xr-attrs {\n",
       "  padding-left: 25px !important;\n",
       "}\n",
       "\n",
       ".xr-attrs,\n",
       ".xr-var-attrs,\n",
       ".xr-var-data {\n",
       "  grid-column: 1 / -1;\n",
       "}\n",
       "\n",
       "dl.xr-attrs {\n",
       "  padding: 0;\n",
       "  margin: 0;\n",
       "  display: grid;\n",
       "  grid-template-columns: 125px auto;\n",
       "}\n",
       "\n",
       ".xr-attrs dt,\n",
       ".xr-attrs dd {\n",
       "  padding: 0;\n",
       "  margin: 0;\n",
       "  float: left;\n",
       "  padding-right: 10px;\n",
       "  width: auto;\n",
       "}\n",
       "\n",
       ".xr-attrs dt {\n",
       "  font-weight: normal;\n",
       "  grid-column: 1;\n",
       "}\n",
       "\n",
       ".xr-attrs dt:hover span {\n",
       "  display: inline-block;\n",
       "  background: var(--xr-background-color);\n",
       "  padding-right: 10px;\n",
       "}\n",
       "\n",
       ".xr-attrs dd {\n",
       "  grid-column: 2;\n",
       "  white-space: pre-wrap;\n",
       "  word-break: break-all;\n",
       "}\n",
       "\n",
       ".xr-icon-database,\n",
       ".xr-icon-file-text2 {\n",
       "  display: inline-block;\n",
       "  vertical-align: middle;\n",
       "  width: 1em;\n",
       "  height: 1.5em !important;\n",
       "  stroke-width: 0;\n",
       "  stroke: currentColor;\n",
       "  fill: currentColor;\n",
       "}\n",
       "</style><pre class='xr-text-repr-fallback'>&lt;xarray.DataArray &#x27;msl&#x27; (time: 17, stations: 23256)&gt;\n",
       "[395352 values with dtype=float64]\n",
       "Coordinates:\n",
       "  * stations              (stations) |S40 b&#x27;id_coast_glob_eur_00001&#x27; ... b&#x27;is...\n",
       "    station_x_coordinate  (stations) float64 24.09 24.09 26.9 ... 343.8 9.25\n",
       "    station_y_coordinate  (stations) float64 34.83 34.87 35.37 ... 63.94 41.33\n",
       "  * time                  (time) datetime64[ns] 2001-01-01 ... 2017-01-01\n",
       "Attributes:\n",
       "    long_name:   Annual_mean_sea_level_relative_to_historical_mean\n",
       "    units:       m\n",
       "    short_name:  annual_mean_lowwater</pre><div class='xr-wrap' hidden><div class='xr-header'><div class='xr-obj-type'>xarray.DataArray</div><div class='xr-array-name'>'msl'</div><ul class='xr-dim-list'><li><span class='xr-has-index'>time</span>: 17</li><li><span class='xr-has-index'>stations</span>: 23256</li></ul></div><ul class='xr-sections'><li class='xr-section-item'><div class='xr-array-wrap'><input id='section-6054d72d-e4ff-4ace-af1a-fe65f2f9b68d' class='xr-array-in' type='checkbox' checked><label for='section-6054d72d-e4ff-4ace-af1a-fe65f2f9b68d' title='Show/hide data repr'><svg class='icon xr-icon-database'><use xlink:href='#icon-database'></use></svg></label><div class='xr-array-preview xr-preview'><span>...</span></div><div class='xr-array-data'><pre>[395352 values with dtype=float64]</pre></div></div></li><li class='xr-section-item'><input id='section-6c803452-7d1d-4c66-95b3-aaecfebb66c0' class='xr-section-summary-in' type='checkbox'  checked><label for='section-6c803452-7d1d-4c66-95b3-aaecfebb66c0' class='xr-section-summary' >Coordinates: <span>(4)</span></label><div class='xr-section-inline-details'></div><div class='xr-section-details'><ul class='xr-var-list'><li class='xr-var-item'><div class='xr-var-name'><span class='xr-has-index'>stations</span></div><div class='xr-var-dims'>(stations)</div><div class='xr-var-dtype'>|S40</div><div class='xr-var-preview xr-preview'>b&#x27;id_coast_glob_eur_00001&#x27; ... b...</div><input id='attrs-47a27312-76c1-4bc8-9071-acb57bbbd841' class='xr-var-attrs-in' type='checkbox' disabled><label for='attrs-47a27312-76c1-4bc8-9071-acb57bbbd841' title='Show/Hide attributes'><svg class='icon xr-icon-file-text2'><use xlink:href='#icon-file-text2'></use></svg></label><input id='data-e9d2d336-f755-4461-b0e9-2cc26d69a2bf' class='xr-var-data-in' type='checkbox'><label for='data-e9d2d336-f755-4461-b0e9-2cc26d69a2bf' title='Show/Hide data repr'><svg class='icon xr-icon-database'><use xlink:href='#icon-database'></use></svg></label><div class='xr-var-attrs'><dl class='xr-attrs'></dl></div><div class='xr-var-data'><pre>array([b&#x27;id_coast_glob_eur_00001&#x27;, b&#x27;id_coast_glob_eur_00002&#x27;,\n",
       "       b&#x27;id_coast_glob_eur_00003&#x27;, ..., b&#x27;islands_66666713&#x27;,\n",
       "       b&#x27;islands_66666714&#x27;, b&#x27;islands_88888124&#x27;], dtype=&#x27;|S40&#x27;)</pre></div></li><li class='xr-var-item'><div class='xr-var-name'><span>station_x_coordinate</span></div><div class='xr-var-dims'>(stations)</div><div class='xr-var-dtype'>float64</div><div class='xr-var-preview xr-preview'>...</div><input id='attrs-b08e6987-a259-49dc-8a42-a0fdd4635901' class='xr-var-attrs-in' type='checkbox' ><label for='attrs-b08e6987-a259-49dc-8a42-a0fdd4635901' title='Show/Hide attributes'><svg class='icon xr-icon-file-text2'><use xlink:href='#icon-file-text2'></use></svg></label><input id='data-3707c421-2200-47d4-bce2-311d61b7dd92' class='xr-var-data-in' type='checkbox'><label for='data-3707c421-2200-47d4-bce2-311d61b7dd92' title='Show/Hide data repr'><svg class='icon xr-icon-database'><use xlink:href='#icon-database'></use></svg></label><div class='xr-var-attrs'><dl class='xr-attrs'><dt><span>units :</span></dt><dd>degrees_east</dd><dt><span>standard_name :</span></dt><dd>longitude</dd><dt><span>long_name :</span></dt><dd>longitude</dd><dt><span>short_name :</span></dt><dd>longitude</dd></dl></div><div class='xr-var-data'><pre>array([ 24.08936 ,  24.08936 ,  26.90186 , ..., 336.708984, 343.798828,\n",
       "         9.250488])</pre></div></li><li class='xr-var-item'><div class='xr-var-name'><span>station_y_coordinate</span></div><div class='xr-var-dims'>(stations)</div><div class='xr-var-dtype'>float64</div><div class='xr-var-preview xr-preview'>...</div><input id='attrs-2be55897-c602-45dd-9892-a5083cdab69b' class='xr-var-attrs-in' type='checkbox' ><label for='attrs-2be55897-c602-45dd-9892-a5083cdab69b' title='Show/Hide attributes'><svg class='icon xr-icon-file-text2'><use xlink:href='#icon-file-text2'></use></svg></label><input id='data-a3ff6ef2-5bea-497d-b4d3-347b9c397da4' class='xr-var-data-in' type='checkbox'><label for='data-a3ff6ef2-5bea-497d-b4d3-347b9c397da4' title='Show/Hide data repr'><svg class='icon xr-icon-database'><use xlink:href='#icon-database'></use></svg></label><div class='xr-var-attrs'><dl class='xr-attrs'><dt><span>units :</span></dt><dd>degrees_north</dd><dt><span>standard_name :</span></dt><dd>latitude</dd><dt><span>long_name :</span></dt><dd>latitude</dd><dt><span>short_name :</span></dt><dd>latitude</dd></dl></div><div class='xr-var-data'><pre>array([34.82666 , 34.87061 , 35.36865 , ..., 63.673876, 63.940427, 41.330566])</pre></div></li><li class='xr-var-item'><div class='xr-var-name'><span class='xr-has-index'>time</span></div><div class='xr-var-dims'>(time)</div><div class='xr-var-dtype'>datetime64[ns]</div><div class='xr-var-preview xr-preview'>2001-01-01 ... 2017-01-01</div><input id='attrs-dab04a9a-d1bb-40d9-9ea6-71b8336154fb' class='xr-var-attrs-in' type='checkbox' ><label for='attrs-dab04a9a-d1bb-40d9-9ea6-71b8336154fb' title='Show/Hide attributes'><svg class='icon xr-icon-file-text2'><use xlink:href='#icon-file-text2'></use></svg></label><input id='data-9dc17260-a122-4d7b-8d0d-47fc6f22410c' class='xr-var-data-in' type='checkbox'><label for='data-9dc17260-a122-4d7b-8d0d-47fc6f22410c' title='Show/Hide data repr'><svg class='icon xr-icon-database'><use xlink:href='#icon-database'></use></svg></label><div class='xr-var-attrs'><dl class='xr-attrs'><dt><span>long_name :</span></dt><dd>time</dd><dt><span>short_name :</span></dt><dd>time</dd></dl></div><div class='xr-var-data'><pre>array([&#x27;2001-01-01T00:00:00.000000000&#x27;, &#x27;2002-01-01T00:00:00.000000000&#x27;,\n",
       "       &#x27;2003-01-01T00:00:00.000000000&#x27;, &#x27;2004-01-01T00:00:00.000000000&#x27;,\n",
       "       &#x27;2005-01-01T00:00:00.000000000&#x27;, &#x27;2006-01-01T00:00:00.000000000&#x27;,\n",
       "       &#x27;2007-01-01T00:00:00.000000000&#x27;, &#x27;2008-01-01T00:00:00.000000000&#x27;,\n",
       "       &#x27;2009-01-01T00:00:00.000000000&#x27;, &#x27;2010-01-01T00:00:00.000000000&#x27;,\n",
       "       &#x27;2011-01-01T00:00:00.000000000&#x27;, &#x27;2012-01-01T00:00:00.000000000&#x27;,\n",
       "       &#x27;2013-01-01T00:00:00.000000000&#x27;, &#x27;2014-01-01T00:00:00.000000000&#x27;,\n",
       "       &#x27;2015-01-01T00:00:00.000000000&#x27;, &#x27;2016-01-01T00:00:00.000000000&#x27;,\n",
       "       &#x27;2017-01-01T00:00:00.000000000&#x27;], dtype=&#x27;datetime64[ns]&#x27;)</pre></div></li></ul></div></li><li class='xr-section-item'><input id='section-ed37e8cf-1031-499e-984a-d611a39f0824' class='xr-section-summary-in' type='checkbox'  checked><label for='section-ed37e8cf-1031-499e-984a-d611a39f0824' class='xr-section-summary' >Attributes: <span>(3)</span></label><div class='xr-section-inline-details'></div><div class='xr-section-details'><dl class='xr-attrs'><dt><span>long_name :</span></dt><dd>Annual_mean_sea_level_relative_to_historical_mean</dd><dt><span>units :</span></dt><dd>m</dd><dt><span>short_name :</span></dt><dd>annual_mean_lowwater</dd></dl></div></li></ul></div></div>"
      ],
      "text/plain": [
       "<xarray.DataArray 'msl' (time: 17, stations: 23256)>\n",
       "[395352 values with dtype=float64]\n",
       "Coordinates:\n",
       "  * stations              (stations) |S40 b'id_coast_glob_eur_00001' ... b'is...\n",
       "    station_x_coordinate  (stations) float64 ...\n",
       "    station_y_coordinate  (stations) float64 ...\n",
       "  * time                  (time) datetime64[ns] 2001-01-01 ... 2017-01-01\n",
       "Attributes:\n",
       "    long_name:   Annual_mean_sea_level_relative_to_historical_mean\n",
       "    units:       m\n",
       "    short_name:  annual_mean_lowwater"
      ]
     },
     "execution_count": 5,
     "metadata": {},
     "output_type": "execute_result"
    }
   ],
   "source": [
    "era5_MSL"
   ]
  },
  {
   "cell_type": "code",
   "execution_count": null,
   "id": "greek-contrary",
   "metadata": {},
   "outputs": [],
   "source": []
  },
  {
   "cell_type": "code",
   "execution_count": 6,
   "id": "native-adjustment",
   "metadata": {},
   "outputs": [
    {
     "name": "stdout",
     "output_type": "stream",
     "text": [
      "395352\n"
     ]
    }
   ],
   "source": [
    "# the number of values is the number of stations \n",
    "# multiplied by the number of time stamps (years)\n",
    "print(17*23256)"
   ]
  },
  {
   "cell_type": "code",
   "execution_count": 7,
   "id": "meaningful-toronto",
   "metadata": {},
   "outputs": [
    {
     "data": {
      "text/html": [
       "<div>\n",
       "<style scoped>\n",
       "    .dataframe tbody tr th:only-of-type {\n",
       "        vertical-align: middle;\n",
       "    }\n",
       "\n",
       "    .dataframe tbody tr th {\n",
       "        vertical-align: top;\n",
       "    }\n",
       "\n",
       "    .dataframe thead th {\n",
       "        text-align: right;\n",
       "    }\n",
       "</style>\n",
       "<table border=\"1\" class=\"dataframe\">\n",
       "  <thead>\n",
       "    <tr style=\"text-align: right;\">\n",
       "      <th></th>\n",
       "      <th></th>\n",
       "      <th>station_x_coordinate</th>\n",
       "      <th>station_y_coordinate</th>\n",
       "      <th>msl</th>\n",
       "    </tr>\n",
       "    <tr>\n",
       "      <th>time</th>\n",
       "      <th>stations</th>\n",
       "      <th></th>\n",
       "      <th></th>\n",
       "      <th></th>\n",
       "    </tr>\n",
       "  </thead>\n",
       "  <tbody>\n",
       "    <tr>\n",
       "      <th rowspan=\"5\" valign=\"top\">2001-01-01</th>\n",
       "      <th>b'id_coast_glob_eur_00001'</th>\n",
       "      <td>24.089360</td>\n",
       "      <td>34.826660</td>\n",
       "      <td>0.002900</td>\n",
       "    </tr>\n",
       "    <tr>\n",
       "      <th>b'id_coast_glob_eur_00002'</th>\n",
       "      <td>24.089360</td>\n",
       "      <td>34.870610</td>\n",
       "      <td>0.002930</td>\n",
       "    </tr>\n",
       "    <tr>\n",
       "      <th>b'id_coast_glob_eur_00003'</th>\n",
       "      <td>26.901860</td>\n",
       "      <td>35.368650</td>\n",
       "      <td>0.003114</td>\n",
       "    </tr>\n",
       "    <tr>\n",
       "      <th>b'id_coast_glob_eur_00004'</th>\n",
       "      <td>26.887210</td>\n",
       "      <td>35.397950</td>\n",
       "      <td>0.003136</td>\n",
       "    </tr>\n",
       "    <tr>\n",
       "      <th>b'id_coast_glob_eur_00005'</th>\n",
       "      <td>26.960450</td>\n",
       "      <td>35.427250</td>\n",
       "      <td>0.003145</td>\n",
       "    </tr>\n",
       "    <tr>\n",
       "      <th>...</th>\n",
       "      <th>...</th>\n",
       "      <td>...</td>\n",
       "      <td>...</td>\n",
       "      <td>...</td>\n",
       "    </tr>\n",
       "    <tr>\n",
       "      <th rowspan=\"5\" valign=\"top\">2017-01-01</th>\n",
       "      <th>b'islands_66666701'</th>\n",
       "      <td>14.406738</td>\n",
       "      <td>35.969238</td>\n",
       "      <td>0.003205</td>\n",
       "    </tr>\n",
       "    <tr>\n",
       "      <th>b'islands_66666708'</th>\n",
       "      <td>346.713867</td>\n",
       "      <td>64.592284</td>\n",
       "      <td>-0.000680</td>\n",
       "    </tr>\n",
       "    <tr>\n",
       "      <th>b'islands_66666713'</th>\n",
       "      <td>336.708984</td>\n",
       "      <td>63.673876</td>\n",
       "      <td>0.002263</td>\n",
       "    </tr>\n",
       "    <tr>\n",
       "      <th>b'islands_66666714'</th>\n",
       "      <td>343.798828</td>\n",
       "      <td>63.940427</td>\n",
       "      <td>0.004512</td>\n",
       "    </tr>\n",
       "    <tr>\n",
       "      <th>b'islands_88888124'</th>\n",
       "      <td>9.250488</td>\n",
       "      <td>41.330566</td>\n",
       "      <td>0.004836</td>\n",
       "    </tr>\n",
       "  </tbody>\n",
       "</table>\n",
       "<p>395352 rows × 3 columns</p>\n",
       "</div>"
      ],
      "text/plain": [
       "                                       station_x_coordinate  \\\n",
       "time       stations                                           \n",
       "2001-01-01 b'id_coast_glob_eur_00001'             24.089360   \n",
       "           b'id_coast_glob_eur_00002'             24.089360   \n",
       "           b'id_coast_glob_eur_00003'             26.901860   \n",
       "           b'id_coast_glob_eur_00004'             26.887210   \n",
       "           b'id_coast_glob_eur_00005'             26.960450   \n",
       "...                                                     ...   \n",
       "2017-01-01 b'islands_66666701'                    14.406738   \n",
       "           b'islands_66666708'                   346.713867   \n",
       "           b'islands_66666713'                   336.708984   \n",
       "           b'islands_66666714'                   343.798828   \n",
       "           b'islands_88888124'                     9.250488   \n",
       "\n",
       "                                       station_y_coordinate       msl  \n",
       "time       stations                                                    \n",
       "2001-01-01 b'id_coast_glob_eur_00001'             34.826660  0.002900  \n",
       "           b'id_coast_glob_eur_00002'             34.870610  0.002930  \n",
       "           b'id_coast_glob_eur_00003'             35.368650  0.003114  \n",
       "           b'id_coast_glob_eur_00004'             35.397950  0.003136  \n",
       "           b'id_coast_glob_eur_00005'             35.427250  0.003145  \n",
       "...                                                     ...       ...  \n",
       "2017-01-01 b'islands_66666701'                    35.969238  0.003205  \n",
       "           b'islands_66666708'                    64.592284 -0.000680  \n",
       "           b'islands_66666713'                    63.673876  0.002263  \n",
       "           b'islands_66666714'                    63.940427  0.004512  \n",
       "           b'islands_88888124'                    41.330566  0.004836  \n",
       "\n",
       "[395352 rows x 3 columns]"
      ]
     },
     "execution_count": 7,
     "metadata": {},
     "output_type": "execute_result"
    }
   ],
   "source": [
    "era5_MSL_DF=era5_MSL.to_dataframe()\n",
    "era5_MSL_DF"
   ]
  },
  {
   "cell_type": "code",
   "execution_count": 8,
   "id": "based-plate",
   "metadata": {},
   "outputs": [
    {
     "name": "stdout",
     "output_type": "stream",
     "text": [
      "station_x_coordinate\n",
      "station_y_coordinate\n",
      "msl\n",
      "length:395352\n"
     ]
    }
   ],
   "source": [
    "for col in era5_MSL_DF.columns: \n",
    "    print(col) \n",
    "# so the station name and time look to be secondary to the x, y, msl\n",
    "# so how do I get the \n",
    "num_rows=len(era5_MSL_DF.index)\n",
    "print('length:' + str(num_rows))"
   ]
  },
  {
   "cell_type": "code",
   "execution_count": 9,
   "id": "parliamentary-rebel",
   "metadata": {},
   "outputs": [
    {
     "data": {
      "text/plain": [
       "time        stations                  \n",
       "2001-01-01  b'id_coast_glob_eur_00001'     24.089360\n",
       "            b'id_coast_glob_eur_00002'     24.089360\n",
       "            b'id_coast_glob_eur_00003'     26.901860\n",
       "            b'id_coast_glob_eur_00004'     26.887210\n",
       "            b'id_coast_glob_eur_00005'     26.960450\n",
       "                                             ...    \n",
       "2017-01-01  b'islands_66666701'            14.406738\n",
       "            b'islands_66666708'           346.713867\n",
       "            b'islands_66666713'           336.708984\n",
       "            b'islands_66666714'           343.798828\n",
       "            b'islands_88888124'             9.250488\n",
       "Name: station_x_coordinate, Length: 395352, dtype: float64"
      ]
     },
     "execution_count": 9,
     "metadata": {},
     "output_type": "execute_result"
    }
   ],
   "source": [
    "era5_MSL_DF['station_x_coordinate']"
   ]
  },
  {
   "cell_type": "code",
   "execution_count": 10,
   "id": "structural-tradition",
   "metadata": {},
   "outputs": [
    {
     "data": {
      "text/plain": [
       "time        stations                  \n",
       "2001-01-01  b'id_coast_glob_eur_00001'    34.826660\n",
       "            b'id_coast_glob_eur_00002'    34.870610\n",
       "            b'id_coast_glob_eur_00003'    35.368650\n",
       "            b'id_coast_glob_eur_00004'    35.397950\n",
       "            b'id_coast_glob_eur_00005'    35.427250\n",
       "                                            ...    \n",
       "2017-01-01  b'islands_66666701'           35.969238\n",
       "            b'islands_66666708'           64.592284\n",
       "            b'islands_66666713'           63.673876\n",
       "            b'islands_66666714'           63.940427\n",
       "            b'islands_88888124'           41.330566\n",
       "Name: station_y_coordinate, Length: 395352, dtype: float64"
      ]
     },
     "execution_count": 10,
     "metadata": {},
     "output_type": "execute_result"
    }
   ],
   "source": [
    "era5_MSL_DF['station_y_coordinate']"
   ]
  },
  {
   "cell_type": "code",
   "execution_count": 11,
   "id": "logical-edition",
   "metadata": {},
   "outputs": [
    {
     "data": {
      "text/plain": [
       "time        stations                  \n",
       "2001-01-01  b'id_coast_glob_eur_00001'    0.002900\n",
       "            b'id_coast_glob_eur_00002'    0.002930\n",
       "            b'id_coast_glob_eur_00003'    0.003114\n",
       "            b'id_coast_glob_eur_00004'    0.003136\n",
       "            b'id_coast_glob_eur_00005'    0.003145\n",
       "                                            ...   \n",
       "2017-01-01  b'islands_66666701'           0.003205\n",
       "            b'islands_66666708'          -0.000680\n",
       "            b'islands_66666713'           0.002263\n",
       "            b'islands_66666714'           0.004512\n",
       "            b'islands_88888124'           0.004836\n",
       "Name: msl, Length: 395352, dtype: float64"
      ]
     },
     "execution_count": 11,
     "metadata": {},
     "output_type": "execute_result"
    }
   ],
   "source": [
    "era5_MSL_DF['msl']"
   ]
  },
  {
   "cell_type": "code",
   "execution_count": 12,
   "id": "industrial-announcement",
   "metadata": {},
   "outputs": [
    {
     "name": "stdout",
     "output_type": "stream",
     "text": [
      "24.08936\n",
      "34.82666\n",
      "0.0028996580759102024\n"
     ]
    }
   ],
   "source": [
    "x0=era5_MSL_DF['station_x_coordinate'][0]\n",
    "y0=era5_MSL_DF['station_y_coordinate'][0]\n",
    "msl0=era5_MSL_DF['msl'][0]\n",
    "print(x0)\n",
    "print(y0)\n",
    "print(msl0)"
   ]
  },
  {
   "cell_type": "code",
   "execution_count": 13,
   "id": "realistic-migration",
   "metadata": {},
   "outputs": [
    {
     "name": "stdout",
     "output_type": "stream",
     "text": [
      "9.250488\n",
      "41.330566\n",
      "0.0048359719097104846\n"
     ]
    }
   ],
   "source": [
    "xLst=era5_MSL_DF['station_x_coordinate'][num_rows-1]\n",
    "yLst=era5_MSL_DF['station_y_coordinate'][num_rows-1]\n",
    "mslLst=era5_MSL_DF['msl'][num_rows-1]\n",
    "print(xLst)\n",
    "print(yLst)\n",
    "print(mslLst)"
   ]
  },
  {
   "cell_type": "code",
   "execution_count": 14,
   "id": "unique-desire",
   "metadata": {},
   "outputs": [],
   "source": [
    "# so each row has the x,y,msl\n",
    "# so to plot map should create new dataframe extracting \n",
    "# all unique x, y pairs"
   ]
  },
  {
   "cell_type": "code",
   "execution_count": 15,
   "id": "green-tract",
   "metadata": {},
   "outputs": [],
   "source": [
    "# xarray has a function to extract the different coordinates\n",
    "stationsAr=era5_MSL.coords['stations'].values\n",
    "lonAr=era5_MSL.coords['station_x_coordinate'].values\n",
    "latAr=era5_MSL.coords['station_y_coordinate'].values"
   ]
  },
  {
   "cell_type": "code",
   "execution_count": 16,
   "id": "cubic-thermal",
   "metadata": {},
   "outputs": [
    {
     "data": {
      "text/plain": [
       "array([b'id_coast_glob_eur_00001', b'id_coast_glob_eur_00002',\n",
       "       b'id_coast_glob_eur_00003', ..., b'islands_66666713',\n",
       "       b'islands_66666714', b'islands_88888124'], dtype='|S40')"
      ]
     },
     "execution_count": 16,
     "metadata": {},
     "output_type": "execute_result"
    }
   ],
   "source": [
    "stationsAr"
   ]
  },
  {
   "cell_type": "code",
   "execution_count": 17,
   "id": "individual-backing",
   "metadata": {},
   "outputs": [],
   "source": [
    "stationsDF = pd.DataFrame({'StationName': stationsAr[:], \n",
    "                           'Lat': latAr[:],\n",
    "                           'Lon': lonAr[:]})\n",
    "\n",
    "stationsDF['StationName']=stationsDF['StationName'].apply(lambda x: x.decode(\"utf-8\"))\n",
    "stationsDF.to_csv(\"./data/sis-water-level-change-indicators/stations.csv\")"
   ]
  },
  {
   "cell_type": "code",
   "execution_count": 18,
   "id": "sophisticated-borough",
   "metadata": {},
   "outputs": [
    {
     "data": {
      "text/html": [
       "<div>\n",
       "<style scoped>\n",
       "    .dataframe tbody tr th:only-of-type {\n",
       "        vertical-align: middle;\n",
       "    }\n",
       "\n",
       "    .dataframe tbody tr th {\n",
       "        vertical-align: top;\n",
       "    }\n",
       "\n",
       "    .dataframe thead th {\n",
       "        text-align: right;\n",
       "    }\n",
       "</style>\n",
       "<table border=\"1\" class=\"dataframe\">\n",
       "  <thead>\n",
       "    <tr style=\"text-align: right;\">\n",
       "      <th></th>\n",
       "      <th>StationName</th>\n",
       "      <th>Lat</th>\n",
       "      <th>Lon</th>\n",
       "    </tr>\n",
       "  </thead>\n",
       "  <tbody>\n",
       "    <tr>\n",
       "      <th>676</th>\n",
       "      <td>id_coast_glob_eur_00699</td>\n",
       "      <td>48.449710</td>\n",
       "      <td>354.924316</td>\n",
       "    </tr>\n",
       "    <tr>\n",
       "      <th>677</th>\n",
       "      <td>id_coast_glob_eur_00700</td>\n",
       "      <td>48.464360</td>\n",
       "      <td>354.880371</td>\n",
       "    </tr>\n",
       "    <tr>\n",
       "      <th>691</th>\n",
       "      <td>id_coast_glob_eur_00714</td>\n",
       "      <td>53.107910</td>\n",
       "      <td>350.339355</td>\n",
       "    </tr>\n",
       "    <tr>\n",
       "      <th>692</th>\n",
       "      <td>id_coast_glob_eur_00715</td>\n",
       "      <td>53.122560</td>\n",
       "      <td>350.251465</td>\n",
       "    </tr>\n",
       "    <tr>\n",
       "      <th>693</th>\n",
       "      <td>id_coast_glob_eur_00716</td>\n",
       "      <td>53.137210</td>\n",
       "      <td>350.222168</td>\n",
       "    </tr>\n",
       "    <tr>\n",
       "      <th>...</th>\n",
       "      <td>...</td>\n",
       "      <td>...</td>\n",
       "      <td>...</td>\n",
       "    </tr>\n",
       "    <tr>\n",
       "      <th>23104</th>\n",
       "      <td>islands_242232</td>\n",
       "      <td>55.246582</td>\n",
       "      <td>354.880371</td>\n",
       "    </tr>\n",
       "    <tr>\n",
       "      <th>23105</th>\n",
       "      <td>islands_242261</td>\n",
       "      <td>49.899902</td>\n",
       "      <td>353.664551</td>\n",
       "    </tr>\n",
       "    <tr>\n",
       "      <th>23106</th>\n",
       "      <td>islands_242264</td>\n",
       "      <td>49.899902</td>\n",
       "      <td>353.635254</td>\n",
       "    </tr>\n",
       "    <tr>\n",
       "      <th>23134</th>\n",
       "      <td>islands_244257</td>\n",
       "      <td>51.496582</td>\n",
       "      <td>350.529785</td>\n",
       "    </tr>\n",
       "    <tr>\n",
       "      <th>23135</th>\n",
       "      <td>islands_244945</td>\n",
       "      <td>53.488769</td>\n",
       "      <td>353.986816</td>\n",
       "    </tr>\n",
       "  </tbody>\n",
       "</table>\n",
       "<p>1010 rows × 3 columns</p>\n",
       "</div>"
      ],
      "text/plain": [
       "                   StationName        Lat         Lon\n",
       "676    id_coast_glob_eur_00699  48.449710  354.924316\n",
       "677    id_coast_glob_eur_00700  48.464360  354.880371\n",
       "691    id_coast_glob_eur_00714  53.107910  350.339355\n",
       "692    id_coast_glob_eur_00715  53.122560  350.251465\n",
       "693    id_coast_glob_eur_00716  53.137210  350.222168\n",
       "...                        ...        ...         ...\n",
       "23104           islands_242232  55.246582  354.880371\n",
       "23105           islands_242261  49.899902  353.664551\n",
       "23106           islands_242264  49.899902  353.635254\n",
       "23134           islands_244257  51.496582  350.529785\n",
       "23135           islands_244945  53.488769  353.986816\n",
       "\n",
       "[1010 rows x 3 columns]"
      ]
     },
     "execution_count": 18,
     "metadata": {},
     "output_type": "execute_result"
    }
   ],
   "source": [
    "# Ireland Zone\n",
    "# Min. Lat \t48° 10' 43.4\" N (48.1787°)  \n",
    "# Min. Long \t16° 4' 26\" W (-16.0739°)  \n",
    "\t\n",
    "# Max. Lat \t56° 42' 0\" N (56.7°)  \n",
    "# Max. Long \t5° 16' 20.4\" W (-5.2723°)  \n",
    "\n",
    "stationsIrlDF=stationsDF.loc[stationsDF['Lat'].between(48, 56, inclusive=True)]\n",
    "stationsIrlDF=stationsIrlDF.loc[stationsIrlDF['Lon'].between(360-16, 360-5, inclusive=True)]\n",
    "stationsIrlDF"
   ]
  },
  {
   "cell_type": "code",
   "execution_count": null,
   "id": "equivalent-estate",
   "metadata": {},
   "outputs": [],
   "source": []
  },
  {
   "cell_type": "code",
   "execution_count": 36,
   "id": "british-diamond",
   "metadata": {},
   "outputs": [],
   "source": [
    "stationsIrlScatter=go.Scattermapbox(\n",
    "        lon=stationsIrlDF['Lon'],\n",
    "        lat=stationsIrlDF['Lat'],\n",
    "        text=stationsIrlDF['StationName'],\n",
    "        mode='markers',\n",
    "        hovertemplate=\"Station: %{text}<br>\" +\n",
    "                      \"Lat: %{lat}\\u00b0<br>\" +\n",
    "                      \"Lon: %{lon}\\u00b0<br>\" +\n",
    "                      \"<extra></extra>\", \n",
    "    )\n",
    "layout = go.Layout(\n",
    "        title='<b>Water Indicator Stations Ireland</b>',\n",
    "        title_x=0.5,\n",
    "        margin=dict(t=40,b=0,r=0,l=0),\n",
    "        autosize=True,\n",
    "        hovermode='closest',\n",
    "        showlegend=False,\n",
    "        mapbox=dict(\n",
    "#             accesstoken=mapbox_access_token,\n",
    "            bearing=0,\n",
    "              center=dict(\n",
    "                lat=53.4,\n",
    "                lon=360-6\n",
    "            ),\n",
    "            pitch=0,\n",
    "            zoom=8.5,\n",
    "            style=\"open-street-map\" # does not require token\n",
    "        ),\n",
    ")"
   ]
  },
  {
   "cell_type": "code",
   "execution_count": 37,
   "id": "front-wyoming",
   "metadata": {},
   "outputs": [
    {
     "data": {
      "application/vnd.plotly.v1+json": {
       "config": {
        "plotlyServerURL": "https://plot.ly"
       },
       "data": [
        {
         "hovertemplate": "Station: %{text}<br>Lat: %{lat}°<br>Lon: %{lon}°<br><extra></extra>",
         "lat": [
          48.44971,
          48.46436,
          53.10791,
          53.12256,
          53.13721,
          53.13721,
          55.27588,
          55.23193,
          55.17334,
          55.17334,
          55.18799,
          55.21728,
          55.23193,
          55.24658,
          55.24658,
          55.29053,
          55.30518,
          55.23193,
          55.20264,
          55.12939,
          55.05615,
          54.98291,
          54.92432,
          54.86572,
          54.83643,
          54.74853,
          54.68994,
          54.68994,
          54.6167,
          54.54346,
          54.47021,
          54.38232,
          54.32373,
          54.26514,
          54.23584,
          54.25049,
          54.20654,
          54.1333,
          54.07471,
          54.04541,
          54.00146,
          53.98682,
          54.00146,
          53.97217,
          53.89893,
          53.86963,
          53.79639,
          53.7085,
          53.63525,
          53.59131,
          53.51807,
          53.44482,
          53.38623,
          53.31299,
          53.2251,
          53.15186,
          53.06396,
          52.97607,
          52.90283,
          52.84424,
          52.771,
          52.68311,
          52.60986,
          52.52197,
          52.46338,
          52.40478,
          52.31689,
          52.229,
          52.18506,
          52.19971,
          52.17041,
          52.19971,
          52.21436,
          52.18506,
          52.14111,
          52.14111,
          52.12646,
          52.14111,
          52.12646,
          52.12646,
          52.12646,
          52.08252,
          52.00928,
          51.97998,
          51.93603,
          51.92139,
          51.87744,
          51.84814,
          51.81885,
          51.8042,
          51.78955,
          51.74561,
          51.70166,
          51.67236,
          51.61377,
          51.62842,
          51.58447,
          51.58447,
          51.56982,
          51.54053,
          51.54053,
          51.52588,
          51.48193,
          51.48193,
          51.48193,
          51.52588,
          51.51123,
          51.48193,
          51.46728,
          51.46728,
          51.54053,
          51.61377,
          51.61377,
          51.59912,
          51.61377,
          51.69434,
          51.74561,
          51.78955,
          51.78955,
          51.84814,
          51.90674,
          51.95068,
          51.99463,
          52.02393,
          52.09717,
          52.11182,
          52.11182,
          52.09717,
          52.14111,
          52.19971,
          52.24365,
          52.27295,
          52.2876,
          52.30225,
          52.2876,
          52.2876,
          52.36084,
          52.41943,
          52.43408,
          52.44873,
          52.50732,
          52.56592,
          52.55127,
          52.58057,
          52.59521,
          52.65381,
          52.69775,
          52.7417,
          52.771,
          52.84424,
          52.93213,
          52.99072,
          53.06396,
          53.12256,
          53.1665,
          53.21846,
          53.2251,
          53.2251,
          53.2251,
          53.23975,
          53.2251,
          53.28369,
          53.31299,
          53.34228,
          53.37158,
          53.40088,
          53.41553,
          53.48877,
          53.54736,
          53.57666,
          53.60596,
          53.6499,
          53.73779,
          53.80371,
          53.86963,
          53.91357,
          53.94287,
          53.95752,
          53.98682,
          54.03076,
          54.08936,
          54.17725,
          54.25049,
          54.29443,
          54.27978,
          54.32373,
          54.32373,
          54.32373,
          54.32373,
          54.32373,
          54.30908,
          54.30908,
          54.27978,
          54.25049,
          54.27978,
          54.29443,
          54.26514,
          54.26514,
          54.27978,
          54.35303,
          54.39697,
          54.42627,
          54.50684,
          54.57275,
          54.59473,
          54.6167,
          54.63135,
          54.68994,
          54.74853,
          54.77783,
          54.82178,
          54.86572,
          54.93896,
          54.96826,
          55.01221,
          55.02686,
          55.0708,
          55.14404,
          55.15869,
          55.15869,
          55.18799,
          55.21728,
          55.21728,
          55.26123,
          55.27588,
          55.27588,
          55.29053,
          55.32715,
          55.37842,
          55.36377,
          55.33447,
          55.29053,
          50.13428,
          50.07568,
          50.00244,
          49.9585,
          50.01709,
          50.07568,
          50.10498,
          50.10498,
          50.04639,
          50.03174,
          50.10498,
          50.16357,
          50.19287,
          50.22217,
          50.23682,
          50.25146,
          50.31006,
          50.354,
          50.4126,
          50.45654,
          50.54443,
          51.61377,
          51.65771,
          51.68701,
          51.74561,
          51.78955,
          51.84814,
          51.86279,
          51.90674,
          51.93603,
          51.96533,
          52.02393,
          54.79248,
          54.83643,
          54.99756,
          55.0415,
          55.1001,
          55.71533,
          55.70801,
          55.62744,
          55.5542,
          55.46631,
          55.43701,
          55.48096,
          55.50293,
          55.49561,
          55.42236,
          55.34912,
          55.30518,
          55.29053,
          55.33447,
          55.40771,
          55.48096,
          55.56885,
          55.65674,
          55.71533,
          55.80322,
          55.87646,
          55.94238,
          55.94971,
          55.89111,
          55.83252,
          55.75928,
          55.68603,
          55.64209,
          55.61279,
          55.5835,
          55.64209,
          55.67871,
          55.67139,
          55.75928,
          55.83252,
          55.87646,
          55.89111,
          55.92041,
          55.93506,
          55.94971,
          51.97264,
          51.73827,
          51.50957,
          51.26379,
          52.00195,
          51.73828,
          51.47459,
          51.24022,
          54.52147,
          54.22851,
          53.96483,
          53.73045,
          53.49608,
          53.2617,
          53.02733,
          52.79295,
          52.55858,
          52.20702,
          51.97265,
          51.73828,
          51.47461,
          51.24023,
          51.00586,
          50.77147,
          54.52148,
          54.28711,
          53.96483,
          53.73045,
          53.49608,
          53.2617,
          53.02733,
          52.79295,
          52.55858,
          52.20702,
          51.97264,
          51.73827,
          51.50389,
          51.26952,
          51.00586,
          50.77148,
          54.52148,
          54.1992,
          53.96483,
          53.73045,
          53.49608,
          53.2617,
          53.02733,
          52.79295,
          52.55858,
          52.20702,
          51.97265,
          51.73827,
          51.50389,
          51.26952,
          51.03514,
          50.77148,
          54.52148,
          54.1992,
          53.96483,
          53.73047,
          53.49609,
          53.2617,
          53.02733,
          52.79295,
          52.4707,
          52.23632,
          51.9873,
          51.73828,
          51.50389,
          51.26952,
          51.03514,
          50.80077,
          54.52147,
          54.2285,
          53.99414,
          53.74512,
          53.52539,
          53.23242,
          52.99803,
          52.76367,
          52.52929,
          52.25097,
          51.9873,
          51.75153,
          51.5039,
          51.26952,
          51.03514,
          50.80077,
          50.4492,
          50.21483,
          54.46288,
          54.22697,
          54.00803,
          53.74512,
          53.50342,
          53.23242,
          52.99804,
          52.76367,
          52.48535,
          51.99463,
          51.75236,
          51.51855,
          51.26379,
          51.03514,
          50.80077,
          50.45515,
          50.24414,
          54.99023,
          54.75586,
          54.52148,
          53.74512,
          53.24707,
          52.99804,
          52.76367,
          52.51465,
          52.2583,
          51.74561,
          51.48926,
          51.24023,
          51.03514,
          50.80077,
          50.4492,
          50.24413,
          54.99023,
          54.75586,
          54.52148,
          53.25439,
          52.99539,
          52.74902,
          52.50732,
          51.24023,
          51.03514,
          50.80077,
          50.4492,
          50.21483,
          55.51757,
          55.25389,
          54.99023,
          54.75586,
          54.52148,
          53.0127,
          52.75635,
          51.49658,
          51.24023,
          51.03515,
          50.68359,
          50.47851,
          50.24414,
          55.51757,
          55.22461,
          54.99023,
          54.75586,
          54.52148,
          51.24023,
          51.03514,
          50.71288,
          50.47851,
          50.24414,
          55.51757,
          55.22461,
          54.99023,
          54.74121,
          54.50684,
          53.25439,
          51.48926,
          51.24022,
          51.03514,
          50.77148,
          50.47851,
          50.24414,
          55.51757,
          55.22461,
          55.00488,
          54.74853,
          54.50684,
          51.51714,
          51.26953,
          51.03515,
          50.77148,
          50.47851,
          50.24413,
          55.95702,
          55.75195,
          55.51757,
          55.23926,
          54.99756,
          54.50684,
          51.51855,
          51.24023,
          51.00586,
          50.77148,
          50.47759,
          50.24414,
          55.95702,
          55.75195,
          55.51757,
          55.24658,
          51.74561,
          51.47461,
          51.24023,
          51.00586,
          50.77148,
          50.47851,
          50.21483,
          55.98632,
          55.75195,
          55.51757,
          55.24658,
          51.75293,
          51.47461,
          51.24023,
          51.00586,
          50.77148,
          55.96067,
          55.75195,
          55.50293,
          55.24658,
          51.75293,
          51.47461,
          51.24023,
          51.00586,
          50.77148,
          55.98632,
          55.7373,
          55.50293,
          52.00928,
          51.75293,
          51.51855,
          51.24023,
          51.00586,
          50.77148,
          49.98045,
          49.74608,
          49.5117,
          49.24804,
          55.98632,
          55.7373,
          55.50293,
          51.9873,
          51.75293,
          51.48926,
          51.24023,
          51.00586,
          50.77148,
          49.98045,
          49.74608,
          49.5117,
          49.27662,
          55.7373,
          55.50293,
          55.24658,
          51.9873,
          51.75293,
          51.48926,
          51.24023,
          51.00586,
          50.77148,
          50.47851,
          50.24414,
          49.98047,
          49.77539,
          49.51172,
          49.27733,
          49.04295,
          48.80858,
          55.7373,
          55.50293,
          55.24045,
          51.9873,
          51.75293,
          51.48926,
          51.24023,
          51.00586,
          50.77148,
          50.47851,
          50.24414,
          50.00976,
          49.77539,
          49.5117,
          49.27733,
          49.04295,
          48.80858,
          55.74463,
          55.51758,
          55.24658,
          51.9873,
          51.75293,
          51.5332,
          51.24023,
          51.00586,
          50.77148,
          50.47851,
          50.24414,
          50.00976,
          49.77539,
          49.5117,
          49.27733,
          49.04295,
          48.80858,
          48.45702,
          48.22264,
          55.99365,
          55.50293,
          55.24658,
          53.75244,
          52.25098,
          51.9873,
          51.75293,
          51.5039,
          51.24023,
          51.00586,
          50.77148,
          50.47851,
          50.25879,
          49.99512,
          49.77233,
          49.5117,
          49.27733,
          49.04295,
          48.80858,
          48.45702,
          48.22264,
          55.99365,
          55.74463,
          55.51757,
          55.23926,
          54.00146,
          53.74512,
          53.50342,
          53.24707,
          53.00537,
          52.74902,
          52.51465,
          52.23633,
          52.00195,
          51.74055,
          51.47461,
          51.24023,
          51.00586,
          50.77148,
          50.49316,
          50.25879,
          49.99512,
          49.77233,
          49.48242,
          49.27733,
          49.04295,
          48.80858,
          48.45702,
          48.22264,
          55.74463,
          55.4956,
          55.23926,
          54.99023,
          54.00879,
          53.74512,
          53.51074,
          53.24707,
          53.0127,
          52.74902,
          52.51465,
          52.23632,
          52.00195,
          51.76758,
          51.48925,
          51.24023,
          51.00586,
          50.77051,
          50.49316,
          50.25879,
          49.99512,
          49.77539,
          49.48242,
          49.27806,
          49.04295,
          48.80858,
          48.45702,
          48.22264,
          55.49561,
          55.23926,
          54.99023,
          54.75586,
          54.24316,
          53.99414,
          53.72753,
          53.48144,
          53.24707,
          53.01269,
          52.74902,
          52.51465,
          52.23632,
          51.9873,
          51.75293,
          51.48926,
          51.25488,
          50.99121,
          50.75684,
          50.49316,
          50.25879,
          49.99512,
          49.77539,
          49.48242,
          49.24804,
          49.04228,
          48.77929,
          48.45703,
          48.22265,
          48.01757,
          55.7373,
          55.23926,
          55.00488,
          54.75586,
          54.52148,
          54.24316,
          54.00879,
          53.74512,
          53.51074,
          53.23242,
          52.99804,
          52.74902,
          52.52929,
          52.25098,
          51.9873,
          51.74561,
          51.48926,
          51.25488,
          50.99121,
          50.75684,
          50.49316,
          49.77539,
          49.48242,
          49.24804,
          49.01367,
          48.77929,
          48.50097,
          48.25195,
          48.00293,
          55.74463,
          54.50683,
          54.22851,
          52.76367,
          49.76074,
          49.48242,
          49.24804,
          49.01367,
          48.77929,
          48.00293,
          55.48827,
          55.95702,
          55.48827,
          54.96088,
          54.49213,
          54.02338,
          53.55463,
          53.08048,
          52.47069,
          51.97264,
          51.50385,
          50.98059,
          50.50775,
          50.039,
          49.57025,
          49.1015,
          48.39838,
          55.95703,
          55.48827,
          54.96088,
          54.49213,
          54.02338,
          53.49608,
          52.99804,
          52.55858,
          52.00195,
          51.5017,
          51.00586,
          50.4492,
          50.039,
          49.57025,
          49.1015,
          48.39838,
          55.95702,
          55.42963,
          54.96088,
          54.49213,
          53.96483,
          53.52539,
          53.02733,
          52.55858,
          51.91871,
          51.50385,
          50.91795,
          50.4785,
          50.03905,
          49.57025,
          49.1015,
          48.39838,
          55.89838,
          55.42963,
          54.96088,
          54.49213,
          54.02342,
          53.4909,
          53.02733,
          52.55858,
          51.914,
          51.4453,
          51.03514,
          50.4492,
          50.03905,
          49.51166,
          49.04291,
          48.39838,
          55.89838,
          55.42963,
          54.96088,
          54.50204,
          53.99414,
          53.49608,
          53.02733,
          52.55858,
          51.914,
          51.45666,
          51.03515,
          50.44916,
          50.03905,
          49.48242,
          49.04295,
          48.39838,
          55.89838,
          55.42963,
          54.96088,
          54.50204,
          53.99414,
          53.49608,
          53.02733,
          52.55854,
          51.914,
          51.44525,
          50.9765,
          50.50775,
          50.039,
          49.5117,
          49.01367,
          48.45697,
          55.89838,
          55.42963,
          54.96088,
          54.49217,
          53.99414,
          53.49608,
          53.02733,
          52.55854,
          51.914,
          51.44525,
          50.9765,
          50.50775,
          50.039,
          49.57025,
          48.92577,
          48.45703,
          55.89838,
          55.42963,
          54.96088,
          54.49217,
          53.96484,
          53.49608,
          53.02733,
          52.55858,
          51.03514,
          50.50775,
          50.039,
          49.57025,
          48.92577,
          48.48632,
          55.89838,
          55.42963,
          54.96092,
          50.4492,
          49.98045,
          49.5117,
          49.01367,
          48.45703,
          55.89838,
          55.42963,
          54.95426,
          50.47851,
          50.00976,
          49.5117,
          49.01367,
          48.48632,
          55.89838,
          55.48827,
          55.01953,
          50.00975,
          49.5117,
          49.04297,
          48.48632,
          55.90762,
          55.51757,
          49.98045,
          49.51172,
          49.04295,
          48.48632,
          55.95338,
          49.98045,
          49.5117,
          49.04295,
          48.48632,
          48.01757,
          55.95702,
          49.98045,
          49.48242,
          49.04297,
          48.48632,
          48.01757,
          50.00976,
          49.5117,
          49.01366,
          48.45058,
          48.01757,
          50.47851,
          50.01279,
          49.5117,
          49.04295,
          48.45702,
          48.01757,
          50.47851,
          49.01367,
          48.45702,
          48.01757,
          48.45702,
          51.52588,
          55.36377,
          50.10498,
          51.357418,
          53.144517,
          54.27246,
          54.98291,
          51.833496,
          54.250488,
          54.689941,
          51.643066,
          53.342285,
          53.942871,
          52.141113,
          51.416012,
          53.217773,
          53.254394,
          53.38623,
          53.122558,
          54.616699,
          55.378418,
          51.70166,
          50.10498,
          55.627441,
          54.836426,
          55.202636,
          53.591308,
          54.309082,
          49.914551,
          52.749023,
          52.302246,
          48.691391,
          54.27246,
          54.287106,
          54.243164,
          51.416012,
          53.217773,
          54.68994,
          51.52588,
          55.36377,
          55.37842,
          51.70166,
          50.10498,
          55.62744,
          54.83643,
          55.20264,
          49.91455,
          52.81494,
          53.10791,
          50.34668,
          53.03467,
          53.2251,
          53.74512,
          53.92165,
          53.21777,
          52.78564,
          54.66064,
          55.38574,
          52.52197,
          51.84814,
          53.34228,
          51.65771,
          50.14893,
          51.862793,
          49.885254,
          55.246582,
          49.899902,
          49.899902,
          51.496582,
          53.488769
         ],
         "lon": [
          354.924316,
          354.880371,
          350.339355,
          350.251465,
          350.222168,
          350.310059,
          352.976074,
          353.049316,
          353.10791,
          353.195801,
          353.283691,
          353.371582,
          353.459473,
          353.547363,
          353.635254,
          353.723145,
          353.796387,
          353.840332,
          353.928223,
          353.972168,
          354.016113,
          354.060059,
          354.133301,
          354.191895,
          354.279785,
          354.309082,
          354.32373,
          354.411621,
          354.484863,
          354.528809,
          354.558105,
          354.528809,
          354.470215,
          354.396973,
          354.32373,
          354.23584,
          354.155273,
          354.118652,
          354.04541,
          353.972168,
          353.884277,
          353.811035,
          353.723145,
          353.635254,
          353.649902,
          353.723145,
          353.76709,
          353.752441,
          353.796387,
          353.869629,
          353.913574,
          353.884277,
          353.942871,
          353.898926,
          353.898926,
          353.942871,
          353.972168,
          353.986816,
          353.95752,
          353.898926,
          353.85498,
          353.811035,
          353.796387,
          353.76709,
          353.708496,
          353.649902,
          353.635254,
          353.664551,
          353.605957,
          353.518066,
          353.430176,
          353.342285,
          353.254395,
          353.166504,
          353.093262,
          353.005371,
          352.91748,
          352.82959,
          352.741699,
          352.653809,
          352.55127,
          352.478027,
          352.419434,
          352.346191,
          352.258301,
          352.17041,
          352.097168,
          352.009277,
          351.936035,
          351.848145,
          351.760254,
          351.672363,
          351.599121,
          351.51123,
          351.452637,
          351.364746,
          351.306152,
          351.203613,
          351.130371,
          351.04248,
          350.95459,
          350.866699,
          350.778809,
          350.690918,
          350.603027,
          350.529785,
          350.456543,
          350.354004,
          350.266113,
          350.178223,
          350.163574,
          350.10498,
          350.01709,
          349.9292,
          349.85596,
          349.8999,
          349.85596,
          349.76807,
          349.68018,
          349.62158,
          349.60693,
          349.68018,
          349.76807,
          349.84131,
          349.85596,
          349.76807,
          349.68018,
          349.59229,
          349.53369,
          349.59229,
          349.66553,
          349.75342,
          349.84131,
          349.9292,
          350.01709,
          350.10498,
          350.148926,
          350.075684,
          350.148926,
          350.236816,
          350.29541,
          350.236816,
          350.141602,
          350.10498,
          350.178223,
          350.266113,
          350.339355,
          350.412598,
          350.500488,
          350.559082,
          350.544434,
          350.588379,
          350.646973,
          350.705566,
          350.778809,
          350.774956,
          350.668945,
          350.588379,
          350.500488,
          350.412598,
          350.324707,
          350.266113,
          350.178223,
          350.090332,
          350.01709,
          349.9292,
          349.84131,
          349.85596,
          349.84131,
          349.9292,
          350.01709,
          350.090332,
          350.090332,
          350.119629,
          350.061035,
          349.98779,
          349.8999,
          349.81201,
          349.78271,
          349.85596,
          349.88525,
          349.8999,
          349.91455,
          349.98779,
          350.090332,
          350.163574,
          350.251465,
          350.339355,
          350.427246,
          350.515137,
          350.603027,
          350.690918,
          350.778809,
          350.866699,
          350.939941,
          351.027832,
          351.115723,
          351.203613,
          351.291504,
          351.350098,
          351.42334,
          351.496582,
          351.555176,
          351.525879,
          351.441574,
          351.350098,
          351.262207,
          351.203613,
          351.291504,
          351.364746,
          351.437988,
          351.525879,
          351.540527,
          351.452637,
          351.496582,
          351.584473,
          351.657715,
          351.70166,
          351.789551,
          351.877441,
          351.965332,
          352.053223,
          352.141113,
          352.214355,
          352.302246,
          352.390137,
          352.478027,
          352.565918,
          352.624512,
          352.712402,
          352.800293,
          352.873535,
          354.98291,
          354.938965,
          354.880371,
          354.807129,
          354.733887,
          354.675293,
          354.587402,
          354.499512,
          354.42627,
          354.338379,
          354.294434,
          354.338379,
          354.42627,
          354.51416,
          354.602051,
          354.689941,
          354.763184,
          354.836426,
          354.89502,
          354.968262,
          354.997559,
          354.997559,
          354.924316,
          354.836426,
          354.777832,
          354.865723,
          354.836426,
          354.748535,
          354.70459,
          354.79248,
          354.880371,
          354.938965,
          354.953613,
          354.880371,
          354.821777,
          354.909668,
          354.968262,
          354.98291,
          354.887695,
          354.865723,
          354.909668,
          354.909668,
          354.836426,
          354.660645,
          354.594727,
          354.499512,
          354.455566,
          354.455566,
          354.382324,
          354.279785,
          354.191895,
          354.23584,
          354.279785,
          354.279785,
          354.32373,
          354.382324,
          354.338379,
          354.32373,
          354.265137,
          354.177246,
          354.104004,
          354.04541,
          353.986816,
          353.972168,
          353.884277,
          353.796387,
          353.723145,
          353.679199,
          353.605957,
          353.518066,
          353.518066,
          353.547363,
          353.635254,
          353.723145,
          353.796387,
          353.884277,
          353.972168,
          347.98828,
          347.98828,
          347.98828,
          347.98828,
          348.25195,
          348.25195,
          348.22266,
          348.22266,
          348.45703,
          348.48633,
          348.45703,
          348.45703,
          348.45703,
          348.45703,
          348.45703,
          348.45703,
          348.45703,
          348.45703,
          348.49563,
          348.48633,
          348.48633,
          348.48633,
          348.48633,
          348.45703,
          348.7207,
          348.7207,
          348.69141,
          348.69141,
          348.69141,
          348.80859,
          348.80859,
          348.80859,
          348.80859,
          348.69141,
          348.69141,
          348.69141,
          348.80859,
          348.80859,
          348.7207,
          348.7793,
          349.01367,
          349.04297,
          349.04297,
          349.04297,
          349.04297,
          349.04297,
          349.04297,
          349.04297,
          349.04297,
          349.04297,
          349.00437,
          349.04297,
          349.04297,
          349.04297,
          349.04297,
          349.01367,
          349.24805,
          349.27734,
          349.27734,
          349.24805,
          349.24805,
          349.27734,
          349.27734,
          349.27734,
          349.24805,
          349.24805,
          349.24805,
          349.24805,
          349.27734,
          349.27734,
          349.27734,
          349.27734,
          349.51172,
          349.51172,
          349.48242,
          349.49707,
          349.48242,
          349.48242,
          349.51172,
          349.48242,
          349.48242,
          349.48242,
          349.49707,
          349.49707,
          349.48242,
          349.51172,
          349.51172,
          349.51172,
          349.51172,
          349.51172,
          349.74609,
          349.75169,
          349.74904,
          349.76074,
          349.76074,
          349.77539,
          349.77539,
          349.77539,
          349.76074,
          349.75342,
          349.75044,
          349.76074,
          349.74609,
          349.74609,
          349.74609,
          349.74609,
          349.77539,
          350.009766,
          350.009766,
          350.009766,
          350.002441,
          349.99512,
          350.009766,
          350.009766,
          349.99512,
          350.002441,
          350.002441,
          349.99512,
          350.009766,
          349.98047,
          349.98047,
          349.98047,
          349.98047,
          350.244141,
          350.244141,
          350.244141,
          350.251465,
          350.244141,
          350.258789,
          350.251465,
          350.244141,
          350.21484399999997,
          350.21484399999997,
          350.21484399999997,
          350.21484399999997,
          350.478516,
          350.44921899999997,
          350.478516,
          350.478516,
          350.478516,
          350.500488,
          350.500488,
          350.500488,
          350.478516,
          350.537109,
          350.478516,
          350.478516,
          350.537109,
          350.771484,
          350.771484,
          350.771484,
          350.771484,
          350.771484,
          350.771484,
          350.80078100000003,
          350.80078100000003,
          350.771484,
          350.771484,
          351.005859,
          351.005859,
          351.005859,
          351.005859,
          350.991211,
          350.998535,
          350.991211,
          351.03515600000003,
          351.03515600000003,
          351.005859,
          351.005859,
          351.005859,
          351.240234,
          351.240234,
          351.254883,
          351.247559,
          351.254883,
          351.254883,
          351.240234,
          351.240234,
          351.240234,
          351.240234,
          351.26953100000003,
          351.50390600000003,
          351.474609,
          351.474609,
          351.518555,
          351.496582,
          351.489258,
          351.489258,
          351.474609,
          351.474609,
          351.474609,
          351.513971,
          351.474609,
          351.73828100000003,
          351.767578,
          351.767578,
          351.760254,
          351.745605,
          351.767578,
          351.767578,
          351.767578,
          351.767578,
          351.75293,
          351.73828100000003,
          352.001953,
          352.001953,
          352.001953,
          352.009277,
          351.987305,
          352.001953,
          352.001953,
          352.001953,
          352.001953,
          352.259582,
          352.236328,
          352.250977,
          352.243652,
          352.250977,
          352.236328,
          352.236328,
          352.236328,
          352.236328,
          352.529297,
          352.485352,
          352.514648,
          352.485352,
          352.514648,
          352.529297,
          352.529297,
          352.470703,
          352.470703,
          352.558594,
          352.441406,
          352.441406,
          352.529297,
          352.763672,
          352.749023,
          352.749023,
          352.749023,
          352.749023,
          352.749023,
          352.763672,
          352.763672,
          352.763672,
          352.792969,
          352.792969,
          352.792969,
          352.70835,
          353.012695,
          353.012695,
          353.005371,
          353.012695,
          353.012695,
          353.012695,
          352.998047,
          352.998047,
          352.998047,
          352.998047,
          352.998047,
          352.998047,
          352.998047,
          352.998047,
          353.027344,
          353.027344,
          353.027344,
          353.24707,
          353.24707,
          353.24707,
          353.24707,
          353.24707,
          353.24707,
          353.232422,
          353.232422,
          353.232422,
          353.232422,
          353.232422,
          353.232422,
          353.232422,
          353.261719,
          353.261719,
          353.261719,
          353.261719,
          353.503418,
          353.510742,
          353.503418,
          353.510742,
          353.510742,
          353.510742,
          353.525391,
          353.525391,
          353.525391,
          353.525391,
          353.525391,
          353.525391,
          353.510742,
          353.496094,
          353.496094,
          353.496094,
          353.496094,
          353.496094,
          353.496094,
          353.752441,
          353.759766,
          353.745117,
          353.752441,
          353.752441,
          353.745117,
          353.759766,
          353.759766,
          353.759766,
          353.759766,
          353.759766,
          353.759766,
          353.745117,
          353.752441,
          353.759766,
          353.730469,
          353.730469,
          353.730469,
          353.730469,
          353.730469,
          353.730469,
          354.001465,
          354.008789,
          353.994141,
          354.008789,
          354.008789,
          354.008789,
          354.001465,
          354.008789,
          354.001465,
          353.998794,
          354.008789,
          354.008789,
          353.994141,
          354.006008,
          353.994141,
          353.994141,
          353.994141,
          353.994141,
          353.994141,
          354.008789,
          354.008789,
          353.994141,
          353.994141,
          353.964844,
          353.964844,
          353.964844,
          353.964844,
          353.964844,
          354.243164,
          354.243164,
          354.243164,
          354.228516,
          354.243164,
          354.243164,
          354.243164,
          354.243164,
          354.250488,
          354.243164,
          354.243164,
          354.228516,
          354.228516,
          354.267985,
          354.228516,
          354.268423,
          354.228516,
          354.267574,
          354.243164,
          354.243164,
          354.243164,
          354.243164,
          354.228516,
          354.283837,
          354.199219,
          354.199219,
          354.199219,
          354.199219,
          354.499512,
          354.506836,
          354.521484,
          354.506836,
          354.506836,
          354.484084,
          354.504735,
          354.521484,
          354.506836,
          354.506836,
          354.506836,
          354.506836,
          354.521484,
          354.506836,
          354.499512,
          354.506836,
          354.506836,
          354.506836,
          354.506836,
          354.506836,
          354.499512,
          354.506836,
          354.506836,
          354.521484,
          354.521484,
          354.518412,
          354.521484,
          354.517475,
          354.51778,
          354.521484,
          354.748535,
          354.741211,
          354.741211,
          354.755859,
          354.755859,
          354.755859,
          354.755859,
          354.741211,
          354.741211,
          354.755859,
          354.755859,
          354.755859,
          354.755859,
          354.741211,
          354.741211,
          354.748535,
          354.741211,
          354.741211,
          354.741211,
          354.741211,
          354.741211,
          354.755859,
          354.755859,
          354.755859,
          354.755859,
          354.755859,
          354.755859,
          354.755859,
          354.741211,
          354.997559,
          354.990234,
          354.990234,
          354.990234,
          354.990234,
          354.990234,
          354.990234,
          354.990234,
          354.990234,
          354.997559,
          344.00391,
          344.47266,
          344.47266,
          344.41406,
          344.41406,
          344.41406,
          344.41406,
          344.55967,
          344.47266,
          344.47266,
          344.41406,
          344.56945,
          344.41406,
          344.41406,
          344.41406,
          344.41406,
          344.41406,
          345.01185,
          344.94141,
          345.11719,
          345.11719,
          344.88281,
          345.05859,
          345.0293,
          344.94141,
          344.9707,
          344.98205,
          344.9707,
          345.05859,
          345.11719,
          345.11719,
          344.88281,
          344.88281,
          345.52734,
          345.58594,
          345.58594,
          345.58594,
          345.52734,
          345.49805,
          345.52734,
          345.52734,
          345.43468,
          345.58594,
          345.52734,
          345.52734,
          345.52734,
          345.58594,
          345.58594,
          345.58594,
          346.05469,
          346.05469,
          346.05469,
          346.05469,
          345.99609,
          345.99609,
          345.99609,
          345.99609,
          346.05469,
          345.99609,
          345.99609,
          345.99609,
          345.99609,
          346.05469,
          346.05469,
          346.05469,
          346.52344,
          346.52344,
          346.52344,
          346.52344,
          346.49414,
          346.46484,
          346.46484,
          346.46484,
          346.52344,
          346.52344,
          346.49414,
          346.52344,
          346.46484,
          346.49414,
          346.46484,
          346.52344,
          346.99219,
          346.99219,
          346.99219,
          346.99219,
          347.02148,
          347.05078,
          347.05078,
          346.99219,
          346.99219,
          346.99219,
          346.99219,
          346.99219,
          346.99219,
          346.93359,
          346.96289,
          346.99219,
          347.46094,
          347.46094,
          347.46094,
          347.51953,
          347.49023,
          347.51953,
          347.51953,
          347.46094,
          347.46094,
          347.46094,
          347.46094,
          347.46094,
          347.46094,
          347.46094,
          347.51953,
          347.49023,
          347.92969,
          347.92969,
          347.92969,
          347.98828,
          348.01758,
          347.98828,
          347.98828,
          347.98828,
          347.98828,
          347.92969,
          347.92969,
          347.92969,
          347.98828,
          348.01758,
          348.39844,
          348.39844,
          348.57422,
          348.45703,
          348.57422,
          348.45703,
          348.48633,
          348.54091,
          349.10156,
          349.10156,
          349.00257,
          349.01367,
          349.01367,
          349.04297,
          349.01367,
          349.01367,
          349.57031,
          349.51172,
          349.48242,
          349.51172,
          349.51172,
          349.48242,
          349.48242,
          350.039063,
          350.009766,
          349.98047,
          350.009766,
          349.98047,
          350.009766,
          350.513844,
          350.44921899999997,
          350.44921899999997,
          350.44921899999997,
          350.478516,
          350.478516,
          351.03515600000003,
          351.03515600000003,
          351.005859,
          351.005859,
          351.005859,
          351.005859,
          351.474609,
          351.50390600000003,
          351.50390600000003,
          351.50390600000003,
          351.474609,
          352.001953,
          352.001953,
          351.97265600000003,
          351.97265600000003,
          351.97265600000003,
          352.001953,
          352.470703,
          352.529297,
          352.441406,
          352.470703,
          353.027344,
          350.822754,
          352.668457,
          354.470215,
          352.119141,
          348.80859399999997,
          349.848633,
          351.51123,
          351.994629,
          350.10498,
          354.32373,
          350.090332,
          353.811035,
          353.693848,
          353.005371,
          352.119141,
          350.727539,
          350.95459,
          353.928223,
          350.339355,
          351.599121,
          352.668457,
          354.953613,
          354.470215,
          353.811035,
          354.880371,
          353.327637,
          353.898926,
          351.42334,
          353.679199,
          350.288086,
          353.620605,
          347.63671899999997,
          349.848633,
          349.716797,
          349.855957,
          352.119141,
          350.727539,
          354.32373,
          350.822754,
          352.668457,
          352.668457,
          354.98291,
          354.470215,
          353.811035,
          354.880371,
          353.342285,
          353.679199,
          354.060059,
          354.221191,
          354.389648,
          354.221191,
          354.074707,
          354.038086,
          353.932536,
          350.053711,
          354.04541,
          354.177246,
          353.24707,
          350.236816,
          351.730957,
          353.840332,
          354.851074,
          354.953613,
          354.660645,
          353.649902,
          354.880371,
          353.664551,
          353.635254,
          350.529785,
          353.986816
         ],
         "mode": "markers",
         "text": [
          "id_coast_glob_eur_00699",
          "id_coast_glob_eur_00700",
          "id_coast_glob_eur_00714",
          "id_coast_glob_eur_00715",
          "id_coast_glob_eur_00716",
          "id_coast_glob_eur_00717",
          "id_coast_glob_eur_00751",
          "id_coast_glob_eur_00752",
          "id_coast_glob_eur_00753",
          "id_coast_glob_eur_00754",
          "id_coast_glob_eur_00755",
          "id_coast_glob_eur_00756",
          "id_coast_glob_eur_00757",
          "id_coast_glob_eur_00758",
          "id_coast_glob_eur_00759",
          "id_coast_glob_eur_00760",
          "id_coast_glob_eur_00761",
          "id_coast_glob_eur_00762",
          "id_coast_glob_eur_00763",
          "id_coast_glob_eur_00764",
          "id_coast_glob_eur_00765",
          "id_coast_glob_eur_00766",
          "id_coast_glob_eur_00767",
          "id_coast_glob_eur_00768",
          "id_coast_glob_eur_00769",
          "id_coast_glob_eur_00770",
          "id_coast_glob_eur_00771",
          "id_coast_glob_eur_00772",
          "id_coast_glob_eur_00773",
          "id_coast_glob_eur_00774",
          "id_coast_glob_eur_00775",
          "id_coast_glob_eur_00776",
          "id_coast_glob_eur_00777",
          "id_coast_glob_eur_00778",
          "id_coast_glob_eur_00779",
          "id_coast_glob_eur_00780",
          "id_coast_glob_eur_00781",
          "id_coast_glob_eur_00782",
          "id_coast_glob_eur_00783",
          "id_coast_glob_eur_00784",
          "id_coast_glob_eur_00785",
          "id_coast_glob_eur_00786",
          "id_coast_glob_eur_00787",
          "id_coast_glob_eur_00788",
          "id_coast_glob_eur_00789",
          "id_coast_glob_eur_00790",
          "id_coast_glob_eur_00791",
          "id_coast_glob_eur_00792",
          "id_coast_glob_eur_00793",
          "id_coast_glob_eur_00794",
          "id_coast_glob_eur_00795",
          "id_coast_glob_eur_00796",
          "id_coast_glob_eur_00797",
          "id_coast_glob_eur_00798",
          "id_coast_glob_eur_00799",
          "id_coast_glob_eur_00800",
          "id_coast_glob_eur_00801",
          "id_coast_glob_eur_00802",
          "id_coast_glob_eur_00803",
          "id_coast_glob_eur_00804",
          "id_coast_glob_eur_00805",
          "id_coast_glob_eur_00806",
          "id_coast_glob_eur_00807",
          "id_coast_glob_eur_00808",
          "id_coast_glob_eur_00809",
          "id_coast_glob_eur_00810",
          "id_coast_glob_eur_00811",
          "id_coast_glob_eur_00812",
          "id_coast_glob_eur_00813",
          "id_coast_glob_eur_00814",
          "id_coast_glob_eur_00815",
          "id_coast_glob_eur_00816",
          "id_coast_glob_eur_00817",
          "id_coast_glob_eur_00818",
          "id_coast_glob_eur_00819",
          "id_coast_glob_eur_00820",
          "id_coast_glob_eur_00821",
          "id_coast_glob_eur_00822",
          "id_coast_glob_eur_00823",
          "id_coast_glob_eur_00824",
          "id_coast_glob_eur_00825",
          "id_coast_glob_eur_00826",
          "id_coast_glob_eur_00827",
          "id_coast_glob_eur_00828",
          "id_coast_glob_eur_00829",
          "id_coast_glob_eur_00830",
          "id_coast_glob_eur_00831",
          "id_coast_glob_eur_00832",
          "id_coast_glob_eur_00833",
          "id_coast_glob_eur_00834",
          "id_coast_glob_eur_00835",
          "id_coast_glob_eur_00836",
          "id_coast_glob_eur_00837",
          "id_coast_glob_eur_00838",
          "id_coast_glob_eur_00839",
          "id_coast_glob_eur_00840",
          "id_coast_glob_eur_00841",
          "id_coast_glob_eur_00842",
          "id_coast_glob_eur_00843",
          "id_coast_glob_eur_00844",
          "id_coast_glob_eur_00845",
          "id_coast_glob_eur_00846",
          "id_coast_glob_eur_00847",
          "id_coast_glob_eur_00848",
          "id_coast_glob_eur_00849",
          "id_coast_glob_eur_00850",
          "id_coast_glob_eur_00851",
          "id_coast_glob_eur_00852",
          "id_coast_glob_eur_00853",
          "id_coast_glob_eur_00854",
          "id_coast_glob_eur_00855",
          "id_coast_glob_eur_00856",
          "id_coast_glob_eur_00857",
          "id_coast_glob_eur_00858",
          "id_coast_glob_eur_00859",
          "id_coast_glob_eur_00860",
          "id_coast_glob_eur_00861",
          "id_coast_glob_eur_00862",
          "id_coast_glob_eur_00863",
          "id_coast_glob_eur_00864",
          "id_coast_glob_eur_00865",
          "id_coast_glob_eur_00866",
          "id_coast_glob_eur_00867",
          "id_coast_glob_eur_00868",
          "id_coast_glob_eur_00869",
          "id_coast_glob_eur_00870",
          "id_coast_glob_eur_00871",
          "id_coast_glob_eur_00872",
          "id_coast_glob_eur_00873",
          "id_coast_glob_eur_00874",
          "id_coast_glob_eur_00875",
          "id_coast_glob_eur_00876",
          "id_coast_glob_eur_00877",
          "id_coast_glob_eur_00878",
          "id_coast_glob_eur_00879",
          "id_coast_glob_eur_00880",
          "id_coast_glob_eur_00881",
          "id_coast_glob_eur_00882",
          "id_coast_glob_eur_00883",
          "id_coast_glob_eur_00884",
          "id_coast_glob_eur_00885",
          "id_coast_glob_eur_00886",
          "id_coast_glob_eur_00887",
          "id_coast_glob_eur_00888",
          "id_coast_glob_eur_00889",
          "id_coast_glob_eur_00890",
          "id_coast_glob_eur_00891",
          "id_coast_glob_eur_00892",
          "id_coast_glob_eur_00893",
          "id_coast_glob_eur_00894",
          "id_coast_glob_eur_00895",
          "id_coast_glob_eur_00896",
          "id_coast_glob_eur_00897",
          "id_coast_glob_eur_00898",
          "id_coast_glob_eur_00899",
          "id_coast_glob_eur_00900",
          "id_coast_glob_eur_00901",
          "id_coast_glob_eur_00902",
          "id_coast_glob_eur_00903",
          "id_coast_glob_eur_00904",
          "id_coast_glob_eur_00905",
          "id_coast_glob_eur_00906",
          "id_coast_glob_eur_00907",
          "id_coast_glob_eur_00908",
          "id_coast_glob_eur_00909",
          "id_coast_glob_eur_00910",
          "id_coast_glob_eur_00911",
          "id_coast_glob_eur_00912",
          "id_coast_glob_eur_00913",
          "id_coast_glob_eur_00914",
          "id_coast_glob_eur_00915",
          "id_coast_glob_eur_00916",
          "id_coast_glob_eur_00917",
          "id_coast_glob_eur_00918",
          "id_coast_glob_eur_00919",
          "id_coast_glob_eur_00920",
          "id_coast_glob_eur_00921",
          "id_coast_glob_eur_00922",
          "id_coast_glob_eur_00923",
          "id_coast_glob_eur_00924",
          "id_coast_glob_eur_00925",
          "id_coast_glob_eur_00926",
          "id_coast_glob_eur_00927",
          "id_coast_glob_eur_00928",
          "id_coast_glob_eur_00929",
          "id_coast_glob_eur_00930",
          "id_coast_glob_eur_00931",
          "id_coast_glob_eur_00932",
          "id_coast_glob_eur_00933",
          "id_coast_glob_eur_00934",
          "id_coast_glob_eur_00935",
          "id_coast_glob_eur_00936",
          "id_coast_glob_eur_00937",
          "id_coast_glob_eur_00938",
          "id_coast_glob_eur_00939",
          "id_coast_glob_eur_00940",
          "id_coast_glob_eur_00941",
          "id_coast_glob_eur_00942",
          "id_coast_glob_eur_00943",
          "id_coast_glob_eur_00944",
          "id_coast_glob_eur_00945",
          "id_coast_glob_eur_00946",
          "id_coast_glob_eur_00947",
          "id_coast_glob_eur_00948",
          "id_coast_glob_eur_00949",
          "id_coast_glob_eur_00950",
          "id_coast_glob_eur_00951",
          "id_coast_glob_eur_00952",
          "id_coast_glob_eur_00953",
          "id_coast_glob_eur_00954",
          "id_coast_glob_eur_00955",
          "id_coast_glob_eur_00956",
          "id_coast_glob_eur_00957",
          "id_coast_glob_eur_00958",
          "id_coast_glob_eur_00959",
          "id_coast_glob_eur_00960",
          "id_coast_glob_eur_00961",
          "id_coast_glob_eur_00962",
          "id_coast_glob_eur_00963",
          "id_coast_glob_eur_00964",
          "id_coast_glob_eur_00965",
          "id_coast_glob_eur_00966",
          "id_coast_glob_eur_00967",
          "id_coast_glob_eur_00968",
          "id_coast_glob_eur_00969",
          "id_coast_glob_eur_00970",
          "id_coast_glob_eur_00971",
          "id_coast_glob_eur_00972",
          "id_coast_glob_eur_00973",
          "id_coast_glob_eur_00974",
          "id_coast_glob_eur_00975",
          "id_coast_glob_eur_00976",
          "id_coast_glob_eur_01427",
          "id_coast_glob_eur_01428",
          "id_coast_glob_eur_01429",
          "id_coast_glob_eur_01430",
          "id_coast_glob_eur_01431",
          "id_coast_glob_eur_01432",
          "id_coast_glob_eur_01433",
          "id_coast_glob_eur_01434",
          "id_coast_glob_eur_01435",
          "id_coast_glob_eur_01436",
          "id_coast_glob_eur_01437",
          "id_coast_glob_eur_01438",
          "id_coast_glob_eur_01439",
          "id_coast_glob_eur_01440",
          "id_coast_glob_eur_01441",
          "id_coast_glob_eur_01442",
          "id_coast_glob_eur_01443",
          "id_coast_glob_eur_01444",
          "id_coast_glob_eur_01445",
          "id_coast_glob_eur_01446",
          "id_coast_glob_eur_01447",
          "id_coast_glob_eur_01506",
          "id_coast_glob_eur_01507",
          "id_coast_glob_eur_01508",
          "id_coast_glob_eur_01509",
          "id_coast_glob_eur_01510",
          "id_coast_glob_eur_01511",
          "id_coast_glob_eur_01512",
          "id_coast_glob_eur_01513",
          "id_coast_glob_eur_01514",
          "id_coast_glob_eur_01515",
          "id_coast_glob_eur_01516",
          "id_coast_glob_eur_01621",
          "id_coast_glob_eur_01622",
          "id_coast_glob_eur_01624",
          "id_coast_glob_eur_01625",
          "id_coast_glob_eur_01626",
          "id_coast_glob_eur_01638",
          "id_coast_glob_eur_01639",
          "id_coast_glob_eur_01640",
          "id_coast_glob_eur_01641",
          "id_coast_glob_eur_01642",
          "id_coast_glob_eur_01643",
          "id_coast_glob_eur_01645",
          "id_coast_glob_eur_01646",
          "id_coast_glob_eur_01647",
          "id_coast_glob_eur_01648",
          "id_coast_glob_eur_01649",
          "id_coast_glob_eur_01650",
          "id_coast_glob_eur_01651",
          "id_coast_glob_eur_01652",
          "id_coast_glob_eur_01653",
          "id_coast_glob_eur_01654",
          "id_coast_glob_eur_01655",
          "id_coast_glob_eur_01656",
          "id_coast_glob_eur_01657",
          "id_coast_glob_eur_01658",
          "id_coast_glob_eur_01659",
          "id_coast_glob_eur_01660",
          "id_coast_glob_eur_01661",
          "id_coast_glob_eur_01662",
          "id_coast_glob_eur_01663",
          "id_coast_glob_eur_01664",
          "id_coast_glob_eur_01665",
          "id_coast_glob_eur_01666",
          "id_coast_glob_eur_01667",
          "id_coast_glob_eur_01668",
          "id_coast_glob_eur_01669",
          "id_coast_glob_eur_01670",
          "id_coast_glob_eur_01671",
          "id_coast_glob_eur_01672",
          "id_coast_glob_eur_01673",
          "id_coast_glob_eur_01674",
          "id_coast_glob_eur_01675",
          "id_coast_glob_eur_01676",
          "id_coast_glob_eur_01677",
          "id_coast_glob_eur_01678",
          "id_reg_grid_eur_01896",
          "id_reg_grid_eur_01897",
          "id_reg_grid_eur_01898",
          "id_reg_grid_eur_01899",
          "id_reg_grid_eur_01912",
          "id_reg_grid_eur_01913",
          "id_reg_grid_eur_01914",
          "id_reg_grid_eur_01915",
          "id_reg_grid_eur_01924",
          "id_reg_grid_eur_01925",
          "id_reg_grid_eur_01926",
          "id_reg_grid_eur_01927",
          "id_reg_grid_eur_01928",
          "id_reg_grid_eur_01929",
          "id_reg_grid_eur_01930",
          "id_reg_grid_eur_01931",
          "id_reg_grid_eur_01932",
          "id_reg_grid_eur_01933",
          "id_reg_grid_eur_01934",
          "id_reg_grid_eur_01935",
          "id_reg_grid_eur_01936",
          "id_reg_grid_eur_01937",
          "id_reg_grid_eur_01938",
          "id_reg_grid_eur_01939",
          "id_reg_grid_eur_01947",
          "id_reg_grid_eur_01948",
          "id_reg_grid_eur_01949",
          "id_reg_grid_eur_01950",
          "id_reg_grid_eur_01951",
          "id_reg_grid_eur_01952",
          "id_reg_grid_eur_01953",
          "id_reg_grid_eur_01954",
          "id_reg_grid_eur_01955",
          "id_reg_grid_eur_01956",
          "id_reg_grid_eur_01957",
          "id_reg_grid_eur_01958",
          "id_reg_grid_eur_01959",
          "id_reg_grid_eur_01960",
          "id_reg_grid_eur_01961",
          "id_reg_grid_eur_01962",
          "id_reg_grid_eur_01971",
          "id_reg_grid_eur_01972",
          "id_reg_grid_eur_01973",
          "id_reg_grid_eur_01974",
          "id_reg_grid_eur_01975",
          "id_reg_grid_eur_01976",
          "id_reg_grid_eur_01977",
          "id_reg_grid_eur_01978",
          "id_reg_grid_eur_01979",
          "id_reg_grid_eur_01980",
          "id_reg_grid_eur_01981",
          "id_reg_grid_eur_01982",
          "id_reg_grid_eur_01983",
          "id_reg_grid_eur_01984",
          "id_reg_grid_eur_01985",
          "id_reg_grid_eur_01986",
          "id_reg_grid_eur_02004",
          "id_reg_grid_eur_02005",
          "id_reg_grid_eur_02006",
          "id_reg_grid_eur_02007",
          "id_reg_grid_eur_02008",
          "id_reg_grid_eur_02009",
          "id_reg_grid_eur_02010",
          "id_reg_grid_eur_02011",
          "id_reg_grid_eur_02012",
          "id_reg_grid_eur_02013",
          "id_reg_grid_eur_02014",
          "id_reg_grid_eur_02015",
          "id_reg_grid_eur_02016",
          "id_reg_grid_eur_02017",
          "id_reg_grid_eur_02018",
          "id_reg_grid_eur_02019",
          "id_reg_grid_eur_02041",
          "id_reg_grid_eur_02042",
          "id_reg_grid_eur_02043",
          "id_reg_grid_eur_02044",
          "id_reg_grid_eur_02045",
          "id_reg_grid_eur_02046",
          "id_reg_grid_eur_02047",
          "id_reg_grid_eur_02048",
          "id_reg_grid_eur_02049",
          "id_reg_grid_eur_02050",
          "id_reg_grid_eur_02051",
          "id_reg_grid_eur_02052",
          "id_reg_grid_eur_02053",
          "id_reg_grid_eur_02054",
          "id_reg_grid_eur_02055",
          "id_reg_grid_eur_02056",
          "id_reg_grid_eur_02057",
          "id_reg_grid_eur_02058",
          "id_reg_grid_eur_02095",
          "id_reg_grid_eur_02096",
          "id_reg_grid_eur_02097",
          "id_reg_grid_eur_02098",
          "id_reg_grid_eur_02099",
          "id_reg_grid_eur_02100",
          "id_reg_grid_eur_02101",
          "id_reg_grid_eur_02102",
          "id_reg_grid_eur_02103",
          "id_reg_grid_eur_02104",
          "id_reg_grid_eur_02105",
          "id_reg_grid_eur_02106",
          "id_reg_grid_eur_02107",
          "id_reg_grid_eur_02108",
          "id_reg_grid_eur_02109",
          "id_reg_grid_eur_02110",
          "id_reg_grid_eur_02111",
          "id_reg_grid_eur_02151",
          "id_reg_grid_eur_02152",
          "id_reg_grid_eur_02153",
          "id_reg_grid_eur_02154",
          "id_reg_grid_eur_02155",
          "id_reg_grid_eur_02156",
          "id_reg_grid_eur_02157",
          "id_reg_grid_eur_02158",
          "id_reg_grid_eur_02159",
          "id_reg_grid_eur_02160",
          "id_reg_grid_eur_02161",
          "id_reg_grid_eur_02162",
          "id_reg_grid_eur_02163",
          "id_reg_grid_eur_02164",
          "id_reg_grid_eur_02165",
          "id_reg_grid_eur_02166",
          "id_reg_grid_eur_02225",
          "id_reg_grid_eur_02226",
          "id_reg_grid_eur_02227",
          "id_reg_grid_eur_02228",
          "id_reg_grid_eur_02229",
          "id_reg_grid_eur_02230",
          "id_reg_grid_eur_02231",
          "id_reg_grid_eur_02232",
          "id_reg_grid_eur_02233",
          "id_reg_grid_eur_02234",
          "id_reg_grid_eur_02235",
          "id_reg_grid_eur_02236",
          "id_reg_grid_eur_02294",
          "id_reg_grid_eur_02295",
          "id_reg_grid_eur_02296",
          "id_reg_grid_eur_02297",
          "id_reg_grid_eur_02298",
          "id_reg_grid_eur_02299",
          "id_reg_grid_eur_02300",
          "id_reg_grid_eur_02301",
          "id_reg_grid_eur_02302",
          "id_reg_grid_eur_02303",
          "id_reg_grid_eur_02304",
          "id_reg_grid_eur_02305",
          "id_reg_grid_eur_02306",
          "id_reg_grid_eur_02364",
          "id_reg_grid_eur_02365",
          "id_reg_grid_eur_02366",
          "id_reg_grid_eur_02367",
          "id_reg_grid_eur_02368",
          "id_reg_grid_eur_02369",
          "id_reg_grid_eur_02370",
          "id_reg_grid_eur_02371",
          "id_reg_grid_eur_02372",
          "id_reg_grid_eur_02373",
          "id_reg_grid_eur_02428",
          "id_reg_grid_eur_02429",
          "id_reg_grid_eur_02430",
          "id_reg_grid_eur_02431",
          "id_reg_grid_eur_02432",
          "id_reg_grid_eur_02433",
          "id_reg_grid_eur_02434",
          "id_reg_grid_eur_02435",
          "id_reg_grid_eur_02436",
          "id_reg_grid_eur_02437",
          "id_reg_grid_eur_02438",
          "id_reg_grid_eur_02439",
          "id_reg_grid_eur_02493",
          "id_reg_grid_eur_02494",
          "id_reg_grid_eur_02495",
          "id_reg_grid_eur_02496",
          "id_reg_grid_eur_02497",
          "id_reg_grid_eur_02498",
          "id_reg_grid_eur_02499",
          "id_reg_grid_eur_02500",
          "id_reg_grid_eur_02501",
          "id_reg_grid_eur_02502",
          "id_reg_grid_eur_02503",
          "id_reg_grid_eur_02545",
          "id_reg_grid_eur_02546",
          "id_reg_grid_eur_02547",
          "id_reg_grid_eur_02548",
          "id_reg_grid_eur_02549",
          "id_reg_grid_eur_02551",
          "id_reg_grid_eur_02552",
          "id_reg_grid_eur_02553",
          "id_reg_grid_eur_02554",
          "id_reg_grid_eur_02555",
          "id_reg_grid_eur_02556",
          "id_reg_grid_eur_02557",
          "id_reg_grid_eur_02596",
          "id_reg_grid_eur_02597",
          "id_reg_grid_eur_02598",
          "id_reg_grid_eur_02599",
          "id_reg_grid_eur_02600",
          "id_reg_grid_eur_02601",
          "id_reg_grid_eur_02602",
          "id_reg_grid_eur_02603",
          "id_reg_grid_eur_02604",
          "id_reg_grid_eur_02605",
          "id_reg_grid_eur_02606",
          "id_reg_grid_eur_02646",
          "id_reg_grid_eur_02647",
          "id_reg_grid_eur_02648",
          "id_reg_grid_eur_02649",
          "id_reg_grid_eur_02650",
          "id_reg_grid_eur_02651",
          "id_reg_grid_eur_02652",
          "id_reg_grid_eur_02653",
          "id_reg_grid_eur_02654",
          "id_reg_grid_eur_02693",
          "id_reg_grid_eur_02694",
          "id_reg_grid_eur_02695",
          "id_reg_grid_eur_02696",
          "id_reg_grid_eur_02697",
          "id_reg_grid_eur_02698",
          "id_reg_grid_eur_02699",
          "id_reg_grid_eur_02700",
          "id_reg_grid_eur_02701",
          "id_reg_grid_eur_02743",
          "id_reg_grid_eur_02744",
          "id_reg_grid_eur_02745",
          "id_reg_grid_eur_02746",
          "id_reg_grid_eur_02747",
          "id_reg_grid_eur_02748",
          "id_reg_grid_eur_02749",
          "id_reg_grid_eur_02750",
          "id_reg_grid_eur_02751",
          "id_reg_grid_eur_02752",
          "id_reg_grid_eur_02753",
          "id_reg_grid_eur_02754",
          "id_reg_grid_eur_02755",
          "id_reg_grid_eur_02800",
          "id_reg_grid_eur_02801",
          "id_reg_grid_eur_02802",
          "id_reg_grid_eur_02803",
          "id_reg_grid_eur_02804",
          "id_reg_grid_eur_02805",
          "id_reg_grid_eur_02806",
          "id_reg_grid_eur_02807",
          "id_reg_grid_eur_02808",
          "id_reg_grid_eur_02809",
          "id_reg_grid_eur_02810",
          "id_reg_grid_eur_02811",
          "id_reg_grid_eur_02812",
          "id_reg_grid_eur_02856",
          "id_reg_grid_eur_02857",
          "id_reg_grid_eur_02858",
          "id_reg_grid_eur_02859",
          "id_reg_grid_eur_02860",
          "id_reg_grid_eur_02861",
          "id_reg_grid_eur_02862",
          "id_reg_grid_eur_02863",
          "id_reg_grid_eur_02864",
          "id_reg_grid_eur_02865",
          "id_reg_grid_eur_02866",
          "id_reg_grid_eur_02867",
          "id_reg_grid_eur_02868",
          "id_reg_grid_eur_02869",
          "id_reg_grid_eur_02870",
          "id_reg_grid_eur_02871",
          "id_reg_grid_eur_02872",
          "id_reg_grid_eur_02916",
          "id_reg_grid_eur_02917",
          "id_reg_grid_eur_02918",
          "id_reg_grid_eur_02919",
          "id_reg_grid_eur_02920",
          "id_reg_grid_eur_02921",
          "id_reg_grid_eur_02922",
          "id_reg_grid_eur_02923",
          "id_reg_grid_eur_02924",
          "id_reg_grid_eur_02925",
          "id_reg_grid_eur_02926",
          "id_reg_grid_eur_02927",
          "id_reg_grid_eur_02928",
          "id_reg_grid_eur_02929",
          "id_reg_grid_eur_02930",
          "id_reg_grid_eur_02931",
          "id_reg_grid_eur_02932",
          "id_reg_grid_eur_02974",
          "id_reg_grid_eur_02975",
          "id_reg_grid_eur_02976",
          "id_reg_grid_eur_02977",
          "id_reg_grid_eur_02978",
          "id_reg_grid_eur_02979",
          "id_reg_grid_eur_02980",
          "id_reg_grid_eur_02981",
          "id_reg_grid_eur_02982",
          "id_reg_grid_eur_02983",
          "id_reg_grid_eur_02984",
          "id_reg_grid_eur_02985",
          "id_reg_grid_eur_02986",
          "id_reg_grid_eur_02987",
          "id_reg_grid_eur_02988",
          "id_reg_grid_eur_02989",
          "id_reg_grid_eur_02990",
          "id_reg_grid_eur_02991",
          "id_reg_grid_eur_02992",
          "id_reg_grid_eur_03034",
          "id_reg_grid_eur_03035",
          "id_reg_grid_eur_03036",
          "id_reg_grid_eur_03037",
          "id_reg_grid_eur_03038",
          "id_reg_grid_eur_03039",
          "id_reg_grid_eur_03040",
          "id_reg_grid_eur_03041",
          "id_reg_grid_eur_03042",
          "id_reg_grid_eur_03043",
          "id_reg_grid_eur_03044",
          "id_reg_grid_eur_03045",
          "id_reg_grid_eur_03046",
          "id_reg_grid_eur_03047",
          "id_reg_grid_eur_03048",
          "id_reg_grid_eur_03049",
          "id_reg_grid_eur_03050",
          "id_reg_grid_eur_03051",
          "id_reg_grid_eur_03052",
          "id_reg_grid_eur_03053",
          "id_reg_grid_eur_03054",
          "id_reg_grid_eur_03089",
          "id_reg_grid_eur_03090",
          "id_reg_grid_eur_03091",
          "id_reg_grid_eur_03092",
          "id_reg_grid_eur_03093",
          "id_reg_grid_eur_03094",
          "id_reg_grid_eur_03095",
          "id_reg_grid_eur_03096",
          "id_reg_grid_eur_03097",
          "id_reg_grid_eur_03098",
          "id_reg_grid_eur_03099",
          "id_reg_grid_eur_03100",
          "id_reg_grid_eur_03101",
          "id_reg_grid_eur_03102",
          "id_reg_grid_eur_03103",
          "id_reg_grid_eur_03104",
          "id_reg_grid_eur_03105",
          "id_reg_grid_eur_03106",
          "id_reg_grid_eur_03107",
          "id_reg_grid_eur_03108",
          "id_reg_grid_eur_03109",
          "id_reg_grid_eur_03110",
          "id_reg_grid_eur_03111",
          "id_reg_grid_eur_03112",
          "id_reg_grid_eur_03113",
          "id_reg_grid_eur_03114",
          "id_reg_grid_eur_03115",
          "id_reg_grid_eur_03116",
          "id_reg_grid_eur_03147",
          "id_reg_grid_eur_03148",
          "id_reg_grid_eur_03149",
          "id_reg_grid_eur_03150",
          "id_reg_grid_eur_03151",
          "id_reg_grid_eur_03152",
          "id_reg_grid_eur_03153",
          "id_reg_grid_eur_03154",
          "id_reg_grid_eur_03155",
          "id_reg_grid_eur_03156",
          "id_reg_grid_eur_03157",
          "id_reg_grid_eur_03158",
          "id_reg_grid_eur_03159",
          "id_reg_grid_eur_03160",
          "id_reg_grid_eur_03161",
          "id_reg_grid_eur_03162",
          "id_reg_grid_eur_03163",
          "id_reg_grid_eur_03164",
          "id_reg_grid_eur_03165",
          "id_reg_grid_eur_03166",
          "id_reg_grid_eur_03167",
          "id_reg_grid_eur_03168",
          "id_reg_grid_eur_03169",
          "id_reg_grid_eur_03170",
          "id_reg_grid_eur_03171",
          "id_reg_grid_eur_03172",
          "id_reg_grid_eur_03173",
          "id_reg_grid_eur_03174",
          "id_reg_grid_eur_03199",
          "id_reg_grid_eur_03200",
          "id_reg_grid_eur_03201",
          "id_reg_grid_eur_03202",
          "id_reg_grid_eur_03203",
          "id_reg_grid_eur_03204",
          "id_reg_grid_eur_03205",
          "id_reg_grid_eur_03206",
          "id_reg_grid_eur_03207",
          "id_reg_grid_eur_03208",
          "id_reg_grid_eur_03209",
          "id_reg_grid_eur_03210",
          "id_reg_grid_eur_03211",
          "id_reg_grid_eur_03212",
          "id_reg_grid_eur_03213",
          "id_reg_grid_eur_03214",
          "id_reg_grid_eur_03215",
          "id_reg_grid_eur_03216",
          "id_reg_grid_eur_03217",
          "id_reg_grid_eur_03218",
          "id_reg_grid_eur_03219",
          "id_reg_grid_eur_03220",
          "id_reg_grid_eur_03221",
          "id_reg_grid_eur_03222",
          "id_reg_grid_eur_03223",
          "id_reg_grid_eur_03224",
          "id_reg_grid_eur_03225",
          "id_reg_grid_eur_03226",
          "id_reg_grid_eur_03227",
          "id_reg_grid_eur_03228",
          "id_reg_grid_eur_03251",
          "id_reg_grid_eur_03252",
          "id_reg_grid_eur_03253",
          "id_reg_grid_eur_03254",
          "id_reg_grid_eur_03255",
          "id_reg_grid_eur_03256",
          "id_reg_grid_eur_03257",
          "id_reg_grid_eur_03258",
          "id_reg_grid_eur_03259",
          "id_reg_grid_eur_03260",
          "id_reg_grid_eur_03261",
          "id_reg_grid_eur_03262",
          "id_reg_grid_eur_03263",
          "id_reg_grid_eur_03264",
          "id_reg_grid_eur_03265",
          "id_reg_grid_eur_03266",
          "id_reg_grid_eur_03267",
          "id_reg_grid_eur_03268",
          "id_reg_grid_eur_03269",
          "id_reg_grid_eur_03270",
          "id_reg_grid_eur_03271",
          "id_reg_grid_eur_03272",
          "id_reg_grid_eur_03273",
          "id_reg_grid_eur_03274",
          "id_reg_grid_eur_03275",
          "id_reg_grid_eur_03276",
          "id_reg_grid_eur_03277",
          "id_reg_grid_eur_03278",
          "id_reg_grid_eur_03279",
          "id_reg_grid_eur_03300",
          "id_reg_grid_eur_03303",
          "id_reg_grid_eur_03304",
          "id_reg_grid_eur_03310",
          "id_reg_grid_eur_03318",
          "id_reg_grid_eur_03319",
          "id_reg_grid_eur_03320",
          "id_reg_grid_eur_03321",
          "id_reg_grid_eur_03322",
          "id_reg_grid_eur_03325",
          "id_reg_grid_eur_11483",
          "id_reg_grid_eur_11532",
          "id_reg_grid_eur_11533",
          "id_reg_grid_eur_11534",
          "id_reg_grid_eur_11535",
          "id_reg_grid_eur_11536",
          "id_reg_grid_eur_11537",
          "id_reg_grid_eur_11538",
          "id_reg_grid_eur_11539",
          "id_reg_grid_eur_11540",
          "id_reg_grid_eur_11541",
          "id_reg_grid_eur_11542",
          "id_reg_grid_eur_11543",
          "id_reg_grid_eur_11544",
          "id_reg_grid_eur_11545",
          "id_reg_grid_eur_11546",
          "id_reg_grid_eur_11547",
          "id_reg_grid_eur_11589",
          "id_reg_grid_eur_11590",
          "id_reg_grid_eur_11591",
          "id_reg_grid_eur_11592",
          "id_reg_grid_eur_11593",
          "id_reg_grid_eur_11594",
          "id_reg_grid_eur_11595",
          "id_reg_grid_eur_11596",
          "id_reg_grid_eur_11597",
          "id_reg_grid_eur_11598",
          "id_reg_grid_eur_11599",
          "id_reg_grid_eur_11600",
          "id_reg_grid_eur_11601",
          "id_reg_grid_eur_11602",
          "id_reg_grid_eur_11603",
          "id_reg_grid_eur_11604",
          "id_reg_grid_eur_11660",
          "id_reg_grid_eur_11661",
          "id_reg_grid_eur_11662",
          "id_reg_grid_eur_11663",
          "id_reg_grid_eur_11664",
          "id_reg_grid_eur_11665",
          "id_reg_grid_eur_11666",
          "id_reg_grid_eur_11667",
          "id_reg_grid_eur_11668",
          "id_reg_grid_eur_11669",
          "id_reg_grid_eur_11670",
          "id_reg_grid_eur_11671",
          "id_reg_grid_eur_11672",
          "id_reg_grid_eur_11673",
          "id_reg_grid_eur_11674",
          "id_reg_grid_eur_11675",
          "id_reg_grid_eur_11731",
          "id_reg_grid_eur_11732",
          "id_reg_grid_eur_11733",
          "id_reg_grid_eur_11734",
          "id_reg_grid_eur_11735",
          "id_reg_grid_eur_11736",
          "id_reg_grid_eur_11737",
          "id_reg_grid_eur_11738",
          "id_reg_grid_eur_11739",
          "id_reg_grid_eur_11740",
          "id_reg_grid_eur_11741",
          "id_reg_grid_eur_11742",
          "id_reg_grid_eur_11743",
          "id_reg_grid_eur_11744",
          "id_reg_grid_eur_11745",
          "id_reg_grid_eur_11746",
          "id_reg_grid_eur_11804",
          "id_reg_grid_eur_11805",
          "id_reg_grid_eur_11806",
          "id_reg_grid_eur_11807",
          "id_reg_grid_eur_11808",
          "id_reg_grid_eur_11809",
          "id_reg_grid_eur_11810",
          "id_reg_grid_eur_11811",
          "id_reg_grid_eur_11812",
          "id_reg_grid_eur_11813",
          "id_reg_grid_eur_11814",
          "id_reg_grid_eur_11815",
          "id_reg_grid_eur_11816",
          "id_reg_grid_eur_11817",
          "id_reg_grid_eur_11818",
          "id_reg_grid_eur_11819",
          "id_reg_grid_eur_11879",
          "id_reg_grid_eur_11880",
          "id_reg_grid_eur_11881",
          "id_reg_grid_eur_11882",
          "id_reg_grid_eur_11883",
          "id_reg_grid_eur_11884",
          "id_reg_grid_eur_11885",
          "id_reg_grid_eur_11886",
          "id_reg_grid_eur_11887",
          "id_reg_grid_eur_11888",
          "id_reg_grid_eur_11889",
          "id_reg_grid_eur_11890",
          "id_reg_grid_eur_11891",
          "id_reg_grid_eur_11892",
          "id_reg_grid_eur_11893",
          "id_reg_grid_eur_11894",
          "id_reg_grid_eur_11958",
          "id_reg_grid_eur_11959",
          "id_reg_grid_eur_11960",
          "id_reg_grid_eur_11961",
          "id_reg_grid_eur_11962",
          "id_reg_grid_eur_11963",
          "id_reg_grid_eur_11964",
          "id_reg_grid_eur_11965",
          "id_reg_grid_eur_11966",
          "id_reg_grid_eur_11967",
          "id_reg_grid_eur_11968",
          "id_reg_grid_eur_11969",
          "id_reg_grid_eur_11970",
          "id_reg_grid_eur_11971",
          "id_reg_grid_eur_11972",
          "id_reg_grid_eur_11973",
          "id_reg_grid_eur_12042",
          "id_reg_grid_eur_12043",
          "id_reg_grid_eur_12044",
          "id_reg_grid_eur_12045",
          "id_reg_grid_eur_12046",
          "id_reg_grid_eur_12047",
          "id_reg_grid_eur_12048",
          "id_reg_grid_eur_12049",
          "id_reg_grid_eur_12050",
          "id_reg_grid_eur_12051",
          "id_reg_grid_eur_12052",
          "id_reg_grid_eur_12053",
          "id_reg_grid_eur_12054",
          "id_reg_grid_eur_12055",
          "id_reg_grid_eur_12125",
          "id_reg_grid_eur_12126",
          "id_reg_grid_eur_12127",
          "id_reg_grid_eur_12128",
          "id_reg_grid_eur_12129",
          "id_reg_grid_eur_12130",
          "id_reg_grid_eur_12131",
          "id_reg_grid_eur_12132",
          "id_reg_grid_eur_12201",
          "id_reg_grid_eur_12202",
          "id_reg_grid_eur_12203",
          "id_reg_grid_eur_12204",
          "id_reg_grid_eur_12205",
          "id_reg_grid_eur_12206",
          "id_reg_grid_eur_12207",
          "id_reg_grid_eur_12208",
          "id_reg_grid_eur_12270",
          "id_reg_grid_eur_12271",
          "id_reg_grid_eur_12272",
          "id_reg_grid_eur_12273",
          "id_reg_grid_eur_12274",
          "id_reg_grid_eur_12275",
          "id_reg_grid_eur_12276",
          "id_reg_grid_eur_12328",
          "id_reg_grid_eur_12329",
          "id_reg_grid_eur_12330",
          "id_reg_grid_eur_12331",
          "id_reg_grid_eur_12332",
          "id_reg_grid_eur_12333",
          "id_reg_grid_eur_12373",
          "id_reg_grid_eur_12374",
          "id_reg_grid_eur_12375",
          "id_reg_grid_eur_12376",
          "id_reg_grid_eur_12377",
          "id_reg_grid_eur_12378",
          "id_reg_grid_eur_12413",
          "id_reg_grid_eur_12414",
          "id_reg_grid_eur_12415",
          "id_reg_grid_eur_12416",
          "id_reg_grid_eur_12417",
          "id_reg_grid_eur_12418",
          "id_reg_grid_eur_12450",
          "id_reg_grid_eur_12451",
          "id_reg_grid_eur_12452",
          "id_reg_grid_eur_12453",
          "id_reg_grid_eur_12454",
          "id_reg_grid_eur_12484",
          "id_reg_grid_eur_12485",
          "id_reg_grid_eur_12486",
          "id_reg_grid_eur_12487",
          "id_reg_grid_eur_12488",
          "id_reg_grid_eur_12489",
          "id_reg_grid_eur_12517",
          "id_reg_grid_eur_12518",
          "id_reg_grid_eur_12519",
          "id_reg_grid_eur_12520",
          "id_reg_grid_eur_12546",
          "id_obs_castletownsend",
          "id_obs_malin_head",
          "id_obs_newlyn",
          "IBIS_GL_TS_MO_62023",
          "IBIS_GL_TS_MO_62090",
          "IBIS_IR_TS_MO_AMETS-weather-buoy",
          "IBIS_IR_TS_MO_Aranmore",
          "IBIS_IR_TS_MO_Ballycotton",
          "IBIS_IR_TS_MO_Ballyglass",
          "IBIS_IR_TS_MO_Bangor",
          "IBIS_IR_TS_MO_Castletownbere",
          "IBIS_IR_TS_MO_DublinPort",
          "IBIS_IR_TS_MO_Dundalk",
          "IBIS_IR_TS_MO_Dunmore",
          "IBIS_IR_TS_MO_FS1-weather-buoy",
          "IBIS_IR_TS_MO_Galway-coast-buoy",
          "IBIS_IR_TS_MO_GalwayPort",
          "IBIS_IR_TS_MO_Howth",
          "IBIS_IR_TS_MO_Inishmore",
          "IBIS_IR_TS_MO_Killybegs",
          "IBIS_IR_TS_MO_MalinHead",
          "IBIS_IR_TS_MO_Milford",
          "IBIS_IR_TS_MO_Newlyn",
          "IBIS_IR_TS_MO_PortEllen",
          "IBIS_IR_TS_MO_Portpatrick",
          "IBIS_IR_TS_MO_Portrush",
          "IBIS_IR_TS_MO_SkerriesHarbour",
          "IBIS_IR_TS_MO_Sligo",
          "IBIS_IR_TS_MO_StMarys",
          "IBIS_IR_TS_MO_WestwaveMK3-coast-buoy",
          "IBIS_IR_TS_MO_Wexford",
          "NWS_IR_TS_MO_62029",
          "NWS_IR_TS_MO_AMETS_weather_buoy",
          "NWS_IR_TS_MO_BelmulletA_cost_buoy",
          "NWS_IR_TS_MO_BelmulletB_cost_buoy",
          "NWS_IR_TS_MO_FS1_weather_buoy",
          "NWS_IR_TS_MO_Galway_cost_buoy",
          "id_obs_bangor_p662_uk_bodc",
          "id_obs_castletownsend_835a_ireland_uhslc",
          "id_obs_malin_head_834a_ireland_uhslc",
          "id_obs_malinhead_malinhead_glossdm_bodc",
          "id_obs_milfordhaven_p056_uk_bodc",
          "id_obs_newlyn_cornwall_294a_united_kingd",
          "id_obs_portellen_p202_uk_bodc",
          "id_obs_portpatrick_p063_uk_bodc",
          "id_obs_portrush_p935_uk_bodc",
          "id_obs_stmarys_p231_uk_bodc",
          "currents_arklow_bank_2",
          "currents_codling_bank",
          "currents_wave_hub",
          "currents_codling_wind_farm",
          "currents_dublin_array",
          "currents_gaelectric_foreshore_test_sites",
          "currents_oriel_wind_farm",
          "currents_skerd_rocks",
          "currents_arklow_bank_phase_1",
          "currents_belfast",
          "currents_londonderry",
          "currents_foynes",
          "currents_cork",
          "currents_dublin",
          "currents_milford_haven",
          "currents_falmouth_harbour",
          "islands_242176",
          "islands_242222",
          "islands_242232",
          "islands_242261",
          "islands_242264",
          "islands_244257",
          "islands_244945"
         ],
         "type": "scattermapbox"
        }
       ],
       "layout": {
        "autosize": true,
        "hovermode": "closest",
        "mapbox": {
         "bearing": 0,
         "center": {
          "lat": 53.4,
          "lon": 354
         },
         "pitch": 0,
         "style": "open-street-map",
         "zoom": 8.5
        },
        "margin": {
         "b": 0,
         "l": 0,
         "r": 0,
         "t": 40
        },
        "showlegend": false,
        "template": {
         "data": {
          "bar": [
           {
            "error_x": {
             "color": "#2a3f5f"
            },
            "error_y": {
             "color": "#2a3f5f"
            },
            "marker": {
             "line": {
              "color": "#E5ECF6",
              "width": 0.5
             }
            },
            "type": "bar"
           }
          ],
          "barpolar": [
           {
            "marker": {
             "line": {
              "color": "#E5ECF6",
              "width": 0.5
             }
            },
            "type": "barpolar"
           }
          ],
          "carpet": [
           {
            "aaxis": {
             "endlinecolor": "#2a3f5f",
             "gridcolor": "white",
             "linecolor": "white",
             "minorgridcolor": "white",
             "startlinecolor": "#2a3f5f"
            },
            "baxis": {
             "endlinecolor": "#2a3f5f",
             "gridcolor": "white",
             "linecolor": "white",
             "minorgridcolor": "white",
             "startlinecolor": "#2a3f5f"
            },
            "type": "carpet"
           }
          ],
          "choropleth": [
           {
            "colorbar": {
             "outlinewidth": 0,
             "ticks": ""
            },
            "type": "choropleth"
           }
          ],
          "contour": [
           {
            "colorbar": {
             "outlinewidth": 0,
             "ticks": ""
            },
            "colorscale": [
             [
              0,
              "#0d0887"
             ],
             [
              0.1111111111111111,
              "#46039f"
             ],
             [
              0.2222222222222222,
              "#7201a8"
             ],
             [
              0.3333333333333333,
              "#9c179e"
             ],
             [
              0.4444444444444444,
              "#bd3786"
             ],
             [
              0.5555555555555556,
              "#d8576b"
             ],
             [
              0.6666666666666666,
              "#ed7953"
             ],
             [
              0.7777777777777778,
              "#fb9f3a"
             ],
             [
              0.8888888888888888,
              "#fdca26"
             ],
             [
              1,
              "#f0f921"
             ]
            ],
            "type": "contour"
           }
          ],
          "contourcarpet": [
           {
            "colorbar": {
             "outlinewidth": 0,
             "ticks": ""
            },
            "type": "contourcarpet"
           }
          ],
          "heatmap": [
           {
            "colorbar": {
             "outlinewidth": 0,
             "ticks": ""
            },
            "colorscale": [
             [
              0,
              "#0d0887"
             ],
             [
              0.1111111111111111,
              "#46039f"
             ],
             [
              0.2222222222222222,
              "#7201a8"
             ],
             [
              0.3333333333333333,
              "#9c179e"
             ],
             [
              0.4444444444444444,
              "#bd3786"
             ],
             [
              0.5555555555555556,
              "#d8576b"
             ],
             [
              0.6666666666666666,
              "#ed7953"
             ],
             [
              0.7777777777777778,
              "#fb9f3a"
             ],
             [
              0.8888888888888888,
              "#fdca26"
             ],
             [
              1,
              "#f0f921"
             ]
            ],
            "type": "heatmap"
           }
          ],
          "heatmapgl": [
           {
            "colorbar": {
             "outlinewidth": 0,
             "ticks": ""
            },
            "colorscale": [
             [
              0,
              "#0d0887"
             ],
             [
              0.1111111111111111,
              "#46039f"
             ],
             [
              0.2222222222222222,
              "#7201a8"
             ],
             [
              0.3333333333333333,
              "#9c179e"
             ],
             [
              0.4444444444444444,
              "#bd3786"
             ],
             [
              0.5555555555555556,
              "#d8576b"
             ],
             [
              0.6666666666666666,
              "#ed7953"
             ],
             [
              0.7777777777777778,
              "#fb9f3a"
             ],
             [
              0.8888888888888888,
              "#fdca26"
             ],
             [
              1,
              "#f0f921"
             ]
            ],
            "type": "heatmapgl"
           }
          ],
          "histogram": [
           {
            "marker": {
             "colorbar": {
              "outlinewidth": 0,
              "ticks": ""
             }
            },
            "type": "histogram"
           }
          ],
          "histogram2d": [
           {
            "colorbar": {
             "outlinewidth": 0,
             "ticks": ""
            },
            "colorscale": [
             [
              0,
              "#0d0887"
             ],
             [
              0.1111111111111111,
              "#46039f"
             ],
             [
              0.2222222222222222,
              "#7201a8"
             ],
             [
              0.3333333333333333,
              "#9c179e"
             ],
             [
              0.4444444444444444,
              "#bd3786"
             ],
             [
              0.5555555555555556,
              "#d8576b"
             ],
             [
              0.6666666666666666,
              "#ed7953"
             ],
             [
              0.7777777777777778,
              "#fb9f3a"
             ],
             [
              0.8888888888888888,
              "#fdca26"
             ],
             [
              1,
              "#f0f921"
             ]
            ],
            "type": "histogram2d"
           }
          ],
          "histogram2dcontour": [
           {
            "colorbar": {
             "outlinewidth": 0,
             "ticks": ""
            },
            "colorscale": [
             [
              0,
              "#0d0887"
             ],
             [
              0.1111111111111111,
              "#46039f"
             ],
             [
              0.2222222222222222,
              "#7201a8"
             ],
             [
              0.3333333333333333,
              "#9c179e"
             ],
             [
              0.4444444444444444,
              "#bd3786"
             ],
             [
              0.5555555555555556,
              "#d8576b"
             ],
             [
              0.6666666666666666,
              "#ed7953"
             ],
             [
              0.7777777777777778,
              "#fb9f3a"
             ],
             [
              0.8888888888888888,
              "#fdca26"
             ],
             [
              1,
              "#f0f921"
             ]
            ],
            "type": "histogram2dcontour"
           }
          ],
          "mesh3d": [
           {
            "colorbar": {
             "outlinewidth": 0,
             "ticks": ""
            },
            "type": "mesh3d"
           }
          ],
          "parcoords": [
           {
            "line": {
             "colorbar": {
              "outlinewidth": 0,
              "ticks": ""
             }
            },
            "type": "parcoords"
           }
          ],
          "pie": [
           {
            "automargin": true,
            "type": "pie"
           }
          ],
          "scatter": [
           {
            "marker": {
             "colorbar": {
              "outlinewidth": 0,
              "ticks": ""
             }
            },
            "type": "scatter"
           }
          ],
          "scatter3d": [
           {
            "line": {
             "colorbar": {
              "outlinewidth": 0,
              "ticks": ""
             }
            },
            "marker": {
             "colorbar": {
              "outlinewidth": 0,
              "ticks": ""
             }
            },
            "type": "scatter3d"
           }
          ],
          "scattercarpet": [
           {
            "marker": {
             "colorbar": {
              "outlinewidth": 0,
              "ticks": ""
             }
            },
            "type": "scattercarpet"
           }
          ],
          "scattergeo": [
           {
            "marker": {
             "colorbar": {
              "outlinewidth": 0,
              "ticks": ""
             }
            },
            "type": "scattergeo"
           }
          ],
          "scattergl": [
           {
            "marker": {
             "colorbar": {
              "outlinewidth": 0,
              "ticks": ""
             }
            },
            "type": "scattergl"
           }
          ],
          "scattermapbox": [
           {
            "marker": {
             "colorbar": {
              "outlinewidth": 0,
              "ticks": ""
             }
            },
            "type": "scattermapbox"
           }
          ],
          "scatterpolar": [
           {
            "marker": {
             "colorbar": {
              "outlinewidth": 0,
              "ticks": ""
             }
            },
            "type": "scatterpolar"
           }
          ],
          "scatterpolargl": [
           {
            "marker": {
             "colorbar": {
              "outlinewidth": 0,
              "ticks": ""
             }
            },
            "type": "scatterpolargl"
           }
          ],
          "scatterternary": [
           {
            "marker": {
             "colorbar": {
              "outlinewidth": 0,
              "ticks": ""
             }
            },
            "type": "scatterternary"
           }
          ],
          "surface": [
           {
            "colorbar": {
             "outlinewidth": 0,
             "ticks": ""
            },
            "colorscale": [
             [
              0,
              "#0d0887"
             ],
             [
              0.1111111111111111,
              "#46039f"
             ],
             [
              0.2222222222222222,
              "#7201a8"
             ],
             [
              0.3333333333333333,
              "#9c179e"
             ],
             [
              0.4444444444444444,
              "#bd3786"
             ],
             [
              0.5555555555555556,
              "#d8576b"
             ],
             [
              0.6666666666666666,
              "#ed7953"
             ],
             [
              0.7777777777777778,
              "#fb9f3a"
             ],
             [
              0.8888888888888888,
              "#fdca26"
             ],
             [
              1,
              "#f0f921"
             ]
            ],
            "type": "surface"
           }
          ],
          "table": [
           {
            "cells": {
             "fill": {
              "color": "#EBF0F8"
             },
             "line": {
              "color": "white"
             }
            },
            "header": {
             "fill": {
              "color": "#C8D4E3"
             },
             "line": {
              "color": "white"
             }
            },
            "type": "table"
           }
          ]
         },
         "layout": {
          "annotationdefaults": {
           "arrowcolor": "#2a3f5f",
           "arrowhead": 0,
           "arrowwidth": 1
          },
          "autotypenumbers": "strict",
          "coloraxis": {
           "colorbar": {
            "outlinewidth": 0,
            "ticks": ""
           }
          },
          "colorscale": {
           "diverging": [
            [
             0,
             "#8e0152"
            ],
            [
             0.1,
             "#c51b7d"
            ],
            [
             0.2,
             "#de77ae"
            ],
            [
             0.3,
             "#f1b6da"
            ],
            [
             0.4,
             "#fde0ef"
            ],
            [
             0.5,
             "#f7f7f7"
            ],
            [
             0.6,
             "#e6f5d0"
            ],
            [
             0.7,
             "#b8e186"
            ],
            [
             0.8,
             "#7fbc41"
            ],
            [
             0.9,
             "#4d9221"
            ],
            [
             1,
             "#276419"
            ]
           ],
           "sequential": [
            [
             0,
             "#0d0887"
            ],
            [
             0.1111111111111111,
             "#46039f"
            ],
            [
             0.2222222222222222,
             "#7201a8"
            ],
            [
             0.3333333333333333,
             "#9c179e"
            ],
            [
             0.4444444444444444,
             "#bd3786"
            ],
            [
             0.5555555555555556,
             "#d8576b"
            ],
            [
             0.6666666666666666,
             "#ed7953"
            ],
            [
             0.7777777777777778,
             "#fb9f3a"
            ],
            [
             0.8888888888888888,
             "#fdca26"
            ],
            [
             1,
             "#f0f921"
            ]
           ],
           "sequentialminus": [
            [
             0,
             "#0d0887"
            ],
            [
             0.1111111111111111,
             "#46039f"
            ],
            [
             0.2222222222222222,
             "#7201a8"
            ],
            [
             0.3333333333333333,
             "#9c179e"
            ],
            [
             0.4444444444444444,
             "#bd3786"
            ],
            [
             0.5555555555555556,
             "#d8576b"
            ],
            [
             0.6666666666666666,
             "#ed7953"
            ],
            [
             0.7777777777777778,
             "#fb9f3a"
            ],
            [
             0.8888888888888888,
             "#fdca26"
            ],
            [
             1,
             "#f0f921"
            ]
           ]
          },
          "colorway": [
           "#636efa",
           "#EF553B",
           "#00cc96",
           "#ab63fa",
           "#FFA15A",
           "#19d3f3",
           "#FF6692",
           "#B6E880",
           "#FF97FF",
           "#FECB52"
          ],
          "font": {
           "color": "#2a3f5f"
          },
          "geo": {
           "bgcolor": "white",
           "lakecolor": "white",
           "landcolor": "#E5ECF6",
           "showlakes": true,
           "showland": true,
           "subunitcolor": "white"
          },
          "hoverlabel": {
           "align": "left"
          },
          "hovermode": "closest",
          "mapbox": {
           "style": "light"
          },
          "paper_bgcolor": "white",
          "plot_bgcolor": "#E5ECF6",
          "polar": {
           "angularaxis": {
            "gridcolor": "white",
            "linecolor": "white",
            "ticks": ""
           },
           "bgcolor": "#E5ECF6",
           "radialaxis": {
            "gridcolor": "white",
            "linecolor": "white",
            "ticks": ""
           }
          },
          "scene": {
           "xaxis": {
            "backgroundcolor": "#E5ECF6",
            "gridcolor": "white",
            "gridwidth": 2,
            "linecolor": "white",
            "showbackground": true,
            "ticks": "",
            "zerolinecolor": "white"
           },
           "yaxis": {
            "backgroundcolor": "#E5ECF6",
            "gridcolor": "white",
            "gridwidth": 2,
            "linecolor": "white",
            "showbackground": true,
            "ticks": "",
            "zerolinecolor": "white"
           },
           "zaxis": {
            "backgroundcolor": "#E5ECF6",
            "gridcolor": "white",
            "gridwidth": 2,
            "linecolor": "white",
            "showbackground": true,
            "ticks": "",
            "zerolinecolor": "white"
           }
          },
          "shapedefaults": {
           "line": {
            "color": "#2a3f5f"
           }
          },
          "ternary": {
           "aaxis": {
            "gridcolor": "white",
            "linecolor": "white",
            "ticks": ""
           },
           "baxis": {
            "gridcolor": "white",
            "linecolor": "white",
            "ticks": ""
           },
           "bgcolor": "#E5ECF6",
           "caxis": {
            "gridcolor": "white",
            "linecolor": "white",
            "ticks": ""
           }
          },
          "title": {
           "x": 0.05
          },
          "xaxis": {
           "automargin": true,
           "gridcolor": "white",
           "linecolor": "white",
           "ticks": "",
           "title": {
            "standoff": 15
           },
           "zerolinecolor": "white",
           "zerolinewidth": 2
          },
          "yaxis": {
           "automargin": true,
           "gridcolor": "white",
           "linecolor": "white",
           "ticks": "",
           "title": {
            "standoff": 15
           },
           "zerolinecolor": "white",
           "zerolinewidth": 2
          }
         }
        },
        "title": {
         "text": "<b>Water Indicator Stations Ireland</b>",
         "x": 0.5
        }
       }
      },
      "text/html": [
       "<div>                            <div id=\"3a3a2fcc-8a58-4184-bb23-e7e6cef142cb\" class=\"plotly-graph-div\" style=\"height:525px; width:100%;\"></div>            <script type=\"text/javascript\">                require([\"plotly\"], function(Plotly) {                    window.PLOTLYENV=window.PLOTLYENV || {};                                    if (document.getElementById(\"3a3a2fcc-8a58-4184-bb23-e7e6cef142cb\")) {                    Plotly.newPlot(                        \"3a3a2fcc-8a58-4184-bb23-e7e6cef142cb\",                        [{\"hovertemplate\": \"Station: %{text}<br>Lat: %{lat}\\u00b0<br>Lon: %{lon}\\u00b0<br><extra></extra>\", \"lat\": [48.44971, 48.46436, 53.10791, 53.12256, 53.13721, 53.13721, 55.27588, 55.23193, 55.17334, 55.17334, 55.18799, 55.21728, 55.23193, 55.24658, 55.24658, 55.29053, 55.30518, 55.23193, 55.20264, 55.12939, 55.05615, 54.98291, 54.92432, 54.86572, 54.83643, 54.74853, 54.68994, 54.68994, 54.6167, 54.54346, 54.47021, 54.38232, 54.32373, 54.26514, 54.23584, 54.25049, 54.20654, 54.1333, 54.07471, 54.04541, 54.00146, 53.98682, 54.00146, 53.97217, 53.89893, 53.86963, 53.79639, 53.7085, 53.63525, 53.59131, 53.51807, 53.44482, 53.38623, 53.31299, 53.2251, 53.15186, 53.06396, 52.97607, 52.90283, 52.84424, 52.771, 52.68311, 52.60986, 52.52197, 52.46338, 52.40478, 52.31689, 52.229, 52.18506, 52.19971, 52.17041, 52.19971, 52.21436, 52.18506, 52.14111, 52.14111, 52.12646, 52.14111, 52.12646, 52.12646, 52.12646, 52.08252, 52.00928, 51.97998, 51.93603, 51.92139, 51.87744, 51.84814, 51.81885, 51.8042, 51.78955, 51.74561, 51.70166, 51.67236, 51.61377, 51.62842, 51.58447, 51.58447, 51.56982, 51.54053, 51.54053, 51.52588, 51.48193, 51.48193, 51.48193, 51.52588, 51.51123, 51.48193, 51.46728, 51.46728, 51.54053, 51.61377, 51.61377, 51.59912, 51.61377, 51.69434, 51.74561, 51.78955, 51.78955, 51.84814, 51.90674, 51.95068, 51.99463, 52.02393, 52.09717, 52.11182, 52.11182, 52.09717, 52.14111, 52.19971, 52.24365, 52.27295, 52.2876, 52.30225, 52.2876, 52.2876, 52.36084, 52.41943, 52.43408, 52.44873, 52.50732, 52.56592, 52.55127, 52.58057, 52.59521, 52.65381, 52.69775, 52.7417, 52.771, 52.84424, 52.93213, 52.99072, 53.06396, 53.12256, 53.1665, 53.21846, 53.2251, 53.2251, 53.2251, 53.23975, 53.2251, 53.28369, 53.31299, 53.34228, 53.37158, 53.40088, 53.41553, 53.48877, 53.54736, 53.57666, 53.60596, 53.6499, 53.73779, 53.80371, 53.86963, 53.91357, 53.94287, 53.95752, 53.98682, 54.03076, 54.08936, 54.17725, 54.25049, 54.29443, 54.27978, 54.32373, 54.32373, 54.32373, 54.32373, 54.32373, 54.30908, 54.30908, 54.27978, 54.25049, 54.27978, 54.29443, 54.26514, 54.26514, 54.27978, 54.35303, 54.39697, 54.42627, 54.50684, 54.57275, 54.59473, 54.6167, 54.63135, 54.68994, 54.74853, 54.77783, 54.82178, 54.86572, 54.93896, 54.96826, 55.01221, 55.02686, 55.0708, 55.14404, 55.15869, 55.15869, 55.18799, 55.21728, 55.21728, 55.26123, 55.27588, 55.27588, 55.29053, 55.32715, 55.37842, 55.36377, 55.33447, 55.29053, 50.13428, 50.07568, 50.00244, 49.9585, 50.01709, 50.07568, 50.10498, 50.10498, 50.04639, 50.03174, 50.10498, 50.16357, 50.19287, 50.22217, 50.23682, 50.25146, 50.31006, 50.354, 50.4126, 50.45654, 50.54443, 51.61377, 51.65771, 51.68701, 51.74561, 51.78955, 51.84814, 51.86279, 51.90674, 51.93603, 51.96533, 52.02393, 54.79248, 54.83643, 54.99756, 55.0415, 55.1001, 55.71533, 55.70801, 55.62744, 55.5542, 55.46631, 55.43701, 55.48096, 55.50293, 55.49561, 55.42236, 55.34912, 55.30518, 55.29053, 55.33447, 55.40771, 55.48096, 55.56885, 55.65674, 55.71533, 55.80322, 55.87646, 55.94238, 55.94971, 55.89111, 55.83252, 55.75928, 55.68603, 55.64209, 55.61279, 55.5835, 55.64209, 55.67871, 55.67139, 55.75928, 55.83252, 55.87646, 55.89111, 55.92041, 55.93506, 55.94971, 51.97264, 51.73827, 51.50957, 51.26379, 52.00195, 51.73828, 51.47459, 51.24022, 54.52147, 54.22851, 53.96483, 53.73045, 53.49608, 53.2617, 53.02733, 52.79295, 52.55858, 52.20702, 51.97265, 51.73828, 51.47461, 51.24023, 51.00586, 50.77147, 54.52148, 54.28711, 53.96483, 53.73045, 53.49608, 53.2617, 53.02733, 52.79295, 52.55858, 52.20702, 51.97264, 51.73827, 51.50389, 51.26952, 51.00586, 50.77148, 54.52148, 54.1992, 53.96483, 53.73045, 53.49608, 53.2617, 53.02733, 52.79295, 52.55858, 52.20702, 51.97265, 51.73827, 51.50389, 51.26952, 51.03514, 50.77148, 54.52148, 54.1992, 53.96483, 53.73047, 53.49609, 53.2617, 53.02733, 52.79295, 52.4707, 52.23632, 51.9873, 51.73828, 51.50389, 51.26952, 51.03514, 50.80077, 54.52147, 54.2285, 53.99414, 53.74512, 53.52539, 53.23242, 52.99803, 52.76367, 52.52929, 52.25097, 51.9873, 51.75153, 51.5039, 51.26952, 51.03514, 50.80077, 50.4492, 50.21483, 54.46288, 54.22697, 54.00803, 53.74512, 53.50342, 53.23242, 52.99804, 52.76367, 52.48535, 51.99463, 51.75236, 51.51855, 51.26379, 51.03514, 50.80077, 50.45515, 50.24414, 54.99023, 54.75586, 54.52148, 53.74512, 53.24707, 52.99804, 52.76367, 52.51465, 52.2583, 51.74561, 51.48926, 51.24023, 51.03514, 50.80077, 50.4492, 50.24413, 54.99023, 54.75586, 54.52148, 53.25439, 52.99539, 52.74902, 52.50732, 51.24023, 51.03514, 50.80077, 50.4492, 50.21483, 55.51757, 55.25389, 54.99023, 54.75586, 54.52148, 53.0127, 52.75635, 51.49658, 51.24023, 51.03515, 50.68359, 50.47851, 50.24414, 55.51757, 55.22461, 54.99023, 54.75586, 54.52148, 51.24023, 51.03514, 50.71288, 50.47851, 50.24414, 55.51757, 55.22461, 54.99023, 54.74121, 54.50684, 53.25439, 51.48926, 51.24022, 51.03514, 50.77148, 50.47851, 50.24414, 55.51757, 55.22461, 55.00488, 54.74853, 54.50684, 51.51714, 51.26953, 51.03515, 50.77148, 50.47851, 50.24413, 55.95702, 55.75195, 55.51757, 55.23926, 54.99756, 54.50684, 51.51855, 51.24023, 51.00586, 50.77148, 50.47759, 50.24414, 55.95702, 55.75195, 55.51757, 55.24658, 51.74561, 51.47461, 51.24023, 51.00586, 50.77148, 50.47851, 50.21483, 55.98632, 55.75195, 55.51757, 55.24658, 51.75293, 51.47461, 51.24023, 51.00586, 50.77148, 55.96067, 55.75195, 55.50293, 55.24658, 51.75293, 51.47461, 51.24023, 51.00586, 50.77148, 55.98632, 55.7373, 55.50293, 52.00928, 51.75293, 51.51855, 51.24023, 51.00586, 50.77148, 49.98045, 49.74608, 49.5117, 49.24804, 55.98632, 55.7373, 55.50293, 51.9873, 51.75293, 51.48926, 51.24023, 51.00586, 50.77148, 49.98045, 49.74608, 49.5117, 49.27662, 55.7373, 55.50293, 55.24658, 51.9873, 51.75293, 51.48926, 51.24023, 51.00586, 50.77148, 50.47851, 50.24414, 49.98047, 49.77539, 49.51172, 49.27733, 49.04295, 48.80858, 55.7373, 55.50293, 55.24045, 51.9873, 51.75293, 51.48926, 51.24023, 51.00586, 50.77148, 50.47851, 50.24414, 50.00976, 49.77539, 49.5117, 49.27733, 49.04295, 48.80858, 55.74463, 55.51758, 55.24658, 51.9873, 51.75293, 51.5332, 51.24023, 51.00586, 50.77148, 50.47851, 50.24414, 50.00976, 49.77539, 49.5117, 49.27733, 49.04295, 48.80858, 48.45702, 48.22264, 55.99365, 55.50293, 55.24658, 53.75244, 52.25098, 51.9873, 51.75293, 51.5039, 51.24023, 51.00586, 50.77148, 50.47851, 50.25879, 49.99512, 49.77233, 49.5117, 49.27733, 49.04295, 48.80858, 48.45702, 48.22264, 55.99365, 55.74463, 55.51757, 55.23926, 54.00146, 53.74512, 53.50342, 53.24707, 53.00537, 52.74902, 52.51465, 52.23633, 52.00195, 51.74055, 51.47461, 51.24023, 51.00586, 50.77148, 50.49316, 50.25879, 49.99512, 49.77233, 49.48242, 49.27733, 49.04295, 48.80858, 48.45702, 48.22264, 55.74463, 55.4956, 55.23926, 54.99023, 54.00879, 53.74512, 53.51074, 53.24707, 53.0127, 52.74902, 52.51465, 52.23632, 52.00195, 51.76758, 51.48925, 51.24023, 51.00586, 50.77051, 50.49316, 50.25879, 49.99512, 49.77539, 49.48242, 49.27806, 49.04295, 48.80858, 48.45702, 48.22264, 55.49561, 55.23926, 54.99023, 54.75586, 54.24316, 53.99414, 53.72753, 53.48144, 53.24707, 53.01269, 52.74902, 52.51465, 52.23632, 51.9873, 51.75293, 51.48926, 51.25488, 50.99121, 50.75684, 50.49316, 50.25879, 49.99512, 49.77539, 49.48242, 49.24804, 49.04228, 48.77929, 48.45703, 48.22265, 48.01757, 55.7373, 55.23926, 55.00488, 54.75586, 54.52148, 54.24316, 54.00879, 53.74512, 53.51074, 53.23242, 52.99804, 52.74902, 52.52929, 52.25098, 51.9873, 51.74561, 51.48926, 51.25488, 50.99121, 50.75684, 50.49316, 49.77539, 49.48242, 49.24804, 49.01367, 48.77929, 48.50097, 48.25195, 48.00293, 55.74463, 54.50683, 54.22851, 52.76367, 49.76074, 49.48242, 49.24804, 49.01367, 48.77929, 48.00293, 55.48827, 55.95702, 55.48827, 54.96088, 54.49213, 54.02338, 53.55463, 53.08048, 52.47069, 51.97264, 51.50385, 50.98059, 50.50775, 50.039, 49.57025, 49.1015, 48.39838, 55.95703, 55.48827, 54.96088, 54.49213, 54.02338, 53.49608, 52.99804, 52.55858, 52.00195, 51.5017, 51.00586, 50.4492, 50.039, 49.57025, 49.1015, 48.39838, 55.95702, 55.42963, 54.96088, 54.49213, 53.96483, 53.52539, 53.02733, 52.55858, 51.91871, 51.50385, 50.91795, 50.4785, 50.03905, 49.57025, 49.1015, 48.39838, 55.89838, 55.42963, 54.96088, 54.49213, 54.02342, 53.4909, 53.02733, 52.55858, 51.914, 51.4453, 51.03514, 50.4492, 50.03905, 49.51166, 49.04291, 48.39838, 55.89838, 55.42963, 54.96088, 54.50204, 53.99414, 53.49608, 53.02733, 52.55858, 51.914, 51.45666, 51.03515, 50.44916, 50.03905, 49.48242, 49.04295, 48.39838, 55.89838, 55.42963, 54.96088, 54.50204, 53.99414, 53.49608, 53.02733, 52.55854, 51.914, 51.44525, 50.9765, 50.50775, 50.039, 49.5117, 49.01367, 48.45697, 55.89838, 55.42963, 54.96088, 54.49217, 53.99414, 53.49608, 53.02733, 52.55854, 51.914, 51.44525, 50.9765, 50.50775, 50.039, 49.57025, 48.92577, 48.45703, 55.89838, 55.42963, 54.96088, 54.49217, 53.96484, 53.49608, 53.02733, 52.55858, 51.03514, 50.50775, 50.039, 49.57025, 48.92577, 48.48632, 55.89838, 55.42963, 54.96092, 50.4492, 49.98045, 49.5117, 49.01367, 48.45703, 55.89838, 55.42963, 54.95426, 50.47851, 50.00976, 49.5117, 49.01367, 48.48632, 55.89838, 55.48827, 55.01953, 50.00975, 49.5117, 49.04297, 48.48632, 55.90762, 55.51757, 49.98045, 49.51172, 49.04295, 48.48632, 55.95338, 49.98045, 49.5117, 49.04295, 48.48632, 48.01757, 55.95702, 49.98045, 49.48242, 49.04297, 48.48632, 48.01757, 50.00976, 49.5117, 49.01366, 48.45058, 48.01757, 50.47851, 50.01279, 49.5117, 49.04295, 48.45702, 48.01757, 50.47851, 49.01367, 48.45702, 48.01757, 48.45702, 51.52588, 55.36377, 50.10498, 51.357418, 53.144517, 54.27246, 54.98291, 51.833496, 54.250488, 54.689941, 51.643066, 53.342285, 53.942871, 52.141113, 51.416012, 53.217773, 53.254394, 53.38623, 53.122558, 54.616699, 55.378418, 51.70166, 50.10498, 55.627441, 54.836426, 55.202636, 53.591308, 54.309082, 49.914551, 52.749023, 52.302246, 48.691391, 54.27246, 54.287106, 54.243164, 51.416012, 53.217773, 54.68994, 51.52588, 55.36377, 55.37842, 51.70166, 50.10498, 55.62744, 54.83643, 55.20264, 49.91455, 52.81494, 53.10791, 50.34668, 53.03467, 53.2251, 53.74512, 53.92165, 53.21777, 52.78564, 54.66064, 55.38574, 52.52197, 51.84814, 53.34228, 51.65771, 50.14893, 51.862793, 49.885254, 55.246582, 49.899902, 49.899902, 51.496582, 53.488769], \"lon\": [354.924316, 354.880371, 350.339355, 350.251465, 350.222168, 350.310059, 352.976074, 353.049316, 353.10791, 353.195801, 353.283691, 353.371582, 353.459473, 353.547363, 353.635254, 353.723145, 353.796387, 353.840332, 353.928223, 353.972168, 354.016113, 354.060059, 354.133301, 354.191895, 354.279785, 354.309082, 354.32373, 354.411621, 354.484863, 354.528809, 354.558105, 354.528809, 354.470215, 354.396973, 354.32373, 354.23584, 354.155273, 354.118652, 354.04541, 353.972168, 353.884277, 353.811035, 353.723145, 353.635254, 353.649902, 353.723145, 353.76709, 353.752441, 353.796387, 353.869629, 353.913574, 353.884277, 353.942871, 353.898926, 353.898926, 353.942871, 353.972168, 353.986816, 353.95752, 353.898926, 353.85498, 353.811035, 353.796387, 353.76709, 353.708496, 353.649902, 353.635254, 353.664551, 353.605957, 353.518066, 353.430176, 353.342285, 353.254395, 353.166504, 353.093262, 353.005371, 352.91748, 352.82959, 352.741699, 352.653809, 352.55127, 352.478027, 352.419434, 352.346191, 352.258301, 352.17041, 352.097168, 352.009277, 351.936035, 351.848145, 351.760254, 351.672363, 351.599121, 351.51123, 351.452637, 351.364746, 351.306152, 351.203613, 351.130371, 351.04248, 350.95459, 350.866699, 350.778809, 350.690918, 350.603027, 350.529785, 350.456543, 350.354004, 350.266113, 350.178223, 350.163574, 350.10498, 350.01709, 349.9292, 349.85596, 349.8999, 349.85596, 349.76807, 349.68018, 349.62158, 349.60693, 349.68018, 349.76807, 349.84131, 349.85596, 349.76807, 349.68018, 349.59229, 349.53369, 349.59229, 349.66553, 349.75342, 349.84131, 349.9292, 350.01709, 350.10498, 350.148926, 350.075684, 350.148926, 350.236816, 350.29541, 350.236816, 350.141602, 350.10498, 350.178223, 350.266113, 350.339355, 350.412598, 350.500488, 350.559082, 350.544434, 350.588379, 350.646973, 350.705566, 350.778809, 350.774956, 350.668945, 350.588379, 350.500488, 350.412598, 350.324707, 350.266113, 350.178223, 350.090332, 350.01709, 349.9292, 349.84131, 349.85596, 349.84131, 349.9292, 350.01709, 350.090332, 350.090332, 350.119629, 350.061035, 349.98779, 349.8999, 349.81201, 349.78271, 349.85596, 349.88525, 349.8999, 349.91455, 349.98779, 350.090332, 350.163574, 350.251465, 350.339355, 350.427246, 350.515137, 350.603027, 350.690918, 350.778809, 350.866699, 350.939941, 351.027832, 351.115723, 351.203613, 351.291504, 351.350098, 351.42334, 351.496582, 351.555176, 351.525879, 351.441574, 351.350098, 351.262207, 351.203613, 351.291504, 351.364746, 351.437988, 351.525879, 351.540527, 351.452637, 351.496582, 351.584473, 351.657715, 351.70166, 351.789551, 351.877441, 351.965332, 352.053223, 352.141113, 352.214355, 352.302246, 352.390137, 352.478027, 352.565918, 352.624512, 352.712402, 352.800293, 352.873535, 354.98291, 354.938965, 354.880371, 354.807129, 354.733887, 354.675293, 354.587402, 354.499512, 354.42627, 354.338379, 354.294434, 354.338379, 354.42627, 354.51416, 354.602051, 354.689941, 354.763184, 354.836426, 354.89502, 354.968262, 354.997559, 354.997559, 354.924316, 354.836426, 354.777832, 354.865723, 354.836426, 354.748535, 354.70459, 354.79248, 354.880371, 354.938965, 354.953613, 354.880371, 354.821777, 354.909668, 354.968262, 354.98291, 354.887695, 354.865723, 354.909668, 354.909668, 354.836426, 354.660645, 354.594727, 354.499512, 354.455566, 354.455566, 354.382324, 354.279785, 354.191895, 354.23584, 354.279785, 354.279785, 354.32373, 354.382324, 354.338379, 354.32373, 354.265137, 354.177246, 354.104004, 354.04541, 353.986816, 353.972168, 353.884277, 353.796387, 353.723145, 353.679199, 353.605957, 353.518066, 353.518066, 353.547363, 353.635254, 353.723145, 353.796387, 353.884277, 353.972168, 347.98828, 347.98828, 347.98828, 347.98828, 348.25195, 348.25195, 348.22266, 348.22266, 348.45703, 348.48633, 348.45703, 348.45703, 348.45703, 348.45703, 348.45703, 348.45703, 348.45703, 348.45703, 348.49563, 348.48633, 348.48633, 348.48633, 348.48633, 348.45703, 348.7207, 348.7207, 348.69141, 348.69141, 348.69141, 348.80859, 348.80859, 348.80859, 348.80859, 348.69141, 348.69141, 348.69141, 348.80859, 348.80859, 348.7207, 348.7793, 349.01367, 349.04297, 349.04297, 349.04297, 349.04297, 349.04297, 349.04297, 349.04297, 349.04297, 349.04297, 349.00437, 349.04297, 349.04297, 349.04297, 349.04297, 349.01367, 349.24805, 349.27734, 349.27734, 349.24805, 349.24805, 349.27734, 349.27734, 349.27734, 349.24805, 349.24805, 349.24805, 349.24805, 349.27734, 349.27734, 349.27734, 349.27734, 349.51172, 349.51172, 349.48242, 349.49707, 349.48242, 349.48242, 349.51172, 349.48242, 349.48242, 349.48242, 349.49707, 349.49707, 349.48242, 349.51172, 349.51172, 349.51172, 349.51172, 349.51172, 349.74609, 349.75169, 349.74904, 349.76074, 349.76074, 349.77539, 349.77539, 349.77539, 349.76074, 349.75342, 349.75044, 349.76074, 349.74609, 349.74609, 349.74609, 349.74609, 349.77539, 350.009766, 350.009766, 350.009766, 350.002441, 349.99512, 350.009766, 350.009766, 349.99512, 350.002441, 350.002441, 349.99512, 350.009766, 349.98047, 349.98047, 349.98047, 349.98047, 350.244141, 350.244141, 350.244141, 350.251465, 350.244141, 350.258789, 350.251465, 350.244141, 350.21484399999997, 350.21484399999997, 350.21484399999997, 350.21484399999997, 350.478516, 350.44921899999997, 350.478516, 350.478516, 350.478516, 350.500488, 350.500488, 350.500488, 350.478516, 350.537109, 350.478516, 350.478516, 350.537109, 350.771484, 350.771484, 350.771484, 350.771484, 350.771484, 350.771484, 350.80078100000003, 350.80078100000003, 350.771484, 350.771484, 351.005859, 351.005859, 351.005859, 351.005859, 350.991211, 350.998535, 350.991211, 351.03515600000003, 351.03515600000003, 351.005859, 351.005859, 351.005859, 351.240234, 351.240234, 351.254883, 351.247559, 351.254883, 351.254883, 351.240234, 351.240234, 351.240234, 351.240234, 351.26953100000003, 351.50390600000003, 351.474609, 351.474609, 351.518555, 351.496582, 351.489258, 351.489258, 351.474609, 351.474609, 351.474609, 351.513971, 351.474609, 351.73828100000003, 351.767578, 351.767578, 351.760254, 351.745605, 351.767578, 351.767578, 351.767578, 351.767578, 351.75293, 351.73828100000003, 352.001953, 352.001953, 352.001953, 352.009277, 351.987305, 352.001953, 352.001953, 352.001953, 352.001953, 352.259582, 352.236328, 352.250977, 352.243652, 352.250977, 352.236328, 352.236328, 352.236328, 352.236328, 352.529297, 352.485352, 352.514648, 352.485352, 352.514648, 352.529297, 352.529297, 352.470703, 352.470703, 352.558594, 352.441406, 352.441406, 352.529297, 352.763672, 352.749023, 352.749023, 352.749023, 352.749023, 352.749023, 352.763672, 352.763672, 352.763672, 352.792969, 352.792969, 352.792969, 352.70835, 353.012695, 353.012695, 353.005371, 353.012695, 353.012695, 353.012695, 352.998047, 352.998047, 352.998047, 352.998047, 352.998047, 352.998047, 352.998047, 352.998047, 353.027344, 353.027344, 353.027344, 353.24707, 353.24707, 353.24707, 353.24707, 353.24707, 353.24707, 353.232422, 353.232422, 353.232422, 353.232422, 353.232422, 353.232422, 353.232422, 353.261719, 353.261719, 353.261719, 353.261719, 353.503418, 353.510742, 353.503418, 353.510742, 353.510742, 353.510742, 353.525391, 353.525391, 353.525391, 353.525391, 353.525391, 353.525391, 353.510742, 353.496094, 353.496094, 353.496094, 353.496094, 353.496094, 353.496094, 353.752441, 353.759766, 353.745117, 353.752441, 353.752441, 353.745117, 353.759766, 353.759766, 353.759766, 353.759766, 353.759766, 353.759766, 353.745117, 353.752441, 353.759766, 353.730469, 353.730469, 353.730469, 353.730469, 353.730469, 353.730469, 354.001465, 354.008789, 353.994141, 354.008789, 354.008789, 354.008789, 354.001465, 354.008789, 354.001465, 353.998794, 354.008789, 354.008789, 353.994141, 354.006008, 353.994141, 353.994141, 353.994141, 353.994141, 353.994141, 354.008789, 354.008789, 353.994141, 353.994141, 353.964844, 353.964844, 353.964844, 353.964844, 353.964844, 354.243164, 354.243164, 354.243164, 354.228516, 354.243164, 354.243164, 354.243164, 354.243164, 354.250488, 354.243164, 354.243164, 354.228516, 354.228516, 354.267985, 354.228516, 354.268423, 354.228516, 354.267574, 354.243164, 354.243164, 354.243164, 354.243164, 354.228516, 354.283837, 354.199219, 354.199219, 354.199219, 354.199219, 354.499512, 354.506836, 354.521484, 354.506836, 354.506836, 354.484084, 354.504735, 354.521484, 354.506836, 354.506836, 354.506836, 354.506836, 354.521484, 354.506836, 354.499512, 354.506836, 354.506836, 354.506836, 354.506836, 354.506836, 354.499512, 354.506836, 354.506836, 354.521484, 354.521484, 354.518412, 354.521484, 354.517475, 354.51778, 354.521484, 354.748535, 354.741211, 354.741211, 354.755859, 354.755859, 354.755859, 354.755859, 354.741211, 354.741211, 354.755859, 354.755859, 354.755859, 354.755859, 354.741211, 354.741211, 354.748535, 354.741211, 354.741211, 354.741211, 354.741211, 354.741211, 354.755859, 354.755859, 354.755859, 354.755859, 354.755859, 354.755859, 354.755859, 354.741211, 354.997559, 354.990234, 354.990234, 354.990234, 354.990234, 354.990234, 354.990234, 354.990234, 354.990234, 354.997559, 344.00391, 344.47266, 344.47266, 344.41406, 344.41406, 344.41406, 344.41406, 344.55967, 344.47266, 344.47266, 344.41406, 344.56945, 344.41406, 344.41406, 344.41406, 344.41406, 344.41406, 345.01185, 344.94141, 345.11719, 345.11719, 344.88281, 345.05859, 345.0293, 344.94141, 344.9707, 344.98205, 344.9707, 345.05859, 345.11719, 345.11719, 344.88281, 344.88281, 345.52734, 345.58594, 345.58594, 345.58594, 345.52734, 345.49805, 345.52734, 345.52734, 345.43468, 345.58594, 345.52734, 345.52734, 345.52734, 345.58594, 345.58594, 345.58594, 346.05469, 346.05469, 346.05469, 346.05469, 345.99609, 345.99609, 345.99609, 345.99609, 346.05469, 345.99609, 345.99609, 345.99609, 345.99609, 346.05469, 346.05469, 346.05469, 346.52344, 346.52344, 346.52344, 346.52344, 346.49414, 346.46484, 346.46484, 346.46484, 346.52344, 346.52344, 346.49414, 346.52344, 346.46484, 346.49414, 346.46484, 346.52344, 346.99219, 346.99219, 346.99219, 346.99219, 347.02148, 347.05078, 347.05078, 346.99219, 346.99219, 346.99219, 346.99219, 346.99219, 346.99219, 346.93359, 346.96289, 346.99219, 347.46094, 347.46094, 347.46094, 347.51953, 347.49023, 347.51953, 347.51953, 347.46094, 347.46094, 347.46094, 347.46094, 347.46094, 347.46094, 347.46094, 347.51953, 347.49023, 347.92969, 347.92969, 347.92969, 347.98828, 348.01758, 347.98828, 347.98828, 347.98828, 347.98828, 347.92969, 347.92969, 347.92969, 347.98828, 348.01758, 348.39844, 348.39844, 348.57422, 348.45703, 348.57422, 348.45703, 348.48633, 348.54091, 349.10156, 349.10156, 349.00257, 349.01367, 349.01367, 349.04297, 349.01367, 349.01367, 349.57031, 349.51172, 349.48242, 349.51172, 349.51172, 349.48242, 349.48242, 350.039063, 350.009766, 349.98047, 350.009766, 349.98047, 350.009766, 350.513844, 350.44921899999997, 350.44921899999997, 350.44921899999997, 350.478516, 350.478516, 351.03515600000003, 351.03515600000003, 351.005859, 351.005859, 351.005859, 351.005859, 351.474609, 351.50390600000003, 351.50390600000003, 351.50390600000003, 351.474609, 352.001953, 352.001953, 351.97265600000003, 351.97265600000003, 351.97265600000003, 352.001953, 352.470703, 352.529297, 352.441406, 352.470703, 353.027344, 350.822754, 352.668457, 354.470215, 352.119141, 348.80859399999997, 349.848633, 351.51123, 351.994629, 350.10498, 354.32373, 350.090332, 353.811035, 353.693848, 353.005371, 352.119141, 350.727539, 350.95459, 353.928223, 350.339355, 351.599121, 352.668457, 354.953613, 354.470215, 353.811035, 354.880371, 353.327637, 353.898926, 351.42334, 353.679199, 350.288086, 353.620605, 347.63671899999997, 349.848633, 349.716797, 349.855957, 352.119141, 350.727539, 354.32373, 350.822754, 352.668457, 352.668457, 354.98291, 354.470215, 353.811035, 354.880371, 353.342285, 353.679199, 354.060059, 354.221191, 354.389648, 354.221191, 354.074707, 354.038086, 353.932536, 350.053711, 354.04541, 354.177246, 353.24707, 350.236816, 351.730957, 353.840332, 354.851074, 354.953613, 354.660645, 353.649902, 354.880371, 353.664551, 353.635254, 350.529785, 353.986816], \"mode\": \"markers\", \"text\": [\"id_coast_glob_eur_00699\", \"id_coast_glob_eur_00700\", \"id_coast_glob_eur_00714\", \"id_coast_glob_eur_00715\", \"id_coast_glob_eur_00716\", \"id_coast_glob_eur_00717\", \"id_coast_glob_eur_00751\", \"id_coast_glob_eur_00752\", \"id_coast_glob_eur_00753\", \"id_coast_glob_eur_00754\", \"id_coast_glob_eur_00755\", \"id_coast_glob_eur_00756\", \"id_coast_glob_eur_00757\", \"id_coast_glob_eur_00758\", \"id_coast_glob_eur_00759\", \"id_coast_glob_eur_00760\", \"id_coast_glob_eur_00761\", \"id_coast_glob_eur_00762\", \"id_coast_glob_eur_00763\", \"id_coast_glob_eur_00764\", \"id_coast_glob_eur_00765\", \"id_coast_glob_eur_00766\", \"id_coast_glob_eur_00767\", \"id_coast_glob_eur_00768\", \"id_coast_glob_eur_00769\", \"id_coast_glob_eur_00770\", \"id_coast_glob_eur_00771\", \"id_coast_glob_eur_00772\", \"id_coast_glob_eur_00773\", \"id_coast_glob_eur_00774\", \"id_coast_glob_eur_00775\", \"id_coast_glob_eur_00776\", \"id_coast_glob_eur_00777\", \"id_coast_glob_eur_00778\", \"id_coast_glob_eur_00779\", \"id_coast_glob_eur_00780\", \"id_coast_glob_eur_00781\", \"id_coast_glob_eur_00782\", \"id_coast_glob_eur_00783\", \"id_coast_glob_eur_00784\", \"id_coast_glob_eur_00785\", \"id_coast_glob_eur_00786\", \"id_coast_glob_eur_00787\", \"id_coast_glob_eur_00788\", \"id_coast_glob_eur_00789\", \"id_coast_glob_eur_00790\", \"id_coast_glob_eur_00791\", \"id_coast_glob_eur_00792\", \"id_coast_glob_eur_00793\", \"id_coast_glob_eur_00794\", \"id_coast_glob_eur_00795\", \"id_coast_glob_eur_00796\", \"id_coast_glob_eur_00797\", \"id_coast_glob_eur_00798\", \"id_coast_glob_eur_00799\", \"id_coast_glob_eur_00800\", \"id_coast_glob_eur_00801\", \"id_coast_glob_eur_00802\", \"id_coast_glob_eur_00803\", \"id_coast_glob_eur_00804\", \"id_coast_glob_eur_00805\", \"id_coast_glob_eur_00806\", \"id_coast_glob_eur_00807\", \"id_coast_glob_eur_00808\", \"id_coast_glob_eur_00809\", \"id_coast_glob_eur_00810\", \"id_coast_glob_eur_00811\", \"id_coast_glob_eur_00812\", \"id_coast_glob_eur_00813\", \"id_coast_glob_eur_00814\", \"id_coast_glob_eur_00815\", \"id_coast_glob_eur_00816\", \"id_coast_glob_eur_00817\", \"id_coast_glob_eur_00818\", \"id_coast_glob_eur_00819\", \"id_coast_glob_eur_00820\", \"id_coast_glob_eur_00821\", \"id_coast_glob_eur_00822\", \"id_coast_glob_eur_00823\", \"id_coast_glob_eur_00824\", \"id_coast_glob_eur_00825\", \"id_coast_glob_eur_00826\", \"id_coast_glob_eur_00827\", \"id_coast_glob_eur_00828\", \"id_coast_glob_eur_00829\", \"id_coast_glob_eur_00830\", \"id_coast_glob_eur_00831\", \"id_coast_glob_eur_00832\", \"id_coast_glob_eur_00833\", \"id_coast_glob_eur_00834\", \"id_coast_glob_eur_00835\", \"id_coast_glob_eur_00836\", \"id_coast_glob_eur_00837\", \"id_coast_glob_eur_00838\", \"id_coast_glob_eur_00839\", \"id_coast_glob_eur_00840\", \"id_coast_glob_eur_00841\", \"id_coast_glob_eur_00842\", \"id_coast_glob_eur_00843\", \"id_coast_glob_eur_00844\", \"id_coast_glob_eur_00845\", \"id_coast_glob_eur_00846\", \"id_coast_glob_eur_00847\", \"id_coast_glob_eur_00848\", \"id_coast_glob_eur_00849\", \"id_coast_glob_eur_00850\", \"id_coast_glob_eur_00851\", \"id_coast_glob_eur_00852\", \"id_coast_glob_eur_00853\", \"id_coast_glob_eur_00854\", \"id_coast_glob_eur_00855\", \"id_coast_glob_eur_00856\", \"id_coast_glob_eur_00857\", \"id_coast_glob_eur_00858\", \"id_coast_glob_eur_00859\", \"id_coast_glob_eur_00860\", \"id_coast_glob_eur_00861\", \"id_coast_glob_eur_00862\", \"id_coast_glob_eur_00863\", \"id_coast_glob_eur_00864\", \"id_coast_glob_eur_00865\", \"id_coast_glob_eur_00866\", \"id_coast_glob_eur_00867\", \"id_coast_glob_eur_00868\", \"id_coast_glob_eur_00869\", \"id_coast_glob_eur_00870\", \"id_coast_glob_eur_00871\", \"id_coast_glob_eur_00872\", \"id_coast_glob_eur_00873\", \"id_coast_glob_eur_00874\", \"id_coast_glob_eur_00875\", \"id_coast_glob_eur_00876\", \"id_coast_glob_eur_00877\", \"id_coast_glob_eur_00878\", \"id_coast_glob_eur_00879\", \"id_coast_glob_eur_00880\", \"id_coast_glob_eur_00881\", \"id_coast_glob_eur_00882\", \"id_coast_glob_eur_00883\", \"id_coast_glob_eur_00884\", \"id_coast_glob_eur_00885\", \"id_coast_glob_eur_00886\", \"id_coast_glob_eur_00887\", \"id_coast_glob_eur_00888\", \"id_coast_glob_eur_00889\", \"id_coast_glob_eur_00890\", \"id_coast_glob_eur_00891\", \"id_coast_glob_eur_00892\", \"id_coast_glob_eur_00893\", \"id_coast_glob_eur_00894\", \"id_coast_glob_eur_00895\", \"id_coast_glob_eur_00896\", \"id_coast_glob_eur_00897\", \"id_coast_glob_eur_00898\", \"id_coast_glob_eur_00899\", \"id_coast_glob_eur_00900\", \"id_coast_glob_eur_00901\", \"id_coast_glob_eur_00902\", \"id_coast_glob_eur_00903\", \"id_coast_glob_eur_00904\", \"id_coast_glob_eur_00905\", \"id_coast_glob_eur_00906\", \"id_coast_glob_eur_00907\", \"id_coast_glob_eur_00908\", \"id_coast_glob_eur_00909\", \"id_coast_glob_eur_00910\", \"id_coast_glob_eur_00911\", \"id_coast_glob_eur_00912\", \"id_coast_glob_eur_00913\", \"id_coast_glob_eur_00914\", \"id_coast_glob_eur_00915\", \"id_coast_glob_eur_00916\", \"id_coast_glob_eur_00917\", \"id_coast_glob_eur_00918\", \"id_coast_glob_eur_00919\", \"id_coast_glob_eur_00920\", \"id_coast_glob_eur_00921\", \"id_coast_glob_eur_00922\", \"id_coast_glob_eur_00923\", \"id_coast_glob_eur_00924\", \"id_coast_glob_eur_00925\", \"id_coast_glob_eur_00926\", \"id_coast_glob_eur_00927\", \"id_coast_glob_eur_00928\", \"id_coast_glob_eur_00929\", \"id_coast_glob_eur_00930\", \"id_coast_glob_eur_00931\", \"id_coast_glob_eur_00932\", \"id_coast_glob_eur_00933\", \"id_coast_glob_eur_00934\", \"id_coast_glob_eur_00935\", \"id_coast_glob_eur_00936\", \"id_coast_glob_eur_00937\", \"id_coast_glob_eur_00938\", \"id_coast_glob_eur_00939\", \"id_coast_glob_eur_00940\", \"id_coast_glob_eur_00941\", \"id_coast_glob_eur_00942\", \"id_coast_glob_eur_00943\", \"id_coast_glob_eur_00944\", \"id_coast_glob_eur_00945\", \"id_coast_glob_eur_00946\", \"id_coast_glob_eur_00947\", \"id_coast_glob_eur_00948\", \"id_coast_glob_eur_00949\", \"id_coast_glob_eur_00950\", \"id_coast_glob_eur_00951\", \"id_coast_glob_eur_00952\", \"id_coast_glob_eur_00953\", \"id_coast_glob_eur_00954\", \"id_coast_glob_eur_00955\", \"id_coast_glob_eur_00956\", \"id_coast_glob_eur_00957\", \"id_coast_glob_eur_00958\", \"id_coast_glob_eur_00959\", \"id_coast_glob_eur_00960\", \"id_coast_glob_eur_00961\", \"id_coast_glob_eur_00962\", \"id_coast_glob_eur_00963\", \"id_coast_glob_eur_00964\", \"id_coast_glob_eur_00965\", \"id_coast_glob_eur_00966\", \"id_coast_glob_eur_00967\", \"id_coast_glob_eur_00968\", \"id_coast_glob_eur_00969\", \"id_coast_glob_eur_00970\", \"id_coast_glob_eur_00971\", \"id_coast_glob_eur_00972\", \"id_coast_glob_eur_00973\", \"id_coast_glob_eur_00974\", \"id_coast_glob_eur_00975\", \"id_coast_glob_eur_00976\", \"id_coast_glob_eur_01427\", \"id_coast_glob_eur_01428\", \"id_coast_glob_eur_01429\", \"id_coast_glob_eur_01430\", \"id_coast_glob_eur_01431\", \"id_coast_glob_eur_01432\", \"id_coast_glob_eur_01433\", \"id_coast_glob_eur_01434\", \"id_coast_glob_eur_01435\", \"id_coast_glob_eur_01436\", \"id_coast_glob_eur_01437\", \"id_coast_glob_eur_01438\", \"id_coast_glob_eur_01439\", \"id_coast_glob_eur_01440\", \"id_coast_glob_eur_01441\", \"id_coast_glob_eur_01442\", \"id_coast_glob_eur_01443\", \"id_coast_glob_eur_01444\", \"id_coast_glob_eur_01445\", \"id_coast_glob_eur_01446\", \"id_coast_glob_eur_01447\", \"id_coast_glob_eur_01506\", \"id_coast_glob_eur_01507\", \"id_coast_glob_eur_01508\", \"id_coast_glob_eur_01509\", \"id_coast_glob_eur_01510\", \"id_coast_glob_eur_01511\", \"id_coast_glob_eur_01512\", \"id_coast_glob_eur_01513\", \"id_coast_glob_eur_01514\", \"id_coast_glob_eur_01515\", \"id_coast_glob_eur_01516\", \"id_coast_glob_eur_01621\", \"id_coast_glob_eur_01622\", \"id_coast_glob_eur_01624\", \"id_coast_glob_eur_01625\", \"id_coast_glob_eur_01626\", \"id_coast_glob_eur_01638\", \"id_coast_glob_eur_01639\", \"id_coast_glob_eur_01640\", \"id_coast_glob_eur_01641\", \"id_coast_glob_eur_01642\", \"id_coast_glob_eur_01643\", \"id_coast_glob_eur_01645\", \"id_coast_glob_eur_01646\", \"id_coast_glob_eur_01647\", \"id_coast_glob_eur_01648\", \"id_coast_glob_eur_01649\", \"id_coast_glob_eur_01650\", \"id_coast_glob_eur_01651\", \"id_coast_glob_eur_01652\", \"id_coast_glob_eur_01653\", \"id_coast_glob_eur_01654\", \"id_coast_glob_eur_01655\", \"id_coast_glob_eur_01656\", \"id_coast_glob_eur_01657\", \"id_coast_glob_eur_01658\", \"id_coast_glob_eur_01659\", \"id_coast_glob_eur_01660\", \"id_coast_glob_eur_01661\", \"id_coast_glob_eur_01662\", \"id_coast_glob_eur_01663\", \"id_coast_glob_eur_01664\", \"id_coast_glob_eur_01665\", \"id_coast_glob_eur_01666\", \"id_coast_glob_eur_01667\", \"id_coast_glob_eur_01668\", \"id_coast_glob_eur_01669\", \"id_coast_glob_eur_01670\", \"id_coast_glob_eur_01671\", \"id_coast_glob_eur_01672\", \"id_coast_glob_eur_01673\", \"id_coast_glob_eur_01674\", \"id_coast_glob_eur_01675\", \"id_coast_glob_eur_01676\", \"id_coast_glob_eur_01677\", \"id_coast_glob_eur_01678\", \"id_reg_grid_eur_01896\", \"id_reg_grid_eur_01897\", \"id_reg_grid_eur_01898\", \"id_reg_grid_eur_01899\", \"id_reg_grid_eur_01912\", \"id_reg_grid_eur_01913\", \"id_reg_grid_eur_01914\", \"id_reg_grid_eur_01915\", \"id_reg_grid_eur_01924\", \"id_reg_grid_eur_01925\", \"id_reg_grid_eur_01926\", \"id_reg_grid_eur_01927\", \"id_reg_grid_eur_01928\", \"id_reg_grid_eur_01929\", \"id_reg_grid_eur_01930\", \"id_reg_grid_eur_01931\", \"id_reg_grid_eur_01932\", \"id_reg_grid_eur_01933\", \"id_reg_grid_eur_01934\", \"id_reg_grid_eur_01935\", \"id_reg_grid_eur_01936\", \"id_reg_grid_eur_01937\", \"id_reg_grid_eur_01938\", \"id_reg_grid_eur_01939\", \"id_reg_grid_eur_01947\", \"id_reg_grid_eur_01948\", \"id_reg_grid_eur_01949\", \"id_reg_grid_eur_01950\", \"id_reg_grid_eur_01951\", \"id_reg_grid_eur_01952\", \"id_reg_grid_eur_01953\", \"id_reg_grid_eur_01954\", \"id_reg_grid_eur_01955\", \"id_reg_grid_eur_01956\", \"id_reg_grid_eur_01957\", \"id_reg_grid_eur_01958\", \"id_reg_grid_eur_01959\", \"id_reg_grid_eur_01960\", \"id_reg_grid_eur_01961\", \"id_reg_grid_eur_01962\", \"id_reg_grid_eur_01971\", \"id_reg_grid_eur_01972\", \"id_reg_grid_eur_01973\", \"id_reg_grid_eur_01974\", \"id_reg_grid_eur_01975\", \"id_reg_grid_eur_01976\", \"id_reg_grid_eur_01977\", \"id_reg_grid_eur_01978\", \"id_reg_grid_eur_01979\", \"id_reg_grid_eur_01980\", \"id_reg_grid_eur_01981\", \"id_reg_grid_eur_01982\", \"id_reg_grid_eur_01983\", \"id_reg_grid_eur_01984\", \"id_reg_grid_eur_01985\", \"id_reg_grid_eur_01986\", \"id_reg_grid_eur_02004\", \"id_reg_grid_eur_02005\", \"id_reg_grid_eur_02006\", \"id_reg_grid_eur_02007\", \"id_reg_grid_eur_02008\", \"id_reg_grid_eur_02009\", \"id_reg_grid_eur_02010\", \"id_reg_grid_eur_02011\", \"id_reg_grid_eur_02012\", \"id_reg_grid_eur_02013\", \"id_reg_grid_eur_02014\", \"id_reg_grid_eur_02015\", \"id_reg_grid_eur_02016\", \"id_reg_grid_eur_02017\", \"id_reg_grid_eur_02018\", \"id_reg_grid_eur_02019\", \"id_reg_grid_eur_02041\", \"id_reg_grid_eur_02042\", \"id_reg_grid_eur_02043\", \"id_reg_grid_eur_02044\", \"id_reg_grid_eur_02045\", \"id_reg_grid_eur_02046\", \"id_reg_grid_eur_02047\", \"id_reg_grid_eur_02048\", \"id_reg_grid_eur_02049\", \"id_reg_grid_eur_02050\", \"id_reg_grid_eur_02051\", \"id_reg_grid_eur_02052\", \"id_reg_grid_eur_02053\", \"id_reg_grid_eur_02054\", \"id_reg_grid_eur_02055\", \"id_reg_grid_eur_02056\", \"id_reg_grid_eur_02057\", \"id_reg_grid_eur_02058\", \"id_reg_grid_eur_02095\", \"id_reg_grid_eur_02096\", \"id_reg_grid_eur_02097\", \"id_reg_grid_eur_02098\", \"id_reg_grid_eur_02099\", \"id_reg_grid_eur_02100\", \"id_reg_grid_eur_02101\", \"id_reg_grid_eur_02102\", \"id_reg_grid_eur_02103\", \"id_reg_grid_eur_02104\", \"id_reg_grid_eur_02105\", \"id_reg_grid_eur_02106\", \"id_reg_grid_eur_02107\", \"id_reg_grid_eur_02108\", \"id_reg_grid_eur_02109\", \"id_reg_grid_eur_02110\", \"id_reg_grid_eur_02111\", \"id_reg_grid_eur_02151\", \"id_reg_grid_eur_02152\", \"id_reg_grid_eur_02153\", \"id_reg_grid_eur_02154\", \"id_reg_grid_eur_02155\", \"id_reg_grid_eur_02156\", \"id_reg_grid_eur_02157\", \"id_reg_grid_eur_02158\", \"id_reg_grid_eur_02159\", \"id_reg_grid_eur_02160\", \"id_reg_grid_eur_02161\", \"id_reg_grid_eur_02162\", \"id_reg_grid_eur_02163\", \"id_reg_grid_eur_02164\", \"id_reg_grid_eur_02165\", \"id_reg_grid_eur_02166\", \"id_reg_grid_eur_02225\", \"id_reg_grid_eur_02226\", \"id_reg_grid_eur_02227\", \"id_reg_grid_eur_02228\", \"id_reg_grid_eur_02229\", \"id_reg_grid_eur_02230\", \"id_reg_grid_eur_02231\", \"id_reg_grid_eur_02232\", \"id_reg_grid_eur_02233\", \"id_reg_grid_eur_02234\", \"id_reg_grid_eur_02235\", \"id_reg_grid_eur_02236\", \"id_reg_grid_eur_02294\", \"id_reg_grid_eur_02295\", \"id_reg_grid_eur_02296\", \"id_reg_grid_eur_02297\", \"id_reg_grid_eur_02298\", \"id_reg_grid_eur_02299\", \"id_reg_grid_eur_02300\", \"id_reg_grid_eur_02301\", \"id_reg_grid_eur_02302\", \"id_reg_grid_eur_02303\", \"id_reg_grid_eur_02304\", \"id_reg_grid_eur_02305\", \"id_reg_grid_eur_02306\", \"id_reg_grid_eur_02364\", \"id_reg_grid_eur_02365\", \"id_reg_grid_eur_02366\", \"id_reg_grid_eur_02367\", \"id_reg_grid_eur_02368\", \"id_reg_grid_eur_02369\", \"id_reg_grid_eur_02370\", \"id_reg_grid_eur_02371\", \"id_reg_grid_eur_02372\", \"id_reg_grid_eur_02373\", \"id_reg_grid_eur_02428\", \"id_reg_grid_eur_02429\", \"id_reg_grid_eur_02430\", \"id_reg_grid_eur_02431\", \"id_reg_grid_eur_02432\", \"id_reg_grid_eur_02433\", \"id_reg_grid_eur_02434\", \"id_reg_grid_eur_02435\", \"id_reg_grid_eur_02436\", \"id_reg_grid_eur_02437\", \"id_reg_grid_eur_02438\", \"id_reg_grid_eur_02439\", \"id_reg_grid_eur_02493\", \"id_reg_grid_eur_02494\", \"id_reg_grid_eur_02495\", \"id_reg_grid_eur_02496\", \"id_reg_grid_eur_02497\", \"id_reg_grid_eur_02498\", \"id_reg_grid_eur_02499\", \"id_reg_grid_eur_02500\", \"id_reg_grid_eur_02501\", \"id_reg_grid_eur_02502\", \"id_reg_grid_eur_02503\", \"id_reg_grid_eur_02545\", \"id_reg_grid_eur_02546\", \"id_reg_grid_eur_02547\", \"id_reg_grid_eur_02548\", \"id_reg_grid_eur_02549\", \"id_reg_grid_eur_02551\", \"id_reg_grid_eur_02552\", \"id_reg_grid_eur_02553\", \"id_reg_grid_eur_02554\", \"id_reg_grid_eur_02555\", \"id_reg_grid_eur_02556\", \"id_reg_grid_eur_02557\", \"id_reg_grid_eur_02596\", \"id_reg_grid_eur_02597\", \"id_reg_grid_eur_02598\", \"id_reg_grid_eur_02599\", \"id_reg_grid_eur_02600\", \"id_reg_grid_eur_02601\", \"id_reg_grid_eur_02602\", \"id_reg_grid_eur_02603\", \"id_reg_grid_eur_02604\", \"id_reg_grid_eur_02605\", \"id_reg_grid_eur_02606\", \"id_reg_grid_eur_02646\", \"id_reg_grid_eur_02647\", \"id_reg_grid_eur_02648\", \"id_reg_grid_eur_02649\", \"id_reg_grid_eur_02650\", \"id_reg_grid_eur_02651\", \"id_reg_grid_eur_02652\", \"id_reg_grid_eur_02653\", \"id_reg_grid_eur_02654\", \"id_reg_grid_eur_02693\", \"id_reg_grid_eur_02694\", \"id_reg_grid_eur_02695\", \"id_reg_grid_eur_02696\", \"id_reg_grid_eur_02697\", \"id_reg_grid_eur_02698\", \"id_reg_grid_eur_02699\", \"id_reg_grid_eur_02700\", \"id_reg_grid_eur_02701\", \"id_reg_grid_eur_02743\", \"id_reg_grid_eur_02744\", \"id_reg_grid_eur_02745\", \"id_reg_grid_eur_02746\", \"id_reg_grid_eur_02747\", \"id_reg_grid_eur_02748\", \"id_reg_grid_eur_02749\", \"id_reg_grid_eur_02750\", \"id_reg_grid_eur_02751\", \"id_reg_grid_eur_02752\", \"id_reg_grid_eur_02753\", \"id_reg_grid_eur_02754\", \"id_reg_grid_eur_02755\", \"id_reg_grid_eur_02800\", \"id_reg_grid_eur_02801\", \"id_reg_grid_eur_02802\", \"id_reg_grid_eur_02803\", \"id_reg_grid_eur_02804\", \"id_reg_grid_eur_02805\", \"id_reg_grid_eur_02806\", \"id_reg_grid_eur_02807\", \"id_reg_grid_eur_02808\", \"id_reg_grid_eur_02809\", \"id_reg_grid_eur_02810\", \"id_reg_grid_eur_02811\", \"id_reg_grid_eur_02812\", \"id_reg_grid_eur_02856\", \"id_reg_grid_eur_02857\", \"id_reg_grid_eur_02858\", \"id_reg_grid_eur_02859\", \"id_reg_grid_eur_02860\", \"id_reg_grid_eur_02861\", \"id_reg_grid_eur_02862\", \"id_reg_grid_eur_02863\", \"id_reg_grid_eur_02864\", \"id_reg_grid_eur_02865\", \"id_reg_grid_eur_02866\", \"id_reg_grid_eur_02867\", \"id_reg_grid_eur_02868\", \"id_reg_grid_eur_02869\", \"id_reg_grid_eur_02870\", \"id_reg_grid_eur_02871\", \"id_reg_grid_eur_02872\", \"id_reg_grid_eur_02916\", \"id_reg_grid_eur_02917\", \"id_reg_grid_eur_02918\", \"id_reg_grid_eur_02919\", \"id_reg_grid_eur_02920\", \"id_reg_grid_eur_02921\", \"id_reg_grid_eur_02922\", \"id_reg_grid_eur_02923\", \"id_reg_grid_eur_02924\", \"id_reg_grid_eur_02925\", \"id_reg_grid_eur_02926\", \"id_reg_grid_eur_02927\", \"id_reg_grid_eur_02928\", \"id_reg_grid_eur_02929\", \"id_reg_grid_eur_02930\", \"id_reg_grid_eur_02931\", \"id_reg_grid_eur_02932\", \"id_reg_grid_eur_02974\", \"id_reg_grid_eur_02975\", \"id_reg_grid_eur_02976\", \"id_reg_grid_eur_02977\", \"id_reg_grid_eur_02978\", \"id_reg_grid_eur_02979\", \"id_reg_grid_eur_02980\", \"id_reg_grid_eur_02981\", \"id_reg_grid_eur_02982\", \"id_reg_grid_eur_02983\", \"id_reg_grid_eur_02984\", \"id_reg_grid_eur_02985\", \"id_reg_grid_eur_02986\", \"id_reg_grid_eur_02987\", \"id_reg_grid_eur_02988\", \"id_reg_grid_eur_02989\", \"id_reg_grid_eur_02990\", \"id_reg_grid_eur_02991\", \"id_reg_grid_eur_02992\", \"id_reg_grid_eur_03034\", \"id_reg_grid_eur_03035\", \"id_reg_grid_eur_03036\", \"id_reg_grid_eur_03037\", \"id_reg_grid_eur_03038\", \"id_reg_grid_eur_03039\", \"id_reg_grid_eur_03040\", \"id_reg_grid_eur_03041\", \"id_reg_grid_eur_03042\", \"id_reg_grid_eur_03043\", \"id_reg_grid_eur_03044\", \"id_reg_grid_eur_03045\", \"id_reg_grid_eur_03046\", \"id_reg_grid_eur_03047\", \"id_reg_grid_eur_03048\", \"id_reg_grid_eur_03049\", \"id_reg_grid_eur_03050\", \"id_reg_grid_eur_03051\", \"id_reg_grid_eur_03052\", \"id_reg_grid_eur_03053\", \"id_reg_grid_eur_03054\", \"id_reg_grid_eur_03089\", \"id_reg_grid_eur_03090\", \"id_reg_grid_eur_03091\", \"id_reg_grid_eur_03092\", \"id_reg_grid_eur_03093\", \"id_reg_grid_eur_03094\", \"id_reg_grid_eur_03095\", \"id_reg_grid_eur_03096\", \"id_reg_grid_eur_03097\", \"id_reg_grid_eur_03098\", \"id_reg_grid_eur_03099\", \"id_reg_grid_eur_03100\", \"id_reg_grid_eur_03101\", \"id_reg_grid_eur_03102\", \"id_reg_grid_eur_03103\", \"id_reg_grid_eur_03104\", \"id_reg_grid_eur_03105\", \"id_reg_grid_eur_03106\", \"id_reg_grid_eur_03107\", \"id_reg_grid_eur_03108\", \"id_reg_grid_eur_03109\", \"id_reg_grid_eur_03110\", \"id_reg_grid_eur_03111\", \"id_reg_grid_eur_03112\", \"id_reg_grid_eur_03113\", \"id_reg_grid_eur_03114\", \"id_reg_grid_eur_03115\", \"id_reg_grid_eur_03116\", \"id_reg_grid_eur_03147\", \"id_reg_grid_eur_03148\", \"id_reg_grid_eur_03149\", \"id_reg_grid_eur_03150\", \"id_reg_grid_eur_03151\", \"id_reg_grid_eur_03152\", \"id_reg_grid_eur_03153\", \"id_reg_grid_eur_03154\", \"id_reg_grid_eur_03155\", \"id_reg_grid_eur_03156\", \"id_reg_grid_eur_03157\", \"id_reg_grid_eur_03158\", \"id_reg_grid_eur_03159\", \"id_reg_grid_eur_03160\", \"id_reg_grid_eur_03161\", \"id_reg_grid_eur_03162\", \"id_reg_grid_eur_03163\", \"id_reg_grid_eur_03164\", \"id_reg_grid_eur_03165\", \"id_reg_grid_eur_03166\", \"id_reg_grid_eur_03167\", \"id_reg_grid_eur_03168\", \"id_reg_grid_eur_03169\", \"id_reg_grid_eur_03170\", \"id_reg_grid_eur_03171\", \"id_reg_grid_eur_03172\", \"id_reg_grid_eur_03173\", \"id_reg_grid_eur_03174\", \"id_reg_grid_eur_03199\", \"id_reg_grid_eur_03200\", \"id_reg_grid_eur_03201\", \"id_reg_grid_eur_03202\", \"id_reg_grid_eur_03203\", \"id_reg_grid_eur_03204\", \"id_reg_grid_eur_03205\", \"id_reg_grid_eur_03206\", \"id_reg_grid_eur_03207\", \"id_reg_grid_eur_03208\", \"id_reg_grid_eur_03209\", \"id_reg_grid_eur_03210\", \"id_reg_grid_eur_03211\", \"id_reg_grid_eur_03212\", \"id_reg_grid_eur_03213\", \"id_reg_grid_eur_03214\", \"id_reg_grid_eur_03215\", \"id_reg_grid_eur_03216\", \"id_reg_grid_eur_03217\", \"id_reg_grid_eur_03218\", \"id_reg_grid_eur_03219\", \"id_reg_grid_eur_03220\", \"id_reg_grid_eur_03221\", \"id_reg_grid_eur_03222\", \"id_reg_grid_eur_03223\", \"id_reg_grid_eur_03224\", \"id_reg_grid_eur_03225\", \"id_reg_grid_eur_03226\", \"id_reg_grid_eur_03227\", \"id_reg_grid_eur_03228\", \"id_reg_grid_eur_03251\", \"id_reg_grid_eur_03252\", \"id_reg_grid_eur_03253\", \"id_reg_grid_eur_03254\", \"id_reg_grid_eur_03255\", \"id_reg_grid_eur_03256\", \"id_reg_grid_eur_03257\", \"id_reg_grid_eur_03258\", \"id_reg_grid_eur_03259\", \"id_reg_grid_eur_03260\", \"id_reg_grid_eur_03261\", \"id_reg_grid_eur_03262\", \"id_reg_grid_eur_03263\", \"id_reg_grid_eur_03264\", \"id_reg_grid_eur_03265\", \"id_reg_grid_eur_03266\", \"id_reg_grid_eur_03267\", \"id_reg_grid_eur_03268\", \"id_reg_grid_eur_03269\", \"id_reg_grid_eur_03270\", \"id_reg_grid_eur_03271\", \"id_reg_grid_eur_03272\", \"id_reg_grid_eur_03273\", \"id_reg_grid_eur_03274\", \"id_reg_grid_eur_03275\", \"id_reg_grid_eur_03276\", \"id_reg_grid_eur_03277\", \"id_reg_grid_eur_03278\", \"id_reg_grid_eur_03279\", \"id_reg_grid_eur_03300\", \"id_reg_grid_eur_03303\", \"id_reg_grid_eur_03304\", \"id_reg_grid_eur_03310\", \"id_reg_grid_eur_03318\", \"id_reg_grid_eur_03319\", \"id_reg_grid_eur_03320\", \"id_reg_grid_eur_03321\", \"id_reg_grid_eur_03322\", \"id_reg_grid_eur_03325\", \"id_reg_grid_eur_11483\", \"id_reg_grid_eur_11532\", \"id_reg_grid_eur_11533\", \"id_reg_grid_eur_11534\", \"id_reg_grid_eur_11535\", \"id_reg_grid_eur_11536\", \"id_reg_grid_eur_11537\", \"id_reg_grid_eur_11538\", \"id_reg_grid_eur_11539\", \"id_reg_grid_eur_11540\", \"id_reg_grid_eur_11541\", \"id_reg_grid_eur_11542\", \"id_reg_grid_eur_11543\", \"id_reg_grid_eur_11544\", \"id_reg_grid_eur_11545\", \"id_reg_grid_eur_11546\", \"id_reg_grid_eur_11547\", \"id_reg_grid_eur_11589\", \"id_reg_grid_eur_11590\", \"id_reg_grid_eur_11591\", \"id_reg_grid_eur_11592\", \"id_reg_grid_eur_11593\", \"id_reg_grid_eur_11594\", \"id_reg_grid_eur_11595\", \"id_reg_grid_eur_11596\", \"id_reg_grid_eur_11597\", \"id_reg_grid_eur_11598\", \"id_reg_grid_eur_11599\", \"id_reg_grid_eur_11600\", \"id_reg_grid_eur_11601\", \"id_reg_grid_eur_11602\", \"id_reg_grid_eur_11603\", \"id_reg_grid_eur_11604\", \"id_reg_grid_eur_11660\", \"id_reg_grid_eur_11661\", \"id_reg_grid_eur_11662\", \"id_reg_grid_eur_11663\", \"id_reg_grid_eur_11664\", \"id_reg_grid_eur_11665\", \"id_reg_grid_eur_11666\", \"id_reg_grid_eur_11667\", \"id_reg_grid_eur_11668\", \"id_reg_grid_eur_11669\", \"id_reg_grid_eur_11670\", \"id_reg_grid_eur_11671\", \"id_reg_grid_eur_11672\", \"id_reg_grid_eur_11673\", \"id_reg_grid_eur_11674\", \"id_reg_grid_eur_11675\", \"id_reg_grid_eur_11731\", \"id_reg_grid_eur_11732\", \"id_reg_grid_eur_11733\", \"id_reg_grid_eur_11734\", \"id_reg_grid_eur_11735\", \"id_reg_grid_eur_11736\", \"id_reg_grid_eur_11737\", \"id_reg_grid_eur_11738\", \"id_reg_grid_eur_11739\", \"id_reg_grid_eur_11740\", \"id_reg_grid_eur_11741\", \"id_reg_grid_eur_11742\", \"id_reg_grid_eur_11743\", \"id_reg_grid_eur_11744\", \"id_reg_grid_eur_11745\", \"id_reg_grid_eur_11746\", \"id_reg_grid_eur_11804\", \"id_reg_grid_eur_11805\", \"id_reg_grid_eur_11806\", \"id_reg_grid_eur_11807\", \"id_reg_grid_eur_11808\", \"id_reg_grid_eur_11809\", \"id_reg_grid_eur_11810\", \"id_reg_grid_eur_11811\", \"id_reg_grid_eur_11812\", \"id_reg_grid_eur_11813\", \"id_reg_grid_eur_11814\", \"id_reg_grid_eur_11815\", \"id_reg_grid_eur_11816\", \"id_reg_grid_eur_11817\", \"id_reg_grid_eur_11818\", \"id_reg_grid_eur_11819\", \"id_reg_grid_eur_11879\", \"id_reg_grid_eur_11880\", \"id_reg_grid_eur_11881\", \"id_reg_grid_eur_11882\", \"id_reg_grid_eur_11883\", \"id_reg_grid_eur_11884\", \"id_reg_grid_eur_11885\", \"id_reg_grid_eur_11886\", \"id_reg_grid_eur_11887\", \"id_reg_grid_eur_11888\", \"id_reg_grid_eur_11889\", \"id_reg_grid_eur_11890\", \"id_reg_grid_eur_11891\", \"id_reg_grid_eur_11892\", \"id_reg_grid_eur_11893\", \"id_reg_grid_eur_11894\", \"id_reg_grid_eur_11958\", \"id_reg_grid_eur_11959\", \"id_reg_grid_eur_11960\", \"id_reg_grid_eur_11961\", \"id_reg_grid_eur_11962\", \"id_reg_grid_eur_11963\", \"id_reg_grid_eur_11964\", \"id_reg_grid_eur_11965\", \"id_reg_grid_eur_11966\", \"id_reg_grid_eur_11967\", \"id_reg_grid_eur_11968\", \"id_reg_grid_eur_11969\", \"id_reg_grid_eur_11970\", \"id_reg_grid_eur_11971\", \"id_reg_grid_eur_11972\", \"id_reg_grid_eur_11973\", \"id_reg_grid_eur_12042\", \"id_reg_grid_eur_12043\", \"id_reg_grid_eur_12044\", \"id_reg_grid_eur_12045\", \"id_reg_grid_eur_12046\", \"id_reg_grid_eur_12047\", \"id_reg_grid_eur_12048\", \"id_reg_grid_eur_12049\", \"id_reg_grid_eur_12050\", \"id_reg_grid_eur_12051\", \"id_reg_grid_eur_12052\", \"id_reg_grid_eur_12053\", \"id_reg_grid_eur_12054\", \"id_reg_grid_eur_12055\", \"id_reg_grid_eur_12125\", \"id_reg_grid_eur_12126\", \"id_reg_grid_eur_12127\", \"id_reg_grid_eur_12128\", \"id_reg_grid_eur_12129\", \"id_reg_grid_eur_12130\", \"id_reg_grid_eur_12131\", \"id_reg_grid_eur_12132\", \"id_reg_grid_eur_12201\", \"id_reg_grid_eur_12202\", \"id_reg_grid_eur_12203\", \"id_reg_grid_eur_12204\", \"id_reg_grid_eur_12205\", \"id_reg_grid_eur_12206\", \"id_reg_grid_eur_12207\", \"id_reg_grid_eur_12208\", \"id_reg_grid_eur_12270\", \"id_reg_grid_eur_12271\", \"id_reg_grid_eur_12272\", \"id_reg_grid_eur_12273\", \"id_reg_grid_eur_12274\", \"id_reg_grid_eur_12275\", \"id_reg_grid_eur_12276\", \"id_reg_grid_eur_12328\", \"id_reg_grid_eur_12329\", \"id_reg_grid_eur_12330\", \"id_reg_grid_eur_12331\", \"id_reg_grid_eur_12332\", \"id_reg_grid_eur_12333\", \"id_reg_grid_eur_12373\", \"id_reg_grid_eur_12374\", \"id_reg_grid_eur_12375\", \"id_reg_grid_eur_12376\", \"id_reg_grid_eur_12377\", \"id_reg_grid_eur_12378\", \"id_reg_grid_eur_12413\", \"id_reg_grid_eur_12414\", \"id_reg_grid_eur_12415\", \"id_reg_grid_eur_12416\", \"id_reg_grid_eur_12417\", \"id_reg_grid_eur_12418\", \"id_reg_grid_eur_12450\", \"id_reg_grid_eur_12451\", \"id_reg_grid_eur_12452\", \"id_reg_grid_eur_12453\", \"id_reg_grid_eur_12454\", \"id_reg_grid_eur_12484\", \"id_reg_grid_eur_12485\", \"id_reg_grid_eur_12486\", \"id_reg_grid_eur_12487\", \"id_reg_grid_eur_12488\", \"id_reg_grid_eur_12489\", \"id_reg_grid_eur_12517\", \"id_reg_grid_eur_12518\", \"id_reg_grid_eur_12519\", \"id_reg_grid_eur_12520\", \"id_reg_grid_eur_12546\", \"id_obs_castletownsend\", \"id_obs_malin_head\", \"id_obs_newlyn\", \"IBIS_GL_TS_MO_62023\", \"IBIS_GL_TS_MO_62090\", \"IBIS_IR_TS_MO_AMETS-weather-buoy\", \"IBIS_IR_TS_MO_Aranmore\", \"IBIS_IR_TS_MO_Ballycotton\", \"IBIS_IR_TS_MO_Ballyglass\", \"IBIS_IR_TS_MO_Bangor\", \"IBIS_IR_TS_MO_Castletownbere\", \"IBIS_IR_TS_MO_DublinPort\", \"IBIS_IR_TS_MO_Dundalk\", \"IBIS_IR_TS_MO_Dunmore\", \"IBIS_IR_TS_MO_FS1-weather-buoy\", \"IBIS_IR_TS_MO_Galway-coast-buoy\", \"IBIS_IR_TS_MO_GalwayPort\", \"IBIS_IR_TS_MO_Howth\", \"IBIS_IR_TS_MO_Inishmore\", \"IBIS_IR_TS_MO_Killybegs\", \"IBIS_IR_TS_MO_MalinHead\", \"IBIS_IR_TS_MO_Milford\", \"IBIS_IR_TS_MO_Newlyn\", \"IBIS_IR_TS_MO_PortEllen\", \"IBIS_IR_TS_MO_Portpatrick\", \"IBIS_IR_TS_MO_Portrush\", \"IBIS_IR_TS_MO_SkerriesHarbour\", \"IBIS_IR_TS_MO_Sligo\", \"IBIS_IR_TS_MO_StMarys\", \"IBIS_IR_TS_MO_WestwaveMK3-coast-buoy\", \"IBIS_IR_TS_MO_Wexford\", \"NWS_IR_TS_MO_62029\", \"NWS_IR_TS_MO_AMETS_weather_buoy\", \"NWS_IR_TS_MO_BelmulletA_cost_buoy\", \"NWS_IR_TS_MO_BelmulletB_cost_buoy\", \"NWS_IR_TS_MO_FS1_weather_buoy\", \"NWS_IR_TS_MO_Galway_cost_buoy\", \"id_obs_bangor_p662_uk_bodc\", \"id_obs_castletownsend_835a_ireland_uhslc\", \"id_obs_malin_head_834a_ireland_uhslc\", \"id_obs_malinhead_malinhead_glossdm_bodc\", \"id_obs_milfordhaven_p056_uk_bodc\", \"id_obs_newlyn_cornwall_294a_united_kingd\", \"id_obs_portellen_p202_uk_bodc\", \"id_obs_portpatrick_p063_uk_bodc\", \"id_obs_portrush_p935_uk_bodc\", \"id_obs_stmarys_p231_uk_bodc\", \"currents_arklow_bank_2\", \"currents_codling_bank\", \"currents_wave_hub\", \"currents_codling_wind_farm\", \"currents_dublin_array\", \"currents_gaelectric_foreshore_test_sites\", \"currents_oriel_wind_farm\", \"currents_skerd_rocks\", \"currents_arklow_bank_phase_1\", \"currents_belfast\", \"currents_londonderry\", \"currents_foynes\", \"currents_cork\", \"currents_dublin\", \"currents_milford_haven\", \"currents_falmouth_harbour\", \"islands_242176\", \"islands_242222\", \"islands_242232\", \"islands_242261\", \"islands_242264\", \"islands_244257\", \"islands_244945\"], \"type\": \"scattermapbox\"}],                        {\"autosize\": true, \"hovermode\": \"closest\", \"mapbox\": {\"bearing\": 0, \"center\": {\"lat\": 53.4, \"lon\": 354}, \"pitch\": 0, \"style\": \"open-street-map\", \"zoom\": 8.5}, \"margin\": {\"b\": 0, \"l\": 0, \"r\": 0, \"t\": 40}, \"showlegend\": false, \"template\": {\"data\": {\"bar\": [{\"error_x\": {\"color\": \"#2a3f5f\"}, \"error_y\": {\"color\": \"#2a3f5f\"}, \"marker\": {\"line\": {\"color\": \"#E5ECF6\", \"width\": 0.5}}, \"type\": \"bar\"}], \"barpolar\": [{\"marker\": {\"line\": {\"color\": \"#E5ECF6\", \"width\": 0.5}}, \"type\": \"barpolar\"}], \"carpet\": [{\"aaxis\": {\"endlinecolor\": \"#2a3f5f\", \"gridcolor\": \"white\", \"linecolor\": \"white\", \"minorgridcolor\": \"white\", \"startlinecolor\": \"#2a3f5f\"}, \"baxis\": {\"endlinecolor\": \"#2a3f5f\", \"gridcolor\": \"white\", \"linecolor\": \"white\", \"minorgridcolor\": \"white\", \"startlinecolor\": \"#2a3f5f\"}, \"type\": \"carpet\"}], \"choropleth\": [{\"colorbar\": {\"outlinewidth\": 0, \"ticks\": \"\"}, \"type\": \"choropleth\"}], \"contour\": [{\"colorbar\": {\"outlinewidth\": 0, \"ticks\": \"\"}, \"colorscale\": [[0.0, \"#0d0887\"], [0.1111111111111111, \"#46039f\"], [0.2222222222222222, \"#7201a8\"], [0.3333333333333333, \"#9c179e\"], [0.4444444444444444, \"#bd3786\"], [0.5555555555555556, \"#d8576b\"], [0.6666666666666666, \"#ed7953\"], [0.7777777777777778, \"#fb9f3a\"], [0.8888888888888888, \"#fdca26\"], [1.0, \"#f0f921\"]], \"type\": \"contour\"}], \"contourcarpet\": [{\"colorbar\": {\"outlinewidth\": 0, \"ticks\": \"\"}, \"type\": \"contourcarpet\"}], \"heatmap\": [{\"colorbar\": {\"outlinewidth\": 0, \"ticks\": \"\"}, \"colorscale\": [[0.0, \"#0d0887\"], [0.1111111111111111, \"#46039f\"], [0.2222222222222222, \"#7201a8\"], [0.3333333333333333, \"#9c179e\"], [0.4444444444444444, \"#bd3786\"], [0.5555555555555556, \"#d8576b\"], [0.6666666666666666, \"#ed7953\"], [0.7777777777777778, \"#fb9f3a\"], [0.8888888888888888, \"#fdca26\"], [1.0, \"#f0f921\"]], \"type\": \"heatmap\"}], \"heatmapgl\": [{\"colorbar\": {\"outlinewidth\": 0, \"ticks\": \"\"}, \"colorscale\": [[0.0, \"#0d0887\"], [0.1111111111111111, \"#46039f\"], [0.2222222222222222, \"#7201a8\"], [0.3333333333333333, \"#9c179e\"], [0.4444444444444444, \"#bd3786\"], [0.5555555555555556, \"#d8576b\"], [0.6666666666666666, \"#ed7953\"], [0.7777777777777778, \"#fb9f3a\"], [0.8888888888888888, \"#fdca26\"], [1.0, \"#f0f921\"]], \"type\": \"heatmapgl\"}], \"histogram\": [{\"marker\": {\"colorbar\": {\"outlinewidth\": 0, \"ticks\": \"\"}}, \"type\": \"histogram\"}], \"histogram2d\": [{\"colorbar\": {\"outlinewidth\": 0, \"ticks\": \"\"}, \"colorscale\": [[0.0, \"#0d0887\"], [0.1111111111111111, \"#46039f\"], [0.2222222222222222, \"#7201a8\"], [0.3333333333333333, \"#9c179e\"], [0.4444444444444444, \"#bd3786\"], [0.5555555555555556, \"#d8576b\"], [0.6666666666666666, \"#ed7953\"], [0.7777777777777778, \"#fb9f3a\"], [0.8888888888888888, \"#fdca26\"], [1.0, \"#f0f921\"]], \"type\": \"histogram2d\"}], \"histogram2dcontour\": [{\"colorbar\": {\"outlinewidth\": 0, \"ticks\": \"\"}, \"colorscale\": [[0.0, \"#0d0887\"], [0.1111111111111111, \"#46039f\"], [0.2222222222222222, \"#7201a8\"], [0.3333333333333333, \"#9c179e\"], [0.4444444444444444, \"#bd3786\"], [0.5555555555555556, \"#d8576b\"], [0.6666666666666666, \"#ed7953\"], [0.7777777777777778, \"#fb9f3a\"], [0.8888888888888888, \"#fdca26\"], [1.0, \"#f0f921\"]], \"type\": \"histogram2dcontour\"}], \"mesh3d\": [{\"colorbar\": {\"outlinewidth\": 0, \"ticks\": \"\"}, \"type\": \"mesh3d\"}], \"parcoords\": [{\"line\": {\"colorbar\": {\"outlinewidth\": 0, \"ticks\": \"\"}}, \"type\": \"parcoords\"}], \"pie\": [{\"automargin\": true, \"type\": \"pie\"}], \"scatter\": [{\"marker\": {\"colorbar\": {\"outlinewidth\": 0, \"ticks\": \"\"}}, \"type\": \"scatter\"}], \"scatter3d\": [{\"line\": {\"colorbar\": {\"outlinewidth\": 0, \"ticks\": \"\"}}, \"marker\": {\"colorbar\": {\"outlinewidth\": 0, \"ticks\": \"\"}}, \"type\": \"scatter3d\"}], \"scattercarpet\": [{\"marker\": {\"colorbar\": {\"outlinewidth\": 0, \"ticks\": \"\"}}, \"type\": \"scattercarpet\"}], \"scattergeo\": [{\"marker\": {\"colorbar\": {\"outlinewidth\": 0, \"ticks\": \"\"}}, \"type\": \"scattergeo\"}], \"scattergl\": [{\"marker\": {\"colorbar\": {\"outlinewidth\": 0, \"ticks\": \"\"}}, \"type\": \"scattergl\"}], \"scattermapbox\": [{\"marker\": {\"colorbar\": {\"outlinewidth\": 0, \"ticks\": \"\"}}, \"type\": \"scattermapbox\"}], \"scatterpolar\": [{\"marker\": {\"colorbar\": {\"outlinewidth\": 0, \"ticks\": \"\"}}, \"type\": \"scatterpolar\"}], \"scatterpolargl\": [{\"marker\": {\"colorbar\": {\"outlinewidth\": 0, \"ticks\": \"\"}}, \"type\": \"scatterpolargl\"}], \"scatterternary\": [{\"marker\": {\"colorbar\": {\"outlinewidth\": 0, \"ticks\": \"\"}}, \"type\": \"scatterternary\"}], \"surface\": [{\"colorbar\": {\"outlinewidth\": 0, \"ticks\": \"\"}, \"colorscale\": [[0.0, \"#0d0887\"], [0.1111111111111111, \"#46039f\"], [0.2222222222222222, \"#7201a8\"], [0.3333333333333333, \"#9c179e\"], [0.4444444444444444, \"#bd3786\"], [0.5555555555555556, \"#d8576b\"], [0.6666666666666666, \"#ed7953\"], [0.7777777777777778, \"#fb9f3a\"], [0.8888888888888888, \"#fdca26\"], [1.0, \"#f0f921\"]], \"type\": \"surface\"}], \"table\": [{\"cells\": {\"fill\": {\"color\": \"#EBF0F8\"}, \"line\": {\"color\": \"white\"}}, \"header\": {\"fill\": {\"color\": \"#C8D4E3\"}, \"line\": {\"color\": \"white\"}}, \"type\": \"table\"}]}, \"layout\": {\"annotationdefaults\": {\"arrowcolor\": \"#2a3f5f\", \"arrowhead\": 0, \"arrowwidth\": 1}, \"autotypenumbers\": \"strict\", \"coloraxis\": {\"colorbar\": {\"outlinewidth\": 0, \"ticks\": \"\"}}, \"colorscale\": {\"diverging\": [[0, \"#8e0152\"], [0.1, \"#c51b7d\"], [0.2, \"#de77ae\"], [0.3, \"#f1b6da\"], [0.4, \"#fde0ef\"], [0.5, \"#f7f7f7\"], [0.6, \"#e6f5d0\"], [0.7, \"#b8e186\"], [0.8, \"#7fbc41\"], [0.9, \"#4d9221\"], [1, \"#276419\"]], \"sequential\": [[0.0, \"#0d0887\"], [0.1111111111111111, \"#46039f\"], [0.2222222222222222, \"#7201a8\"], [0.3333333333333333, \"#9c179e\"], [0.4444444444444444, \"#bd3786\"], [0.5555555555555556, \"#d8576b\"], [0.6666666666666666, \"#ed7953\"], [0.7777777777777778, \"#fb9f3a\"], [0.8888888888888888, \"#fdca26\"], [1.0, \"#f0f921\"]], \"sequentialminus\": [[0.0, \"#0d0887\"], [0.1111111111111111, \"#46039f\"], [0.2222222222222222, \"#7201a8\"], [0.3333333333333333, \"#9c179e\"], [0.4444444444444444, \"#bd3786\"], [0.5555555555555556, \"#d8576b\"], [0.6666666666666666, \"#ed7953\"], [0.7777777777777778, \"#fb9f3a\"], [0.8888888888888888, \"#fdca26\"], [1.0, \"#f0f921\"]]}, \"colorway\": [\"#636efa\", \"#EF553B\", \"#00cc96\", \"#ab63fa\", \"#FFA15A\", \"#19d3f3\", \"#FF6692\", \"#B6E880\", \"#FF97FF\", \"#FECB52\"], \"font\": {\"color\": \"#2a3f5f\"}, \"geo\": {\"bgcolor\": \"white\", \"lakecolor\": \"white\", \"landcolor\": \"#E5ECF6\", \"showlakes\": true, \"showland\": true, \"subunitcolor\": \"white\"}, \"hoverlabel\": {\"align\": \"left\"}, \"hovermode\": \"closest\", \"mapbox\": {\"style\": \"light\"}, \"paper_bgcolor\": \"white\", \"plot_bgcolor\": \"#E5ECF6\", \"polar\": {\"angularaxis\": {\"gridcolor\": \"white\", \"linecolor\": \"white\", \"ticks\": \"\"}, \"bgcolor\": \"#E5ECF6\", \"radialaxis\": {\"gridcolor\": \"white\", \"linecolor\": \"white\", \"ticks\": \"\"}}, \"scene\": {\"xaxis\": {\"backgroundcolor\": \"#E5ECF6\", \"gridcolor\": \"white\", \"gridwidth\": 2, \"linecolor\": \"white\", \"showbackground\": true, \"ticks\": \"\", \"zerolinecolor\": \"white\"}, \"yaxis\": {\"backgroundcolor\": \"#E5ECF6\", \"gridcolor\": \"white\", \"gridwidth\": 2, \"linecolor\": \"white\", \"showbackground\": true, \"ticks\": \"\", \"zerolinecolor\": \"white\"}, \"zaxis\": {\"backgroundcolor\": \"#E5ECF6\", \"gridcolor\": \"white\", \"gridwidth\": 2, \"linecolor\": \"white\", \"showbackground\": true, \"ticks\": \"\", \"zerolinecolor\": \"white\"}}, \"shapedefaults\": {\"line\": {\"color\": \"#2a3f5f\"}}, \"ternary\": {\"aaxis\": {\"gridcolor\": \"white\", \"linecolor\": \"white\", \"ticks\": \"\"}, \"baxis\": {\"gridcolor\": \"white\", \"linecolor\": \"white\", \"ticks\": \"\"}, \"bgcolor\": \"#E5ECF6\", \"caxis\": {\"gridcolor\": \"white\", \"linecolor\": \"white\", \"ticks\": \"\"}}, \"title\": {\"x\": 0.05}, \"xaxis\": {\"automargin\": true, \"gridcolor\": \"white\", \"linecolor\": \"white\", \"ticks\": \"\", \"title\": {\"standoff\": 15}, \"zerolinecolor\": \"white\", \"zerolinewidth\": 2}, \"yaxis\": {\"automargin\": true, \"gridcolor\": \"white\", \"linecolor\": \"white\", \"ticks\": \"\", \"title\": {\"standoff\": 15}, \"zerolinecolor\": \"white\", \"zerolinewidth\": 2}}}, \"title\": {\"text\": \"<b>Water Indicator Stations Ireland</b>\", \"x\": 0.5}},                        {\"responsive\": true}                    ).then(function(){\n",
       "                            \n",
       "var gd = document.getElementById('3a3a2fcc-8a58-4184-bb23-e7e6cef142cb');\n",
       "var x = new MutationObserver(function (mutations, observer) {{\n",
       "        var display = window.getComputedStyle(gd).display;\n",
       "        if (!display || display === 'none') {{\n",
       "            console.log([gd, 'removed!']);\n",
       "            Plotly.purge(gd);\n",
       "            observer.disconnect();\n",
       "        }}\n",
       "}});\n",
       "\n",
       "// Listen for the removal of the full notebook cells\n",
       "var notebookContainer = gd.closest('#notebook-container');\n",
       "if (notebookContainer) {{\n",
       "    x.observe(notebookContainer, {childList: true});\n",
       "}}\n",
       "\n",
       "// Listen for the clearing of the current output cell\n",
       "var outputEl = gd.closest('.output');\n",
       "if (outputEl) {{\n",
       "    x.observe(outputEl, {childList: true});\n",
       "}}\n",
       "\n",
       "                        })                };                });            </script>        </div>"
      ]
     },
     "metadata": {},
     "output_type": "display_data"
    }
   ],
   "source": [
    "stationsIrlMap = go.Figure(data=stationsIrlScatter,layout=layout)\n",
    "stationsIrlMap.show()"
   ]
  },
  {
   "cell_type": "code",
   "execution_count": 38,
   "id": "sunrise-business",
   "metadata": {},
   "outputs": [],
   "source": [
    "stationsIrlMap.write_html(\"./Charts/Water_Indicator_Stations_Ireland.html\")"
   ]
  },
  {
   "cell_type": "code",
   "execution_count": 21,
   "id": "sudden-painting",
   "metadata": {},
   "outputs": [
    {
     "data": {
      "text/html": [
       "<div>\n",
       "<style scoped>\n",
       "    .dataframe tbody tr th:only-of-type {\n",
       "        vertical-align: middle;\n",
       "    }\n",
       "\n",
       "    .dataframe tbody tr th {\n",
       "        vertical-align: top;\n",
       "    }\n",
       "\n",
       "    .dataframe thead th {\n",
       "        text-align: right;\n",
       "    }\n",
       "</style>\n",
       "<table border=\"1\" class=\"dataframe\">\n",
       "  <thead>\n",
       "    <tr style=\"text-align: right;\">\n",
       "      <th></th>\n",
       "      <th>StationName</th>\n",
       "      <th>Lat</th>\n",
       "      <th>Lon</th>\n",
       "    </tr>\n",
       "  </thead>\n",
       "  <tbody>\n",
       "    <tr>\n",
       "      <th>771</th>\n",
       "      <td>id_coast_glob_eur_00794</td>\n",
       "      <td>53.591310</td>\n",
       "      <td>353.869629</td>\n",
       "    </tr>\n",
       "    <tr>\n",
       "      <th>772</th>\n",
       "      <td>id_coast_glob_eur_00795</td>\n",
       "      <td>53.518070</td>\n",
       "      <td>353.913574</td>\n",
       "    </tr>\n",
       "    <tr>\n",
       "      <th>773</th>\n",
       "      <td>id_coast_glob_eur_00796</td>\n",
       "      <td>53.444820</td>\n",
       "      <td>353.884277</td>\n",
       "    </tr>\n",
       "    <tr>\n",
       "      <th>774</th>\n",
       "      <td>id_coast_glob_eur_00797</td>\n",
       "      <td>53.386230</td>\n",
       "      <td>353.942871</td>\n",
       "    </tr>\n",
       "    <tr>\n",
       "      <th>775</th>\n",
       "      <td>id_coast_glob_eur_00798</td>\n",
       "      <td>53.312990</td>\n",
       "      <td>353.898926</td>\n",
       "    </tr>\n",
       "    <tr>\n",
       "      <th>776</th>\n",
       "      <td>id_coast_glob_eur_00799</td>\n",
       "      <td>53.225100</td>\n",
       "      <td>353.898926</td>\n",
       "    </tr>\n",
       "    <tr>\n",
       "      <th>10295</th>\n",
       "      <td>id_reg_grid_eur_03095</td>\n",
       "      <td>53.503420</td>\n",
       "      <td>354.001465</td>\n",
       "    </tr>\n",
       "    <tr>\n",
       "      <th>10296</th>\n",
       "      <td>id_reg_grid_eur_03096</td>\n",
       "      <td>53.247070</td>\n",
       "      <td>354.008789</td>\n",
       "    </tr>\n",
       "    <tr>\n",
       "      <th>10353</th>\n",
       "      <td>id_reg_grid_eur_03153</td>\n",
       "      <td>53.510740</td>\n",
       "      <td>354.243164</td>\n",
       "    </tr>\n",
       "    <tr>\n",
       "      <th>10354</th>\n",
       "      <td>id_reg_grid_eur_03154</td>\n",
       "      <td>53.247070</td>\n",
       "      <td>354.243164</td>\n",
       "    </tr>\n",
       "    <tr>\n",
       "      <th>21836</th>\n",
       "      <td>IBIS_IR_TS_MO_DublinPort</td>\n",
       "      <td>53.342285</td>\n",
       "      <td>353.811035</td>\n",
       "    </tr>\n",
       "    <tr>\n",
       "      <th>21856</th>\n",
       "      <td>IBIS_IR_TS_MO_Howth</td>\n",
       "      <td>53.386230</td>\n",
       "      <td>353.928223</td>\n",
       "    </tr>\n",
       "    <tr>\n",
       "      <th>21906</th>\n",
       "      <td>IBIS_IR_TS_MO_SkerriesHarbour</td>\n",
       "      <td>53.591308</td>\n",
       "      <td>353.898926</td>\n",
       "    </tr>\n",
       "    <tr>\n",
       "      <th>22752</th>\n",
       "      <td>currents_dublin_array</td>\n",
       "      <td>53.225100</td>\n",
       "      <td>354.074707</td>\n",
       "    </tr>\n",
       "    <tr>\n",
       "      <th>22850</th>\n",
       "      <td>currents_dublin</td>\n",
       "      <td>53.342280</td>\n",
       "      <td>353.840332</td>\n",
       "    </tr>\n",
       "    <tr>\n",
       "      <th>23135</th>\n",
       "      <td>islands_244945</td>\n",
       "      <td>53.488769</td>\n",
       "      <td>353.986816</td>\n",
       "    </tr>\n",
       "  </tbody>\n",
       "</table>\n",
       "</div>"
      ],
      "text/plain": [
       "                         StationName        Lat         Lon\n",
       "771          id_coast_glob_eur_00794  53.591310  353.869629\n",
       "772          id_coast_glob_eur_00795  53.518070  353.913574\n",
       "773          id_coast_glob_eur_00796  53.444820  353.884277\n",
       "774          id_coast_glob_eur_00797  53.386230  353.942871\n",
       "775          id_coast_glob_eur_00798  53.312990  353.898926\n",
       "776          id_coast_glob_eur_00799  53.225100  353.898926\n",
       "10295          id_reg_grid_eur_03095  53.503420  354.001465\n",
       "10296          id_reg_grid_eur_03096  53.247070  354.008789\n",
       "10353          id_reg_grid_eur_03153  53.510740  354.243164\n",
       "10354          id_reg_grid_eur_03154  53.247070  354.243164\n",
       "21836       IBIS_IR_TS_MO_DublinPort  53.342285  353.811035\n",
       "21856            IBIS_IR_TS_MO_Howth  53.386230  353.928223\n",
       "21906  IBIS_IR_TS_MO_SkerriesHarbour  53.591308  353.898926\n",
       "22752          currents_dublin_array  53.225100  354.074707\n",
       "22850                currents_dublin  53.342280  353.840332\n",
       "23135                 islands_244945  53.488769  353.986816"
      ]
     },
     "execution_count": 21,
     "metadata": {},
     "output_type": "execute_result"
    }
   ],
   "source": [
    "# Dublin Zone\n",
    "\n",
    "\n",
    "stationsDubDF=stationsDF.loc[stationsDF['Lat'].between(53.16, 53.63, inclusive=True)]\n",
    "stationsDubDF=stationsDubDF.loc[stationsDubDF['Lon'].between(360-6.54, 360-5.5, inclusive=True)]\n",
    "stationsDubDF"
   ]
  },
  {
   "cell_type": "code",
   "execution_count": 22,
   "id": "chubby-removal",
   "metadata": {},
   "outputs": [],
   "source": [
    "stationsDubScatter=go.Scattermapbox(\n",
    "        lon=stationsDubDF['Lon'],\n",
    "        lat=stationsDubDF['Lat'],\n",
    "        text=stationsDubDF['StationName'],\n",
    "        mode='markers',\n",
    "        hovertemplate=\"Station: %{text}<br>\" +\n",
    "                      \"Lat: %{lat}\\u00b0<br>\" +\n",
    "                      \"Lon: %{lon}\\u00b0<br>\" +\n",
    "                      \"<extra></extra>\", \n",
    "    )\n",
    "layout = go.Layout(\n",
    "        title='<b>Water Indicator Stations Dublin</b>',\n",
    "        title_x=0.5,\n",
    "        margin=dict(t=40,b=0,r=0,l=0),\n",
    "        autosize=True,\n",
    "        hovermode='closest',\n",
    "        showlegend=False,\n",
    "        mapbox=dict(\n",
    "#             accesstoken=mapbox_access_token,\n",
    "            bearing=0,\n",
    "            center=dict(\n",
    "                lat=53.4,\n",
    "                lon=360-6\n",
    "            ),\n",
    "            pitch=0,\n",
    "            zoom=8.5,\n",
    "            style=\"open-street-map\" # does not require token\n",
    "        ),\n",
    ")"
   ]
  },
  {
   "cell_type": "code",
   "execution_count": 23,
   "id": "conservative-upgrade",
   "metadata": {},
   "outputs": [
    {
     "data": {
      "application/vnd.plotly.v1+json": {
       "config": {
        "plotlyServerURL": "https://plot.ly"
       },
       "data": [
        {
         "hovertemplate": "Station: %{text}<br>Lat: %{lat}°<br>Lon: %{lon}°<br><extra></extra>",
         "lat": [
          53.59131,
          53.51807,
          53.44482,
          53.38623,
          53.31299,
          53.2251,
          53.50342,
          53.24707,
          53.51074,
          53.24707,
          53.342285,
          53.38623,
          53.591308,
          53.2251,
          53.34228,
          53.488769
         ],
         "lon": [
          353.869629,
          353.913574,
          353.884277,
          353.942871,
          353.898926,
          353.898926,
          354.001465,
          354.008789,
          354.243164,
          354.243164,
          353.811035,
          353.928223,
          353.898926,
          354.074707,
          353.840332,
          353.986816
         ],
         "mode": "markers",
         "text": [
          "id_coast_glob_eur_00794",
          "id_coast_glob_eur_00795",
          "id_coast_glob_eur_00796",
          "id_coast_glob_eur_00797",
          "id_coast_glob_eur_00798",
          "id_coast_glob_eur_00799",
          "id_reg_grid_eur_03095",
          "id_reg_grid_eur_03096",
          "id_reg_grid_eur_03153",
          "id_reg_grid_eur_03154",
          "IBIS_IR_TS_MO_DublinPort",
          "IBIS_IR_TS_MO_Howth",
          "IBIS_IR_TS_MO_SkerriesHarbour",
          "currents_dublin_array",
          "currents_dublin",
          "islands_244945"
         ],
         "type": "scattermapbox"
        }
       ],
       "layout": {
        "autosize": true,
        "hovermode": "closest",
        "mapbox": {
         "bearing": 0,
         "center": {
          "lat": 53.4,
          "lon": 354
         },
         "pitch": 0,
         "style": "open-street-map",
         "zoom": 8.5
        },
        "margin": {
         "b": 0,
         "l": 0,
         "r": 0,
         "t": 40
        },
        "showlegend": false,
        "template": {
         "data": {
          "bar": [
           {
            "error_x": {
             "color": "#2a3f5f"
            },
            "error_y": {
             "color": "#2a3f5f"
            },
            "marker": {
             "line": {
              "color": "#E5ECF6",
              "width": 0.5
             }
            },
            "type": "bar"
           }
          ],
          "barpolar": [
           {
            "marker": {
             "line": {
              "color": "#E5ECF6",
              "width": 0.5
             }
            },
            "type": "barpolar"
           }
          ],
          "carpet": [
           {
            "aaxis": {
             "endlinecolor": "#2a3f5f",
             "gridcolor": "white",
             "linecolor": "white",
             "minorgridcolor": "white",
             "startlinecolor": "#2a3f5f"
            },
            "baxis": {
             "endlinecolor": "#2a3f5f",
             "gridcolor": "white",
             "linecolor": "white",
             "minorgridcolor": "white",
             "startlinecolor": "#2a3f5f"
            },
            "type": "carpet"
           }
          ],
          "choropleth": [
           {
            "colorbar": {
             "outlinewidth": 0,
             "ticks": ""
            },
            "type": "choropleth"
           }
          ],
          "contour": [
           {
            "colorbar": {
             "outlinewidth": 0,
             "ticks": ""
            },
            "colorscale": [
             [
              0,
              "#0d0887"
             ],
             [
              0.1111111111111111,
              "#46039f"
             ],
             [
              0.2222222222222222,
              "#7201a8"
             ],
             [
              0.3333333333333333,
              "#9c179e"
             ],
             [
              0.4444444444444444,
              "#bd3786"
             ],
             [
              0.5555555555555556,
              "#d8576b"
             ],
             [
              0.6666666666666666,
              "#ed7953"
             ],
             [
              0.7777777777777778,
              "#fb9f3a"
             ],
             [
              0.8888888888888888,
              "#fdca26"
             ],
             [
              1,
              "#f0f921"
             ]
            ],
            "type": "contour"
           }
          ],
          "contourcarpet": [
           {
            "colorbar": {
             "outlinewidth": 0,
             "ticks": ""
            },
            "type": "contourcarpet"
           }
          ],
          "heatmap": [
           {
            "colorbar": {
             "outlinewidth": 0,
             "ticks": ""
            },
            "colorscale": [
             [
              0,
              "#0d0887"
             ],
             [
              0.1111111111111111,
              "#46039f"
             ],
             [
              0.2222222222222222,
              "#7201a8"
             ],
             [
              0.3333333333333333,
              "#9c179e"
             ],
             [
              0.4444444444444444,
              "#bd3786"
             ],
             [
              0.5555555555555556,
              "#d8576b"
             ],
             [
              0.6666666666666666,
              "#ed7953"
             ],
             [
              0.7777777777777778,
              "#fb9f3a"
             ],
             [
              0.8888888888888888,
              "#fdca26"
             ],
             [
              1,
              "#f0f921"
             ]
            ],
            "type": "heatmap"
           }
          ],
          "heatmapgl": [
           {
            "colorbar": {
             "outlinewidth": 0,
             "ticks": ""
            },
            "colorscale": [
             [
              0,
              "#0d0887"
             ],
             [
              0.1111111111111111,
              "#46039f"
             ],
             [
              0.2222222222222222,
              "#7201a8"
             ],
             [
              0.3333333333333333,
              "#9c179e"
             ],
             [
              0.4444444444444444,
              "#bd3786"
             ],
             [
              0.5555555555555556,
              "#d8576b"
             ],
             [
              0.6666666666666666,
              "#ed7953"
             ],
             [
              0.7777777777777778,
              "#fb9f3a"
             ],
             [
              0.8888888888888888,
              "#fdca26"
             ],
             [
              1,
              "#f0f921"
             ]
            ],
            "type": "heatmapgl"
           }
          ],
          "histogram": [
           {
            "marker": {
             "colorbar": {
              "outlinewidth": 0,
              "ticks": ""
             }
            },
            "type": "histogram"
           }
          ],
          "histogram2d": [
           {
            "colorbar": {
             "outlinewidth": 0,
             "ticks": ""
            },
            "colorscale": [
             [
              0,
              "#0d0887"
             ],
             [
              0.1111111111111111,
              "#46039f"
             ],
             [
              0.2222222222222222,
              "#7201a8"
             ],
             [
              0.3333333333333333,
              "#9c179e"
             ],
             [
              0.4444444444444444,
              "#bd3786"
             ],
             [
              0.5555555555555556,
              "#d8576b"
             ],
             [
              0.6666666666666666,
              "#ed7953"
             ],
             [
              0.7777777777777778,
              "#fb9f3a"
             ],
             [
              0.8888888888888888,
              "#fdca26"
             ],
             [
              1,
              "#f0f921"
             ]
            ],
            "type": "histogram2d"
           }
          ],
          "histogram2dcontour": [
           {
            "colorbar": {
             "outlinewidth": 0,
             "ticks": ""
            },
            "colorscale": [
             [
              0,
              "#0d0887"
             ],
             [
              0.1111111111111111,
              "#46039f"
             ],
             [
              0.2222222222222222,
              "#7201a8"
             ],
             [
              0.3333333333333333,
              "#9c179e"
             ],
             [
              0.4444444444444444,
              "#bd3786"
             ],
             [
              0.5555555555555556,
              "#d8576b"
             ],
             [
              0.6666666666666666,
              "#ed7953"
             ],
             [
              0.7777777777777778,
              "#fb9f3a"
             ],
             [
              0.8888888888888888,
              "#fdca26"
             ],
             [
              1,
              "#f0f921"
             ]
            ],
            "type": "histogram2dcontour"
           }
          ],
          "mesh3d": [
           {
            "colorbar": {
             "outlinewidth": 0,
             "ticks": ""
            },
            "type": "mesh3d"
           }
          ],
          "parcoords": [
           {
            "line": {
             "colorbar": {
              "outlinewidth": 0,
              "ticks": ""
             }
            },
            "type": "parcoords"
           }
          ],
          "pie": [
           {
            "automargin": true,
            "type": "pie"
           }
          ],
          "scatter": [
           {
            "marker": {
             "colorbar": {
              "outlinewidth": 0,
              "ticks": ""
             }
            },
            "type": "scatter"
           }
          ],
          "scatter3d": [
           {
            "line": {
             "colorbar": {
              "outlinewidth": 0,
              "ticks": ""
             }
            },
            "marker": {
             "colorbar": {
              "outlinewidth": 0,
              "ticks": ""
             }
            },
            "type": "scatter3d"
           }
          ],
          "scattercarpet": [
           {
            "marker": {
             "colorbar": {
              "outlinewidth": 0,
              "ticks": ""
             }
            },
            "type": "scattercarpet"
           }
          ],
          "scattergeo": [
           {
            "marker": {
             "colorbar": {
              "outlinewidth": 0,
              "ticks": ""
             }
            },
            "type": "scattergeo"
           }
          ],
          "scattergl": [
           {
            "marker": {
             "colorbar": {
              "outlinewidth": 0,
              "ticks": ""
             }
            },
            "type": "scattergl"
           }
          ],
          "scattermapbox": [
           {
            "marker": {
             "colorbar": {
              "outlinewidth": 0,
              "ticks": ""
             }
            },
            "type": "scattermapbox"
           }
          ],
          "scatterpolar": [
           {
            "marker": {
             "colorbar": {
              "outlinewidth": 0,
              "ticks": ""
             }
            },
            "type": "scatterpolar"
           }
          ],
          "scatterpolargl": [
           {
            "marker": {
             "colorbar": {
              "outlinewidth": 0,
              "ticks": ""
             }
            },
            "type": "scatterpolargl"
           }
          ],
          "scatterternary": [
           {
            "marker": {
             "colorbar": {
              "outlinewidth": 0,
              "ticks": ""
             }
            },
            "type": "scatterternary"
           }
          ],
          "surface": [
           {
            "colorbar": {
             "outlinewidth": 0,
             "ticks": ""
            },
            "colorscale": [
             [
              0,
              "#0d0887"
             ],
             [
              0.1111111111111111,
              "#46039f"
             ],
             [
              0.2222222222222222,
              "#7201a8"
             ],
             [
              0.3333333333333333,
              "#9c179e"
             ],
             [
              0.4444444444444444,
              "#bd3786"
             ],
             [
              0.5555555555555556,
              "#d8576b"
             ],
             [
              0.6666666666666666,
              "#ed7953"
             ],
             [
              0.7777777777777778,
              "#fb9f3a"
             ],
             [
              0.8888888888888888,
              "#fdca26"
             ],
             [
              1,
              "#f0f921"
             ]
            ],
            "type": "surface"
           }
          ],
          "table": [
           {
            "cells": {
             "fill": {
              "color": "#EBF0F8"
             },
             "line": {
              "color": "white"
             }
            },
            "header": {
             "fill": {
              "color": "#C8D4E3"
             },
             "line": {
              "color": "white"
             }
            },
            "type": "table"
           }
          ]
         },
         "layout": {
          "annotationdefaults": {
           "arrowcolor": "#2a3f5f",
           "arrowhead": 0,
           "arrowwidth": 1
          },
          "autotypenumbers": "strict",
          "coloraxis": {
           "colorbar": {
            "outlinewidth": 0,
            "ticks": ""
           }
          },
          "colorscale": {
           "diverging": [
            [
             0,
             "#8e0152"
            ],
            [
             0.1,
             "#c51b7d"
            ],
            [
             0.2,
             "#de77ae"
            ],
            [
             0.3,
             "#f1b6da"
            ],
            [
             0.4,
             "#fde0ef"
            ],
            [
             0.5,
             "#f7f7f7"
            ],
            [
             0.6,
             "#e6f5d0"
            ],
            [
             0.7,
             "#b8e186"
            ],
            [
             0.8,
             "#7fbc41"
            ],
            [
             0.9,
             "#4d9221"
            ],
            [
             1,
             "#276419"
            ]
           ],
           "sequential": [
            [
             0,
             "#0d0887"
            ],
            [
             0.1111111111111111,
             "#46039f"
            ],
            [
             0.2222222222222222,
             "#7201a8"
            ],
            [
             0.3333333333333333,
             "#9c179e"
            ],
            [
             0.4444444444444444,
             "#bd3786"
            ],
            [
             0.5555555555555556,
             "#d8576b"
            ],
            [
             0.6666666666666666,
             "#ed7953"
            ],
            [
             0.7777777777777778,
             "#fb9f3a"
            ],
            [
             0.8888888888888888,
             "#fdca26"
            ],
            [
             1,
             "#f0f921"
            ]
           ],
           "sequentialminus": [
            [
             0,
             "#0d0887"
            ],
            [
             0.1111111111111111,
             "#46039f"
            ],
            [
             0.2222222222222222,
             "#7201a8"
            ],
            [
             0.3333333333333333,
             "#9c179e"
            ],
            [
             0.4444444444444444,
             "#bd3786"
            ],
            [
             0.5555555555555556,
             "#d8576b"
            ],
            [
             0.6666666666666666,
             "#ed7953"
            ],
            [
             0.7777777777777778,
             "#fb9f3a"
            ],
            [
             0.8888888888888888,
             "#fdca26"
            ],
            [
             1,
             "#f0f921"
            ]
           ]
          },
          "colorway": [
           "#636efa",
           "#EF553B",
           "#00cc96",
           "#ab63fa",
           "#FFA15A",
           "#19d3f3",
           "#FF6692",
           "#B6E880",
           "#FF97FF",
           "#FECB52"
          ],
          "font": {
           "color": "#2a3f5f"
          },
          "geo": {
           "bgcolor": "white",
           "lakecolor": "white",
           "landcolor": "#E5ECF6",
           "showlakes": true,
           "showland": true,
           "subunitcolor": "white"
          },
          "hoverlabel": {
           "align": "left"
          },
          "hovermode": "closest",
          "mapbox": {
           "style": "light"
          },
          "paper_bgcolor": "white",
          "plot_bgcolor": "#E5ECF6",
          "polar": {
           "angularaxis": {
            "gridcolor": "white",
            "linecolor": "white",
            "ticks": ""
           },
           "bgcolor": "#E5ECF6",
           "radialaxis": {
            "gridcolor": "white",
            "linecolor": "white",
            "ticks": ""
           }
          },
          "scene": {
           "xaxis": {
            "backgroundcolor": "#E5ECF6",
            "gridcolor": "white",
            "gridwidth": 2,
            "linecolor": "white",
            "showbackground": true,
            "ticks": "",
            "zerolinecolor": "white"
           },
           "yaxis": {
            "backgroundcolor": "#E5ECF6",
            "gridcolor": "white",
            "gridwidth": 2,
            "linecolor": "white",
            "showbackground": true,
            "ticks": "",
            "zerolinecolor": "white"
           },
           "zaxis": {
            "backgroundcolor": "#E5ECF6",
            "gridcolor": "white",
            "gridwidth": 2,
            "linecolor": "white",
            "showbackground": true,
            "ticks": "",
            "zerolinecolor": "white"
           }
          },
          "shapedefaults": {
           "line": {
            "color": "#2a3f5f"
           }
          },
          "ternary": {
           "aaxis": {
            "gridcolor": "white",
            "linecolor": "white",
            "ticks": ""
           },
           "baxis": {
            "gridcolor": "white",
            "linecolor": "white",
            "ticks": ""
           },
           "bgcolor": "#E5ECF6",
           "caxis": {
            "gridcolor": "white",
            "linecolor": "white",
            "ticks": ""
           }
          },
          "title": {
           "x": 0.05
          },
          "xaxis": {
           "automargin": true,
           "gridcolor": "white",
           "linecolor": "white",
           "ticks": "",
           "title": {
            "standoff": 15
           },
           "zerolinecolor": "white",
           "zerolinewidth": 2
          },
          "yaxis": {
           "automargin": true,
           "gridcolor": "white",
           "linecolor": "white",
           "ticks": "",
           "title": {
            "standoff": 15
           },
           "zerolinecolor": "white",
           "zerolinewidth": 2
          }
         }
        },
        "title": {
         "text": "<b>Water Indicator Stations Dublin</b>",
         "x": 0.5
        }
       }
      },
      "text/html": [
       "<div>                            <div id=\"47a32241-6e3f-43e0-b87a-667d9c6ce098\" class=\"plotly-graph-div\" style=\"height:525px; width:100%;\"></div>            <script type=\"text/javascript\">                require([\"plotly\"], function(Plotly) {                    window.PLOTLYENV=window.PLOTLYENV || {};                                    if (document.getElementById(\"47a32241-6e3f-43e0-b87a-667d9c6ce098\")) {                    Plotly.newPlot(                        \"47a32241-6e3f-43e0-b87a-667d9c6ce098\",                        [{\"hovertemplate\": \"Station: %{text}<br>Lat: %{lat}\\u00b0<br>Lon: %{lon}\\u00b0<br><extra></extra>\", \"lat\": [53.59131, 53.51807, 53.44482, 53.38623, 53.31299, 53.2251, 53.50342, 53.24707, 53.51074, 53.24707, 53.342285, 53.38623, 53.591308, 53.2251, 53.34228, 53.488769], \"lon\": [353.869629, 353.913574, 353.884277, 353.942871, 353.898926, 353.898926, 354.001465, 354.008789, 354.243164, 354.243164, 353.811035, 353.928223, 353.898926, 354.074707, 353.840332, 353.986816], \"mode\": \"markers\", \"text\": [\"id_coast_glob_eur_00794\", \"id_coast_glob_eur_00795\", \"id_coast_glob_eur_00796\", \"id_coast_glob_eur_00797\", \"id_coast_glob_eur_00798\", \"id_coast_glob_eur_00799\", \"id_reg_grid_eur_03095\", \"id_reg_grid_eur_03096\", \"id_reg_grid_eur_03153\", \"id_reg_grid_eur_03154\", \"IBIS_IR_TS_MO_DublinPort\", \"IBIS_IR_TS_MO_Howth\", \"IBIS_IR_TS_MO_SkerriesHarbour\", \"currents_dublin_array\", \"currents_dublin\", \"islands_244945\"], \"type\": \"scattermapbox\"}],                        {\"autosize\": true, \"hovermode\": \"closest\", \"mapbox\": {\"bearing\": 0, \"center\": {\"lat\": 53.4, \"lon\": 354}, \"pitch\": 0, \"style\": \"open-street-map\", \"zoom\": 8.5}, \"margin\": {\"b\": 0, \"l\": 0, \"r\": 0, \"t\": 40}, \"showlegend\": false, \"template\": {\"data\": {\"bar\": [{\"error_x\": {\"color\": \"#2a3f5f\"}, \"error_y\": {\"color\": \"#2a3f5f\"}, \"marker\": {\"line\": {\"color\": \"#E5ECF6\", \"width\": 0.5}}, \"type\": \"bar\"}], \"barpolar\": [{\"marker\": {\"line\": {\"color\": \"#E5ECF6\", \"width\": 0.5}}, \"type\": \"barpolar\"}], \"carpet\": [{\"aaxis\": {\"endlinecolor\": \"#2a3f5f\", \"gridcolor\": \"white\", \"linecolor\": \"white\", \"minorgridcolor\": \"white\", \"startlinecolor\": \"#2a3f5f\"}, \"baxis\": {\"endlinecolor\": \"#2a3f5f\", \"gridcolor\": \"white\", \"linecolor\": \"white\", \"minorgridcolor\": \"white\", \"startlinecolor\": \"#2a3f5f\"}, \"type\": \"carpet\"}], \"choropleth\": [{\"colorbar\": {\"outlinewidth\": 0, \"ticks\": \"\"}, \"type\": \"choropleth\"}], \"contour\": [{\"colorbar\": {\"outlinewidth\": 0, \"ticks\": \"\"}, \"colorscale\": [[0.0, \"#0d0887\"], [0.1111111111111111, \"#46039f\"], [0.2222222222222222, \"#7201a8\"], [0.3333333333333333, \"#9c179e\"], [0.4444444444444444, \"#bd3786\"], [0.5555555555555556, \"#d8576b\"], [0.6666666666666666, \"#ed7953\"], [0.7777777777777778, \"#fb9f3a\"], [0.8888888888888888, \"#fdca26\"], [1.0, \"#f0f921\"]], \"type\": \"contour\"}], \"contourcarpet\": [{\"colorbar\": {\"outlinewidth\": 0, \"ticks\": \"\"}, \"type\": \"contourcarpet\"}], \"heatmap\": [{\"colorbar\": {\"outlinewidth\": 0, \"ticks\": \"\"}, \"colorscale\": [[0.0, \"#0d0887\"], [0.1111111111111111, \"#46039f\"], [0.2222222222222222, \"#7201a8\"], [0.3333333333333333, \"#9c179e\"], [0.4444444444444444, \"#bd3786\"], [0.5555555555555556, \"#d8576b\"], [0.6666666666666666, \"#ed7953\"], [0.7777777777777778, \"#fb9f3a\"], [0.8888888888888888, \"#fdca26\"], [1.0, \"#f0f921\"]], \"type\": \"heatmap\"}], \"heatmapgl\": [{\"colorbar\": {\"outlinewidth\": 0, \"ticks\": \"\"}, \"colorscale\": [[0.0, \"#0d0887\"], [0.1111111111111111, \"#46039f\"], [0.2222222222222222, \"#7201a8\"], [0.3333333333333333, \"#9c179e\"], [0.4444444444444444, \"#bd3786\"], [0.5555555555555556, \"#d8576b\"], [0.6666666666666666, \"#ed7953\"], [0.7777777777777778, \"#fb9f3a\"], [0.8888888888888888, \"#fdca26\"], [1.0, \"#f0f921\"]], \"type\": \"heatmapgl\"}], \"histogram\": [{\"marker\": {\"colorbar\": {\"outlinewidth\": 0, \"ticks\": \"\"}}, \"type\": \"histogram\"}], \"histogram2d\": [{\"colorbar\": {\"outlinewidth\": 0, \"ticks\": \"\"}, \"colorscale\": [[0.0, \"#0d0887\"], [0.1111111111111111, \"#46039f\"], [0.2222222222222222, \"#7201a8\"], [0.3333333333333333, \"#9c179e\"], [0.4444444444444444, \"#bd3786\"], [0.5555555555555556, \"#d8576b\"], [0.6666666666666666, \"#ed7953\"], [0.7777777777777778, \"#fb9f3a\"], [0.8888888888888888, \"#fdca26\"], [1.0, \"#f0f921\"]], \"type\": \"histogram2d\"}], \"histogram2dcontour\": [{\"colorbar\": {\"outlinewidth\": 0, \"ticks\": \"\"}, \"colorscale\": [[0.0, \"#0d0887\"], [0.1111111111111111, \"#46039f\"], [0.2222222222222222, \"#7201a8\"], [0.3333333333333333, \"#9c179e\"], [0.4444444444444444, \"#bd3786\"], [0.5555555555555556, \"#d8576b\"], [0.6666666666666666, \"#ed7953\"], [0.7777777777777778, \"#fb9f3a\"], [0.8888888888888888, \"#fdca26\"], [1.0, \"#f0f921\"]], \"type\": \"histogram2dcontour\"}], \"mesh3d\": [{\"colorbar\": {\"outlinewidth\": 0, \"ticks\": \"\"}, \"type\": \"mesh3d\"}], \"parcoords\": [{\"line\": {\"colorbar\": {\"outlinewidth\": 0, \"ticks\": \"\"}}, \"type\": \"parcoords\"}], \"pie\": [{\"automargin\": true, \"type\": \"pie\"}], \"scatter\": [{\"marker\": {\"colorbar\": {\"outlinewidth\": 0, \"ticks\": \"\"}}, \"type\": \"scatter\"}], \"scatter3d\": [{\"line\": {\"colorbar\": {\"outlinewidth\": 0, \"ticks\": \"\"}}, \"marker\": {\"colorbar\": {\"outlinewidth\": 0, \"ticks\": \"\"}}, \"type\": \"scatter3d\"}], \"scattercarpet\": [{\"marker\": {\"colorbar\": {\"outlinewidth\": 0, \"ticks\": \"\"}}, \"type\": \"scattercarpet\"}], \"scattergeo\": [{\"marker\": {\"colorbar\": {\"outlinewidth\": 0, \"ticks\": \"\"}}, \"type\": \"scattergeo\"}], \"scattergl\": [{\"marker\": {\"colorbar\": {\"outlinewidth\": 0, \"ticks\": \"\"}}, \"type\": \"scattergl\"}], \"scattermapbox\": [{\"marker\": {\"colorbar\": {\"outlinewidth\": 0, \"ticks\": \"\"}}, \"type\": \"scattermapbox\"}], \"scatterpolar\": [{\"marker\": {\"colorbar\": {\"outlinewidth\": 0, \"ticks\": \"\"}}, \"type\": \"scatterpolar\"}], \"scatterpolargl\": [{\"marker\": {\"colorbar\": {\"outlinewidth\": 0, \"ticks\": \"\"}}, \"type\": \"scatterpolargl\"}], \"scatterternary\": [{\"marker\": {\"colorbar\": {\"outlinewidth\": 0, \"ticks\": \"\"}}, \"type\": \"scatterternary\"}], \"surface\": [{\"colorbar\": {\"outlinewidth\": 0, \"ticks\": \"\"}, \"colorscale\": [[0.0, \"#0d0887\"], [0.1111111111111111, \"#46039f\"], [0.2222222222222222, \"#7201a8\"], [0.3333333333333333, \"#9c179e\"], [0.4444444444444444, \"#bd3786\"], [0.5555555555555556, \"#d8576b\"], [0.6666666666666666, \"#ed7953\"], [0.7777777777777778, \"#fb9f3a\"], [0.8888888888888888, \"#fdca26\"], [1.0, \"#f0f921\"]], \"type\": \"surface\"}], \"table\": [{\"cells\": {\"fill\": {\"color\": \"#EBF0F8\"}, \"line\": {\"color\": \"white\"}}, \"header\": {\"fill\": {\"color\": \"#C8D4E3\"}, \"line\": {\"color\": \"white\"}}, \"type\": \"table\"}]}, \"layout\": {\"annotationdefaults\": {\"arrowcolor\": \"#2a3f5f\", \"arrowhead\": 0, \"arrowwidth\": 1}, \"autotypenumbers\": \"strict\", \"coloraxis\": {\"colorbar\": {\"outlinewidth\": 0, \"ticks\": \"\"}}, \"colorscale\": {\"diverging\": [[0, \"#8e0152\"], [0.1, \"#c51b7d\"], [0.2, \"#de77ae\"], [0.3, \"#f1b6da\"], [0.4, \"#fde0ef\"], [0.5, \"#f7f7f7\"], [0.6, \"#e6f5d0\"], [0.7, \"#b8e186\"], [0.8, \"#7fbc41\"], [0.9, \"#4d9221\"], [1, \"#276419\"]], \"sequential\": [[0.0, \"#0d0887\"], [0.1111111111111111, \"#46039f\"], [0.2222222222222222, \"#7201a8\"], [0.3333333333333333, \"#9c179e\"], [0.4444444444444444, \"#bd3786\"], [0.5555555555555556, \"#d8576b\"], [0.6666666666666666, \"#ed7953\"], [0.7777777777777778, \"#fb9f3a\"], [0.8888888888888888, \"#fdca26\"], [1.0, \"#f0f921\"]], \"sequentialminus\": [[0.0, \"#0d0887\"], [0.1111111111111111, \"#46039f\"], [0.2222222222222222, \"#7201a8\"], [0.3333333333333333, \"#9c179e\"], [0.4444444444444444, \"#bd3786\"], [0.5555555555555556, \"#d8576b\"], [0.6666666666666666, \"#ed7953\"], [0.7777777777777778, \"#fb9f3a\"], [0.8888888888888888, \"#fdca26\"], [1.0, \"#f0f921\"]]}, \"colorway\": [\"#636efa\", \"#EF553B\", \"#00cc96\", \"#ab63fa\", \"#FFA15A\", \"#19d3f3\", \"#FF6692\", \"#B6E880\", \"#FF97FF\", \"#FECB52\"], \"font\": {\"color\": \"#2a3f5f\"}, \"geo\": {\"bgcolor\": \"white\", \"lakecolor\": \"white\", \"landcolor\": \"#E5ECF6\", \"showlakes\": true, \"showland\": true, \"subunitcolor\": \"white\"}, \"hoverlabel\": {\"align\": \"left\"}, \"hovermode\": \"closest\", \"mapbox\": {\"style\": \"light\"}, \"paper_bgcolor\": \"white\", \"plot_bgcolor\": \"#E5ECF6\", \"polar\": {\"angularaxis\": {\"gridcolor\": \"white\", \"linecolor\": \"white\", \"ticks\": \"\"}, \"bgcolor\": \"#E5ECF6\", \"radialaxis\": {\"gridcolor\": \"white\", \"linecolor\": \"white\", \"ticks\": \"\"}}, \"scene\": {\"xaxis\": {\"backgroundcolor\": \"#E5ECF6\", \"gridcolor\": \"white\", \"gridwidth\": 2, \"linecolor\": \"white\", \"showbackground\": true, \"ticks\": \"\", \"zerolinecolor\": \"white\"}, \"yaxis\": {\"backgroundcolor\": \"#E5ECF6\", \"gridcolor\": \"white\", \"gridwidth\": 2, \"linecolor\": \"white\", \"showbackground\": true, \"ticks\": \"\", \"zerolinecolor\": \"white\"}, \"zaxis\": {\"backgroundcolor\": \"#E5ECF6\", \"gridcolor\": \"white\", \"gridwidth\": 2, \"linecolor\": \"white\", \"showbackground\": true, \"ticks\": \"\", \"zerolinecolor\": \"white\"}}, \"shapedefaults\": {\"line\": {\"color\": \"#2a3f5f\"}}, \"ternary\": {\"aaxis\": {\"gridcolor\": \"white\", \"linecolor\": \"white\", \"ticks\": \"\"}, \"baxis\": {\"gridcolor\": \"white\", \"linecolor\": \"white\", \"ticks\": \"\"}, \"bgcolor\": \"#E5ECF6\", \"caxis\": {\"gridcolor\": \"white\", \"linecolor\": \"white\", \"ticks\": \"\"}}, \"title\": {\"x\": 0.05}, \"xaxis\": {\"automargin\": true, \"gridcolor\": \"white\", \"linecolor\": \"white\", \"ticks\": \"\", \"title\": {\"standoff\": 15}, \"zerolinecolor\": \"white\", \"zerolinewidth\": 2}, \"yaxis\": {\"automargin\": true, \"gridcolor\": \"white\", \"linecolor\": \"white\", \"ticks\": \"\", \"title\": {\"standoff\": 15}, \"zerolinecolor\": \"white\", \"zerolinewidth\": 2}}}, \"title\": {\"text\": \"<b>Water Indicator Stations Dublin</b>\", \"x\": 0.5}},                        {\"responsive\": true}                    ).then(function(){\n",
       "                            \n",
       "var gd = document.getElementById('47a32241-6e3f-43e0-b87a-667d9c6ce098');\n",
       "var x = new MutationObserver(function (mutations, observer) {{\n",
       "        var display = window.getComputedStyle(gd).display;\n",
       "        if (!display || display === 'none') {{\n",
       "            console.log([gd, 'removed!']);\n",
       "            Plotly.purge(gd);\n",
       "            observer.disconnect();\n",
       "        }}\n",
       "}});\n",
       "\n",
       "// Listen for the removal of the full notebook cells\n",
       "var notebookContainer = gd.closest('#notebook-container');\n",
       "if (notebookContainer) {{\n",
       "    x.observe(notebookContainer, {childList: true});\n",
       "}}\n",
       "\n",
       "// Listen for the clearing of the current output cell\n",
       "var outputEl = gd.closest('.output');\n",
       "if (outputEl) {{\n",
       "    x.observe(outputEl, {childList: true});\n",
       "}}\n",
       "\n",
       "                        })                };                });            </script>        </div>"
      ]
     },
     "metadata": {},
     "output_type": "display_data"
    }
   ],
   "source": [
    "stationsDubMap = go.Figure(data=stationsDubScatter,layout=layout)\n",
    "stationsDubMap.show()"
   ]
  },
  {
   "cell_type": "code",
   "execution_count": 60,
   "id": "israeli-bronze",
   "metadata": {},
   "outputs": [],
   "source": [
    "# extract data for single station\n",
    "station = \"IBIS_IR_TS_MO_DublinPort\"\n",
    "# station = \"id_coast_glob_eur_00797\"\n",
    "# station=\"IBIS_IR_TS_MO_SkerriesHarbour\"\n",
    "station=\"IBIS_IR_TS_MO_Milford\""
   ]
  },
  {
   "cell_type": "code",
   "execution_count": 61,
   "id": "olive-northwest",
   "metadata": {},
   "outputs": [
    {
     "data": {
      "text/html": [
       "<div><svg style=\"position: absolute; width: 0; height: 0; overflow: hidden\">\n",
       "<defs>\n",
       "<symbol id=\"icon-database\" viewBox=\"0 0 32 32\">\n",
       "<path d=\"M16 0c-8.837 0-16 2.239-16 5v4c0 2.761 7.163 5 16 5s16-2.239 16-5v-4c0-2.761-7.163-5-16-5z\"></path>\n",
       "<path d=\"M16 17c-8.837 0-16-2.239-16-5v6c0 2.761 7.163 5 16 5s16-2.239 16-5v-6c0 2.761-7.163 5-16 5z\"></path>\n",
       "<path d=\"M16 26c-8.837 0-16-2.239-16-5v6c0 2.761 7.163 5 16 5s16-2.239 16-5v-6c0 2.761-7.163 5-16 5z\"></path>\n",
       "</symbol>\n",
       "<symbol id=\"icon-file-text2\" viewBox=\"0 0 32 32\">\n",
       "<path d=\"M28.681 7.159c-0.694-0.947-1.662-2.053-2.724-3.116s-2.169-2.030-3.116-2.724c-1.612-1.182-2.393-1.319-2.841-1.319h-15.5c-1.378 0-2.5 1.121-2.5 2.5v27c0 1.378 1.122 2.5 2.5 2.5h23c1.378 0 2.5-1.122 2.5-2.5v-19.5c0-0.448-0.137-1.23-1.319-2.841zM24.543 5.457c0.959 0.959 1.712 1.825 2.268 2.543h-4.811v-4.811c0.718 0.556 1.584 1.309 2.543 2.268zM28 29.5c0 0.271-0.229 0.5-0.5 0.5h-23c-0.271 0-0.5-0.229-0.5-0.5v-27c0-0.271 0.229-0.5 0.5-0.5 0 0 15.499-0 15.5 0v7c0 0.552 0.448 1 1 1h7v19.5z\"></path>\n",
       "<path d=\"M23 26h-14c-0.552 0-1-0.448-1-1s0.448-1 1-1h14c0.552 0 1 0.448 1 1s-0.448 1-1 1z\"></path>\n",
       "<path d=\"M23 22h-14c-0.552 0-1-0.448-1-1s0.448-1 1-1h14c0.552 0 1 0.448 1 1s-0.448 1-1 1z\"></path>\n",
       "<path d=\"M23 18h-14c-0.552 0-1-0.448-1-1s0.448-1 1-1h14c0.552 0 1 0.448 1 1s-0.448 1-1 1z\"></path>\n",
       "</symbol>\n",
       "</defs>\n",
       "</svg>\n",
       "<style>/* CSS stylesheet for displaying xarray objects in jupyterlab.\n",
       " *\n",
       " */\n",
       "\n",
       ":root {\n",
       "  --xr-font-color0: var(--jp-content-font-color0, rgba(0, 0, 0, 1));\n",
       "  --xr-font-color2: var(--jp-content-font-color2, rgba(0, 0, 0, 0.54));\n",
       "  --xr-font-color3: var(--jp-content-font-color3, rgba(0, 0, 0, 0.38));\n",
       "  --xr-border-color: var(--jp-border-color2, #e0e0e0);\n",
       "  --xr-disabled-color: var(--jp-layout-color3, #bdbdbd);\n",
       "  --xr-background-color: var(--jp-layout-color0, white);\n",
       "  --xr-background-color-row-even: var(--jp-layout-color1, white);\n",
       "  --xr-background-color-row-odd: var(--jp-layout-color2, #eeeeee);\n",
       "}\n",
       "\n",
       "html[theme=dark],\n",
       "body.vscode-dark {\n",
       "  --xr-font-color0: rgba(255, 255, 255, 1);\n",
       "  --xr-font-color2: rgba(255, 255, 255, 0.54);\n",
       "  --xr-font-color3: rgba(255, 255, 255, 0.38);\n",
       "  --xr-border-color: #1F1F1F;\n",
       "  --xr-disabled-color: #515151;\n",
       "  --xr-background-color: #111111;\n",
       "  --xr-background-color-row-even: #111111;\n",
       "  --xr-background-color-row-odd: #313131;\n",
       "}\n",
       "\n",
       ".xr-wrap {\n",
       "  display: block;\n",
       "  min-width: 300px;\n",
       "  max-width: 700px;\n",
       "}\n",
       "\n",
       ".xr-text-repr-fallback {\n",
       "  /* fallback to plain text repr when CSS is not injected (untrusted notebook) */\n",
       "  display: none;\n",
       "}\n",
       "\n",
       ".xr-header {\n",
       "  padding-top: 6px;\n",
       "  padding-bottom: 6px;\n",
       "  margin-bottom: 4px;\n",
       "  border-bottom: solid 1px var(--xr-border-color);\n",
       "}\n",
       "\n",
       ".xr-header > div,\n",
       ".xr-header > ul {\n",
       "  display: inline;\n",
       "  margin-top: 0;\n",
       "  margin-bottom: 0;\n",
       "}\n",
       "\n",
       ".xr-obj-type,\n",
       ".xr-array-name {\n",
       "  margin-left: 2px;\n",
       "  margin-right: 10px;\n",
       "}\n",
       "\n",
       ".xr-obj-type {\n",
       "  color: var(--xr-font-color2);\n",
       "}\n",
       "\n",
       ".xr-sections {\n",
       "  padding-left: 0 !important;\n",
       "  display: grid;\n",
       "  grid-template-columns: 150px auto auto 1fr 20px 20px;\n",
       "}\n",
       "\n",
       ".xr-section-item {\n",
       "  display: contents;\n",
       "}\n",
       "\n",
       ".xr-section-item input {\n",
       "  display: none;\n",
       "}\n",
       "\n",
       ".xr-section-item input + label {\n",
       "  color: var(--xr-disabled-color);\n",
       "}\n",
       "\n",
       ".xr-section-item input:enabled + label {\n",
       "  cursor: pointer;\n",
       "  color: var(--xr-font-color2);\n",
       "}\n",
       "\n",
       ".xr-section-item input:enabled + label:hover {\n",
       "  color: var(--xr-font-color0);\n",
       "}\n",
       "\n",
       ".xr-section-summary {\n",
       "  grid-column: 1;\n",
       "  color: var(--xr-font-color2);\n",
       "  font-weight: 500;\n",
       "}\n",
       "\n",
       ".xr-section-summary > span {\n",
       "  display: inline-block;\n",
       "  padding-left: 0.5em;\n",
       "}\n",
       "\n",
       ".xr-section-summary-in:disabled + label {\n",
       "  color: var(--xr-font-color2);\n",
       "}\n",
       "\n",
       ".xr-section-summary-in + label:before {\n",
       "  display: inline-block;\n",
       "  content: '►';\n",
       "  font-size: 11px;\n",
       "  width: 15px;\n",
       "  text-align: center;\n",
       "}\n",
       "\n",
       ".xr-section-summary-in:disabled + label:before {\n",
       "  color: var(--xr-disabled-color);\n",
       "}\n",
       "\n",
       ".xr-section-summary-in:checked + label:before {\n",
       "  content: '▼';\n",
       "}\n",
       "\n",
       ".xr-section-summary-in:checked + label > span {\n",
       "  display: none;\n",
       "}\n",
       "\n",
       ".xr-section-summary,\n",
       ".xr-section-inline-details {\n",
       "  padding-top: 4px;\n",
       "  padding-bottom: 4px;\n",
       "}\n",
       "\n",
       ".xr-section-inline-details {\n",
       "  grid-column: 2 / -1;\n",
       "}\n",
       "\n",
       ".xr-section-details {\n",
       "  display: none;\n",
       "  grid-column: 1 / -1;\n",
       "  margin-bottom: 5px;\n",
       "}\n",
       "\n",
       ".xr-section-summary-in:checked ~ .xr-section-details {\n",
       "  display: contents;\n",
       "}\n",
       "\n",
       ".xr-array-wrap {\n",
       "  grid-column: 1 / -1;\n",
       "  display: grid;\n",
       "  grid-template-columns: 20px auto;\n",
       "}\n",
       "\n",
       ".xr-array-wrap > label {\n",
       "  grid-column: 1;\n",
       "  vertical-align: top;\n",
       "}\n",
       "\n",
       ".xr-preview {\n",
       "  color: var(--xr-font-color3);\n",
       "}\n",
       "\n",
       ".xr-array-preview,\n",
       ".xr-array-data {\n",
       "  padding: 0 5px !important;\n",
       "  grid-column: 2;\n",
       "}\n",
       "\n",
       ".xr-array-data,\n",
       ".xr-array-in:checked ~ .xr-array-preview {\n",
       "  display: none;\n",
       "}\n",
       "\n",
       ".xr-array-in:checked ~ .xr-array-data,\n",
       ".xr-array-preview {\n",
       "  display: inline-block;\n",
       "}\n",
       "\n",
       ".xr-dim-list {\n",
       "  display: inline-block !important;\n",
       "  list-style: none;\n",
       "  padding: 0 !important;\n",
       "  margin: 0;\n",
       "}\n",
       "\n",
       ".xr-dim-list li {\n",
       "  display: inline-block;\n",
       "  padding: 0;\n",
       "  margin: 0;\n",
       "}\n",
       "\n",
       ".xr-dim-list:before {\n",
       "  content: '(';\n",
       "}\n",
       "\n",
       ".xr-dim-list:after {\n",
       "  content: ')';\n",
       "}\n",
       "\n",
       ".xr-dim-list li:not(:last-child):after {\n",
       "  content: ',';\n",
       "  padding-right: 5px;\n",
       "}\n",
       "\n",
       ".xr-has-index {\n",
       "  font-weight: bold;\n",
       "}\n",
       "\n",
       ".xr-var-list,\n",
       ".xr-var-item {\n",
       "  display: contents;\n",
       "}\n",
       "\n",
       ".xr-var-item > div,\n",
       ".xr-var-item label,\n",
       ".xr-var-item > .xr-var-name span {\n",
       "  background-color: var(--xr-background-color-row-even);\n",
       "  margin-bottom: 0;\n",
       "}\n",
       "\n",
       ".xr-var-item > .xr-var-name:hover span {\n",
       "  padding-right: 5px;\n",
       "}\n",
       "\n",
       ".xr-var-list > li:nth-child(odd) > div,\n",
       ".xr-var-list > li:nth-child(odd) > label,\n",
       ".xr-var-list > li:nth-child(odd) > .xr-var-name span {\n",
       "  background-color: var(--xr-background-color-row-odd);\n",
       "}\n",
       "\n",
       ".xr-var-name {\n",
       "  grid-column: 1;\n",
       "}\n",
       "\n",
       ".xr-var-dims {\n",
       "  grid-column: 2;\n",
       "}\n",
       "\n",
       ".xr-var-dtype {\n",
       "  grid-column: 3;\n",
       "  text-align: right;\n",
       "  color: var(--xr-font-color2);\n",
       "}\n",
       "\n",
       ".xr-var-preview {\n",
       "  grid-column: 4;\n",
       "}\n",
       "\n",
       ".xr-var-name,\n",
       ".xr-var-dims,\n",
       ".xr-var-dtype,\n",
       ".xr-preview,\n",
       ".xr-attrs dt {\n",
       "  white-space: nowrap;\n",
       "  overflow: hidden;\n",
       "  text-overflow: ellipsis;\n",
       "  padding-right: 10px;\n",
       "}\n",
       "\n",
       ".xr-var-name:hover,\n",
       ".xr-var-dims:hover,\n",
       ".xr-var-dtype:hover,\n",
       ".xr-attrs dt:hover {\n",
       "  overflow: visible;\n",
       "  width: auto;\n",
       "  z-index: 1;\n",
       "}\n",
       "\n",
       ".xr-var-attrs,\n",
       ".xr-var-data {\n",
       "  display: none;\n",
       "  background-color: var(--xr-background-color) !important;\n",
       "  padding-bottom: 5px !important;\n",
       "}\n",
       "\n",
       ".xr-var-attrs-in:checked ~ .xr-var-attrs,\n",
       ".xr-var-data-in:checked ~ .xr-var-data {\n",
       "  display: block;\n",
       "}\n",
       "\n",
       ".xr-var-data > table {\n",
       "  float: right;\n",
       "}\n",
       "\n",
       ".xr-var-name span,\n",
       ".xr-var-data,\n",
       ".xr-attrs {\n",
       "  padding-left: 25px !important;\n",
       "}\n",
       "\n",
       ".xr-attrs,\n",
       ".xr-var-attrs,\n",
       ".xr-var-data {\n",
       "  grid-column: 1 / -1;\n",
       "}\n",
       "\n",
       "dl.xr-attrs {\n",
       "  padding: 0;\n",
       "  margin: 0;\n",
       "  display: grid;\n",
       "  grid-template-columns: 125px auto;\n",
       "}\n",
       "\n",
       ".xr-attrs dt,\n",
       ".xr-attrs dd {\n",
       "  padding: 0;\n",
       "  margin: 0;\n",
       "  float: left;\n",
       "  padding-right: 10px;\n",
       "  width: auto;\n",
       "}\n",
       "\n",
       ".xr-attrs dt {\n",
       "  font-weight: normal;\n",
       "  grid-column: 1;\n",
       "}\n",
       "\n",
       ".xr-attrs dt:hover span {\n",
       "  display: inline-block;\n",
       "  background: var(--xr-background-color);\n",
       "  padding-right: 10px;\n",
       "}\n",
       "\n",
       ".xr-attrs dd {\n",
       "  grid-column: 2;\n",
       "  white-space: pre-wrap;\n",
       "  word-break: break-all;\n",
       "}\n",
       "\n",
       ".xr-icon-database,\n",
       ".xr-icon-file-text2 {\n",
       "  display: inline-block;\n",
       "  vertical-align: middle;\n",
       "  width: 1em;\n",
       "  height: 1.5em !important;\n",
       "  stroke-width: 0;\n",
       "  stroke: currentColor;\n",
       "  fill: currentColor;\n",
       "}\n",
       "</style><pre class='xr-text-repr-fallback'>&lt;xarray.DataArray &#x27;msl&#x27; (time: 17)&gt;\n",
       "array([-0.012326, -0.013282, -0.01197 , -0.011504, -0.012564, -0.01298 ,\n",
       "       -0.01145 , -0.01156 , -0.013024, -0.012691, -0.01131 , -0.011856,\n",
       "       -0.013608, -0.012832, -0.011277, -0.012052, -0.013756])\n",
       "Coordinates:\n",
       "    stations              |S40 b&#x27;IBIS_IR_TS_MO_Milford&#x27;\n",
       "    station_x_coordinate  float64 355.0\n",
       "    station_y_coordinate  float64 51.7\n",
       "  * time                  (time) datetime64[ns] 2001-01-01 ... 2017-01-01\n",
       "Attributes:\n",
       "    long_name:   Annual_mean_sea_level_relative_to_historical_mean\n",
       "    units:       m\n",
       "    short_name:  annual_mean_lowwater</pre><div class='xr-wrap' hidden><div class='xr-header'><div class='xr-obj-type'>xarray.DataArray</div><div class='xr-array-name'>'msl'</div><ul class='xr-dim-list'><li><span class='xr-has-index'>time</span>: 17</li></ul></div><ul class='xr-sections'><li class='xr-section-item'><div class='xr-array-wrap'><input id='section-b42fa741-4316-4e04-b2ec-9418733a1dcd' class='xr-array-in' type='checkbox' checked><label for='section-b42fa741-4316-4e04-b2ec-9418733a1dcd' title='Show/hide data repr'><svg class='icon xr-icon-database'><use xlink:href='#icon-database'></use></svg></label><div class='xr-array-preview xr-preview'><span>-0.01233 -0.01328 -0.01197 -0.0115 ... -0.01128 -0.01205 -0.01376</span></div><div class='xr-array-data'><pre>array([-0.012326, -0.013282, -0.01197 , -0.011504, -0.012564, -0.01298 ,\n",
       "       -0.01145 , -0.01156 , -0.013024, -0.012691, -0.01131 , -0.011856,\n",
       "       -0.013608, -0.012832, -0.011277, -0.012052, -0.013756])</pre></div></div></li><li class='xr-section-item'><input id='section-04c1037e-c99d-464e-bb59-bd974f389617' class='xr-section-summary-in' type='checkbox'  checked><label for='section-04c1037e-c99d-464e-bb59-bd974f389617' class='xr-section-summary' >Coordinates: <span>(4)</span></label><div class='xr-section-inline-details'></div><div class='xr-section-details'><ul class='xr-var-list'><li class='xr-var-item'><div class='xr-var-name'><span>stations</span></div><div class='xr-var-dims'>()</div><div class='xr-var-dtype'>|S40</div><div class='xr-var-preview xr-preview'>b&#x27;IBIS_IR_TS_MO_Milford&#x27;</div><input id='attrs-07cc4760-54e0-4a34-bbc2-f244334ad6af' class='xr-var-attrs-in' type='checkbox' disabled><label for='attrs-07cc4760-54e0-4a34-bbc2-f244334ad6af' title='Show/Hide attributes'><svg class='icon xr-icon-file-text2'><use xlink:href='#icon-file-text2'></use></svg></label><input id='data-b9e615fd-1043-4c23-a1a9-c0021cc6f716' class='xr-var-data-in' type='checkbox'><label for='data-b9e615fd-1043-4c23-a1a9-c0021cc6f716' title='Show/Hide data repr'><svg class='icon xr-icon-database'><use xlink:href='#icon-database'></use></svg></label><div class='xr-var-attrs'><dl class='xr-attrs'></dl></div><div class='xr-var-data'><pre>array(b&#x27;IBIS_IR_TS_MO_Milford&#x27;, dtype=&#x27;|S40&#x27;)</pre></div></li><li class='xr-var-item'><div class='xr-var-name'><span>station_x_coordinate</span></div><div class='xr-var-dims'>()</div><div class='xr-var-dtype'>float64</div><div class='xr-var-preview xr-preview'>355.0</div><input id='attrs-352f752d-9f87-46ba-b22b-94a4bbf4325d' class='xr-var-attrs-in' type='checkbox' ><label for='attrs-352f752d-9f87-46ba-b22b-94a4bbf4325d' title='Show/Hide attributes'><svg class='icon xr-icon-file-text2'><use xlink:href='#icon-file-text2'></use></svg></label><input id='data-6302e61e-5ce8-4b1d-b1ed-a8ce35b09ff6' class='xr-var-data-in' type='checkbox'><label for='data-6302e61e-5ce8-4b1d-b1ed-a8ce35b09ff6' title='Show/Hide data repr'><svg class='icon xr-icon-database'><use xlink:href='#icon-database'></use></svg></label><div class='xr-var-attrs'><dl class='xr-attrs'><dt><span>units :</span></dt><dd>degrees_east</dd><dt><span>standard_name :</span></dt><dd>longitude</dd><dt><span>long_name :</span></dt><dd>longitude</dd><dt><span>short_name :</span></dt><dd>longitude</dd></dl></div><div class='xr-var-data'><pre>array(354.953613)</pre></div></li><li class='xr-var-item'><div class='xr-var-name'><span>station_y_coordinate</span></div><div class='xr-var-dims'>()</div><div class='xr-var-dtype'>float64</div><div class='xr-var-preview xr-preview'>51.7</div><input id='attrs-a122674b-0e0d-4942-a2fa-29cc114699e8' class='xr-var-attrs-in' type='checkbox' ><label for='attrs-a122674b-0e0d-4942-a2fa-29cc114699e8' title='Show/Hide attributes'><svg class='icon xr-icon-file-text2'><use xlink:href='#icon-file-text2'></use></svg></label><input id='data-1075d6ac-3455-46a0-a5d8-de906c515c48' class='xr-var-data-in' type='checkbox'><label for='data-1075d6ac-3455-46a0-a5d8-de906c515c48' title='Show/Hide data repr'><svg class='icon xr-icon-database'><use xlink:href='#icon-database'></use></svg></label><div class='xr-var-attrs'><dl class='xr-attrs'><dt><span>units :</span></dt><dd>degrees_north</dd><dt><span>standard_name :</span></dt><dd>latitude</dd><dt><span>long_name :</span></dt><dd>latitude</dd><dt><span>short_name :</span></dt><dd>latitude</dd></dl></div><div class='xr-var-data'><pre>array(51.70166)</pre></div></li><li class='xr-var-item'><div class='xr-var-name'><span class='xr-has-index'>time</span></div><div class='xr-var-dims'>(time)</div><div class='xr-var-dtype'>datetime64[ns]</div><div class='xr-var-preview xr-preview'>2001-01-01 ... 2017-01-01</div><input id='attrs-e79a8f8f-7128-435b-bcd9-e9ab02a552d6' class='xr-var-attrs-in' type='checkbox' ><label for='attrs-e79a8f8f-7128-435b-bcd9-e9ab02a552d6' title='Show/Hide attributes'><svg class='icon xr-icon-file-text2'><use xlink:href='#icon-file-text2'></use></svg></label><input id='data-1dc3f6b3-93d5-4f7c-bffe-777974515b70' class='xr-var-data-in' type='checkbox'><label for='data-1dc3f6b3-93d5-4f7c-bffe-777974515b70' title='Show/Hide data repr'><svg class='icon xr-icon-database'><use xlink:href='#icon-database'></use></svg></label><div class='xr-var-attrs'><dl class='xr-attrs'><dt><span>long_name :</span></dt><dd>time</dd><dt><span>short_name :</span></dt><dd>time</dd></dl></div><div class='xr-var-data'><pre>array([&#x27;2001-01-01T00:00:00.000000000&#x27;, &#x27;2002-01-01T00:00:00.000000000&#x27;,\n",
       "       &#x27;2003-01-01T00:00:00.000000000&#x27;, &#x27;2004-01-01T00:00:00.000000000&#x27;,\n",
       "       &#x27;2005-01-01T00:00:00.000000000&#x27;, &#x27;2006-01-01T00:00:00.000000000&#x27;,\n",
       "       &#x27;2007-01-01T00:00:00.000000000&#x27;, &#x27;2008-01-01T00:00:00.000000000&#x27;,\n",
       "       &#x27;2009-01-01T00:00:00.000000000&#x27;, &#x27;2010-01-01T00:00:00.000000000&#x27;,\n",
       "       &#x27;2011-01-01T00:00:00.000000000&#x27;, &#x27;2012-01-01T00:00:00.000000000&#x27;,\n",
       "       &#x27;2013-01-01T00:00:00.000000000&#x27;, &#x27;2014-01-01T00:00:00.000000000&#x27;,\n",
       "       &#x27;2015-01-01T00:00:00.000000000&#x27;, &#x27;2016-01-01T00:00:00.000000000&#x27;,\n",
       "       &#x27;2017-01-01T00:00:00.000000000&#x27;], dtype=&#x27;datetime64[ns]&#x27;)</pre></div></li></ul></div></li><li class='xr-section-item'><input id='section-6ce7488c-46ab-44d5-b533-ac23c3367a66' class='xr-section-summary-in' type='checkbox'  checked><label for='section-6ce7488c-46ab-44d5-b533-ac23c3367a66' class='xr-section-summary' >Attributes: <span>(3)</span></label><div class='xr-section-inline-details'></div><div class='xr-section-details'><dl class='xr-attrs'><dt><span>long_name :</span></dt><dd>Annual_mean_sea_level_relative_to_historical_mean</dd><dt><span>units :</span></dt><dd>m</dd><dt><span>short_name :</span></dt><dd>annual_mean_lowwater</dd></dl></div></li></ul></div></div>"
      ],
      "text/plain": [
       "<xarray.DataArray 'msl' (time: 17)>\n",
       "array([-0.012326, -0.013282, -0.01197 , -0.011504, -0.012564, -0.01298 ,\n",
       "       -0.01145 , -0.01156 , -0.013024, -0.012691, -0.01131 , -0.011856,\n",
       "       -0.013608, -0.012832, -0.011277, -0.012052, -0.013756])\n",
       "Coordinates:\n",
       "    stations              |S40 b'IBIS_IR_TS_MO_Milford'\n",
       "    station_x_coordinate  float64 355.0\n",
       "    station_y_coordinate  float64 51.7\n",
       "  * time                  (time) datetime64[ns] 2001-01-01 ... 2017-01-01\n",
       "Attributes:\n",
       "    long_name:   Annual_mean_sea_level_relative_to_historical_mean\n",
       "    units:       m\n",
       "    short_name:  annual_mean_lowwater"
      ]
     },
     "execution_count": 61,
     "metadata": {},
     "output_type": "execute_result"
    }
   ],
   "source": [
    "era5_MSL_station=era5_MSL.loc[dict(stations=station.encode('utf-8'))]\n",
    "era5_MSL_station"
   ]
  },
  {
   "cell_type": "code",
   "execution_count": null,
   "id": "southern-chaos",
   "metadata": {},
   "outputs": [],
   "source": []
  },
  {
   "cell_type": "code",
   "execution_count": 62,
   "id": "hazardous-tradition",
   "metadata": {},
   "outputs": [
    {
     "data": {
      "text/plain": [
       "time\n",
       "2001-01-01   2001-01-01\n",
       "2002-01-01   2002-01-01\n",
       "2003-01-01   2003-01-01\n",
       "2004-01-01   2004-01-01\n",
       "2005-01-01   2005-01-01\n",
       "2006-01-01   2006-01-01\n",
       "2007-01-01   2007-01-01\n",
       "2008-01-01   2008-01-01\n",
       "2009-01-01   2009-01-01\n",
       "2010-01-01   2010-01-01\n",
       "2011-01-01   2011-01-01\n",
       "2012-01-01   2012-01-01\n",
       "2013-01-01   2013-01-01\n",
       "2014-01-01   2014-01-01\n",
       "2015-01-01   2015-01-01\n",
       "2016-01-01   2016-01-01\n",
       "2017-01-01   2017-01-01\n",
       "Name: time, dtype: datetime64[ns]"
      ]
     },
     "execution_count": 62,
     "metadata": {},
     "output_type": "execute_result"
    }
   ],
   "source": [
    "era5_MSL_station['time'].to_series()"
   ]
  },
  {
   "cell_type": "code",
   "execution_count": 63,
   "id": "elect-macintosh",
   "metadata": {},
   "outputs": [
    {
     "data": {
      "text/plain": [
       "time\n",
       "2001-01-01   -0.012326\n",
       "2002-01-01   -0.013282\n",
       "2003-01-01   -0.011970\n",
       "2004-01-01   -0.011504\n",
       "2005-01-01   -0.012564\n",
       "2006-01-01   -0.012980\n",
       "2007-01-01   -0.011450\n",
       "2008-01-01   -0.011560\n",
       "2009-01-01   -0.013024\n",
       "2010-01-01   -0.012691\n",
       "2011-01-01   -0.011310\n",
       "2012-01-01   -0.011856\n",
       "2013-01-01   -0.013608\n",
       "2014-01-01   -0.012832\n",
       "2015-01-01   -0.011277\n",
       "2016-01-01   -0.012052\n",
       "2017-01-01   -0.013756\n",
       "Name: msl, dtype: float64"
      ]
     },
     "execution_count": 63,
     "metadata": {},
     "output_type": "execute_result"
    }
   ],
   "source": [
    "era5_MSL_station_DF=era5_MSL_station.to_dataframe()\n",
    "era5_MSL_station_DF['msl']"
   ]
  },
  {
   "cell_type": "code",
   "execution_count": 64,
   "id": "manual-blowing",
   "metadata": {},
   "outputs": [
    {
     "name": "stdout",
     "output_type": "stream",
     "text": [
      "-0.012325656283032763\n",
      "-0.013282368271196573\n",
      "-0.011969595346986446\n",
      "-0.011504471465332868\n",
      "-0.012564477357235584\n",
      "-0.012980252904624148\n",
      "-0.011449837313466892\n",
      "-0.011560447139827084\n",
      "-0.013024290602868003\n",
      "-0.01269136544585138\n",
      "-0.011309843586906851\n",
      "-0.011856151394350227\n",
      "-0.013607783540992364\n",
      "-0.012831780772942763\n",
      "-0.011276799389439771\n",
      "-0.012051595872214214\n",
      "-0.013755665684939886\n",
      "length:17\n"
     ]
    }
   ],
   "source": [
    "for col in era5_MSL_station_DF['msl']: \n",
    "    print(col) \n",
    "# so the station name and time look to be secondary to the x, y, msl\n",
    "# so how do I get the \n",
    "num_rows=len(era5_MSL_station_DF['msl'].index)\n",
    "print('length:' + str(num_rows))"
   ]
  },
  {
   "cell_type": "code",
   "execution_count": 65,
   "id": "built-eight",
   "metadata": {},
   "outputs": [],
   "source": [
    "era5_MSL_station_Trend=go.Scatter(x=era5_MSL_station['time'].to_series(), \n",
    "                        y=era5_MSL_station_DF['msl'],\n",
    "                        mode='lines',\n",
    "                        name='era5_MSL')\n",
    "layout = go.Layout(\n",
    "        title='<b>Mean Sea Level ERA5 - ' + station +'</b>',\n",
    "        xaxis=dict(title='Year'),\n",
    "        yaxis=dict(\n",
    "            title='Mean Sea Level (m)')\n",
    ")"
   ]
  },
  {
   "cell_type": "code",
   "execution_count": 66,
   "id": "herbal-cattle",
   "metadata": {},
   "outputs": [
    {
     "data": {
      "application/vnd.plotly.v1+json": {
       "config": {
        "plotlyServerURL": "https://plot.ly"
       },
       "data": [
        {
         "mode": "lines",
         "name": "era5_MSL",
         "type": "scatter",
         "x": [
          "2001-01-01T00:00:00",
          "2002-01-01T00:00:00",
          "2003-01-01T00:00:00",
          "2004-01-01T00:00:00",
          "2005-01-01T00:00:00",
          "2006-01-01T00:00:00",
          "2007-01-01T00:00:00",
          "2008-01-01T00:00:00",
          "2009-01-01T00:00:00",
          "2010-01-01T00:00:00",
          "2011-01-01T00:00:00",
          "2012-01-01T00:00:00",
          "2013-01-01T00:00:00",
          "2014-01-01T00:00:00",
          "2015-01-01T00:00:00",
          "2016-01-01T00:00:00",
          "2017-01-01T00:00:00"
         ],
         "y": [
          -0.012325656283032763,
          -0.013282368271196573,
          -0.011969595346986446,
          -0.011504471465332868,
          -0.012564477357235584,
          -0.012980252904624148,
          -0.011449837313466892,
          -0.011560447139827084,
          -0.013024290602868003,
          -0.01269136544585138,
          -0.011309843586906851,
          -0.011856151394350227,
          -0.013607783540992364,
          -0.012831780772942763,
          -0.011276799389439771,
          -0.012051595872214214,
          -0.013755665684939886
         ]
        }
       ],
       "layout": {
        "template": {
         "data": {
          "bar": [
           {
            "error_x": {
             "color": "#2a3f5f"
            },
            "error_y": {
             "color": "#2a3f5f"
            },
            "marker": {
             "line": {
              "color": "#E5ECF6",
              "width": 0.5
             }
            },
            "type": "bar"
           }
          ],
          "barpolar": [
           {
            "marker": {
             "line": {
              "color": "#E5ECF6",
              "width": 0.5
             }
            },
            "type": "barpolar"
           }
          ],
          "carpet": [
           {
            "aaxis": {
             "endlinecolor": "#2a3f5f",
             "gridcolor": "white",
             "linecolor": "white",
             "minorgridcolor": "white",
             "startlinecolor": "#2a3f5f"
            },
            "baxis": {
             "endlinecolor": "#2a3f5f",
             "gridcolor": "white",
             "linecolor": "white",
             "minorgridcolor": "white",
             "startlinecolor": "#2a3f5f"
            },
            "type": "carpet"
           }
          ],
          "choropleth": [
           {
            "colorbar": {
             "outlinewidth": 0,
             "ticks": ""
            },
            "type": "choropleth"
           }
          ],
          "contour": [
           {
            "colorbar": {
             "outlinewidth": 0,
             "ticks": ""
            },
            "colorscale": [
             [
              0,
              "#0d0887"
             ],
             [
              0.1111111111111111,
              "#46039f"
             ],
             [
              0.2222222222222222,
              "#7201a8"
             ],
             [
              0.3333333333333333,
              "#9c179e"
             ],
             [
              0.4444444444444444,
              "#bd3786"
             ],
             [
              0.5555555555555556,
              "#d8576b"
             ],
             [
              0.6666666666666666,
              "#ed7953"
             ],
             [
              0.7777777777777778,
              "#fb9f3a"
             ],
             [
              0.8888888888888888,
              "#fdca26"
             ],
             [
              1,
              "#f0f921"
             ]
            ],
            "type": "contour"
           }
          ],
          "contourcarpet": [
           {
            "colorbar": {
             "outlinewidth": 0,
             "ticks": ""
            },
            "type": "contourcarpet"
           }
          ],
          "heatmap": [
           {
            "colorbar": {
             "outlinewidth": 0,
             "ticks": ""
            },
            "colorscale": [
             [
              0,
              "#0d0887"
             ],
             [
              0.1111111111111111,
              "#46039f"
             ],
             [
              0.2222222222222222,
              "#7201a8"
             ],
             [
              0.3333333333333333,
              "#9c179e"
             ],
             [
              0.4444444444444444,
              "#bd3786"
             ],
             [
              0.5555555555555556,
              "#d8576b"
             ],
             [
              0.6666666666666666,
              "#ed7953"
             ],
             [
              0.7777777777777778,
              "#fb9f3a"
             ],
             [
              0.8888888888888888,
              "#fdca26"
             ],
             [
              1,
              "#f0f921"
             ]
            ],
            "type": "heatmap"
           }
          ],
          "heatmapgl": [
           {
            "colorbar": {
             "outlinewidth": 0,
             "ticks": ""
            },
            "colorscale": [
             [
              0,
              "#0d0887"
             ],
             [
              0.1111111111111111,
              "#46039f"
             ],
             [
              0.2222222222222222,
              "#7201a8"
             ],
             [
              0.3333333333333333,
              "#9c179e"
             ],
             [
              0.4444444444444444,
              "#bd3786"
             ],
             [
              0.5555555555555556,
              "#d8576b"
             ],
             [
              0.6666666666666666,
              "#ed7953"
             ],
             [
              0.7777777777777778,
              "#fb9f3a"
             ],
             [
              0.8888888888888888,
              "#fdca26"
             ],
             [
              1,
              "#f0f921"
             ]
            ],
            "type": "heatmapgl"
           }
          ],
          "histogram": [
           {
            "marker": {
             "colorbar": {
              "outlinewidth": 0,
              "ticks": ""
             }
            },
            "type": "histogram"
           }
          ],
          "histogram2d": [
           {
            "colorbar": {
             "outlinewidth": 0,
             "ticks": ""
            },
            "colorscale": [
             [
              0,
              "#0d0887"
             ],
             [
              0.1111111111111111,
              "#46039f"
             ],
             [
              0.2222222222222222,
              "#7201a8"
             ],
             [
              0.3333333333333333,
              "#9c179e"
             ],
             [
              0.4444444444444444,
              "#bd3786"
             ],
             [
              0.5555555555555556,
              "#d8576b"
             ],
             [
              0.6666666666666666,
              "#ed7953"
             ],
             [
              0.7777777777777778,
              "#fb9f3a"
             ],
             [
              0.8888888888888888,
              "#fdca26"
             ],
             [
              1,
              "#f0f921"
             ]
            ],
            "type": "histogram2d"
           }
          ],
          "histogram2dcontour": [
           {
            "colorbar": {
             "outlinewidth": 0,
             "ticks": ""
            },
            "colorscale": [
             [
              0,
              "#0d0887"
             ],
             [
              0.1111111111111111,
              "#46039f"
             ],
             [
              0.2222222222222222,
              "#7201a8"
             ],
             [
              0.3333333333333333,
              "#9c179e"
             ],
             [
              0.4444444444444444,
              "#bd3786"
             ],
             [
              0.5555555555555556,
              "#d8576b"
             ],
             [
              0.6666666666666666,
              "#ed7953"
             ],
             [
              0.7777777777777778,
              "#fb9f3a"
             ],
             [
              0.8888888888888888,
              "#fdca26"
             ],
             [
              1,
              "#f0f921"
             ]
            ],
            "type": "histogram2dcontour"
           }
          ],
          "mesh3d": [
           {
            "colorbar": {
             "outlinewidth": 0,
             "ticks": ""
            },
            "type": "mesh3d"
           }
          ],
          "parcoords": [
           {
            "line": {
             "colorbar": {
              "outlinewidth": 0,
              "ticks": ""
             }
            },
            "type": "parcoords"
           }
          ],
          "pie": [
           {
            "automargin": true,
            "type": "pie"
           }
          ],
          "scatter": [
           {
            "marker": {
             "colorbar": {
              "outlinewidth": 0,
              "ticks": ""
             }
            },
            "type": "scatter"
           }
          ],
          "scatter3d": [
           {
            "line": {
             "colorbar": {
              "outlinewidth": 0,
              "ticks": ""
             }
            },
            "marker": {
             "colorbar": {
              "outlinewidth": 0,
              "ticks": ""
             }
            },
            "type": "scatter3d"
           }
          ],
          "scattercarpet": [
           {
            "marker": {
             "colorbar": {
              "outlinewidth": 0,
              "ticks": ""
             }
            },
            "type": "scattercarpet"
           }
          ],
          "scattergeo": [
           {
            "marker": {
             "colorbar": {
              "outlinewidth": 0,
              "ticks": ""
             }
            },
            "type": "scattergeo"
           }
          ],
          "scattergl": [
           {
            "marker": {
             "colorbar": {
              "outlinewidth": 0,
              "ticks": ""
             }
            },
            "type": "scattergl"
           }
          ],
          "scattermapbox": [
           {
            "marker": {
             "colorbar": {
              "outlinewidth": 0,
              "ticks": ""
             }
            },
            "type": "scattermapbox"
           }
          ],
          "scatterpolar": [
           {
            "marker": {
             "colorbar": {
              "outlinewidth": 0,
              "ticks": ""
             }
            },
            "type": "scatterpolar"
           }
          ],
          "scatterpolargl": [
           {
            "marker": {
             "colorbar": {
              "outlinewidth": 0,
              "ticks": ""
             }
            },
            "type": "scatterpolargl"
           }
          ],
          "scatterternary": [
           {
            "marker": {
             "colorbar": {
              "outlinewidth": 0,
              "ticks": ""
             }
            },
            "type": "scatterternary"
           }
          ],
          "surface": [
           {
            "colorbar": {
             "outlinewidth": 0,
             "ticks": ""
            },
            "colorscale": [
             [
              0,
              "#0d0887"
             ],
             [
              0.1111111111111111,
              "#46039f"
             ],
             [
              0.2222222222222222,
              "#7201a8"
             ],
             [
              0.3333333333333333,
              "#9c179e"
             ],
             [
              0.4444444444444444,
              "#bd3786"
             ],
             [
              0.5555555555555556,
              "#d8576b"
             ],
             [
              0.6666666666666666,
              "#ed7953"
             ],
             [
              0.7777777777777778,
              "#fb9f3a"
             ],
             [
              0.8888888888888888,
              "#fdca26"
             ],
             [
              1,
              "#f0f921"
             ]
            ],
            "type": "surface"
           }
          ],
          "table": [
           {
            "cells": {
             "fill": {
              "color": "#EBF0F8"
             },
             "line": {
              "color": "white"
             }
            },
            "header": {
             "fill": {
              "color": "#C8D4E3"
             },
             "line": {
              "color": "white"
             }
            },
            "type": "table"
           }
          ]
         },
         "layout": {
          "annotationdefaults": {
           "arrowcolor": "#2a3f5f",
           "arrowhead": 0,
           "arrowwidth": 1
          },
          "autotypenumbers": "strict",
          "coloraxis": {
           "colorbar": {
            "outlinewidth": 0,
            "ticks": ""
           }
          },
          "colorscale": {
           "diverging": [
            [
             0,
             "#8e0152"
            ],
            [
             0.1,
             "#c51b7d"
            ],
            [
             0.2,
             "#de77ae"
            ],
            [
             0.3,
             "#f1b6da"
            ],
            [
             0.4,
             "#fde0ef"
            ],
            [
             0.5,
             "#f7f7f7"
            ],
            [
             0.6,
             "#e6f5d0"
            ],
            [
             0.7,
             "#b8e186"
            ],
            [
             0.8,
             "#7fbc41"
            ],
            [
             0.9,
             "#4d9221"
            ],
            [
             1,
             "#276419"
            ]
           ],
           "sequential": [
            [
             0,
             "#0d0887"
            ],
            [
             0.1111111111111111,
             "#46039f"
            ],
            [
             0.2222222222222222,
             "#7201a8"
            ],
            [
             0.3333333333333333,
             "#9c179e"
            ],
            [
             0.4444444444444444,
             "#bd3786"
            ],
            [
             0.5555555555555556,
             "#d8576b"
            ],
            [
             0.6666666666666666,
             "#ed7953"
            ],
            [
             0.7777777777777778,
             "#fb9f3a"
            ],
            [
             0.8888888888888888,
             "#fdca26"
            ],
            [
             1,
             "#f0f921"
            ]
           ],
           "sequentialminus": [
            [
             0,
             "#0d0887"
            ],
            [
             0.1111111111111111,
             "#46039f"
            ],
            [
             0.2222222222222222,
             "#7201a8"
            ],
            [
             0.3333333333333333,
             "#9c179e"
            ],
            [
             0.4444444444444444,
             "#bd3786"
            ],
            [
             0.5555555555555556,
             "#d8576b"
            ],
            [
             0.6666666666666666,
             "#ed7953"
            ],
            [
             0.7777777777777778,
             "#fb9f3a"
            ],
            [
             0.8888888888888888,
             "#fdca26"
            ],
            [
             1,
             "#f0f921"
            ]
           ]
          },
          "colorway": [
           "#636efa",
           "#EF553B",
           "#00cc96",
           "#ab63fa",
           "#FFA15A",
           "#19d3f3",
           "#FF6692",
           "#B6E880",
           "#FF97FF",
           "#FECB52"
          ],
          "font": {
           "color": "#2a3f5f"
          },
          "geo": {
           "bgcolor": "white",
           "lakecolor": "white",
           "landcolor": "#E5ECF6",
           "showlakes": true,
           "showland": true,
           "subunitcolor": "white"
          },
          "hoverlabel": {
           "align": "left"
          },
          "hovermode": "closest",
          "mapbox": {
           "style": "light"
          },
          "paper_bgcolor": "white",
          "plot_bgcolor": "#E5ECF6",
          "polar": {
           "angularaxis": {
            "gridcolor": "white",
            "linecolor": "white",
            "ticks": ""
           },
           "bgcolor": "#E5ECF6",
           "radialaxis": {
            "gridcolor": "white",
            "linecolor": "white",
            "ticks": ""
           }
          },
          "scene": {
           "xaxis": {
            "backgroundcolor": "#E5ECF6",
            "gridcolor": "white",
            "gridwidth": 2,
            "linecolor": "white",
            "showbackground": true,
            "ticks": "",
            "zerolinecolor": "white"
           },
           "yaxis": {
            "backgroundcolor": "#E5ECF6",
            "gridcolor": "white",
            "gridwidth": 2,
            "linecolor": "white",
            "showbackground": true,
            "ticks": "",
            "zerolinecolor": "white"
           },
           "zaxis": {
            "backgroundcolor": "#E5ECF6",
            "gridcolor": "white",
            "gridwidth": 2,
            "linecolor": "white",
            "showbackground": true,
            "ticks": "",
            "zerolinecolor": "white"
           }
          },
          "shapedefaults": {
           "line": {
            "color": "#2a3f5f"
           }
          },
          "ternary": {
           "aaxis": {
            "gridcolor": "white",
            "linecolor": "white",
            "ticks": ""
           },
           "baxis": {
            "gridcolor": "white",
            "linecolor": "white",
            "ticks": ""
           },
           "bgcolor": "#E5ECF6",
           "caxis": {
            "gridcolor": "white",
            "linecolor": "white",
            "ticks": ""
           }
          },
          "title": {
           "x": 0.05
          },
          "xaxis": {
           "automargin": true,
           "gridcolor": "white",
           "linecolor": "white",
           "ticks": "",
           "title": {
            "standoff": 15
           },
           "zerolinecolor": "white",
           "zerolinewidth": 2
          },
          "yaxis": {
           "automargin": true,
           "gridcolor": "white",
           "linecolor": "white",
           "ticks": "",
           "title": {
            "standoff": 15
           },
           "zerolinecolor": "white",
           "zerolinewidth": 2
          }
         }
        },
        "title": {
         "text": "<b>Mean Sea Level ERA5 - IBIS_IR_TS_MO_Milford</b>"
        },
        "xaxis": {
         "title": {
          "text": "Year"
         }
        },
        "yaxis": {
         "title": {
          "text": "Mean Sea Level (m)"
         }
        }
       }
      },
      "text/html": [
       "<div>                            <div id=\"c556179a-6015-416a-a3d4-7bb3805d9e54\" class=\"plotly-graph-div\" style=\"height:525px; width:100%;\"></div>            <script type=\"text/javascript\">                require([\"plotly\"], function(Plotly) {                    window.PLOTLYENV=window.PLOTLYENV || {};                                    if (document.getElementById(\"c556179a-6015-416a-a3d4-7bb3805d9e54\")) {                    Plotly.newPlot(                        \"c556179a-6015-416a-a3d4-7bb3805d9e54\",                        [{\"mode\": \"lines\", \"name\": \"era5_MSL\", \"type\": \"scatter\", \"x\": [\"2001-01-01T00:00:00\", \"2002-01-01T00:00:00\", \"2003-01-01T00:00:00\", \"2004-01-01T00:00:00\", \"2005-01-01T00:00:00\", \"2006-01-01T00:00:00\", \"2007-01-01T00:00:00\", \"2008-01-01T00:00:00\", \"2009-01-01T00:00:00\", \"2010-01-01T00:00:00\", \"2011-01-01T00:00:00\", \"2012-01-01T00:00:00\", \"2013-01-01T00:00:00\", \"2014-01-01T00:00:00\", \"2015-01-01T00:00:00\", \"2016-01-01T00:00:00\", \"2017-01-01T00:00:00\"], \"y\": [-0.012325656283032763, -0.013282368271196573, -0.011969595346986446, -0.011504471465332868, -0.012564477357235584, -0.012980252904624148, -0.011449837313466892, -0.011560447139827084, -0.013024290602868003, -0.01269136544585138, -0.011309843586906851, -0.011856151394350227, -0.013607783540992364, -0.012831780772942763, -0.011276799389439771, -0.012051595872214214, -0.013755665684939886]}],                        {\"template\": {\"data\": {\"bar\": [{\"error_x\": {\"color\": \"#2a3f5f\"}, \"error_y\": {\"color\": \"#2a3f5f\"}, \"marker\": {\"line\": {\"color\": \"#E5ECF6\", \"width\": 0.5}}, \"type\": \"bar\"}], \"barpolar\": [{\"marker\": {\"line\": {\"color\": \"#E5ECF6\", \"width\": 0.5}}, \"type\": \"barpolar\"}], \"carpet\": [{\"aaxis\": {\"endlinecolor\": \"#2a3f5f\", \"gridcolor\": \"white\", \"linecolor\": \"white\", \"minorgridcolor\": \"white\", \"startlinecolor\": \"#2a3f5f\"}, \"baxis\": {\"endlinecolor\": \"#2a3f5f\", \"gridcolor\": \"white\", \"linecolor\": \"white\", \"minorgridcolor\": \"white\", \"startlinecolor\": \"#2a3f5f\"}, \"type\": \"carpet\"}], \"choropleth\": [{\"colorbar\": {\"outlinewidth\": 0, \"ticks\": \"\"}, \"type\": \"choropleth\"}], \"contour\": [{\"colorbar\": {\"outlinewidth\": 0, \"ticks\": \"\"}, \"colorscale\": [[0.0, \"#0d0887\"], [0.1111111111111111, \"#46039f\"], [0.2222222222222222, \"#7201a8\"], [0.3333333333333333, \"#9c179e\"], [0.4444444444444444, \"#bd3786\"], [0.5555555555555556, \"#d8576b\"], [0.6666666666666666, \"#ed7953\"], [0.7777777777777778, \"#fb9f3a\"], [0.8888888888888888, \"#fdca26\"], [1.0, \"#f0f921\"]], \"type\": \"contour\"}], \"contourcarpet\": [{\"colorbar\": {\"outlinewidth\": 0, \"ticks\": \"\"}, \"type\": \"contourcarpet\"}], \"heatmap\": [{\"colorbar\": {\"outlinewidth\": 0, \"ticks\": \"\"}, \"colorscale\": [[0.0, \"#0d0887\"], [0.1111111111111111, \"#46039f\"], [0.2222222222222222, \"#7201a8\"], [0.3333333333333333, \"#9c179e\"], [0.4444444444444444, \"#bd3786\"], [0.5555555555555556, \"#d8576b\"], [0.6666666666666666, \"#ed7953\"], [0.7777777777777778, \"#fb9f3a\"], [0.8888888888888888, \"#fdca26\"], [1.0, \"#f0f921\"]], \"type\": \"heatmap\"}], \"heatmapgl\": [{\"colorbar\": {\"outlinewidth\": 0, \"ticks\": \"\"}, \"colorscale\": [[0.0, \"#0d0887\"], [0.1111111111111111, \"#46039f\"], [0.2222222222222222, \"#7201a8\"], [0.3333333333333333, \"#9c179e\"], [0.4444444444444444, \"#bd3786\"], [0.5555555555555556, \"#d8576b\"], [0.6666666666666666, \"#ed7953\"], [0.7777777777777778, \"#fb9f3a\"], [0.8888888888888888, \"#fdca26\"], [1.0, \"#f0f921\"]], \"type\": \"heatmapgl\"}], \"histogram\": [{\"marker\": {\"colorbar\": {\"outlinewidth\": 0, \"ticks\": \"\"}}, \"type\": \"histogram\"}], \"histogram2d\": [{\"colorbar\": {\"outlinewidth\": 0, \"ticks\": \"\"}, \"colorscale\": [[0.0, \"#0d0887\"], [0.1111111111111111, \"#46039f\"], [0.2222222222222222, \"#7201a8\"], [0.3333333333333333, \"#9c179e\"], [0.4444444444444444, \"#bd3786\"], [0.5555555555555556, \"#d8576b\"], [0.6666666666666666, \"#ed7953\"], [0.7777777777777778, \"#fb9f3a\"], [0.8888888888888888, \"#fdca26\"], [1.0, \"#f0f921\"]], \"type\": \"histogram2d\"}], \"histogram2dcontour\": [{\"colorbar\": {\"outlinewidth\": 0, \"ticks\": \"\"}, \"colorscale\": [[0.0, \"#0d0887\"], [0.1111111111111111, \"#46039f\"], [0.2222222222222222, \"#7201a8\"], [0.3333333333333333, \"#9c179e\"], [0.4444444444444444, \"#bd3786\"], [0.5555555555555556, \"#d8576b\"], [0.6666666666666666, \"#ed7953\"], [0.7777777777777778, \"#fb9f3a\"], [0.8888888888888888, \"#fdca26\"], [1.0, \"#f0f921\"]], \"type\": \"histogram2dcontour\"}], \"mesh3d\": [{\"colorbar\": {\"outlinewidth\": 0, \"ticks\": \"\"}, \"type\": \"mesh3d\"}], \"parcoords\": [{\"line\": {\"colorbar\": {\"outlinewidth\": 0, \"ticks\": \"\"}}, \"type\": \"parcoords\"}], \"pie\": [{\"automargin\": true, \"type\": \"pie\"}], \"scatter\": [{\"marker\": {\"colorbar\": {\"outlinewidth\": 0, \"ticks\": \"\"}}, \"type\": \"scatter\"}], \"scatter3d\": [{\"line\": {\"colorbar\": {\"outlinewidth\": 0, \"ticks\": \"\"}}, \"marker\": {\"colorbar\": {\"outlinewidth\": 0, \"ticks\": \"\"}}, \"type\": \"scatter3d\"}], \"scattercarpet\": [{\"marker\": {\"colorbar\": {\"outlinewidth\": 0, \"ticks\": \"\"}}, \"type\": \"scattercarpet\"}], \"scattergeo\": [{\"marker\": {\"colorbar\": {\"outlinewidth\": 0, \"ticks\": \"\"}}, \"type\": \"scattergeo\"}], \"scattergl\": [{\"marker\": {\"colorbar\": {\"outlinewidth\": 0, \"ticks\": \"\"}}, \"type\": \"scattergl\"}], \"scattermapbox\": [{\"marker\": {\"colorbar\": {\"outlinewidth\": 0, \"ticks\": \"\"}}, \"type\": \"scattermapbox\"}], \"scatterpolar\": [{\"marker\": {\"colorbar\": {\"outlinewidth\": 0, \"ticks\": \"\"}}, \"type\": \"scatterpolar\"}], \"scatterpolargl\": [{\"marker\": {\"colorbar\": {\"outlinewidth\": 0, \"ticks\": \"\"}}, \"type\": \"scatterpolargl\"}], \"scatterternary\": [{\"marker\": {\"colorbar\": {\"outlinewidth\": 0, \"ticks\": \"\"}}, \"type\": \"scatterternary\"}], \"surface\": [{\"colorbar\": {\"outlinewidth\": 0, \"ticks\": \"\"}, \"colorscale\": [[0.0, \"#0d0887\"], [0.1111111111111111, \"#46039f\"], [0.2222222222222222, \"#7201a8\"], [0.3333333333333333, \"#9c179e\"], [0.4444444444444444, \"#bd3786\"], [0.5555555555555556, \"#d8576b\"], [0.6666666666666666, \"#ed7953\"], [0.7777777777777778, \"#fb9f3a\"], [0.8888888888888888, \"#fdca26\"], [1.0, \"#f0f921\"]], \"type\": \"surface\"}], \"table\": [{\"cells\": {\"fill\": {\"color\": \"#EBF0F8\"}, \"line\": {\"color\": \"white\"}}, \"header\": {\"fill\": {\"color\": \"#C8D4E3\"}, \"line\": {\"color\": \"white\"}}, \"type\": \"table\"}]}, \"layout\": {\"annotationdefaults\": {\"arrowcolor\": \"#2a3f5f\", \"arrowhead\": 0, \"arrowwidth\": 1}, \"autotypenumbers\": \"strict\", \"coloraxis\": {\"colorbar\": {\"outlinewidth\": 0, \"ticks\": \"\"}}, \"colorscale\": {\"diverging\": [[0, \"#8e0152\"], [0.1, \"#c51b7d\"], [0.2, \"#de77ae\"], [0.3, \"#f1b6da\"], [0.4, \"#fde0ef\"], [0.5, \"#f7f7f7\"], [0.6, \"#e6f5d0\"], [0.7, \"#b8e186\"], [0.8, \"#7fbc41\"], [0.9, \"#4d9221\"], [1, \"#276419\"]], \"sequential\": [[0.0, \"#0d0887\"], [0.1111111111111111, \"#46039f\"], [0.2222222222222222, \"#7201a8\"], [0.3333333333333333, \"#9c179e\"], [0.4444444444444444, \"#bd3786\"], [0.5555555555555556, \"#d8576b\"], [0.6666666666666666, \"#ed7953\"], [0.7777777777777778, \"#fb9f3a\"], [0.8888888888888888, \"#fdca26\"], [1.0, \"#f0f921\"]], \"sequentialminus\": [[0.0, \"#0d0887\"], [0.1111111111111111, \"#46039f\"], [0.2222222222222222, \"#7201a8\"], [0.3333333333333333, \"#9c179e\"], [0.4444444444444444, \"#bd3786\"], [0.5555555555555556, \"#d8576b\"], [0.6666666666666666, \"#ed7953\"], [0.7777777777777778, \"#fb9f3a\"], [0.8888888888888888, \"#fdca26\"], [1.0, \"#f0f921\"]]}, \"colorway\": [\"#636efa\", \"#EF553B\", \"#00cc96\", \"#ab63fa\", \"#FFA15A\", \"#19d3f3\", \"#FF6692\", \"#B6E880\", \"#FF97FF\", \"#FECB52\"], \"font\": {\"color\": \"#2a3f5f\"}, \"geo\": {\"bgcolor\": \"white\", \"lakecolor\": \"white\", \"landcolor\": \"#E5ECF6\", \"showlakes\": true, \"showland\": true, \"subunitcolor\": \"white\"}, \"hoverlabel\": {\"align\": \"left\"}, \"hovermode\": \"closest\", \"mapbox\": {\"style\": \"light\"}, \"paper_bgcolor\": \"white\", \"plot_bgcolor\": \"#E5ECF6\", \"polar\": {\"angularaxis\": {\"gridcolor\": \"white\", \"linecolor\": \"white\", \"ticks\": \"\"}, \"bgcolor\": \"#E5ECF6\", \"radialaxis\": {\"gridcolor\": \"white\", \"linecolor\": \"white\", \"ticks\": \"\"}}, \"scene\": {\"xaxis\": {\"backgroundcolor\": \"#E5ECF6\", \"gridcolor\": \"white\", \"gridwidth\": 2, \"linecolor\": \"white\", \"showbackground\": true, \"ticks\": \"\", \"zerolinecolor\": \"white\"}, \"yaxis\": {\"backgroundcolor\": \"#E5ECF6\", \"gridcolor\": \"white\", \"gridwidth\": 2, \"linecolor\": \"white\", \"showbackground\": true, \"ticks\": \"\", \"zerolinecolor\": \"white\"}, \"zaxis\": {\"backgroundcolor\": \"#E5ECF6\", \"gridcolor\": \"white\", \"gridwidth\": 2, \"linecolor\": \"white\", \"showbackground\": true, \"ticks\": \"\", \"zerolinecolor\": \"white\"}}, \"shapedefaults\": {\"line\": {\"color\": \"#2a3f5f\"}}, \"ternary\": {\"aaxis\": {\"gridcolor\": \"white\", \"linecolor\": \"white\", \"ticks\": \"\"}, \"baxis\": {\"gridcolor\": \"white\", \"linecolor\": \"white\", \"ticks\": \"\"}, \"bgcolor\": \"#E5ECF6\", \"caxis\": {\"gridcolor\": \"white\", \"linecolor\": \"white\", \"ticks\": \"\"}}, \"title\": {\"x\": 0.05}, \"xaxis\": {\"automargin\": true, \"gridcolor\": \"white\", \"linecolor\": \"white\", \"ticks\": \"\", \"title\": {\"standoff\": 15}, \"zerolinecolor\": \"white\", \"zerolinewidth\": 2}, \"yaxis\": {\"automargin\": true, \"gridcolor\": \"white\", \"linecolor\": \"white\", \"ticks\": \"\", \"title\": {\"standoff\": 15}, \"zerolinecolor\": \"white\", \"zerolinewidth\": 2}}}, \"title\": {\"text\": \"<b>Mean Sea Level ERA5 - IBIS_IR_TS_MO_Milford</b>\"}, \"xaxis\": {\"title\": {\"text\": \"Year\"}}, \"yaxis\": {\"title\": {\"text\": \"Mean Sea Level (m)\"}}},                        {\"responsive\": true}                    ).then(function(){\n",
       "                            \n",
       "var gd = document.getElementById('c556179a-6015-416a-a3d4-7bb3805d9e54');\n",
       "var x = new MutationObserver(function (mutations, observer) {{\n",
       "        var display = window.getComputedStyle(gd).display;\n",
       "        if (!display || display === 'none') {{\n",
       "            console.log([gd, 'removed!']);\n",
       "            Plotly.purge(gd);\n",
       "            observer.disconnect();\n",
       "        }}\n",
       "}});\n",
       "\n",
       "// Listen for the removal of the full notebook cells\n",
       "var notebookContainer = gd.closest('#notebook-container');\n",
       "if (notebookContainer) {{\n",
       "    x.observe(notebookContainer, {childList: true});\n",
       "}}\n",
       "\n",
       "// Listen for the clearing of the current output cell\n",
       "var outputEl = gd.closest('.output');\n",
       "if (outputEl) {{\n",
       "    x.observe(outputEl, {childList: true});\n",
       "}}\n",
       "\n",
       "                        })                };                });            </script>        </div>"
      ]
     },
     "metadata": {},
     "output_type": "display_data"
    }
   ],
   "source": [
    "stationsChart = go.Figure(data=era5_MSL_station_Trend, layout=layout)\n",
    "stationsChart.show()"
   ]
  },
  {
   "cell_type": "code",
   "execution_count": 67,
   "id": "historic-september",
   "metadata": {},
   "outputs": [],
   "source": [
    "stationsChart.write_html(\"./Charts/Mean_Sea_Level_ERA5_\" + station +\".html\")"
   ]
  },
  {
   "cell_type": "code",
   "execution_count": 68,
   "id": "confidential-ontario",
   "metadata": {},
   "outputs": [
    {
     "data": {
      "text/html": [
       "<div><svg style=\"position: absolute; width: 0; height: 0; overflow: hidden\">\n",
       "<defs>\n",
       "<symbol id=\"icon-database\" viewBox=\"0 0 32 32\">\n",
       "<path d=\"M16 0c-8.837 0-16 2.239-16 5v4c0 2.761 7.163 5 16 5s16-2.239 16-5v-4c0-2.761-7.163-5-16-5z\"></path>\n",
       "<path d=\"M16 17c-8.837 0-16-2.239-16-5v6c0 2.761 7.163 5 16 5s16-2.239 16-5v-6c0 2.761-7.163 5-16 5z\"></path>\n",
       "<path d=\"M16 26c-8.837 0-16-2.239-16-5v6c0 2.761 7.163 5 16 5s16-2.239 16-5v-6c0 2.761-7.163 5-16 5z\"></path>\n",
       "</symbol>\n",
       "<symbol id=\"icon-file-text2\" viewBox=\"0 0 32 32\">\n",
       "<path d=\"M28.681 7.159c-0.694-0.947-1.662-2.053-2.724-3.116s-2.169-2.030-3.116-2.724c-1.612-1.182-2.393-1.319-2.841-1.319h-15.5c-1.378 0-2.5 1.121-2.5 2.5v27c0 1.378 1.122 2.5 2.5 2.5h23c1.378 0 2.5-1.122 2.5-2.5v-19.5c0-0.448-0.137-1.23-1.319-2.841zM24.543 5.457c0.959 0.959 1.712 1.825 2.268 2.543h-4.811v-4.811c0.718 0.556 1.584 1.309 2.543 2.268zM28 29.5c0 0.271-0.229 0.5-0.5 0.5h-23c-0.271 0-0.5-0.229-0.5-0.5v-27c0-0.271 0.229-0.5 0.5-0.5 0 0 15.499-0 15.5 0v7c0 0.552 0.448 1 1 1h7v19.5z\"></path>\n",
       "<path d=\"M23 26h-14c-0.552 0-1-0.448-1-1s0.448-1 1-1h14c0.552 0 1 0.448 1 1s-0.448 1-1 1z\"></path>\n",
       "<path d=\"M23 22h-14c-0.552 0-1-0.448-1-1s0.448-1 1-1h14c0.552 0 1 0.448 1 1s-0.448 1-1 1z\"></path>\n",
       "<path d=\"M23 18h-14c-0.552 0-1-0.448-1-1s0.448-1 1-1h14c0.552 0 1 0.448 1 1s-0.448 1-1 1z\"></path>\n",
       "</symbol>\n",
       "</defs>\n",
       "</svg>\n",
       "<style>/* CSS stylesheet for displaying xarray objects in jupyterlab.\n",
       " *\n",
       " */\n",
       "\n",
       ":root {\n",
       "  --xr-font-color0: var(--jp-content-font-color0, rgba(0, 0, 0, 1));\n",
       "  --xr-font-color2: var(--jp-content-font-color2, rgba(0, 0, 0, 0.54));\n",
       "  --xr-font-color3: var(--jp-content-font-color3, rgba(0, 0, 0, 0.38));\n",
       "  --xr-border-color: var(--jp-border-color2, #e0e0e0);\n",
       "  --xr-disabled-color: var(--jp-layout-color3, #bdbdbd);\n",
       "  --xr-background-color: var(--jp-layout-color0, white);\n",
       "  --xr-background-color-row-even: var(--jp-layout-color1, white);\n",
       "  --xr-background-color-row-odd: var(--jp-layout-color2, #eeeeee);\n",
       "}\n",
       "\n",
       "html[theme=dark],\n",
       "body.vscode-dark {\n",
       "  --xr-font-color0: rgba(255, 255, 255, 1);\n",
       "  --xr-font-color2: rgba(255, 255, 255, 0.54);\n",
       "  --xr-font-color3: rgba(255, 255, 255, 0.38);\n",
       "  --xr-border-color: #1F1F1F;\n",
       "  --xr-disabled-color: #515151;\n",
       "  --xr-background-color: #111111;\n",
       "  --xr-background-color-row-even: #111111;\n",
       "  --xr-background-color-row-odd: #313131;\n",
       "}\n",
       "\n",
       ".xr-wrap {\n",
       "  display: block;\n",
       "  min-width: 300px;\n",
       "  max-width: 700px;\n",
       "}\n",
       "\n",
       ".xr-text-repr-fallback {\n",
       "  /* fallback to plain text repr when CSS is not injected (untrusted notebook) */\n",
       "  display: none;\n",
       "}\n",
       "\n",
       ".xr-header {\n",
       "  padding-top: 6px;\n",
       "  padding-bottom: 6px;\n",
       "  margin-bottom: 4px;\n",
       "  border-bottom: solid 1px var(--xr-border-color);\n",
       "}\n",
       "\n",
       ".xr-header > div,\n",
       ".xr-header > ul {\n",
       "  display: inline;\n",
       "  margin-top: 0;\n",
       "  margin-bottom: 0;\n",
       "}\n",
       "\n",
       ".xr-obj-type,\n",
       ".xr-array-name {\n",
       "  margin-left: 2px;\n",
       "  margin-right: 10px;\n",
       "}\n",
       "\n",
       ".xr-obj-type {\n",
       "  color: var(--xr-font-color2);\n",
       "}\n",
       "\n",
       ".xr-sections {\n",
       "  padding-left: 0 !important;\n",
       "  display: grid;\n",
       "  grid-template-columns: 150px auto auto 1fr 20px 20px;\n",
       "}\n",
       "\n",
       ".xr-section-item {\n",
       "  display: contents;\n",
       "}\n",
       "\n",
       ".xr-section-item input {\n",
       "  display: none;\n",
       "}\n",
       "\n",
       ".xr-section-item input + label {\n",
       "  color: var(--xr-disabled-color);\n",
       "}\n",
       "\n",
       ".xr-section-item input:enabled + label {\n",
       "  cursor: pointer;\n",
       "  color: var(--xr-font-color2);\n",
       "}\n",
       "\n",
       ".xr-section-item input:enabled + label:hover {\n",
       "  color: var(--xr-font-color0);\n",
       "}\n",
       "\n",
       ".xr-section-summary {\n",
       "  grid-column: 1;\n",
       "  color: var(--xr-font-color2);\n",
       "  font-weight: 500;\n",
       "}\n",
       "\n",
       ".xr-section-summary > span {\n",
       "  display: inline-block;\n",
       "  padding-left: 0.5em;\n",
       "}\n",
       "\n",
       ".xr-section-summary-in:disabled + label {\n",
       "  color: var(--xr-font-color2);\n",
       "}\n",
       "\n",
       ".xr-section-summary-in + label:before {\n",
       "  display: inline-block;\n",
       "  content: '►';\n",
       "  font-size: 11px;\n",
       "  width: 15px;\n",
       "  text-align: center;\n",
       "}\n",
       "\n",
       ".xr-section-summary-in:disabled + label:before {\n",
       "  color: var(--xr-disabled-color);\n",
       "}\n",
       "\n",
       ".xr-section-summary-in:checked + label:before {\n",
       "  content: '▼';\n",
       "}\n",
       "\n",
       ".xr-section-summary-in:checked + label > span {\n",
       "  display: none;\n",
       "}\n",
       "\n",
       ".xr-section-summary,\n",
       ".xr-section-inline-details {\n",
       "  padding-top: 4px;\n",
       "  padding-bottom: 4px;\n",
       "}\n",
       "\n",
       ".xr-section-inline-details {\n",
       "  grid-column: 2 / -1;\n",
       "}\n",
       "\n",
       ".xr-section-details {\n",
       "  display: none;\n",
       "  grid-column: 1 / -1;\n",
       "  margin-bottom: 5px;\n",
       "}\n",
       "\n",
       ".xr-section-summary-in:checked ~ .xr-section-details {\n",
       "  display: contents;\n",
       "}\n",
       "\n",
       ".xr-array-wrap {\n",
       "  grid-column: 1 / -1;\n",
       "  display: grid;\n",
       "  grid-template-columns: 20px auto;\n",
       "}\n",
       "\n",
       ".xr-array-wrap > label {\n",
       "  grid-column: 1;\n",
       "  vertical-align: top;\n",
       "}\n",
       "\n",
       ".xr-preview {\n",
       "  color: var(--xr-font-color3);\n",
       "}\n",
       "\n",
       ".xr-array-preview,\n",
       ".xr-array-data {\n",
       "  padding: 0 5px !important;\n",
       "  grid-column: 2;\n",
       "}\n",
       "\n",
       ".xr-array-data,\n",
       ".xr-array-in:checked ~ .xr-array-preview {\n",
       "  display: none;\n",
       "}\n",
       "\n",
       ".xr-array-in:checked ~ .xr-array-data,\n",
       ".xr-array-preview {\n",
       "  display: inline-block;\n",
       "}\n",
       "\n",
       ".xr-dim-list {\n",
       "  display: inline-block !important;\n",
       "  list-style: none;\n",
       "  padding: 0 !important;\n",
       "  margin: 0;\n",
       "}\n",
       "\n",
       ".xr-dim-list li {\n",
       "  display: inline-block;\n",
       "  padding: 0;\n",
       "  margin: 0;\n",
       "}\n",
       "\n",
       ".xr-dim-list:before {\n",
       "  content: '(';\n",
       "}\n",
       "\n",
       ".xr-dim-list:after {\n",
       "  content: ')';\n",
       "}\n",
       "\n",
       ".xr-dim-list li:not(:last-child):after {\n",
       "  content: ',';\n",
       "  padding-right: 5px;\n",
       "}\n",
       "\n",
       ".xr-has-index {\n",
       "  font-weight: bold;\n",
       "}\n",
       "\n",
       ".xr-var-list,\n",
       ".xr-var-item {\n",
       "  display: contents;\n",
       "}\n",
       "\n",
       ".xr-var-item > div,\n",
       ".xr-var-item label,\n",
       ".xr-var-item > .xr-var-name span {\n",
       "  background-color: var(--xr-background-color-row-even);\n",
       "  margin-bottom: 0;\n",
       "}\n",
       "\n",
       ".xr-var-item > .xr-var-name:hover span {\n",
       "  padding-right: 5px;\n",
       "}\n",
       "\n",
       ".xr-var-list > li:nth-child(odd) > div,\n",
       ".xr-var-list > li:nth-child(odd) > label,\n",
       ".xr-var-list > li:nth-child(odd) > .xr-var-name span {\n",
       "  background-color: var(--xr-background-color-row-odd);\n",
       "}\n",
       "\n",
       ".xr-var-name {\n",
       "  grid-column: 1;\n",
       "}\n",
       "\n",
       ".xr-var-dims {\n",
       "  grid-column: 2;\n",
       "}\n",
       "\n",
       ".xr-var-dtype {\n",
       "  grid-column: 3;\n",
       "  text-align: right;\n",
       "  color: var(--xr-font-color2);\n",
       "}\n",
       "\n",
       ".xr-var-preview {\n",
       "  grid-column: 4;\n",
       "}\n",
       "\n",
       ".xr-var-name,\n",
       ".xr-var-dims,\n",
       ".xr-var-dtype,\n",
       ".xr-preview,\n",
       ".xr-attrs dt {\n",
       "  white-space: nowrap;\n",
       "  overflow: hidden;\n",
       "  text-overflow: ellipsis;\n",
       "  padding-right: 10px;\n",
       "}\n",
       "\n",
       ".xr-var-name:hover,\n",
       ".xr-var-dims:hover,\n",
       ".xr-var-dtype:hover,\n",
       ".xr-attrs dt:hover {\n",
       "  overflow: visible;\n",
       "  width: auto;\n",
       "  z-index: 1;\n",
       "}\n",
       "\n",
       ".xr-var-attrs,\n",
       ".xr-var-data {\n",
       "  display: none;\n",
       "  background-color: var(--xr-background-color) !important;\n",
       "  padding-bottom: 5px !important;\n",
       "}\n",
       "\n",
       ".xr-var-attrs-in:checked ~ .xr-var-attrs,\n",
       ".xr-var-data-in:checked ~ .xr-var-data {\n",
       "  display: block;\n",
       "}\n",
       "\n",
       ".xr-var-data > table {\n",
       "  float: right;\n",
       "}\n",
       "\n",
       ".xr-var-name span,\n",
       ".xr-var-data,\n",
       ".xr-attrs {\n",
       "  padding-left: 25px !important;\n",
       "}\n",
       "\n",
       ".xr-attrs,\n",
       ".xr-var-attrs,\n",
       ".xr-var-data {\n",
       "  grid-column: 1 / -1;\n",
       "}\n",
       "\n",
       "dl.xr-attrs {\n",
       "  padding: 0;\n",
       "  margin: 0;\n",
       "  display: grid;\n",
       "  grid-template-columns: 125px auto;\n",
       "}\n",
       "\n",
       ".xr-attrs dt,\n",
       ".xr-attrs dd {\n",
       "  padding: 0;\n",
       "  margin: 0;\n",
       "  float: left;\n",
       "  padding-right: 10px;\n",
       "  width: auto;\n",
       "}\n",
       "\n",
       ".xr-attrs dt {\n",
       "  font-weight: normal;\n",
       "  grid-column: 1;\n",
       "}\n",
       "\n",
       ".xr-attrs dt:hover span {\n",
       "  display: inline-block;\n",
       "  background: var(--xr-background-color);\n",
       "  padding-right: 10px;\n",
       "}\n",
       "\n",
       ".xr-attrs dd {\n",
       "  grid-column: 2;\n",
       "  white-space: pre-wrap;\n",
       "  word-break: break-all;\n",
       "}\n",
       "\n",
       ".xr-icon-database,\n",
       ".xr-icon-file-text2 {\n",
       "  display: inline-block;\n",
       "  vertical-align: middle;\n",
       "  width: 1em;\n",
       "  height: 1.5em !important;\n",
       "  stroke-width: 0;\n",
       "  stroke: currentColor;\n",
       "  fill: currentColor;\n",
       "}\n",
       "</style><pre class='xr-text-repr-fallback'>&lt;xarray.DataArray &#x27;msl&#x27; (time: 30, stations: 23256)&gt;\n",
       "[697680 values with dtype=float64]\n",
       "Coordinates:\n",
       "  * stations              (stations) |S40 b&#x27;id_coast_glob_eur_00001&#x27; ... b&#x27;is...\n",
       "    station_x_coordinate  (stations) float64 24.09 24.09 26.9 ... 343.8 9.25\n",
       "    station_y_coordinate  (stations) float64 34.83 34.87 35.37 ... 63.94 41.33\n",
       "  * time                  (time) datetime64[ns] 2041-01-01 ... 2070-01-01\n",
       "Attributes:\n",
       "    long_name:   Annual_mean_sea_level_relative_to_historical_mean\n",
       "    units:       m\n",
       "    short_name:  annual_mean_lowwater</pre><div class='xr-wrap' hidden><div class='xr-header'><div class='xr-obj-type'>xarray.DataArray</div><div class='xr-array-name'>'msl'</div><ul class='xr-dim-list'><li><span class='xr-has-index'>time</span>: 30</li><li><span class='xr-has-index'>stations</span>: 23256</li></ul></div><ul class='xr-sections'><li class='xr-section-item'><div class='xr-array-wrap'><input id='section-5b6d3f03-3a42-49e2-8049-851b7233b3ad' class='xr-array-in' type='checkbox' checked><label for='section-5b6d3f03-3a42-49e2-8049-851b7233b3ad' title='Show/hide data repr'><svg class='icon xr-icon-database'><use xlink:href='#icon-database'></use></svg></label><div class='xr-array-preview xr-preview'><span>...</span></div><div class='xr-array-data'><pre>[697680 values with dtype=float64]</pre></div></div></li><li class='xr-section-item'><input id='section-ed57d1c6-d371-4e61-91e2-3146f6057e19' class='xr-section-summary-in' type='checkbox'  checked><label for='section-ed57d1c6-d371-4e61-91e2-3146f6057e19' class='xr-section-summary' >Coordinates: <span>(4)</span></label><div class='xr-section-inline-details'></div><div class='xr-section-details'><ul class='xr-var-list'><li class='xr-var-item'><div class='xr-var-name'><span class='xr-has-index'>stations</span></div><div class='xr-var-dims'>(stations)</div><div class='xr-var-dtype'>|S40</div><div class='xr-var-preview xr-preview'>b&#x27;id_coast_glob_eur_00001&#x27; ... b...</div><input id='attrs-bbfb3170-ac14-4b9e-b412-1573a4640cf8' class='xr-var-attrs-in' type='checkbox' disabled><label for='attrs-bbfb3170-ac14-4b9e-b412-1573a4640cf8' title='Show/Hide attributes'><svg class='icon xr-icon-file-text2'><use xlink:href='#icon-file-text2'></use></svg></label><input id='data-7f1286f1-ccb9-47b9-b653-849d47f114af' class='xr-var-data-in' type='checkbox'><label for='data-7f1286f1-ccb9-47b9-b653-849d47f114af' title='Show/Hide data repr'><svg class='icon xr-icon-database'><use xlink:href='#icon-database'></use></svg></label><div class='xr-var-attrs'><dl class='xr-attrs'></dl></div><div class='xr-var-data'><pre>array([b&#x27;id_coast_glob_eur_00001&#x27;, b&#x27;id_coast_glob_eur_00002&#x27;,\n",
       "       b&#x27;id_coast_glob_eur_00003&#x27;, ..., b&#x27;islands_66666713&#x27;,\n",
       "       b&#x27;islands_66666714&#x27;, b&#x27;islands_88888124&#x27;], dtype=&#x27;|S40&#x27;)</pre></div></li><li class='xr-var-item'><div class='xr-var-name'><span>station_x_coordinate</span></div><div class='xr-var-dims'>(stations)</div><div class='xr-var-dtype'>float64</div><div class='xr-var-preview xr-preview'>24.09 24.09 26.9 ... 343.8 9.25</div><input id='attrs-9d14bb9e-98cf-458b-b8d9-57bd6430bcc2' class='xr-var-attrs-in' type='checkbox' ><label for='attrs-9d14bb9e-98cf-458b-b8d9-57bd6430bcc2' title='Show/Hide attributes'><svg class='icon xr-icon-file-text2'><use xlink:href='#icon-file-text2'></use></svg></label><input id='data-0a493000-b8a8-43a5-a2ab-de29690fad19' class='xr-var-data-in' type='checkbox'><label for='data-0a493000-b8a8-43a5-a2ab-de29690fad19' title='Show/Hide data repr'><svg class='icon xr-icon-database'><use xlink:href='#icon-database'></use></svg></label><div class='xr-var-attrs'><dl class='xr-attrs'><dt><span>units :</span></dt><dd>degrees_east</dd><dt><span>standard_name :</span></dt><dd>longitude</dd><dt><span>long_name :</span></dt><dd>longitude</dd><dt><span>short_name :</span></dt><dd>longitude</dd></dl></div><div class='xr-var-data'><pre>array([ 24.08936 ,  24.08936 ,  26.90186 , ..., 336.708984, 343.798828,\n",
       "         9.250488])</pre></div></li><li class='xr-var-item'><div class='xr-var-name'><span>station_y_coordinate</span></div><div class='xr-var-dims'>(stations)</div><div class='xr-var-dtype'>float64</div><div class='xr-var-preview xr-preview'>34.83 34.87 35.37 ... 63.94 41.33</div><input id='attrs-6fd08b1e-1ba0-4c25-ab70-b02888fcc021' class='xr-var-attrs-in' type='checkbox' ><label for='attrs-6fd08b1e-1ba0-4c25-ab70-b02888fcc021' title='Show/Hide attributes'><svg class='icon xr-icon-file-text2'><use xlink:href='#icon-file-text2'></use></svg></label><input id='data-3e5a1657-e3f0-4532-8699-41cde2ac0248' class='xr-var-data-in' type='checkbox'><label for='data-3e5a1657-e3f0-4532-8699-41cde2ac0248' title='Show/Hide data repr'><svg class='icon xr-icon-database'><use xlink:href='#icon-database'></use></svg></label><div class='xr-var-attrs'><dl class='xr-attrs'><dt><span>units :</span></dt><dd>degrees_north</dd><dt><span>standard_name :</span></dt><dd>latitude</dd><dt><span>long_name :</span></dt><dd>latitude</dd><dt><span>short_name :</span></dt><dd>latitude</dd></dl></div><div class='xr-var-data'><pre>array([34.82666 , 34.87061 , 35.36865 , ..., 63.673876, 63.940427, 41.330566])</pre></div></li><li class='xr-var-item'><div class='xr-var-name'><span class='xr-has-index'>time</span></div><div class='xr-var-dims'>(time)</div><div class='xr-var-dtype'>datetime64[ns]</div><div class='xr-var-preview xr-preview'>2041-01-01 ... 2070-01-01</div><input id='attrs-9d7b19a1-bbc7-49a5-9259-df65f26b2901' class='xr-var-attrs-in' type='checkbox' ><label for='attrs-9d7b19a1-bbc7-49a5-9259-df65f26b2901' title='Show/Hide attributes'><svg class='icon xr-icon-file-text2'><use xlink:href='#icon-file-text2'></use></svg></label><input id='data-417ab53d-9e3b-428e-9539-92c3377b8546' class='xr-var-data-in' type='checkbox'><label for='data-417ab53d-9e3b-428e-9539-92c3377b8546' title='Show/Hide data repr'><svg class='icon xr-icon-database'><use xlink:href='#icon-database'></use></svg></label><div class='xr-var-attrs'><dl class='xr-attrs'><dt><span>long_name :</span></dt><dd>time</dd><dt><span>short_name :</span></dt><dd>time</dd></dl></div><div class='xr-var-data'><pre>array([&#x27;2041-01-01T00:00:00.000000000&#x27;, &#x27;2042-01-01T00:00:00.000000000&#x27;,\n",
       "       &#x27;2043-01-01T00:00:00.000000000&#x27;, &#x27;2044-01-01T00:00:00.000000000&#x27;,\n",
       "       &#x27;2045-01-01T00:00:00.000000000&#x27;, &#x27;2046-01-01T00:00:00.000000000&#x27;,\n",
       "       &#x27;2047-01-01T00:00:00.000000000&#x27;, &#x27;2048-01-01T00:00:00.000000000&#x27;,\n",
       "       &#x27;2049-01-01T00:00:00.000000000&#x27;, &#x27;2050-01-01T00:00:00.000000000&#x27;,\n",
       "       &#x27;2051-01-01T00:00:00.000000000&#x27;, &#x27;2052-01-01T00:00:00.000000000&#x27;,\n",
       "       &#x27;2053-01-01T00:00:00.000000000&#x27;, &#x27;2054-01-01T00:00:00.000000000&#x27;,\n",
       "       &#x27;2055-01-01T00:00:00.000000000&#x27;, &#x27;2056-01-01T00:00:00.000000000&#x27;,\n",
       "       &#x27;2057-01-01T00:00:00.000000000&#x27;, &#x27;2058-01-01T00:00:00.000000000&#x27;,\n",
       "       &#x27;2059-01-01T00:00:00.000000000&#x27;, &#x27;2060-01-01T00:00:00.000000000&#x27;,\n",
       "       &#x27;2061-01-01T00:00:00.000000000&#x27;, &#x27;2062-01-01T00:00:00.000000000&#x27;,\n",
       "       &#x27;2063-01-01T00:00:00.000000000&#x27;, &#x27;2064-01-01T00:00:00.000000000&#x27;,\n",
       "       &#x27;2065-01-01T00:00:00.000000000&#x27;, &#x27;2066-01-01T00:00:00.000000000&#x27;,\n",
       "       &#x27;2067-01-01T00:00:00.000000000&#x27;, &#x27;2068-01-01T00:00:00.000000000&#x27;,\n",
       "       &#x27;2069-01-01T00:00:00.000000000&#x27;, &#x27;2070-01-01T00:00:00.000000000&#x27;],\n",
       "      dtype=&#x27;datetime64[ns]&#x27;)</pre></div></li></ul></div></li><li class='xr-section-item'><input id='section-edf39702-a486-4f1a-9042-d05b63270f3e' class='xr-section-summary-in' type='checkbox'  checked><label for='section-edf39702-a486-4f1a-9042-d05b63270f3e' class='xr-section-summary' >Attributes: <span>(3)</span></label><div class='xr-section-inline-details'></div><div class='xr-section-details'><dl class='xr-attrs'><dt><span>long_name :</span></dt><dd>Annual_mean_sea_level_relative_to_historical_mean</dd><dt><span>units :</span></dt><dd>m</dd><dt><span>short_name :</span></dt><dd>annual_mean_lowwater</dd></dl></div></li></ul></div></div>"
      ],
      "text/plain": [
       "<xarray.DataArray 'msl' (time: 30, stations: 23256)>\n",
       "[697680 values with dtype=float64]\n",
       "Coordinates:\n",
       "  * stations              (stations) |S40 b'id_coast_glob_eur_00001' ... b'is...\n",
       "    station_x_coordinate  (stations) float64 24.09 24.09 26.9 ... 343.8 9.25\n",
       "    station_y_coordinate  (stations) float64 34.83 34.87 35.37 ... 63.94 41.33\n",
       "  * time                  (time) datetime64[ns] 2041-01-01 ... 2070-01-01\n",
       "Attributes:\n",
       "    long_name:   Annual_mean_sea_level_relative_to_historical_mean\n",
       "    units:       m\n",
       "    short_name:  annual_mean_lowwater"
      ]
     },
     "execution_count": 68,
     "metadata": {},
     "output_type": "execute_result"
    }
   ],
   "source": [
    "rcp8_5_MSL"
   ]
  },
  {
   "cell_type": "code",
   "execution_count": 69,
   "id": "painful-conducting",
   "metadata": {},
   "outputs": [
    {
     "data": {
      "text/html": [
       "<div><svg style=\"position: absolute; width: 0; height: 0; overflow: hidden\">\n",
       "<defs>\n",
       "<symbol id=\"icon-database\" viewBox=\"0 0 32 32\">\n",
       "<path d=\"M16 0c-8.837 0-16 2.239-16 5v4c0 2.761 7.163 5 16 5s16-2.239 16-5v-4c0-2.761-7.163-5-16-5z\"></path>\n",
       "<path d=\"M16 17c-8.837 0-16-2.239-16-5v6c0 2.761 7.163 5 16 5s16-2.239 16-5v-6c0 2.761-7.163 5-16 5z\"></path>\n",
       "<path d=\"M16 26c-8.837 0-16-2.239-16-5v6c0 2.761 7.163 5 16 5s16-2.239 16-5v-6c0 2.761-7.163 5-16 5z\"></path>\n",
       "</symbol>\n",
       "<symbol id=\"icon-file-text2\" viewBox=\"0 0 32 32\">\n",
       "<path d=\"M28.681 7.159c-0.694-0.947-1.662-2.053-2.724-3.116s-2.169-2.030-3.116-2.724c-1.612-1.182-2.393-1.319-2.841-1.319h-15.5c-1.378 0-2.5 1.121-2.5 2.5v27c0 1.378 1.122 2.5 2.5 2.5h23c1.378 0 2.5-1.122 2.5-2.5v-19.5c0-0.448-0.137-1.23-1.319-2.841zM24.543 5.457c0.959 0.959 1.712 1.825 2.268 2.543h-4.811v-4.811c0.718 0.556 1.584 1.309 2.543 2.268zM28 29.5c0 0.271-0.229 0.5-0.5 0.5h-23c-0.271 0-0.5-0.229-0.5-0.5v-27c0-0.271 0.229-0.5 0.5-0.5 0 0 15.499-0 15.5 0v7c0 0.552 0.448 1 1 1h7v19.5z\"></path>\n",
       "<path d=\"M23 26h-14c-0.552 0-1-0.448-1-1s0.448-1 1-1h14c0.552 0 1 0.448 1 1s-0.448 1-1 1z\"></path>\n",
       "<path d=\"M23 22h-14c-0.552 0-1-0.448-1-1s0.448-1 1-1h14c0.552 0 1 0.448 1 1s-0.448 1-1 1z\"></path>\n",
       "<path d=\"M23 18h-14c-0.552 0-1-0.448-1-1s0.448-1 1-1h14c0.552 0 1 0.448 1 1s-0.448 1-1 1z\"></path>\n",
       "</symbol>\n",
       "</defs>\n",
       "</svg>\n",
       "<style>/* CSS stylesheet for displaying xarray objects in jupyterlab.\n",
       " *\n",
       " */\n",
       "\n",
       ":root {\n",
       "  --xr-font-color0: var(--jp-content-font-color0, rgba(0, 0, 0, 1));\n",
       "  --xr-font-color2: var(--jp-content-font-color2, rgba(0, 0, 0, 0.54));\n",
       "  --xr-font-color3: var(--jp-content-font-color3, rgba(0, 0, 0, 0.38));\n",
       "  --xr-border-color: var(--jp-border-color2, #e0e0e0);\n",
       "  --xr-disabled-color: var(--jp-layout-color3, #bdbdbd);\n",
       "  --xr-background-color: var(--jp-layout-color0, white);\n",
       "  --xr-background-color-row-even: var(--jp-layout-color1, white);\n",
       "  --xr-background-color-row-odd: var(--jp-layout-color2, #eeeeee);\n",
       "}\n",
       "\n",
       "html[theme=dark],\n",
       "body.vscode-dark {\n",
       "  --xr-font-color0: rgba(255, 255, 255, 1);\n",
       "  --xr-font-color2: rgba(255, 255, 255, 0.54);\n",
       "  --xr-font-color3: rgba(255, 255, 255, 0.38);\n",
       "  --xr-border-color: #1F1F1F;\n",
       "  --xr-disabled-color: #515151;\n",
       "  --xr-background-color: #111111;\n",
       "  --xr-background-color-row-even: #111111;\n",
       "  --xr-background-color-row-odd: #313131;\n",
       "}\n",
       "\n",
       ".xr-wrap {\n",
       "  display: block;\n",
       "  min-width: 300px;\n",
       "  max-width: 700px;\n",
       "}\n",
       "\n",
       ".xr-text-repr-fallback {\n",
       "  /* fallback to plain text repr when CSS is not injected (untrusted notebook) */\n",
       "  display: none;\n",
       "}\n",
       "\n",
       ".xr-header {\n",
       "  padding-top: 6px;\n",
       "  padding-bottom: 6px;\n",
       "  margin-bottom: 4px;\n",
       "  border-bottom: solid 1px var(--xr-border-color);\n",
       "}\n",
       "\n",
       ".xr-header > div,\n",
       ".xr-header > ul {\n",
       "  display: inline;\n",
       "  margin-top: 0;\n",
       "  margin-bottom: 0;\n",
       "}\n",
       "\n",
       ".xr-obj-type,\n",
       ".xr-array-name {\n",
       "  margin-left: 2px;\n",
       "  margin-right: 10px;\n",
       "}\n",
       "\n",
       ".xr-obj-type {\n",
       "  color: var(--xr-font-color2);\n",
       "}\n",
       "\n",
       ".xr-sections {\n",
       "  padding-left: 0 !important;\n",
       "  display: grid;\n",
       "  grid-template-columns: 150px auto auto 1fr 20px 20px;\n",
       "}\n",
       "\n",
       ".xr-section-item {\n",
       "  display: contents;\n",
       "}\n",
       "\n",
       ".xr-section-item input {\n",
       "  display: none;\n",
       "}\n",
       "\n",
       ".xr-section-item input + label {\n",
       "  color: var(--xr-disabled-color);\n",
       "}\n",
       "\n",
       ".xr-section-item input:enabled + label {\n",
       "  cursor: pointer;\n",
       "  color: var(--xr-font-color2);\n",
       "}\n",
       "\n",
       ".xr-section-item input:enabled + label:hover {\n",
       "  color: var(--xr-font-color0);\n",
       "}\n",
       "\n",
       ".xr-section-summary {\n",
       "  grid-column: 1;\n",
       "  color: var(--xr-font-color2);\n",
       "  font-weight: 500;\n",
       "}\n",
       "\n",
       ".xr-section-summary > span {\n",
       "  display: inline-block;\n",
       "  padding-left: 0.5em;\n",
       "}\n",
       "\n",
       ".xr-section-summary-in:disabled + label {\n",
       "  color: var(--xr-font-color2);\n",
       "}\n",
       "\n",
       ".xr-section-summary-in + label:before {\n",
       "  display: inline-block;\n",
       "  content: '►';\n",
       "  font-size: 11px;\n",
       "  width: 15px;\n",
       "  text-align: center;\n",
       "}\n",
       "\n",
       ".xr-section-summary-in:disabled + label:before {\n",
       "  color: var(--xr-disabled-color);\n",
       "}\n",
       "\n",
       ".xr-section-summary-in:checked + label:before {\n",
       "  content: '▼';\n",
       "}\n",
       "\n",
       ".xr-section-summary-in:checked + label > span {\n",
       "  display: none;\n",
       "}\n",
       "\n",
       ".xr-section-summary,\n",
       ".xr-section-inline-details {\n",
       "  padding-top: 4px;\n",
       "  padding-bottom: 4px;\n",
       "}\n",
       "\n",
       ".xr-section-inline-details {\n",
       "  grid-column: 2 / -1;\n",
       "}\n",
       "\n",
       ".xr-section-details {\n",
       "  display: none;\n",
       "  grid-column: 1 / -1;\n",
       "  margin-bottom: 5px;\n",
       "}\n",
       "\n",
       ".xr-section-summary-in:checked ~ .xr-section-details {\n",
       "  display: contents;\n",
       "}\n",
       "\n",
       ".xr-array-wrap {\n",
       "  grid-column: 1 / -1;\n",
       "  display: grid;\n",
       "  grid-template-columns: 20px auto;\n",
       "}\n",
       "\n",
       ".xr-array-wrap > label {\n",
       "  grid-column: 1;\n",
       "  vertical-align: top;\n",
       "}\n",
       "\n",
       ".xr-preview {\n",
       "  color: var(--xr-font-color3);\n",
       "}\n",
       "\n",
       ".xr-array-preview,\n",
       ".xr-array-data {\n",
       "  padding: 0 5px !important;\n",
       "  grid-column: 2;\n",
       "}\n",
       "\n",
       ".xr-array-data,\n",
       ".xr-array-in:checked ~ .xr-array-preview {\n",
       "  display: none;\n",
       "}\n",
       "\n",
       ".xr-array-in:checked ~ .xr-array-data,\n",
       ".xr-array-preview {\n",
       "  display: inline-block;\n",
       "}\n",
       "\n",
       ".xr-dim-list {\n",
       "  display: inline-block !important;\n",
       "  list-style: none;\n",
       "  padding: 0 !important;\n",
       "  margin: 0;\n",
       "}\n",
       "\n",
       ".xr-dim-list li {\n",
       "  display: inline-block;\n",
       "  padding: 0;\n",
       "  margin: 0;\n",
       "}\n",
       "\n",
       ".xr-dim-list:before {\n",
       "  content: '(';\n",
       "}\n",
       "\n",
       ".xr-dim-list:after {\n",
       "  content: ')';\n",
       "}\n",
       "\n",
       ".xr-dim-list li:not(:last-child):after {\n",
       "  content: ',';\n",
       "  padding-right: 5px;\n",
       "}\n",
       "\n",
       ".xr-has-index {\n",
       "  font-weight: bold;\n",
       "}\n",
       "\n",
       ".xr-var-list,\n",
       ".xr-var-item {\n",
       "  display: contents;\n",
       "}\n",
       "\n",
       ".xr-var-item > div,\n",
       ".xr-var-item label,\n",
       ".xr-var-item > .xr-var-name span {\n",
       "  background-color: var(--xr-background-color-row-even);\n",
       "  margin-bottom: 0;\n",
       "}\n",
       "\n",
       ".xr-var-item > .xr-var-name:hover span {\n",
       "  padding-right: 5px;\n",
       "}\n",
       "\n",
       ".xr-var-list > li:nth-child(odd) > div,\n",
       ".xr-var-list > li:nth-child(odd) > label,\n",
       ".xr-var-list > li:nth-child(odd) > .xr-var-name span {\n",
       "  background-color: var(--xr-background-color-row-odd);\n",
       "}\n",
       "\n",
       ".xr-var-name {\n",
       "  grid-column: 1;\n",
       "}\n",
       "\n",
       ".xr-var-dims {\n",
       "  grid-column: 2;\n",
       "}\n",
       "\n",
       ".xr-var-dtype {\n",
       "  grid-column: 3;\n",
       "  text-align: right;\n",
       "  color: var(--xr-font-color2);\n",
       "}\n",
       "\n",
       ".xr-var-preview {\n",
       "  grid-column: 4;\n",
       "}\n",
       "\n",
       ".xr-var-name,\n",
       ".xr-var-dims,\n",
       ".xr-var-dtype,\n",
       ".xr-preview,\n",
       ".xr-attrs dt {\n",
       "  white-space: nowrap;\n",
       "  overflow: hidden;\n",
       "  text-overflow: ellipsis;\n",
       "  padding-right: 10px;\n",
       "}\n",
       "\n",
       ".xr-var-name:hover,\n",
       ".xr-var-dims:hover,\n",
       ".xr-var-dtype:hover,\n",
       ".xr-attrs dt:hover {\n",
       "  overflow: visible;\n",
       "  width: auto;\n",
       "  z-index: 1;\n",
       "}\n",
       "\n",
       ".xr-var-attrs,\n",
       ".xr-var-data {\n",
       "  display: none;\n",
       "  background-color: var(--xr-background-color) !important;\n",
       "  padding-bottom: 5px !important;\n",
       "}\n",
       "\n",
       ".xr-var-attrs-in:checked ~ .xr-var-attrs,\n",
       ".xr-var-data-in:checked ~ .xr-var-data {\n",
       "  display: block;\n",
       "}\n",
       "\n",
       ".xr-var-data > table {\n",
       "  float: right;\n",
       "}\n",
       "\n",
       ".xr-var-name span,\n",
       ".xr-var-data,\n",
       ".xr-attrs {\n",
       "  padding-left: 25px !important;\n",
       "}\n",
       "\n",
       ".xr-attrs,\n",
       ".xr-var-attrs,\n",
       ".xr-var-data {\n",
       "  grid-column: 1 / -1;\n",
       "}\n",
       "\n",
       "dl.xr-attrs {\n",
       "  padding: 0;\n",
       "  margin: 0;\n",
       "  display: grid;\n",
       "  grid-template-columns: 125px auto;\n",
       "}\n",
       "\n",
       ".xr-attrs dt,\n",
       ".xr-attrs dd {\n",
       "  padding: 0;\n",
       "  margin: 0;\n",
       "  float: left;\n",
       "  padding-right: 10px;\n",
       "  width: auto;\n",
       "}\n",
       "\n",
       ".xr-attrs dt {\n",
       "  font-weight: normal;\n",
       "  grid-column: 1;\n",
       "}\n",
       "\n",
       ".xr-attrs dt:hover span {\n",
       "  display: inline-block;\n",
       "  background: var(--xr-background-color);\n",
       "  padding-right: 10px;\n",
       "}\n",
       "\n",
       ".xr-attrs dd {\n",
       "  grid-column: 2;\n",
       "  white-space: pre-wrap;\n",
       "  word-break: break-all;\n",
       "}\n",
       "\n",
       ".xr-icon-database,\n",
       ".xr-icon-file-text2 {\n",
       "  display: inline-block;\n",
       "  vertical-align: middle;\n",
       "  width: 1em;\n",
       "  height: 1.5em !important;\n",
       "  stroke-width: 0;\n",
       "  stroke: currentColor;\n",
       "  fill: currentColor;\n",
       "}\n",
       "</style><pre class='xr-text-repr-fallback'>&lt;xarray.DataArray &#x27;msl&#x27; (time: 30)&gt;\n",
       "array([0.163812, 0.179312, 0.185624, 0.195823, 0.199154, 0.198604, 0.201291,\n",
       "       0.207998, 0.212439, 0.214041, 0.222116, 0.231754, 0.242503, 0.244154,\n",
       "       0.244829, 0.253791, 0.265332, 0.271192, 0.270241, 0.275421, 0.283931,\n",
       "       0.29946 , 0.31142 , 0.315521, 0.316873, 0.319733, 0.322881, 0.334884,\n",
       "       0.347905, 0.351741])\n",
       "Coordinates:\n",
       "    stations              |S40 b&#x27;IBIS_IR_TS_MO_Milford&#x27;\n",
       "    station_x_coordinate  float64 355.0\n",
       "    station_y_coordinate  float64 51.7\n",
       "  * time                  (time) datetime64[ns] 2041-01-01 ... 2070-01-01\n",
       "Attributes:\n",
       "    long_name:   Annual_mean_sea_level_relative_to_historical_mean\n",
       "    units:       m\n",
       "    short_name:  annual_mean_lowwater</pre><div class='xr-wrap' hidden><div class='xr-header'><div class='xr-obj-type'>xarray.DataArray</div><div class='xr-array-name'>'msl'</div><ul class='xr-dim-list'><li><span class='xr-has-index'>time</span>: 30</li></ul></div><ul class='xr-sections'><li class='xr-section-item'><div class='xr-array-wrap'><input id='section-a6e0435b-0de7-454b-9e55-4e90bd763092' class='xr-array-in' type='checkbox' checked><label for='section-a6e0435b-0de7-454b-9e55-4e90bd763092' title='Show/hide data repr'><svg class='icon xr-icon-database'><use xlink:href='#icon-database'></use></svg></label><div class='xr-array-preview xr-preview'><span>0.1638 0.1793 0.1856 0.1958 0.1992 ... 0.3229 0.3349 0.3479 0.3517</span></div><div class='xr-array-data'><pre>array([0.163812, 0.179312, 0.185624, 0.195823, 0.199154, 0.198604, 0.201291,\n",
       "       0.207998, 0.212439, 0.214041, 0.222116, 0.231754, 0.242503, 0.244154,\n",
       "       0.244829, 0.253791, 0.265332, 0.271192, 0.270241, 0.275421, 0.283931,\n",
       "       0.29946 , 0.31142 , 0.315521, 0.316873, 0.319733, 0.322881, 0.334884,\n",
       "       0.347905, 0.351741])</pre></div></div></li><li class='xr-section-item'><input id='section-f4bd3535-288d-41c4-bce5-5b7d45818367' class='xr-section-summary-in' type='checkbox'  checked><label for='section-f4bd3535-288d-41c4-bce5-5b7d45818367' class='xr-section-summary' >Coordinates: <span>(4)</span></label><div class='xr-section-inline-details'></div><div class='xr-section-details'><ul class='xr-var-list'><li class='xr-var-item'><div class='xr-var-name'><span>stations</span></div><div class='xr-var-dims'>()</div><div class='xr-var-dtype'>|S40</div><div class='xr-var-preview xr-preview'>b&#x27;IBIS_IR_TS_MO_Milford&#x27;</div><input id='attrs-cdaa21c9-f075-44f3-bd77-c8be58bf7608' class='xr-var-attrs-in' type='checkbox' disabled><label for='attrs-cdaa21c9-f075-44f3-bd77-c8be58bf7608' title='Show/Hide attributes'><svg class='icon xr-icon-file-text2'><use xlink:href='#icon-file-text2'></use></svg></label><input id='data-4ab4f049-7312-46a6-a5a9-d68e1943ffa0' class='xr-var-data-in' type='checkbox'><label for='data-4ab4f049-7312-46a6-a5a9-d68e1943ffa0' title='Show/Hide data repr'><svg class='icon xr-icon-database'><use xlink:href='#icon-database'></use></svg></label><div class='xr-var-attrs'><dl class='xr-attrs'></dl></div><div class='xr-var-data'><pre>array(b&#x27;IBIS_IR_TS_MO_Milford&#x27;, dtype=&#x27;|S40&#x27;)</pre></div></li><li class='xr-var-item'><div class='xr-var-name'><span>station_x_coordinate</span></div><div class='xr-var-dims'>()</div><div class='xr-var-dtype'>float64</div><div class='xr-var-preview xr-preview'>355.0</div><input id='attrs-2237d40c-f76a-4631-8be1-5dda4703b33d' class='xr-var-attrs-in' type='checkbox' ><label for='attrs-2237d40c-f76a-4631-8be1-5dda4703b33d' title='Show/Hide attributes'><svg class='icon xr-icon-file-text2'><use xlink:href='#icon-file-text2'></use></svg></label><input id='data-dad98abd-e762-43ac-ae3b-399a529391bb' class='xr-var-data-in' type='checkbox'><label for='data-dad98abd-e762-43ac-ae3b-399a529391bb' title='Show/Hide data repr'><svg class='icon xr-icon-database'><use xlink:href='#icon-database'></use></svg></label><div class='xr-var-attrs'><dl class='xr-attrs'><dt><span>units :</span></dt><dd>degrees_east</dd><dt><span>standard_name :</span></dt><dd>longitude</dd><dt><span>long_name :</span></dt><dd>longitude</dd><dt><span>short_name :</span></dt><dd>longitude</dd></dl></div><div class='xr-var-data'><pre>array(354.953613)</pre></div></li><li class='xr-var-item'><div class='xr-var-name'><span>station_y_coordinate</span></div><div class='xr-var-dims'>()</div><div class='xr-var-dtype'>float64</div><div class='xr-var-preview xr-preview'>51.7</div><input id='attrs-18788b49-a994-415c-981c-7569d000197e' class='xr-var-attrs-in' type='checkbox' ><label for='attrs-18788b49-a994-415c-981c-7569d000197e' title='Show/Hide attributes'><svg class='icon xr-icon-file-text2'><use xlink:href='#icon-file-text2'></use></svg></label><input id='data-6097065b-055a-4c55-a114-402dfa53455e' class='xr-var-data-in' type='checkbox'><label for='data-6097065b-055a-4c55-a114-402dfa53455e' title='Show/Hide data repr'><svg class='icon xr-icon-database'><use xlink:href='#icon-database'></use></svg></label><div class='xr-var-attrs'><dl class='xr-attrs'><dt><span>units :</span></dt><dd>degrees_north</dd><dt><span>standard_name :</span></dt><dd>latitude</dd><dt><span>long_name :</span></dt><dd>latitude</dd><dt><span>short_name :</span></dt><dd>latitude</dd></dl></div><div class='xr-var-data'><pre>array(51.70166)</pre></div></li><li class='xr-var-item'><div class='xr-var-name'><span class='xr-has-index'>time</span></div><div class='xr-var-dims'>(time)</div><div class='xr-var-dtype'>datetime64[ns]</div><div class='xr-var-preview xr-preview'>2041-01-01 ... 2070-01-01</div><input id='attrs-146588f3-8a01-4cf1-a785-5bdf28420152' class='xr-var-attrs-in' type='checkbox' ><label for='attrs-146588f3-8a01-4cf1-a785-5bdf28420152' title='Show/Hide attributes'><svg class='icon xr-icon-file-text2'><use xlink:href='#icon-file-text2'></use></svg></label><input id='data-912ac96f-701c-4920-b1da-92eb1b5f2f22' class='xr-var-data-in' type='checkbox'><label for='data-912ac96f-701c-4920-b1da-92eb1b5f2f22' title='Show/Hide data repr'><svg class='icon xr-icon-database'><use xlink:href='#icon-database'></use></svg></label><div class='xr-var-attrs'><dl class='xr-attrs'><dt><span>long_name :</span></dt><dd>time</dd><dt><span>short_name :</span></dt><dd>time</dd></dl></div><div class='xr-var-data'><pre>array([&#x27;2041-01-01T00:00:00.000000000&#x27;, &#x27;2042-01-01T00:00:00.000000000&#x27;,\n",
       "       &#x27;2043-01-01T00:00:00.000000000&#x27;, &#x27;2044-01-01T00:00:00.000000000&#x27;,\n",
       "       &#x27;2045-01-01T00:00:00.000000000&#x27;, &#x27;2046-01-01T00:00:00.000000000&#x27;,\n",
       "       &#x27;2047-01-01T00:00:00.000000000&#x27;, &#x27;2048-01-01T00:00:00.000000000&#x27;,\n",
       "       &#x27;2049-01-01T00:00:00.000000000&#x27;, &#x27;2050-01-01T00:00:00.000000000&#x27;,\n",
       "       &#x27;2051-01-01T00:00:00.000000000&#x27;, &#x27;2052-01-01T00:00:00.000000000&#x27;,\n",
       "       &#x27;2053-01-01T00:00:00.000000000&#x27;, &#x27;2054-01-01T00:00:00.000000000&#x27;,\n",
       "       &#x27;2055-01-01T00:00:00.000000000&#x27;, &#x27;2056-01-01T00:00:00.000000000&#x27;,\n",
       "       &#x27;2057-01-01T00:00:00.000000000&#x27;, &#x27;2058-01-01T00:00:00.000000000&#x27;,\n",
       "       &#x27;2059-01-01T00:00:00.000000000&#x27;, &#x27;2060-01-01T00:00:00.000000000&#x27;,\n",
       "       &#x27;2061-01-01T00:00:00.000000000&#x27;, &#x27;2062-01-01T00:00:00.000000000&#x27;,\n",
       "       &#x27;2063-01-01T00:00:00.000000000&#x27;, &#x27;2064-01-01T00:00:00.000000000&#x27;,\n",
       "       &#x27;2065-01-01T00:00:00.000000000&#x27;, &#x27;2066-01-01T00:00:00.000000000&#x27;,\n",
       "       &#x27;2067-01-01T00:00:00.000000000&#x27;, &#x27;2068-01-01T00:00:00.000000000&#x27;,\n",
       "       &#x27;2069-01-01T00:00:00.000000000&#x27;, &#x27;2070-01-01T00:00:00.000000000&#x27;],\n",
       "      dtype=&#x27;datetime64[ns]&#x27;)</pre></div></li></ul></div></li><li class='xr-section-item'><input id='section-da246085-fb09-43f2-991e-4e990bd2c035' class='xr-section-summary-in' type='checkbox'  checked><label for='section-da246085-fb09-43f2-991e-4e990bd2c035' class='xr-section-summary' >Attributes: <span>(3)</span></label><div class='xr-section-inline-details'></div><div class='xr-section-details'><dl class='xr-attrs'><dt><span>long_name :</span></dt><dd>Annual_mean_sea_level_relative_to_historical_mean</dd><dt><span>units :</span></dt><dd>m</dd><dt><span>short_name :</span></dt><dd>annual_mean_lowwater</dd></dl></div></li></ul></div></div>"
      ],
      "text/plain": [
       "<xarray.DataArray 'msl' (time: 30)>\n",
       "array([0.163812, 0.179312, 0.185624, 0.195823, 0.199154, 0.198604, 0.201291,\n",
       "       0.207998, 0.212439, 0.214041, 0.222116, 0.231754, 0.242503, 0.244154,\n",
       "       0.244829, 0.253791, 0.265332, 0.271192, 0.270241, 0.275421, 0.283931,\n",
       "       0.29946 , 0.31142 , 0.315521, 0.316873, 0.319733, 0.322881, 0.334884,\n",
       "       0.347905, 0.351741])\n",
       "Coordinates:\n",
       "    stations              |S40 b'IBIS_IR_TS_MO_Milford'\n",
       "    station_x_coordinate  float64 355.0\n",
       "    station_y_coordinate  float64 51.7\n",
       "  * time                  (time) datetime64[ns] 2041-01-01 ... 2070-01-01\n",
       "Attributes:\n",
       "    long_name:   Annual_mean_sea_level_relative_to_historical_mean\n",
       "    units:       m\n",
       "    short_name:  annual_mean_lowwater"
      ]
     },
     "execution_count": 69,
     "metadata": {},
     "output_type": "execute_result"
    }
   ],
   "source": [
    "rcp8_5_MSL_station=rcp8_5_MSL.loc[dict(stations=station.encode('utf-8'))]\n",
    "rcp4_5_MSL_station=rcp4_5_MSL.loc[dict(stations=station.encode('utf-8'))]\n",
    "rcp8_5_MSL_station"
   ]
  },
  {
   "cell_type": "code",
   "execution_count": 70,
   "id": "junior-basement",
   "metadata": {},
   "outputs": [],
   "source": [
    "rcp8_5_MSL_station_DF=rcp8_5_MSL_station.to_dataframe()\n",
    "rcp4_5_MSL_station_DF=rcp4_5_MSL_station.to_dataframe()"
   ]
  },
  {
   "cell_type": "code",
   "execution_count": 71,
   "id": "featured-hypothetical",
   "metadata": {},
   "outputs": [],
   "source": [
    "rcp8_5_MSL_station_Trend=go.Scatter(x=rcp8_5_MSL_station['time'].to_series(), \n",
    "                        y=rcp8_5_MSL_station_DF['msl'],\n",
    "                        mode='lines',\n",
    "                        name='rcp8_5_MSL')\n",
    "rcp4_5_MSL_station_Trend=go.Scatter(x=rcp4_5_MSL_station['time'].to_series(), \n",
    "                        y=rcp4_5_MSL_station_DF['msl'],\n",
    "                        mode='lines',\n",
    "                        name='rcp4_5_MSL')\n",
    "layout = go.Layout(\n",
    "        title='<b>Mean Sea Level - ' + station +'</b>',\n",
    "        xaxis=dict(title='Year'),\n",
    "        yaxis=dict(\n",
    "            title='Mean Sea Level (m)')\n",
    ")"
   ]
  },
  {
   "cell_type": "code",
   "execution_count": 72,
   "id": "korean-encounter",
   "metadata": {},
   "outputs": [
    {
     "data": {
      "application/vnd.plotly.v1+json": {
       "config": {
        "plotlyServerURL": "https://plot.ly"
       },
       "data": [
        {
         "mode": "lines",
         "name": "era5_MSL",
         "type": "scatter",
         "x": [
          "2001-01-01T00:00:00",
          "2002-01-01T00:00:00",
          "2003-01-01T00:00:00",
          "2004-01-01T00:00:00",
          "2005-01-01T00:00:00",
          "2006-01-01T00:00:00",
          "2007-01-01T00:00:00",
          "2008-01-01T00:00:00",
          "2009-01-01T00:00:00",
          "2010-01-01T00:00:00",
          "2011-01-01T00:00:00",
          "2012-01-01T00:00:00",
          "2013-01-01T00:00:00",
          "2014-01-01T00:00:00",
          "2015-01-01T00:00:00",
          "2016-01-01T00:00:00",
          "2017-01-01T00:00:00"
         ],
         "y": [
          -0.012325656283032763,
          -0.013282368271196573,
          -0.011969595346986446,
          -0.011504471465332868,
          -0.012564477357235584,
          -0.012980252904624148,
          -0.011449837313466892,
          -0.011560447139827084,
          -0.013024290602868003,
          -0.01269136544585138,
          -0.011309843586906851,
          -0.011856151394350227,
          -0.013607783540992364,
          -0.012831780772942763,
          -0.011276799389439771,
          -0.012051595872214214,
          -0.013755665684939886
         ]
        },
        {
         "mode": "lines",
         "name": "rcp8_5_MSL",
         "type": "scatter",
         "x": [
          "2041-01-01T00:00:00",
          "2042-01-01T00:00:00",
          "2043-01-01T00:00:00",
          "2044-01-01T00:00:00",
          "2045-01-01T00:00:00",
          "2046-01-01T00:00:00",
          "2047-01-01T00:00:00",
          "2048-01-01T00:00:00",
          "2049-01-01T00:00:00",
          "2050-01-01T00:00:00",
          "2051-01-01T00:00:00",
          "2052-01-01T00:00:00",
          "2053-01-01T00:00:00",
          "2054-01-01T00:00:00",
          "2055-01-01T00:00:00",
          "2056-01-01T00:00:00",
          "2057-01-01T00:00:00",
          "2058-01-01T00:00:00",
          "2059-01-01T00:00:00",
          "2060-01-01T00:00:00",
          "2061-01-01T00:00:00",
          "2062-01-01T00:00:00",
          "2063-01-01T00:00:00",
          "2064-01-01T00:00:00",
          "2065-01-01T00:00:00",
          "2066-01-01T00:00:00",
          "2067-01-01T00:00:00",
          "2068-01-01T00:00:00",
          "2069-01-01T00:00:00",
          "2070-01-01T00:00:00"
         ],
         "y": [
          0.16381214120880114,
          0.17931235887844518,
          0.18562388781545058,
          0.195822697182865,
          0.19915447235565253,
          0.19860360156523757,
          0.20129112141492128,
          0.2079977353309125,
          0.21243926172118602,
          0.21404103572265976,
          0.2221155968713474,
          0.2317544124508719,
          0.2425025744544643,
          0.24415401234426928,
          0.24482939708997997,
          0.2537909293675273,
          0.26533212513787,
          0.2711920751201401,
          0.27024137352600835,
          0.2754213865499565,
          0.2839307904723707,
          0.2994602998447069,
          0.3114200340236882,
          0.31552065599753293,
          0.31687256922856166,
          0.3197331582704562,
          0.32288115880054885,
          0.3348841996719791,
          0.34790498284561955,
          0.3517413031484266
         ]
        },
        {
         "mode": "lines",
         "name": "rcp4_5_MSL",
         "type": "scatter",
         "x": [
          "2071-01-01T00:00:00",
          "2072-01-01T00:00:00",
          "2073-01-01T00:00:00",
          "2074-01-01T00:00:00",
          "2075-01-01T00:00:00",
          "2076-01-01T00:00:00",
          "2077-01-01T00:00:00",
          "2078-01-01T00:00:00",
          "2079-01-01T00:00:00",
          "2080-01-01T00:00:00",
          "2081-01-01T00:00:00",
          "2082-01-01T00:00:00",
          "2083-01-01T00:00:00",
          "2084-01-01T00:00:00",
          "2085-01-01T00:00:00",
          "2086-01-01T00:00:00",
          "2087-01-01T00:00:00",
          "2088-01-01T00:00:00",
          "2089-01-01T00:00:00",
          "2090-01-01T00:00:00",
          "2091-01-01T00:00:00",
          "2092-01-01T00:00:00",
          "2093-01-01T00:00:00",
          "2094-01-01T00:00:00",
          "2095-01-01T00:00:00",
          "2096-01-01T00:00:00",
          "2097-01-01T00:00:00",
          "2098-01-01T00:00:00",
          "2099-01-01T00:00:00",
          "2100-01-01T00:00:00"
         ],
         "y": [
          0.2808431049391348,
          0.28575706036053095,
          0.29430334651516077,
          0.29724591078687224,
          0.3072710603989486,
          0.3126103697129676,
          0.3194590911717784,
          0.3244416560921126,
          0.3288616015248481,
          0.3355744022435654,
          0.34095106756821436,
          0.3424308228590533,
          0.3431552452135328,
          0.3479148779429683,
          0.34709634329913835,
          0.3473534227548709,
          0.35847853895750104,
          0.3620175938912526,
          0.35760200127016595,
          0.3626155115336428,
          0.36919446626321667,
          0.36836457037871806,
          0.3723055178490269,
          0.38206565859387603,
          0.3914395624089759,
          0.39657157226463785,
          0.398075194527268,
          0.4028282621169706,
          0.4087812746066366,
          0.4089747047426877
         ]
        }
       ],
       "layout": {
        "template": {
         "data": {
          "bar": [
           {
            "error_x": {
             "color": "#2a3f5f"
            },
            "error_y": {
             "color": "#2a3f5f"
            },
            "marker": {
             "line": {
              "color": "#E5ECF6",
              "width": 0.5
             }
            },
            "type": "bar"
           }
          ],
          "barpolar": [
           {
            "marker": {
             "line": {
              "color": "#E5ECF6",
              "width": 0.5
             }
            },
            "type": "barpolar"
           }
          ],
          "carpet": [
           {
            "aaxis": {
             "endlinecolor": "#2a3f5f",
             "gridcolor": "white",
             "linecolor": "white",
             "minorgridcolor": "white",
             "startlinecolor": "#2a3f5f"
            },
            "baxis": {
             "endlinecolor": "#2a3f5f",
             "gridcolor": "white",
             "linecolor": "white",
             "minorgridcolor": "white",
             "startlinecolor": "#2a3f5f"
            },
            "type": "carpet"
           }
          ],
          "choropleth": [
           {
            "colorbar": {
             "outlinewidth": 0,
             "ticks": ""
            },
            "type": "choropleth"
           }
          ],
          "contour": [
           {
            "colorbar": {
             "outlinewidth": 0,
             "ticks": ""
            },
            "colorscale": [
             [
              0,
              "#0d0887"
             ],
             [
              0.1111111111111111,
              "#46039f"
             ],
             [
              0.2222222222222222,
              "#7201a8"
             ],
             [
              0.3333333333333333,
              "#9c179e"
             ],
             [
              0.4444444444444444,
              "#bd3786"
             ],
             [
              0.5555555555555556,
              "#d8576b"
             ],
             [
              0.6666666666666666,
              "#ed7953"
             ],
             [
              0.7777777777777778,
              "#fb9f3a"
             ],
             [
              0.8888888888888888,
              "#fdca26"
             ],
             [
              1,
              "#f0f921"
             ]
            ],
            "type": "contour"
           }
          ],
          "contourcarpet": [
           {
            "colorbar": {
             "outlinewidth": 0,
             "ticks": ""
            },
            "type": "contourcarpet"
           }
          ],
          "heatmap": [
           {
            "colorbar": {
             "outlinewidth": 0,
             "ticks": ""
            },
            "colorscale": [
             [
              0,
              "#0d0887"
             ],
             [
              0.1111111111111111,
              "#46039f"
             ],
             [
              0.2222222222222222,
              "#7201a8"
             ],
             [
              0.3333333333333333,
              "#9c179e"
             ],
             [
              0.4444444444444444,
              "#bd3786"
             ],
             [
              0.5555555555555556,
              "#d8576b"
             ],
             [
              0.6666666666666666,
              "#ed7953"
             ],
             [
              0.7777777777777778,
              "#fb9f3a"
             ],
             [
              0.8888888888888888,
              "#fdca26"
             ],
             [
              1,
              "#f0f921"
             ]
            ],
            "type": "heatmap"
           }
          ],
          "heatmapgl": [
           {
            "colorbar": {
             "outlinewidth": 0,
             "ticks": ""
            },
            "colorscale": [
             [
              0,
              "#0d0887"
             ],
             [
              0.1111111111111111,
              "#46039f"
             ],
             [
              0.2222222222222222,
              "#7201a8"
             ],
             [
              0.3333333333333333,
              "#9c179e"
             ],
             [
              0.4444444444444444,
              "#bd3786"
             ],
             [
              0.5555555555555556,
              "#d8576b"
             ],
             [
              0.6666666666666666,
              "#ed7953"
             ],
             [
              0.7777777777777778,
              "#fb9f3a"
             ],
             [
              0.8888888888888888,
              "#fdca26"
             ],
             [
              1,
              "#f0f921"
             ]
            ],
            "type": "heatmapgl"
           }
          ],
          "histogram": [
           {
            "marker": {
             "colorbar": {
              "outlinewidth": 0,
              "ticks": ""
             }
            },
            "type": "histogram"
           }
          ],
          "histogram2d": [
           {
            "colorbar": {
             "outlinewidth": 0,
             "ticks": ""
            },
            "colorscale": [
             [
              0,
              "#0d0887"
             ],
             [
              0.1111111111111111,
              "#46039f"
             ],
             [
              0.2222222222222222,
              "#7201a8"
             ],
             [
              0.3333333333333333,
              "#9c179e"
             ],
             [
              0.4444444444444444,
              "#bd3786"
             ],
             [
              0.5555555555555556,
              "#d8576b"
             ],
             [
              0.6666666666666666,
              "#ed7953"
             ],
             [
              0.7777777777777778,
              "#fb9f3a"
             ],
             [
              0.8888888888888888,
              "#fdca26"
             ],
             [
              1,
              "#f0f921"
             ]
            ],
            "type": "histogram2d"
           }
          ],
          "histogram2dcontour": [
           {
            "colorbar": {
             "outlinewidth": 0,
             "ticks": ""
            },
            "colorscale": [
             [
              0,
              "#0d0887"
             ],
             [
              0.1111111111111111,
              "#46039f"
             ],
             [
              0.2222222222222222,
              "#7201a8"
             ],
             [
              0.3333333333333333,
              "#9c179e"
             ],
             [
              0.4444444444444444,
              "#bd3786"
             ],
             [
              0.5555555555555556,
              "#d8576b"
             ],
             [
              0.6666666666666666,
              "#ed7953"
             ],
             [
              0.7777777777777778,
              "#fb9f3a"
             ],
             [
              0.8888888888888888,
              "#fdca26"
             ],
             [
              1,
              "#f0f921"
             ]
            ],
            "type": "histogram2dcontour"
           }
          ],
          "mesh3d": [
           {
            "colorbar": {
             "outlinewidth": 0,
             "ticks": ""
            },
            "type": "mesh3d"
           }
          ],
          "parcoords": [
           {
            "line": {
             "colorbar": {
              "outlinewidth": 0,
              "ticks": ""
             }
            },
            "type": "parcoords"
           }
          ],
          "pie": [
           {
            "automargin": true,
            "type": "pie"
           }
          ],
          "scatter": [
           {
            "marker": {
             "colorbar": {
              "outlinewidth": 0,
              "ticks": ""
             }
            },
            "type": "scatter"
           }
          ],
          "scatter3d": [
           {
            "line": {
             "colorbar": {
              "outlinewidth": 0,
              "ticks": ""
             }
            },
            "marker": {
             "colorbar": {
              "outlinewidth": 0,
              "ticks": ""
             }
            },
            "type": "scatter3d"
           }
          ],
          "scattercarpet": [
           {
            "marker": {
             "colorbar": {
              "outlinewidth": 0,
              "ticks": ""
             }
            },
            "type": "scattercarpet"
           }
          ],
          "scattergeo": [
           {
            "marker": {
             "colorbar": {
              "outlinewidth": 0,
              "ticks": ""
             }
            },
            "type": "scattergeo"
           }
          ],
          "scattergl": [
           {
            "marker": {
             "colorbar": {
              "outlinewidth": 0,
              "ticks": ""
             }
            },
            "type": "scattergl"
           }
          ],
          "scattermapbox": [
           {
            "marker": {
             "colorbar": {
              "outlinewidth": 0,
              "ticks": ""
             }
            },
            "type": "scattermapbox"
           }
          ],
          "scatterpolar": [
           {
            "marker": {
             "colorbar": {
              "outlinewidth": 0,
              "ticks": ""
             }
            },
            "type": "scatterpolar"
           }
          ],
          "scatterpolargl": [
           {
            "marker": {
             "colorbar": {
              "outlinewidth": 0,
              "ticks": ""
             }
            },
            "type": "scatterpolargl"
           }
          ],
          "scatterternary": [
           {
            "marker": {
             "colorbar": {
              "outlinewidth": 0,
              "ticks": ""
             }
            },
            "type": "scatterternary"
           }
          ],
          "surface": [
           {
            "colorbar": {
             "outlinewidth": 0,
             "ticks": ""
            },
            "colorscale": [
             [
              0,
              "#0d0887"
             ],
             [
              0.1111111111111111,
              "#46039f"
             ],
             [
              0.2222222222222222,
              "#7201a8"
             ],
             [
              0.3333333333333333,
              "#9c179e"
             ],
             [
              0.4444444444444444,
              "#bd3786"
             ],
             [
              0.5555555555555556,
              "#d8576b"
             ],
             [
              0.6666666666666666,
              "#ed7953"
             ],
             [
              0.7777777777777778,
              "#fb9f3a"
             ],
             [
              0.8888888888888888,
              "#fdca26"
             ],
             [
              1,
              "#f0f921"
             ]
            ],
            "type": "surface"
           }
          ],
          "table": [
           {
            "cells": {
             "fill": {
              "color": "#EBF0F8"
             },
             "line": {
              "color": "white"
             }
            },
            "header": {
             "fill": {
              "color": "#C8D4E3"
             },
             "line": {
              "color": "white"
             }
            },
            "type": "table"
           }
          ]
         },
         "layout": {
          "annotationdefaults": {
           "arrowcolor": "#2a3f5f",
           "arrowhead": 0,
           "arrowwidth": 1
          },
          "autotypenumbers": "strict",
          "coloraxis": {
           "colorbar": {
            "outlinewidth": 0,
            "ticks": ""
           }
          },
          "colorscale": {
           "diverging": [
            [
             0,
             "#8e0152"
            ],
            [
             0.1,
             "#c51b7d"
            ],
            [
             0.2,
             "#de77ae"
            ],
            [
             0.3,
             "#f1b6da"
            ],
            [
             0.4,
             "#fde0ef"
            ],
            [
             0.5,
             "#f7f7f7"
            ],
            [
             0.6,
             "#e6f5d0"
            ],
            [
             0.7,
             "#b8e186"
            ],
            [
             0.8,
             "#7fbc41"
            ],
            [
             0.9,
             "#4d9221"
            ],
            [
             1,
             "#276419"
            ]
           ],
           "sequential": [
            [
             0,
             "#0d0887"
            ],
            [
             0.1111111111111111,
             "#46039f"
            ],
            [
             0.2222222222222222,
             "#7201a8"
            ],
            [
             0.3333333333333333,
             "#9c179e"
            ],
            [
             0.4444444444444444,
             "#bd3786"
            ],
            [
             0.5555555555555556,
             "#d8576b"
            ],
            [
             0.6666666666666666,
             "#ed7953"
            ],
            [
             0.7777777777777778,
             "#fb9f3a"
            ],
            [
             0.8888888888888888,
             "#fdca26"
            ],
            [
             1,
             "#f0f921"
            ]
           ],
           "sequentialminus": [
            [
             0,
             "#0d0887"
            ],
            [
             0.1111111111111111,
             "#46039f"
            ],
            [
             0.2222222222222222,
             "#7201a8"
            ],
            [
             0.3333333333333333,
             "#9c179e"
            ],
            [
             0.4444444444444444,
             "#bd3786"
            ],
            [
             0.5555555555555556,
             "#d8576b"
            ],
            [
             0.6666666666666666,
             "#ed7953"
            ],
            [
             0.7777777777777778,
             "#fb9f3a"
            ],
            [
             0.8888888888888888,
             "#fdca26"
            ],
            [
             1,
             "#f0f921"
            ]
           ]
          },
          "colorway": [
           "#636efa",
           "#EF553B",
           "#00cc96",
           "#ab63fa",
           "#FFA15A",
           "#19d3f3",
           "#FF6692",
           "#B6E880",
           "#FF97FF",
           "#FECB52"
          ],
          "font": {
           "color": "#2a3f5f"
          },
          "geo": {
           "bgcolor": "white",
           "lakecolor": "white",
           "landcolor": "#E5ECF6",
           "showlakes": true,
           "showland": true,
           "subunitcolor": "white"
          },
          "hoverlabel": {
           "align": "left"
          },
          "hovermode": "closest",
          "mapbox": {
           "style": "light"
          },
          "paper_bgcolor": "white",
          "plot_bgcolor": "#E5ECF6",
          "polar": {
           "angularaxis": {
            "gridcolor": "white",
            "linecolor": "white",
            "ticks": ""
           },
           "bgcolor": "#E5ECF6",
           "radialaxis": {
            "gridcolor": "white",
            "linecolor": "white",
            "ticks": ""
           }
          },
          "scene": {
           "xaxis": {
            "backgroundcolor": "#E5ECF6",
            "gridcolor": "white",
            "gridwidth": 2,
            "linecolor": "white",
            "showbackground": true,
            "ticks": "",
            "zerolinecolor": "white"
           },
           "yaxis": {
            "backgroundcolor": "#E5ECF6",
            "gridcolor": "white",
            "gridwidth": 2,
            "linecolor": "white",
            "showbackground": true,
            "ticks": "",
            "zerolinecolor": "white"
           },
           "zaxis": {
            "backgroundcolor": "#E5ECF6",
            "gridcolor": "white",
            "gridwidth": 2,
            "linecolor": "white",
            "showbackground": true,
            "ticks": "",
            "zerolinecolor": "white"
           }
          },
          "shapedefaults": {
           "line": {
            "color": "#2a3f5f"
           }
          },
          "ternary": {
           "aaxis": {
            "gridcolor": "white",
            "linecolor": "white",
            "ticks": ""
           },
           "baxis": {
            "gridcolor": "white",
            "linecolor": "white",
            "ticks": ""
           },
           "bgcolor": "#E5ECF6",
           "caxis": {
            "gridcolor": "white",
            "linecolor": "white",
            "ticks": ""
           }
          },
          "title": {
           "x": 0.05
          },
          "xaxis": {
           "automargin": true,
           "gridcolor": "white",
           "linecolor": "white",
           "ticks": "",
           "title": {
            "standoff": 15
           },
           "zerolinecolor": "white",
           "zerolinewidth": 2
          },
          "yaxis": {
           "automargin": true,
           "gridcolor": "white",
           "linecolor": "white",
           "ticks": "",
           "title": {
            "standoff": 15
           },
           "zerolinecolor": "white",
           "zerolinewidth": 2
          }
         }
        },
        "title": {
         "text": "<b>Mean Sea Level - IBIS_IR_TS_MO_Milford</b>"
        },
        "xaxis": {
         "title": {
          "text": "Year"
         }
        },
        "yaxis": {
         "title": {
          "text": "Mean Sea Level (m)"
         }
        }
       }
      },
      "text/html": [
       "<div>                            <div id=\"7de304fe-ed19-4b4a-b9f7-6b24bebddda5\" class=\"plotly-graph-div\" style=\"height:525px; width:100%;\"></div>            <script type=\"text/javascript\">                require([\"plotly\"], function(Plotly) {                    window.PLOTLYENV=window.PLOTLYENV || {};                                    if (document.getElementById(\"7de304fe-ed19-4b4a-b9f7-6b24bebddda5\")) {                    Plotly.newPlot(                        \"7de304fe-ed19-4b4a-b9f7-6b24bebddda5\",                        [{\"mode\": \"lines\", \"name\": \"era5_MSL\", \"type\": \"scatter\", \"x\": [\"2001-01-01T00:00:00\", \"2002-01-01T00:00:00\", \"2003-01-01T00:00:00\", \"2004-01-01T00:00:00\", \"2005-01-01T00:00:00\", \"2006-01-01T00:00:00\", \"2007-01-01T00:00:00\", \"2008-01-01T00:00:00\", \"2009-01-01T00:00:00\", \"2010-01-01T00:00:00\", \"2011-01-01T00:00:00\", \"2012-01-01T00:00:00\", \"2013-01-01T00:00:00\", \"2014-01-01T00:00:00\", \"2015-01-01T00:00:00\", \"2016-01-01T00:00:00\", \"2017-01-01T00:00:00\"], \"y\": [-0.012325656283032763, -0.013282368271196573, -0.011969595346986446, -0.011504471465332868, -0.012564477357235584, -0.012980252904624148, -0.011449837313466892, -0.011560447139827084, -0.013024290602868003, -0.01269136544585138, -0.011309843586906851, -0.011856151394350227, -0.013607783540992364, -0.012831780772942763, -0.011276799389439771, -0.012051595872214214, -0.013755665684939886]}, {\"mode\": \"lines\", \"name\": \"rcp8_5_MSL\", \"type\": \"scatter\", \"x\": [\"2041-01-01T00:00:00\", \"2042-01-01T00:00:00\", \"2043-01-01T00:00:00\", \"2044-01-01T00:00:00\", \"2045-01-01T00:00:00\", \"2046-01-01T00:00:00\", \"2047-01-01T00:00:00\", \"2048-01-01T00:00:00\", \"2049-01-01T00:00:00\", \"2050-01-01T00:00:00\", \"2051-01-01T00:00:00\", \"2052-01-01T00:00:00\", \"2053-01-01T00:00:00\", \"2054-01-01T00:00:00\", \"2055-01-01T00:00:00\", \"2056-01-01T00:00:00\", \"2057-01-01T00:00:00\", \"2058-01-01T00:00:00\", \"2059-01-01T00:00:00\", \"2060-01-01T00:00:00\", \"2061-01-01T00:00:00\", \"2062-01-01T00:00:00\", \"2063-01-01T00:00:00\", \"2064-01-01T00:00:00\", \"2065-01-01T00:00:00\", \"2066-01-01T00:00:00\", \"2067-01-01T00:00:00\", \"2068-01-01T00:00:00\", \"2069-01-01T00:00:00\", \"2070-01-01T00:00:00\"], \"y\": [0.16381214120880114, 0.17931235887844518, 0.18562388781545058, 0.195822697182865, 0.19915447235565253, 0.19860360156523757, 0.20129112141492128, 0.2079977353309125, 0.21243926172118602, 0.21404103572265976, 0.2221155968713474, 0.2317544124508719, 0.2425025744544643, 0.24415401234426928, 0.24482939708997997, 0.2537909293675273, 0.26533212513787, 0.2711920751201401, 0.27024137352600835, 0.2754213865499565, 0.2839307904723707, 0.2994602998447069, 0.3114200340236882, 0.31552065599753293, 0.31687256922856166, 0.3197331582704562, 0.32288115880054885, 0.3348841996719791, 0.34790498284561955, 0.3517413031484266]}, {\"mode\": \"lines\", \"name\": \"rcp4_5_MSL\", \"type\": \"scatter\", \"x\": [\"2071-01-01T00:00:00\", \"2072-01-01T00:00:00\", \"2073-01-01T00:00:00\", \"2074-01-01T00:00:00\", \"2075-01-01T00:00:00\", \"2076-01-01T00:00:00\", \"2077-01-01T00:00:00\", \"2078-01-01T00:00:00\", \"2079-01-01T00:00:00\", \"2080-01-01T00:00:00\", \"2081-01-01T00:00:00\", \"2082-01-01T00:00:00\", \"2083-01-01T00:00:00\", \"2084-01-01T00:00:00\", \"2085-01-01T00:00:00\", \"2086-01-01T00:00:00\", \"2087-01-01T00:00:00\", \"2088-01-01T00:00:00\", \"2089-01-01T00:00:00\", \"2090-01-01T00:00:00\", \"2091-01-01T00:00:00\", \"2092-01-01T00:00:00\", \"2093-01-01T00:00:00\", \"2094-01-01T00:00:00\", \"2095-01-01T00:00:00\", \"2096-01-01T00:00:00\", \"2097-01-01T00:00:00\", \"2098-01-01T00:00:00\", \"2099-01-01T00:00:00\", \"2100-01-01T00:00:00\"], \"y\": [0.2808431049391348, 0.28575706036053095, 0.29430334651516077, 0.29724591078687224, 0.3072710603989486, 0.3126103697129676, 0.3194590911717784, 0.3244416560921126, 0.3288616015248481, 0.3355744022435654, 0.34095106756821436, 0.3424308228590533, 0.3431552452135328, 0.3479148779429683, 0.34709634329913835, 0.3473534227548709, 0.35847853895750104, 0.3620175938912526, 0.35760200127016595, 0.3626155115336428, 0.36919446626321667, 0.36836457037871806, 0.3723055178490269, 0.38206565859387603, 0.3914395624089759, 0.39657157226463785, 0.398075194527268, 0.4028282621169706, 0.4087812746066366, 0.4089747047426877]}],                        {\"template\": {\"data\": {\"bar\": [{\"error_x\": {\"color\": \"#2a3f5f\"}, \"error_y\": {\"color\": \"#2a3f5f\"}, \"marker\": {\"line\": {\"color\": \"#E5ECF6\", \"width\": 0.5}}, \"type\": \"bar\"}], \"barpolar\": [{\"marker\": {\"line\": {\"color\": \"#E5ECF6\", \"width\": 0.5}}, \"type\": \"barpolar\"}], \"carpet\": [{\"aaxis\": {\"endlinecolor\": \"#2a3f5f\", \"gridcolor\": \"white\", \"linecolor\": \"white\", \"minorgridcolor\": \"white\", \"startlinecolor\": \"#2a3f5f\"}, \"baxis\": {\"endlinecolor\": \"#2a3f5f\", \"gridcolor\": \"white\", \"linecolor\": \"white\", \"minorgridcolor\": \"white\", \"startlinecolor\": \"#2a3f5f\"}, \"type\": \"carpet\"}], \"choropleth\": [{\"colorbar\": {\"outlinewidth\": 0, \"ticks\": \"\"}, \"type\": \"choropleth\"}], \"contour\": [{\"colorbar\": {\"outlinewidth\": 0, \"ticks\": \"\"}, \"colorscale\": [[0.0, \"#0d0887\"], [0.1111111111111111, \"#46039f\"], [0.2222222222222222, \"#7201a8\"], [0.3333333333333333, \"#9c179e\"], [0.4444444444444444, \"#bd3786\"], [0.5555555555555556, \"#d8576b\"], [0.6666666666666666, \"#ed7953\"], [0.7777777777777778, \"#fb9f3a\"], [0.8888888888888888, \"#fdca26\"], [1.0, \"#f0f921\"]], \"type\": \"contour\"}], \"contourcarpet\": [{\"colorbar\": {\"outlinewidth\": 0, \"ticks\": \"\"}, \"type\": \"contourcarpet\"}], \"heatmap\": [{\"colorbar\": {\"outlinewidth\": 0, \"ticks\": \"\"}, \"colorscale\": [[0.0, \"#0d0887\"], [0.1111111111111111, \"#46039f\"], [0.2222222222222222, \"#7201a8\"], [0.3333333333333333, \"#9c179e\"], [0.4444444444444444, \"#bd3786\"], [0.5555555555555556, \"#d8576b\"], [0.6666666666666666, \"#ed7953\"], [0.7777777777777778, \"#fb9f3a\"], [0.8888888888888888, \"#fdca26\"], [1.0, \"#f0f921\"]], \"type\": \"heatmap\"}], \"heatmapgl\": [{\"colorbar\": {\"outlinewidth\": 0, \"ticks\": \"\"}, \"colorscale\": [[0.0, \"#0d0887\"], [0.1111111111111111, \"#46039f\"], [0.2222222222222222, \"#7201a8\"], [0.3333333333333333, \"#9c179e\"], [0.4444444444444444, \"#bd3786\"], [0.5555555555555556, \"#d8576b\"], [0.6666666666666666, \"#ed7953\"], [0.7777777777777778, \"#fb9f3a\"], [0.8888888888888888, \"#fdca26\"], [1.0, \"#f0f921\"]], \"type\": \"heatmapgl\"}], \"histogram\": [{\"marker\": {\"colorbar\": {\"outlinewidth\": 0, \"ticks\": \"\"}}, \"type\": \"histogram\"}], \"histogram2d\": [{\"colorbar\": {\"outlinewidth\": 0, \"ticks\": \"\"}, \"colorscale\": [[0.0, \"#0d0887\"], [0.1111111111111111, \"#46039f\"], [0.2222222222222222, \"#7201a8\"], [0.3333333333333333, \"#9c179e\"], [0.4444444444444444, \"#bd3786\"], [0.5555555555555556, \"#d8576b\"], [0.6666666666666666, \"#ed7953\"], [0.7777777777777778, \"#fb9f3a\"], [0.8888888888888888, \"#fdca26\"], [1.0, \"#f0f921\"]], \"type\": \"histogram2d\"}], \"histogram2dcontour\": [{\"colorbar\": {\"outlinewidth\": 0, \"ticks\": \"\"}, \"colorscale\": [[0.0, \"#0d0887\"], [0.1111111111111111, \"#46039f\"], [0.2222222222222222, \"#7201a8\"], [0.3333333333333333, \"#9c179e\"], [0.4444444444444444, \"#bd3786\"], [0.5555555555555556, \"#d8576b\"], [0.6666666666666666, \"#ed7953\"], [0.7777777777777778, \"#fb9f3a\"], [0.8888888888888888, \"#fdca26\"], [1.0, \"#f0f921\"]], \"type\": \"histogram2dcontour\"}], \"mesh3d\": [{\"colorbar\": {\"outlinewidth\": 0, \"ticks\": \"\"}, \"type\": \"mesh3d\"}], \"parcoords\": [{\"line\": {\"colorbar\": {\"outlinewidth\": 0, \"ticks\": \"\"}}, \"type\": \"parcoords\"}], \"pie\": [{\"automargin\": true, \"type\": \"pie\"}], \"scatter\": [{\"marker\": {\"colorbar\": {\"outlinewidth\": 0, \"ticks\": \"\"}}, \"type\": \"scatter\"}], \"scatter3d\": [{\"line\": {\"colorbar\": {\"outlinewidth\": 0, \"ticks\": \"\"}}, \"marker\": {\"colorbar\": {\"outlinewidth\": 0, \"ticks\": \"\"}}, \"type\": \"scatter3d\"}], \"scattercarpet\": [{\"marker\": {\"colorbar\": {\"outlinewidth\": 0, \"ticks\": \"\"}}, \"type\": \"scattercarpet\"}], \"scattergeo\": [{\"marker\": {\"colorbar\": {\"outlinewidth\": 0, \"ticks\": \"\"}}, \"type\": \"scattergeo\"}], \"scattergl\": [{\"marker\": {\"colorbar\": {\"outlinewidth\": 0, \"ticks\": \"\"}}, \"type\": \"scattergl\"}], \"scattermapbox\": [{\"marker\": {\"colorbar\": {\"outlinewidth\": 0, \"ticks\": \"\"}}, \"type\": \"scattermapbox\"}], \"scatterpolar\": [{\"marker\": {\"colorbar\": {\"outlinewidth\": 0, \"ticks\": \"\"}}, \"type\": \"scatterpolar\"}], \"scatterpolargl\": [{\"marker\": {\"colorbar\": {\"outlinewidth\": 0, \"ticks\": \"\"}}, \"type\": \"scatterpolargl\"}], \"scatterternary\": [{\"marker\": {\"colorbar\": {\"outlinewidth\": 0, \"ticks\": \"\"}}, \"type\": \"scatterternary\"}], \"surface\": [{\"colorbar\": {\"outlinewidth\": 0, \"ticks\": \"\"}, \"colorscale\": [[0.0, \"#0d0887\"], [0.1111111111111111, \"#46039f\"], [0.2222222222222222, \"#7201a8\"], [0.3333333333333333, \"#9c179e\"], [0.4444444444444444, \"#bd3786\"], [0.5555555555555556, \"#d8576b\"], [0.6666666666666666, \"#ed7953\"], [0.7777777777777778, \"#fb9f3a\"], [0.8888888888888888, \"#fdca26\"], [1.0, \"#f0f921\"]], \"type\": \"surface\"}], \"table\": [{\"cells\": {\"fill\": {\"color\": \"#EBF0F8\"}, \"line\": {\"color\": \"white\"}}, \"header\": {\"fill\": {\"color\": \"#C8D4E3\"}, \"line\": {\"color\": \"white\"}}, \"type\": \"table\"}]}, \"layout\": {\"annotationdefaults\": {\"arrowcolor\": \"#2a3f5f\", \"arrowhead\": 0, \"arrowwidth\": 1}, \"autotypenumbers\": \"strict\", \"coloraxis\": {\"colorbar\": {\"outlinewidth\": 0, \"ticks\": \"\"}}, \"colorscale\": {\"diverging\": [[0, \"#8e0152\"], [0.1, \"#c51b7d\"], [0.2, \"#de77ae\"], [0.3, \"#f1b6da\"], [0.4, \"#fde0ef\"], [0.5, \"#f7f7f7\"], [0.6, \"#e6f5d0\"], [0.7, \"#b8e186\"], [0.8, \"#7fbc41\"], [0.9, \"#4d9221\"], [1, \"#276419\"]], \"sequential\": [[0.0, \"#0d0887\"], [0.1111111111111111, \"#46039f\"], [0.2222222222222222, \"#7201a8\"], [0.3333333333333333, \"#9c179e\"], [0.4444444444444444, \"#bd3786\"], [0.5555555555555556, \"#d8576b\"], [0.6666666666666666, \"#ed7953\"], [0.7777777777777778, \"#fb9f3a\"], [0.8888888888888888, \"#fdca26\"], [1.0, \"#f0f921\"]], \"sequentialminus\": [[0.0, \"#0d0887\"], [0.1111111111111111, \"#46039f\"], [0.2222222222222222, \"#7201a8\"], [0.3333333333333333, \"#9c179e\"], [0.4444444444444444, \"#bd3786\"], [0.5555555555555556, \"#d8576b\"], [0.6666666666666666, \"#ed7953\"], [0.7777777777777778, \"#fb9f3a\"], [0.8888888888888888, \"#fdca26\"], [1.0, \"#f0f921\"]]}, \"colorway\": [\"#636efa\", \"#EF553B\", \"#00cc96\", \"#ab63fa\", \"#FFA15A\", \"#19d3f3\", \"#FF6692\", \"#B6E880\", \"#FF97FF\", \"#FECB52\"], \"font\": {\"color\": \"#2a3f5f\"}, \"geo\": {\"bgcolor\": \"white\", \"lakecolor\": \"white\", \"landcolor\": \"#E5ECF6\", \"showlakes\": true, \"showland\": true, \"subunitcolor\": \"white\"}, \"hoverlabel\": {\"align\": \"left\"}, \"hovermode\": \"closest\", \"mapbox\": {\"style\": \"light\"}, \"paper_bgcolor\": \"white\", \"plot_bgcolor\": \"#E5ECF6\", \"polar\": {\"angularaxis\": {\"gridcolor\": \"white\", \"linecolor\": \"white\", \"ticks\": \"\"}, \"bgcolor\": \"#E5ECF6\", \"radialaxis\": {\"gridcolor\": \"white\", \"linecolor\": \"white\", \"ticks\": \"\"}}, \"scene\": {\"xaxis\": {\"backgroundcolor\": \"#E5ECF6\", \"gridcolor\": \"white\", \"gridwidth\": 2, \"linecolor\": \"white\", \"showbackground\": true, \"ticks\": \"\", \"zerolinecolor\": \"white\"}, \"yaxis\": {\"backgroundcolor\": \"#E5ECF6\", \"gridcolor\": \"white\", \"gridwidth\": 2, \"linecolor\": \"white\", \"showbackground\": true, \"ticks\": \"\", \"zerolinecolor\": \"white\"}, \"zaxis\": {\"backgroundcolor\": \"#E5ECF6\", \"gridcolor\": \"white\", \"gridwidth\": 2, \"linecolor\": \"white\", \"showbackground\": true, \"ticks\": \"\", \"zerolinecolor\": \"white\"}}, \"shapedefaults\": {\"line\": {\"color\": \"#2a3f5f\"}}, \"ternary\": {\"aaxis\": {\"gridcolor\": \"white\", \"linecolor\": \"white\", \"ticks\": \"\"}, \"baxis\": {\"gridcolor\": \"white\", \"linecolor\": \"white\", \"ticks\": \"\"}, \"bgcolor\": \"#E5ECF6\", \"caxis\": {\"gridcolor\": \"white\", \"linecolor\": \"white\", \"ticks\": \"\"}}, \"title\": {\"x\": 0.05}, \"xaxis\": {\"automargin\": true, \"gridcolor\": \"white\", \"linecolor\": \"white\", \"ticks\": \"\", \"title\": {\"standoff\": 15}, \"zerolinecolor\": \"white\", \"zerolinewidth\": 2}, \"yaxis\": {\"automargin\": true, \"gridcolor\": \"white\", \"linecolor\": \"white\", \"ticks\": \"\", \"title\": {\"standoff\": 15}, \"zerolinecolor\": \"white\", \"zerolinewidth\": 2}}}, \"title\": {\"text\": \"<b>Mean Sea Level - IBIS_IR_TS_MO_Milford</b>\"}, \"xaxis\": {\"title\": {\"text\": \"Year\"}}, \"yaxis\": {\"title\": {\"text\": \"Mean Sea Level (m)\"}}},                        {\"responsive\": true}                    ).then(function(){\n",
       "                            \n",
       "var gd = document.getElementById('7de304fe-ed19-4b4a-b9f7-6b24bebddda5');\n",
       "var x = new MutationObserver(function (mutations, observer) {{\n",
       "        var display = window.getComputedStyle(gd).display;\n",
       "        if (!display || display === 'none') {{\n",
       "            console.log([gd, 'removed!']);\n",
       "            Plotly.purge(gd);\n",
       "            observer.disconnect();\n",
       "        }}\n",
       "}});\n",
       "\n",
       "// Listen for the removal of the full notebook cells\n",
       "var notebookContainer = gd.closest('#notebook-container');\n",
       "if (notebookContainer) {{\n",
       "    x.observe(notebookContainer, {childList: true});\n",
       "}}\n",
       "\n",
       "// Listen for the clearing of the current output cell\n",
       "var outputEl = gd.closest('.output');\n",
       "if (outputEl) {{\n",
       "    x.observe(outputEl, {childList: true});\n",
       "}}\n",
       "\n",
       "                        })                };                });            </script>        </div>"
      ]
     },
     "metadata": {},
     "output_type": "display_data"
    }
   ],
   "source": [
    "stationsChart = go.Figure(data=[era5_MSL_station_Trend, rcp8_5_MSL_station_Trend, rcp4_5_MSL_station_Trend], layout=layout)\n",
    "stationsChart.show()"
   ]
  },
  {
   "cell_type": "code",
   "execution_count": 73,
   "id": "immediate-benjamin",
   "metadata": {},
   "outputs": [],
   "source": [
    "stationsChart.write_html(\"./Charts/Mean_Sea_Level_\" + station +\".html\")"
   ]
  },
  {
   "cell_type": "code",
   "execution_count": null,
   "id": "foster-nelson",
   "metadata": {},
   "outputs": [],
   "source": []
  }
 ],
 "metadata": {
  "kernelspec": {
   "display_name": "Python 3",
   "language": "python",
   "name": "python3"
  },
  "language_info": {
   "codemirror_mode": {
    "name": "ipython",
    "version": 3
   },
   "file_extension": ".py",
   "mimetype": "text/x-python",
   "name": "python",
   "nbconvert_exporter": "python",
   "pygments_lexer": "ipython3",
   "version": "3.7.3"
  }
 },
 "nbformat": 4,
 "nbformat_minor": 5
}
